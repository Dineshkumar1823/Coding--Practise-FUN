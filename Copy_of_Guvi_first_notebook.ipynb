{
  "nbformat": 4,
  "nbformat_minor": 0,
  "metadata": {
    "colab": {
      "provenance": [],
      "authorship_tag": "ABX9TyOy5pFiSMDJSuHMfW/mj5W+",
      "include_colab_link": true
    },
    "kernelspec": {
      "name": "python3",
      "display_name": "Python 3"
    },
    "language_info": {
      "name": "python"
    }
  },
  "cells": [
    {
      "cell_type": "markdown",
      "metadata": {
        "id": "view-in-github",
        "colab_type": "text"
      },
      "source": [
        "<a href=\"https://colab.research.google.com/github/Dineshkumar1823/Coding--Practise-FUN/blob/main/Copy_of_Guvi_first_notebook.ipynb\" target=\"_parent\"><img src=\"https://colab.research.google.com/assets/colab-badge.svg\" alt=\"Open In Colab\"/></a>"
      ]
    },
    {
      "cell_type": "markdown",
      "source": [
        "This is my first python notebook"
      ],
      "metadata": {
        "id": "54goCR5hQnNY"
      }
    },
    {
      "cell_type": "code",
      "source": [
        "print(\"Hello World..\")"
      ],
      "metadata": {
        "colab": {
          "base_uri": "https://localhost:8080/"
        },
        "id": "6QKtImeOQzAt",
        "outputId": "740b54f2-3aca-4025-aaa6-9d8460589cfc"
      },
      "execution_count": null,
      "outputs": [
        {
          "output_type": "stream",
          "name": "stdout",
          "text": [
            "Hello World..\n"
          ]
        }
      ]
    },
    {
      "cell_type": "code",
      "source": [],
      "metadata": {
        "id": "1N6lT6_EYTLJ"
      },
      "execution_count": null,
      "outputs": []
    },
    {
      "cell_type": "code",
      "source": [
        "n1=100"
      ],
      "metadata": {
        "id": "mTcL9IkFQ76h"
      },
      "execution_count": null,
      "outputs": []
    },
    {
      "cell_type": "code",
      "source": [
        "print(n1)"
      ],
      "metadata": {
        "colab": {
          "base_uri": "https://localhost:8080/"
        },
        "id": "XLoKHmYTSeIz",
        "outputId": "244cad18-ffbb-4cf7-c348-89c97785958c"
      },
      "execution_count": null,
      "outputs": [
        {
          "output_type": "stream",
          "name": "stdout",
          "text": [
            "100\n"
          ]
        }
      ]
    },
    {
      "cell_type": "code",
      "source": [
        "a,b = 30,20"
      ],
      "metadata": {
        "id": "r5OgOhJWSiFR"
      },
      "execution_count": null,
      "outputs": []
    },
    {
      "cell_type": "code",
      "source": [
        "print(a, b)"
      ],
      "metadata": {
        "colab": {
          "base_uri": "https://localhost:8080/"
        },
        "id": "g3U_-FzrUMAO",
        "outputId": "1b451f2d-fa4e-4a96-f800-b5c07e298d21"
      },
      "execution_count": null,
      "outputs": [
        {
          "output_type": "stream",
          "name": "stdout",
          "text": [
            "30 20\n"
          ]
        }
      ]
    },
    {
      "cell_type": "code",
      "source": [
        "a=10\n",
        "b=20.222\n",
        "c=a+b\n",
        "print(c)"
      ],
      "metadata": {
        "colab": {
          "base_uri": "https://localhost:8080/"
        },
        "id": "FErIgU1JUNkh",
        "outputId": "3dc3adf5-5f6f-41cc-a579-cef1b113efec"
      },
      "execution_count": null,
      "outputs": [
        {
          "output_type": "stream",
          "name": "stdout",
          "text": [
            "30.222\n"
          ]
        }
      ]
    },
    {
      "cell_type": "code",
      "source": [
        "type(c)"
      ],
      "metadata": {
        "colab": {
          "base_uri": "https://localhost:8080/"
        },
        "id": "hUcF71WuY_8d",
        "outputId": "fd40a482-a22b-433c-b9dc-e9e048edc063"
      },
      "execution_count": null,
      "outputs": [
        {
          "output_type": "execute_result",
          "data": {
            "text/plain": [
              "float"
            ]
          },
          "metadata": {},
          "execution_count": 19
        }
      ]
    },
    {
      "cell_type": "code",
      "source": [
        "s1=10 +3J"
      ],
      "metadata": {
        "id": "xfRi26HubvAz"
      },
      "execution_count": null,
      "outputs": []
    },
    {
      "cell_type": "code",
      "source": [
        "type(s1)"
      ],
      "metadata": {
        "colab": {
          "base_uri": "https://localhost:8080/"
        },
        "id": "YbDW4GI1bzjT",
        "outputId": "9499f577-7eea-4394-fcd8-3a9a8ec52e64"
      },
      "execution_count": null,
      "outputs": [
        {
          "output_type": "execute_result",
          "data": {
            "text/plain": [
              "complex"
            ]
          },
          "metadata": {},
          "execution_count": 22
        }
      ]
    },
    {
      "cell_type": "code",
      "source": [
        "a=1\n",
        "b=4"
      ],
      "metadata": {
        "id": "ie82YYJVclX2"
      },
      "execution_count": null,
      "outputs": []
    },
    {
      "cell_type": "code",
      "source": [
        "a+b"
      ],
      "metadata": {
        "colab": {
          "base_uri": "https://localhost:8080/"
        },
        "id": "fcV1IH9Ycw_y",
        "outputId": "79f00b9c-10af-4968-d02c-02ac9ecb5e99"
      },
      "execution_count": null,
      "outputs": [
        {
          "output_type": "execute_result",
          "data": {
            "text/plain": [
              "5"
            ]
          },
          "metadata": {},
          "execution_count": 24
        }
      ]
    },
    {
      "cell_type": "code",
      "source": [
        "a-b"
      ],
      "metadata": {
        "colab": {
          "base_uri": "https://localhost:8080/"
        },
        "id": "QM6rtp9Qcy36",
        "outputId": "24fba020-e8e8-4b61-ac52-6421a584ddc5"
      },
      "execution_count": null,
      "outputs": [
        {
          "output_type": "execute_result",
          "data": {
            "text/plain": [
              "-3"
            ]
          },
          "metadata": {},
          "execution_count": 25
        }
      ]
    },
    {
      "cell_type": "code",
      "source": [
        "a/b"
      ],
      "metadata": {
        "colab": {
          "base_uri": "https://localhost:8080/"
        },
        "id": "wfBunu8mc2wn",
        "outputId": "f768c992-0aa6-4846-9942-5b93abe0c3e1"
      },
      "execution_count": null,
      "outputs": [
        {
          "output_type": "execute_result",
          "data": {
            "text/plain": [
              "0.25"
            ]
          },
          "metadata": {},
          "execution_count": 26
        }
      ]
    },
    {
      "cell_type": "code",
      "source": [
        "9 //6.9"
      ],
      "metadata": {
        "colab": {
          "base_uri": "https://localhost:8080/"
        },
        "id": "RjY7eEBNc48r",
        "outputId": "97907aca-40fb-4e94-94b7-26de12dcd038"
      },
      "execution_count": null,
      "outputs": [
        {
          "output_type": "execute_result",
          "data": {
            "text/plain": [
              "1.0"
            ]
          },
          "metadata": {},
          "execution_count": 30
        }
      ]
    },
    {
      "cell_type": "code",
      "source": [
        "18 % 4"
      ],
      "metadata": {
        "colab": {
          "base_uri": "https://localhost:8080/"
        },
        "id": "0zZsl_LPc8yx",
        "outputId": "61227ffe-3b73-44ec-c785-f4bc8265637d"
      },
      "execution_count": null,
      "outputs": [
        {
          "output_type": "execute_result",
          "data": {
            "text/plain": [
              "2"
            ]
          },
          "metadata": {},
          "execution_count": 31
        }
      ]
    },
    {
      "cell_type": "code",
      "source": [
        "375 // 7"
      ],
      "metadata": {
        "colab": {
          "base_uri": "https://localhost:8080/"
        },
        "id": "j5NfT_CXdz7x",
        "outputId": "f305a4f6-3682-4041-de78-837a34390b88"
      },
      "execution_count": null,
      "outputs": [
        {
          "output_type": "execute_result",
          "data": {
            "text/plain": [
              "53"
            ]
          },
          "metadata": {},
          "execution_count": 38
        }
      ]
    },
    {
      "cell_type": "code",
      "source": [
        "a=4\n",
        "b=2"
      ],
      "metadata": {
        "id": "NFyGLBfcfDqP"
      },
      "execution_count": null,
      "outputs": []
    },
    {
      "cell_type": "code",
      "source": [
        "c=a^b\n"
      ],
      "metadata": {
        "id": "BJWlnCi6d5HH"
      },
      "execution_count": null,
      "outputs": []
    },
    {
      "cell_type": "code",
      "source": [
        "type(c)"
      ],
      "metadata": {
        "colab": {
          "base_uri": "https://localhost:8080/"
        },
        "id": "fSECWX7xfLRb",
        "outputId": "a4cd4f84-2bdc-4211-9e5a-4c1f3488ce4f"
      },
      "execution_count": null,
      "outputs": [
        {
          "output_type": "execute_result",
          "data": {
            "text/plain": [
              "int"
            ]
          },
          "metadata": {},
          "execution_count": 46
        }
      ]
    },
    {
      "cell_type": "code",
      "source": [
        "2**9"
      ],
      "metadata": {
        "colab": {
          "base_uri": "https://localhost:8080/"
        },
        "id": "q0oYfFZ1eiZj",
        "outputId": "7d43061a-982f-4180-86d1-ea42a0b3760f"
      },
      "execution_count": null,
      "outputs": [
        {
          "output_type": "execute_result",
          "data": {
            "text/plain": [
              "512"
            ]
          },
          "metadata": {},
          "execution_count": 42
        }
      ]
    },
    {
      "cell_type": "code",
      "source": [
        "a=3\n"
      ],
      "metadata": {
        "id": "K10CcNPeeutQ"
      },
      "execution_count": null,
      "outputs": []
    },
    {
      "cell_type": "code",
      "source": [
        "type(a)"
      ],
      "metadata": {
        "colab": {
          "base_uri": "https://localhost:8080/"
        },
        "id": "PFf11CMOfdE3",
        "outputId": "dc1a30bc-a93e-4e71-b3a7-3fa60f5d0a92"
      },
      "execution_count": null,
      "outputs": [
        {
          "output_type": "execute_result",
          "data": {
            "text/plain": [
              "int"
            ]
          },
          "metadata": {},
          "execution_count": 62
        }
      ]
    },
    {
      "cell_type": "code",
      "source": [
        "a,b,c = 10,20,30"
      ],
      "metadata": {
        "id": "pl9ncQpffeev"
      },
      "execution_count": null,
      "outputs": []
    },
    {
      "cell_type": "code",
      "source": [
        "b"
      ],
      "metadata": {
        "colab": {
          "base_uri": "https://localhost:8080/"
        },
        "id": "DH_dcr2uQEnp",
        "outputId": "9acdc66b-8b4e-4644-e908-bd89d49241c8"
      },
      "execution_count": null,
      "outputs": [
        {
          "output_type": "execute_result",
          "data": {
            "text/plain": [
              "20"
            ]
          },
          "metadata": {},
          "execution_count": 15
        }
      ]
    },
    {
      "cell_type": "code",
      "source": [
        "print(\"A =\",c)"
      ],
      "metadata": {
        "colab": {
          "base_uri": "https://localhost:8080/"
        },
        "id": "HmDOMUIUQFi1",
        "outputId": "1c75249d-ee74-494c-f268-c36381fdf24f"
      },
      "execution_count": null,
      "outputs": [
        {
          "output_type": "stream",
          "name": "stdout",
          "text": [
            "A = 30\n"
          ]
        }
      ]
    },
    {
      "cell_type": "code",
      "source": [
        "print(a, '+',b, a+b)"
      ],
      "metadata": {
        "colab": {
          "base_uri": "https://localhost:8080/"
        },
        "id": "7DfYMcLYQLd8",
        "outputId": "197df799-a94c-4645-d519-eb62e2f02cce"
      },
      "execution_count": null,
      "outputs": [
        {
          "output_type": "stream",
          "name": "stdout",
          "text": [
            "10 + 20 30\n"
          ]
        }
      ]
    },
    {
      "cell_type": "code",
      "source": [
        "print(f'{a} + {b}={a+b}')"
      ],
      "metadata": {
        "colab": {
          "base_uri": "https://localhost:8080/"
        },
        "id": "-5bAGGp8QnYJ",
        "outputId": "1f05dd70-11b2-429d-ad76-85df7d5bb7c6"
      },
      "execution_count": null,
      "outputs": [
        {
          "output_type": "stream",
          "name": "stdout",
          "text": [
            "10 + 20=30\n"
          ]
        }
      ]
    },
    {
      "cell_type": "code",
      "source": [
        "print(f'{b} + {a} = {a+b} ')"
      ],
      "metadata": {
        "colab": {
          "base_uri": "https://localhost:8080/"
        },
        "id": "a3TOBU2CSAXs",
        "outputId": "65a2b3b9-60fc-459d-a572-e49d7d6db1ce"
      },
      "execution_count": null,
      "outputs": [
        {
          "output_type": "stream",
          "name": "stdout",
          "text": [
            "20 + 10 = 30 \n"
          ]
        }
      ]
    },
    {
      "cell_type": "code",
      "source": [
        "print(a,'\\n',b,'\\n',c)"
      ],
      "metadata": {
        "colab": {
          "base_uri": "https://localhost:8080/"
        },
        "id": "lsR7phNySQ7t",
        "outputId": "cac59e9e-3751-456b-d0bd-73c363a4ae8a"
      },
      "execution_count": null,
      "outputs": [
        {
          "output_type": "stream",
          "name": "stdout",
          "text": [
            "10 \n",
            " 20 \n",
            " 30\n"
          ]
        }
      ]
    },
    {
      "cell_type": "code",
      "source": [
        "input()"
      ],
      "metadata": {
        "colab": {
          "base_uri": "https://localhost:8080/",
          "height": 52
        },
        "id": "CnRn0B2cSlEO",
        "outputId": "9cf17d3f-17a8-4efa-d481-87fa1f43aede"
      },
      "execution_count": null,
      "outputs": [
        {
          "name": "stdout",
          "output_type": "stream",
          "text": [
            "33\n"
          ]
        },
        {
          "output_type": "execute_result",
          "data": {
            "text/plain": [
              "'33'"
            ],
            "application/vnd.google.colaboratory.intrinsic+json": {
              "type": "string"
            }
          },
          "metadata": {},
          "execution_count": 34
        }
      ]
    },
    {
      "cell_type": "code",
      "source": [
        "x=int(input('Enter the value 1 '))\n",
        "y = int(input('Enter the value 2 '))\n",
        "z = x+y"
      ],
      "metadata": {
        "colab": {
          "base_uri": "https://localhost:8080/"
        },
        "id": "YLsebTd8Udvt",
        "outputId": "dd4a5077-a133-401a-d8c8-c36852eebfc7"
      },
      "execution_count": null,
      "outputs": [
        {
          "name": "stdout",
          "output_type": "stream",
          "text": [
            "Enter the value 1 55\n",
            "Enter the value 2 8\n"
          ]
        }
      ]
    },
    {
      "cell_type": "code",
      "source": [
        "x1=float(input('Enter the value 1 '))"
      ],
      "metadata": {
        "colab": {
          "base_uri": "https://localhost:8080/"
        },
        "id": "EBT4MAaeU54H",
        "outputId": "204d165b-a609-427c-a5d9-d6d5e4a14723"
      },
      "execution_count": null,
      "outputs": [
        {
          "name": "stdout",
          "output_type": "stream",
          "text": [
            "Enter the value 1 2.33\n"
          ]
        }
      ]
    },
    {
      "cell_type": "code",
      "source": [
        "type(x1)"
      ],
      "metadata": {
        "colab": {
          "base_uri": "https://localhost:8080/"
        },
        "id": "_9A6yj5jU_Zc",
        "outputId": "57324e0b-798e-4ec1-c078-42c2352574e5"
      },
      "execution_count": null,
      "outputs": [
        {
          "output_type": "execute_result",
          "data": {
            "text/plain": [
              "float"
            ]
          },
          "metadata": {},
          "execution_count": 60
        }
      ]
    },
    {
      "cell_type": "code",
      "source": [
        "type(x)"
      ],
      "metadata": {
        "colab": {
          "base_uri": "https://localhost:8080/"
        },
        "id": "kFlPEvjSVCoM",
        "outputId": "6bf41f3b-b881-405b-9c5a-3c5724834b97"
      },
      "execution_count": null,
      "outputs": [
        {
          "output_type": "execute_result",
          "data": {
            "text/plain": [
              "int"
            ]
          },
          "metadata": {},
          "execution_count": 50
        }
      ]
    },
    {
      "cell_type": "code",
      "source": [
        "days = int(input(\"Enter the Days \"))\n",
        "years = days//365\n",
        "print(years)\n",
        "days= days % 365\n",
        "month = days // 30\n",
        "print(days)\n",
        "print(month)\n"
      ],
      "metadata": {
        "colab": {
          "base_uri": "https://localhost:8080/"
        },
        "id": "8xPZ5hRWVDvw",
        "outputId": "ef61b571-fa27-480c-fd49-d99f1ec376ba"
      },
      "execution_count": null,
      "outputs": [
        {
          "output_type": "stream",
          "name": "stdout",
          "text": [
            "Enter the Days 1000\n",
            "2\n",
            "270\n",
            "9\n"
          ]
        }
      ]
    },
    {
      "cell_type": "code",
      "source": [
        "s= 'dfdsfsalfjs'"
      ],
      "metadata": {
        "id": "Ve055g1pWdYC"
      },
      "execution_count": null,
      "outputs": []
    },
    {
      "cell_type": "code",
      "source": [
        "type(s)"
      ],
      "metadata": {
        "colab": {
          "base_uri": "https://localhost:8080/"
        },
        "id": "n_Z0bSXzaMxX",
        "outputId": "610bc23f-bb63-4635-8f11-81a66b6cff79"
      },
      "execution_count": null,
      "outputs": [
        {
          "output_type": "execute_result",
          "data": {
            "text/plain": [
              "str"
            ]
          },
          "metadata": {},
          "execution_count": 73
        }
      ]
    },
    {
      "cell_type": "code",
      "source": [
        "len(s)"
      ],
      "metadata": {
        "colab": {
          "base_uri": "https://localhost:8080/"
        },
        "id": "RuVNG-1jaN6Z",
        "outputId": "d894ac9d-2e2e-4eb3-9483-2cb0cc476cf0"
      },
      "execution_count": null,
      "outputs": [
        {
          "output_type": "execute_result",
          "data": {
            "text/plain": [
              "11"
            ]
          },
          "metadata": {},
          "execution_count": 74
        }
      ]
    },
    {
      "cell_type": "code",
      "source": [
        "s"
      ],
      "metadata": {
        "colab": {
          "base_uri": "https://localhost:8080/",
          "height": 35
        },
        "id": "wvHniEemaPTi",
        "outputId": "cc8da3fa-0c33-44fb-ee2b-849b5601e938"
      },
      "execution_count": null,
      "outputs": [
        {
          "output_type": "execute_result",
          "data": {
            "text/plain": [
              "'dfdsfsalfjs'"
            ],
            "application/vnd.google.colaboratory.intrinsic+json": {
              "type": "string"
            }
          },
          "metadata": {},
          "execution_count": 75
        }
      ]
    },
    {
      "cell_type": "code",
      "source": [
        "s1='Dinesh Kumar'"
      ],
      "metadata": {
        "id": "To3qBNV9aTmu"
      },
      "execution_count": null,
      "outputs": []
    },
    {
      "cell_type": "code",
      "source": [
        "s1[2]"
      ],
      "metadata": {
        "colab": {
          "base_uri": "https://localhost:8080/",
          "height": 35
        },
        "id": "taAWXCgTbBuB",
        "outputId": "5ce3e4e9-1d36-4215-d604-dff5be8e680b"
      },
      "execution_count": null,
      "outputs": [
        {
          "output_type": "execute_result",
          "data": {
            "text/plain": [
              "'n'"
            ],
            "application/vnd.google.colaboratory.intrinsic+json": {
              "type": "string"
            }
          },
          "metadata": {},
          "execution_count": 81
        }
      ]
    },
    {
      "cell_type": "code",
      "source": [
        "s1[-1]"
      ],
      "metadata": {
        "colab": {
          "base_uri": "https://localhost:8080/",
          "height": 35
        },
        "id": "E_VsEFvjbNHv",
        "outputId": "80caa585-d82e-424a-80ad-c088e3ed83db"
      },
      "execution_count": null,
      "outputs": [
        {
          "output_type": "execute_result",
          "data": {
            "text/plain": [
              "'r'"
            ],
            "application/vnd.google.colaboratory.intrinsic+json": {
              "type": "string"
            }
          },
          "metadata": {},
          "execution_count": 82
        }
      ]
    },
    {
      "cell_type": "code",
      "source": [
        "s1[-7]"
      ],
      "metadata": {
        "colab": {
          "base_uri": "https://localhost:8080/",
          "height": 35
        },
        "id": "m_aKGwCPbYhJ",
        "outputId": "056fc84a-5cfc-4235-bcac-cd1311cb0516"
      },
      "execution_count": null,
      "outputs": [
        {
          "output_type": "execute_result",
          "data": {
            "text/plain": [
              "'h'"
            ],
            "application/vnd.google.colaboratory.intrinsic+json": {
              "type": "string"
            }
          },
          "metadata": {},
          "execution_count": 83
        }
      ]
    },
    {
      "cell_type": "code",
      "source": [
        "s1[3:7]"
      ],
      "metadata": {
        "colab": {
          "base_uri": "https://localhost:8080/",
          "height": 35
        },
        "id": "JzXRBOoLbj-j",
        "outputId": "a9ce8fe8-6896-4e5a-88da-b3c34c447be8"
      },
      "execution_count": null,
      "outputs": [
        {
          "output_type": "execute_result",
          "data": {
            "text/plain": [
              "'esh '"
            ],
            "application/vnd.google.colaboratory.intrinsic+json": {
              "type": "string"
            }
          },
          "metadata": {},
          "execution_count": 84
        }
      ]
    },
    {
      "cell_type": "code",
      "source": [
        "s1[:5]"
      ],
      "metadata": {
        "colab": {
          "base_uri": "https://localhost:8080/",
          "height": 35
        },
        "id": "302vraq3cBiY",
        "outputId": "7037462e-8f94-4064-a1e8-11bc85b7e763"
      },
      "execution_count": null,
      "outputs": [
        {
          "output_type": "execute_result",
          "data": {
            "text/plain": [
              "'Dines'"
            ],
            "application/vnd.google.colaboratory.intrinsic+json": {
              "type": "string"
            }
          },
          "metadata": {},
          "execution_count": 85
        }
      ]
    },
    {
      "cell_type": "code",
      "source": [
        "s1[:]"
      ],
      "metadata": {
        "colab": {
          "base_uri": "https://localhost:8080/",
          "height": 35
        },
        "id": "IxuNqtV_ceOY",
        "outputId": "502bd7aa-22b2-46e9-d904-680c422d13a9"
      },
      "execution_count": null,
      "outputs": [
        {
          "output_type": "execute_result",
          "data": {
            "text/plain": [
              "'Dinesh Kumar'"
            ],
            "application/vnd.google.colaboratory.intrinsic+json": {
              "type": "string"
            }
          },
          "metadata": {},
          "execution_count": 87
        }
      ]
    },
    {
      "cell_type": "code",
      "source": [
        "s1[:-1]"
      ],
      "metadata": {
        "colab": {
          "base_uri": "https://localhost:8080/",
          "height": 35
        },
        "id": "tuxMget0cjQG",
        "outputId": "8cf4c90f-7e9e-45f6-c8ce-c2c589f9d7bc"
      },
      "execution_count": null,
      "outputs": [
        {
          "output_type": "execute_result",
          "data": {
            "text/plain": [
              "'Dinesh Kuma'"
            ],
            "application/vnd.google.colaboratory.intrinsic+json": {
              "type": "string"
            }
          },
          "metadata": {},
          "execution_count": 88
        }
      ]
    },
    {
      "cell_type": "code",
      "source": [
        "s2= 'DK'\n"
      ],
      "metadata": {
        "id": "S-EFV3VPc7Jh"
      },
      "execution_count": null,
      "outputs": []
    },
    {
      "cell_type": "code",
      "source": [
        "s1 + '\\n' , s2"
      ],
      "metadata": {
        "colab": {
          "base_uri": "https://localhost:8080/"
        },
        "id": "sRSAKs1SdsuU",
        "outputId": "13e1c8c9-e8df-4ba7-ce5c-cf79b56dac31"
      },
      "execution_count": null,
      "outputs": [
        {
          "output_type": "execute_result",
          "data": {
            "text/plain": [
              "('Dinesh Kumar\\n', 'DK')"
            ]
          },
          "metadata": {},
          "execution_count": 98
        }
      ]
    },
    {
      "cell_type": "code",
      "source": [
        "(s1+' ') * 5"
      ],
      "metadata": {
        "colab": {
          "base_uri": "https://localhost:8080/",
          "height": 35
        },
        "id": "CGpMbuQed0-f",
        "outputId": "59e013f4-2fa2-492a-f2a2-5b974d6265aa"
      },
      "execution_count": null,
      "outputs": [
        {
          "output_type": "execute_result",
          "data": {
            "text/plain": [
              "'Dinesh Kumar Dinesh Kumar Dinesh Kumar Dinesh Kumar Dinesh Kumar '"
            ],
            "application/vnd.google.colaboratory.intrinsic+json": {
              "type": "string"
            }
          },
          "metadata": {},
          "execution_count": 103
        }
      ]
    },
    {
      "cell_type": "code",
      "source": [
        "'K' in s1"
      ],
      "metadata": {
        "colab": {
          "base_uri": "https://localhost:8080/"
        },
        "id": "6sgKgsh5efkz",
        "outputId": "a15a333b-e0ab-417c-b437-c6e8f060adea"
      },
      "execution_count": null,
      "outputs": [
        {
          "output_type": "execute_result",
          "data": {
            "text/plain": [
              "True"
            ]
          },
          "metadata": {},
          "execution_count": 104
        }
      ]
    },
    {
      "cell_type": "code",
      "source": [
        "print(f'Name = {s1}')"
      ],
      "metadata": {
        "colab": {
          "base_uri": "https://localhost:8080/"
        },
        "id": "YfovDB1EgbGX",
        "outputId": "ef128378-4a54-427e-ac5c-098c43e7817d"
      },
      "execution_count": null,
      "outputs": [
        {
          "output_type": "stream",
          "name": "stdout",
          "text": [
            "Name = Dinesh Kumar\n"
          ]
        }
      ]
    },
    {
      "cell_type": "code",
      "source": [
        "s4 = s1 ,'\\n', s2"
      ],
      "metadata": {
        "id": "Q23b-KYHg9yI"
      },
      "execution_count": null,
      "outputs": []
    },
    {
      "cell_type": "code",
      "source": [
        "s4"
      ],
      "metadata": {
        "colab": {
          "base_uri": "https://localhost:8080/"
        },
        "id": "7yNaGpehhng4",
        "outputId": "83c9595e-ea91-4e6c-d66d-9bd7e3686d8c"
      },
      "execution_count": null,
      "outputs": [
        {
          "output_type": "execute_result",
          "data": {
            "text/plain": [
              "('Dinesh Kumar', '\\n', 'DK')"
            ]
          },
          "metadata": {},
          "execution_count": 117
        }
      ]
    },
    {
      "cell_type": "code",
      "source": [
        "s1.upper()"
      ],
      "metadata": {
        "colab": {
          "base_uri": "https://localhost:8080/",
          "height": 35
        },
        "id": "YqrIytN1iEJl",
        "outputId": "6203305e-2293-44b6-ba2b-5b91b660b30b"
      },
      "execution_count": null,
      "outputs": [
        {
          "output_type": "execute_result",
          "data": {
            "text/plain": [
              "'DINESH KUMAR'"
            ],
            "application/vnd.google.colaboratory.intrinsic+json": {
              "type": "string"
            }
          },
          "metadata": {},
          "execution_count": 118
        }
      ]
    },
    {
      "cell_type": "code",
      "source": [
        "s1.lower().count"
      ],
      "metadata": {
        "colab": {
          "base_uri": "https://localhost:8080/"
        },
        "id": "0kHtXCeEiR29",
        "outputId": "0b656c01-6e9a-410a-f824-d6410d5781dd"
      },
      "execution_count": null,
      "outputs": [
        {
          "output_type": "execute_result",
          "data": {
            "text/plain": [
              "<function str.count>"
            ]
          },
          "metadata": {},
          "execution_count": 120
        }
      ]
    },
    {
      "cell_type": "code",
      "source": [
        "s1.split()"
      ],
      "metadata": {
        "colab": {
          "base_uri": "https://localhost:8080/"
        },
        "id": "CCaPgtNtiUVH",
        "outputId": "6cd43def-2a63-421e-f1a9-053ca1fb4f87"
      },
      "execution_count": null,
      "outputs": [
        {
          "output_type": "execute_result",
          "data": {
            "text/plain": [
              "['Dinesh', 'Kumar']"
            ]
          },
          "metadata": {},
          "execution_count": 122
        }
      ]
    },
    {
      "cell_type": "code",
      "source": [
        "'a,c,v,d,r'.split(',')"
      ],
      "metadata": {
        "colab": {
          "base_uri": "https://localhost:8080/"
        },
        "id": "rQzT6SDwi2jB",
        "outputId": "0ef22754-6402-42c2-e9af-ae9509975205"
      },
      "execution_count": null,
      "outputs": [
        {
          "output_type": "execute_result",
          "data": {
            "text/plain": [
              "['a', 'c', 'v', 'd', 'r']"
            ]
          },
          "metadata": {},
          "execution_count": 123
        }
      ]
    },
    {
      "cell_type": "code",
      "source": [
        "s1.split( )"
      ],
      "metadata": {
        "colab": {
          "base_uri": "https://localhost:8080/"
        },
        "id": "67xkUAxijWSw",
        "outputId": "8b30ff97-99ad-4218-9b8e-f3fcdcffd283"
      },
      "execution_count": null,
      "outputs": [
        {
          "output_type": "execute_result",
          "data": {
            "text/plain": [
              "['Dinesh', 'Kumar']"
            ]
          },
          "metadata": {},
          "execution_count": 124
        }
      ]
    },
    {
      "cell_type": "code",
      "source": [
        "len(s1)"
      ],
      "metadata": {
        "colab": {
          "base_uri": "https://localhost:8080/"
        },
        "id": "glZVtXzjkWAH",
        "outputId": "298e39b8-e1b7-465d-ceb1-af06062d7647"
      },
      "execution_count": null,
      "outputs": [
        {
          "output_type": "execute_result",
          "data": {
            "text/plain": [
              "12"
            ]
          },
          "metadata": {},
          "execution_count": 125
        }
      ]
    },
    {
      "cell_type": "code",
      "source": [
        "s1.find('K')"
      ],
      "metadata": {
        "colab": {
          "base_uri": "https://localhost:8080/"
        },
        "id": "ljaZZUtikYSB",
        "outputId": "baa7a4ae-7576-471f-d909-40568412110b"
      },
      "execution_count": null,
      "outputs": [
        {
          "output_type": "execute_result",
          "data": {
            "text/plain": [
              "7"
            ]
          },
          "metadata": {},
          "execution_count": 128
        }
      ]
    },
    {
      "cell_type": "code",
      "source": [
        "s1.replace('D', 'K')"
      ],
      "metadata": {
        "colab": {
          "base_uri": "https://localhost:8080/",
          "height": 35
        },
        "id": "ucI_9-Y5kn9Z",
        "outputId": "b602c181-a82f-421d-d680-a4bf460e77fa"
      },
      "execution_count": null,
      "outputs": [
        {
          "output_type": "execute_result",
          "data": {
            "text/plain": [
              "'Kinesh Kumar'"
            ],
            "application/vnd.google.colaboratory.intrinsic+json": {
              "type": "string"
            }
          },
          "metadata": {},
          "execution_count": 136
        }
      ]
    },
    {
      "cell_type": "code",
      "source": [
        "s1"
      ],
      "metadata": {
        "colab": {
          "base_uri": "https://localhost:8080/",
          "height": 35
        },
        "id": "IgV7g9Gikzs7",
        "outputId": "63e29c93-fa55-445a-fc56-b61afe5e37a0"
      },
      "execution_count": null,
      "outputs": [
        {
          "output_type": "execute_result",
          "data": {
            "text/plain": [
              "'Dinesh Kumar'"
            ],
            "application/vnd.google.colaboratory.intrinsic+json": {
              "type": "string"
            }
          },
          "metadata": {},
          "execution_count": 137
        }
      ]
    },
    {
      "cell_type": "code",
      "source": [
        "list(s1)"
      ],
      "metadata": {
        "colab": {
          "base_uri": "https://localhost:8080/"
        },
        "id": "5W6fqod9l1Z8",
        "outputId": "9d140806-41e5-4c1f-9617-58c8316dbf76"
      },
      "execution_count": null,
      "outputs": [
        {
          "output_type": "execute_result",
          "data": {
            "text/plain": [
              "['D', 'i', 'n', 'e', 's', 'h', ' ', 'K', 'u', 'm', 'a', 'r']"
            ]
          },
          "metadata": {},
          "execution_count": 142
        }
      ]
    },
    {
      "cell_type": "code",
      "source": [
        "list(enumerate(s1))"
      ],
      "metadata": {
        "colab": {
          "base_uri": "https://localhost:8080/"
        },
        "id": "4QicvkXik5mg",
        "outputId": "c1de58c4-8205-43ac-afad-f90db293d2e0"
      },
      "execution_count": null,
      "outputs": [
        {
          "output_type": "execute_result",
          "data": {
            "text/plain": [
              "[(0, 'D'),\n",
              " (1, 'i'),\n",
              " (2, 'n'),\n",
              " (3, 'e'),\n",
              " (4, 's'),\n",
              " (5, 'h'),\n",
              " (6, ' '),\n",
              " (7, 'K'),\n",
              " (8, 'u'),\n",
              " (9, 'm'),\n",
              " (10, 'a'),\n",
              " (11, 'r')]"
            ]
          },
          "metadata": {},
          "execution_count": 139
        }
      ]
    },
    {
      "cell_type": "code",
      "source": [
        "print('Dines\\'h')"
      ],
      "metadata": {
        "colab": {
          "base_uri": "https://localhost:8080/"
        },
        "id": "EBamMZN3lumb",
        "outputId": "f1e8f1d7-7b97-44de-adc3-8aad09702fd5"
      },
      "execution_count": null,
      "outputs": [
        {
          "output_type": "stream",
          "name": "stdout",
          "text": [
            "Dines'h\n"
          ]
        }
      ]
    },
    {
      "cell_type": "code",
      "source": [
        "print('Dinesh is  \\\"king\".')"
      ],
      "metadata": {
        "colab": {
          "base_uri": "https://localhost:8080/"
        },
        "id": "NPLJz-3RmeF9",
        "outputId": "ea897897-ed30-426c-b16b-2c0e22ef1957"
      },
      "execution_count": null,
      "outputs": [
        {
          "output_type": "stream",
          "name": "stdout",
          "text": [
            "Dinesh is \"king\".\n"
          ]
        }
      ]
    },
    {
      "cell_type": "code",
      "source": [],
      "metadata": {
        "id": "_KCHYa0Qmy5X"
      },
      "execution_count": null,
      "outputs": []
    },
    {
      "cell_type": "code",
      "source": [
        "s3 ='   abc   '"
      ],
      "metadata": {
        "id": "_YKxabtSnX2z"
      },
      "execution_count": null,
      "outputs": []
    },
    {
      "cell_type": "code",
      "source": [
        "s3"
      ],
      "metadata": {
        "colab": {
          "base_uri": "https://localhost:8080/",
          "height": 35
        },
        "id": "xqpkxbgIn7j1",
        "outputId": "02e8147f-4f4c-4f5a-c85f-f1ce198122eb"
      },
      "execution_count": null,
      "outputs": [
        {
          "output_type": "execute_result",
          "data": {
            "text/plain": [
              "'   abc   '"
            ],
            "application/vnd.google.colaboratory.intrinsic+json": {
              "type": "string"
            }
          },
          "metadata": {},
          "execution_count": 154
        }
      ]
    },
    {
      "cell_type": "code",
      "source": [
        "len(s3)"
      ],
      "metadata": {
        "colab": {
          "base_uri": "https://localhost:8080/"
        },
        "id": "C8HIJo3pn8oV",
        "outputId": "8e54a731-03d6-425a-efcd-2df95b352b2b"
      },
      "execution_count": null,
      "outputs": [
        {
          "output_type": "execute_result",
          "data": {
            "text/plain": [
              "9"
            ]
          },
          "metadata": {},
          "execution_count": 155
        }
      ]
    },
    {
      "cell_type": "code",
      "source": [
        "s3.rstrip()"
      ],
      "metadata": {
        "colab": {
          "base_uri": "https://localhost:8080/",
          "height": 35
        },
        "id": "0f8hyFJnn-Dh",
        "outputId": "6c38ee76-3537-41ab-c0b2-958f423df897"
      },
      "execution_count": null,
      "outputs": [
        {
          "output_type": "execute_result",
          "data": {
            "text/plain": [
              "'   abc'"
            ],
            "application/vnd.google.colaboratory.intrinsic+json": {
              "type": "string"
            }
          },
          "metadata": {},
          "execution_count": 158
        }
      ]
    },
    {
      "cell_type": "code",
      "source": [],
      "metadata": {
        "id": "tSIgt6aCoDZz"
      },
      "execution_count": null,
      "outputs": []
    },
    {
      "cell_type": "markdown",
      "source": [
        "lists"
      ],
      "metadata": {
        "id": "-T56VWO-oefb"
      }
    },
    {
      "cell_type": "code",
      "source": [
        "s9 = [1,3,5,8,'abc']"
      ],
      "metadata": {
        "id": "Bsl5bk-fofpZ"
      },
      "execution_count": null,
      "outputs": []
    },
    {
      "cell_type": "code",
      "source": [
        "type(s9)"
      ],
      "metadata": {
        "colab": {
          "base_uri": "https://localhost:8080/"
        },
        "id": "1c9CdxKRpNeg",
        "outputId": "d82c7dc4-f788-44de-eab5-988f52d25140"
      },
      "execution_count": null,
      "outputs": [
        {
          "output_type": "execute_result",
          "data": {
            "text/plain": [
              "list"
            ]
          },
          "metadata": {},
          "execution_count": 160
        }
      ]
    },
    {
      "cell_type": "code",
      "source": [
        "s9[2:]"
      ],
      "metadata": {
        "colab": {
          "base_uri": "https://localhost:8080/"
        },
        "id": "4B4Cv4mSpO7y",
        "outputId": "e38c0105-a5c6-4a67-afa0-1cc64f19b0d6"
      },
      "execution_count": null,
      "outputs": [
        {
          "output_type": "execute_result",
          "data": {
            "text/plain": [
              "[5, 8, 'abc']"
            ]
          },
          "metadata": {},
          "execution_count": 161
        }
      ]
    },
    {
      "cell_type": "code",
      "source": [
        "del s9[3]"
      ],
      "metadata": {
        "id": "9B1VpZAFpRfh"
      },
      "execution_count": null,
      "outputs": []
    },
    {
      "cell_type": "code",
      "source": [
        "s9"
      ],
      "metadata": {
        "colab": {
          "base_uri": "https://localhost:8080/"
        },
        "id": "8b57waiypYnB",
        "outputId": "82ba4a92-8900-4d97-ba7c-e3433d93fe09"
      },
      "execution_count": null,
      "outputs": [
        {
          "output_type": "execute_result",
          "data": {
            "text/plain": [
              "[1, 3, 5, 'abc']"
            ]
          },
          "metadata": {},
          "execution_count": 163
        }
      ]
    },
    {
      "cell_type": "code",
      "source": [
        "type(s9[-1])"
      ],
      "metadata": {
        "colab": {
          "base_uri": "https://localhost:8080/"
        },
        "id": "omJd6gdlpZsu",
        "outputId": "6ec56af9-6935-4423-e389-2185a5fb994a"
      },
      "execution_count": null,
      "outputs": [
        {
          "output_type": "execute_result",
          "data": {
            "text/plain": [
              "str"
            ]
          },
          "metadata": {},
          "execution_count": 165
        }
      ]
    },
    {
      "cell_type": "code",
      "source": [
        "s9[:3][1]"
      ],
      "metadata": {
        "colab": {
          "base_uri": "https://localhost:8080/"
        },
        "id": "EDyA2ycKplRc",
        "outputId": "13720efa-37d0-4aa2-feb6-5efc13f95cd3"
      },
      "execution_count": null,
      "outputs": [
        {
          "output_type": "execute_result",
          "data": {
            "text/plain": [
              "3"
            ]
          },
          "metadata": {},
          "execution_count": 167
        }
      ]
    },
    {
      "cell_type": "code",
      "source": [
        "x= input().split()"
      ],
      "metadata": {
        "colab": {
          "base_uri": "https://localhost:8080/"
        },
        "id": "255bbnDrpvGu",
        "outputId": "c37be3e0-f9ce-452a-b044-f06791595c92"
      },
      "execution_count": null,
      "outputs": [
        {
          "name": "stdout",
          "output_type": "stream",
          "text": [
            "3 5 7\n"
          ]
        }
      ]
    },
    {
      "cell_type": "code",
      "source": [
        "type(x)"
      ],
      "metadata": {
        "colab": {
          "base_uri": "https://localhost:8080/"
        },
        "id": "UTiysSZGqNto",
        "outputId": "ae9f8978-b73c-435d-d04e-fccea6d5bcc2"
      },
      "execution_count": null,
      "outputs": [
        {
          "output_type": "execute_result",
          "data": {
            "text/plain": [
              "list"
            ]
          },
          "metadata": {},
          "execution_count": 171
        }
      ]
    },
    {
      "cell_type": "markdown",
      "source": [
        "CONDITION STATMENT"
      ],
      "metadata": {
        "id": "jyrTKIx7Cb3E"
      }
    },
    {
      "cell_type": "code",
      "source": [
        "a=int(input('Enter the value  '))\n",
        "\n",
        "if a<20:\n",
        "  print(\"The give number is less than 20\")\n",
        "print('Done')\n"
      ],
      "metadata": {
        "id": "ZUfkqoHTqcAh",
        "colab": {
          "base_uri": "https://localhost:8080/"
        },
        "outputId": "eb620520-5bad-4888-c5b4-43ab1fdeba18"
      },
      "execution_count": null,
      "outputs": [
        {
          "output_type": "stream",
          "name": "stdout",
          "text": [
            "Enter the value  6\n",
            "The give number is less than 20\n",
            "Done\n"
          ]
        }
      ]
    },
    {
      "cell_type": "code",
      "source": [
        "a=int(input('Enter the number  '))\n",
        "if a%2==0:\n",
        "  print(n, 'Even value')\n",
        "else:\n",
        "  print('Odd value')\n"
      ],
      "metadata": {
        "colab": {
          "base_uri": "https://localhost:8080/"
        },
        "id": "7rk6G6G1CvBN",
        "outputId": "a5a6aee5-bd3a-456f-cc53-c0ad059d7304"
      },
      "execution_count": null,
      "outputs": [
        {
          "output_type": "stream",
          "name": "stdout",
          "text": [
            "Enter the number  1\n",
            "Odd value\n"
          ]
        }
      ]
    },
    {
      "cell_type": "code",
      "source": [
        "# Find the large number\n",
        "a1=int(input())\n",
        "a2=int(input())\n",
        "if a1>a2:\n",
        "  print(a1)\n",
        "else:\n",
        "  print(a2)"
      ],
      "metadata": {
        "colab": {
          "base_uri": "https://localhost:8080/"
        },
        "id": "NbLikyI2ET5F",
        "outputId": "a232a906-b88b-4cc6-d35a-5e7a275669f6"
      },
      "execution_count": null,
      "outputs": [
        {
          "output_type": "stream",
          "name": "stdout",
          "text": [
            "40\n",
            "60\n",
            "60\n"
          ]
        }
      ]
    },
    {
      "cell_type": "code",
      "source": [
        "#Nested if else statement\n",
        "\n",
        "a, b, c = [int(x) for x in input().split()]\n",
        "\n",
        "if a>b:\n",
        "  if a>c:\n",
        "    big = a\n",
        "  else:\n",
        "    big = c\n",
        "else:\n",
        "  if b>c:\n",
        "    big = b\n",
        "  else:\n",
        "    big = c\n",
        "print('Larger Number =', big)\n"
      ],
      "metadata": {
        "colab": {
          "base_uri": "https://localhost:8080/"
        },
        "id": "DNYsng3nFi86",
        "outputId": "f8b71da4-6f50-40ac-e36b-5fbc3d3b16fd"
      },
      "execution_count": null,
      "outputs": [
        {
          "output_type": "stream",
          "name": "stdout",
          "text": [
            "5 4 6\n",
            "Larger Number = 6\n"
          ]
        }
      ]
    },
    {
      "cell_type": "code",
      "source": [
        "# if else ladder\n",
        "p=int(input('Enter the percentage '))\n",
        "\n",
        "if p>=75:\n",
        "  print(\"Destinction\")\n",
        "elif p>=60:\n",
        "  print(\"First class\")\n",
        "elif p>50:\n",
        "  print(\"second class\")\n",
        "else:\n",
        "  print('failed')\n"
      ],
      "metadata": {
        "colab": {
          "base_uri": "https://localhost:8080/"
        },
        "id": "R6e_PBPFIYCH",
        "outputId": "f667d664-0a2b-48eb-9f45-23f5a3be6ea6"
      },
      "execution_count": null,
      "outputs": [
        {
          "output_type": "stream",
          "name": "stdout",
          "text": [
            "Enter the percentage 65\n",
            "First class\n"
          ]
        }
      ]
    },
    {
      "cell_type": "code",
      "source": [
        "a, b, c =[int(x) for x in input(\"Enter the values \").split()]\n",
        "\n",
        "if a>b and a>c:\n",
        "  print('big = a')\n",
        "elif b>c:\n",
        "  print('big = b')\n",
        "else:\n",
        "  print('big =c')"
      ],
      "metadata": {
        "colab": {
          "base_uri": "https://localhost:8080/"
        },
        "id": "n57HsWkjLUlQ",
        "outputId": "cf0c30ad-2a62-4263-944e-d0c55d8d4fba"
      },
      "execution_count": null,
      "outputs": [
        {
          "output_type": "stream",
          "name": "stdout",
          "text": [
            "Enter the values 5 8 9\n",
            "big =c\n"
          ]
        }
      ]
    },
    {
      "cell_type": "code",
      "source": [
        "a= int(input())\n",
        "b= int(input())\n",
        "\n",
        "if a%10==0 and b%10==0:\n",
        "  print('Yes')\n",
        "else:\n",
        "  print('No')\n"
      ],
      "metadata": {
        "colab": {
          "base_uri": "https://localhost:8080/"
        },
        "id": "G6uoE6xGMlkP",
        "outputId": "8f7593e0-b631-4252-fc06-108200c7d0c6"
      },
      "execution_count": null,
      "outputs": [
        {
          "output_type": "stream",
          "name": "stdout",
          "text": [
            "20\n",
            "60\n",
            "Yes\n"
          ]
        }
      ]
    },
    {
      "cell_type": "code",
      "source": [
        "#Leap year\n",
        "a=int(input())\n",
        "\n",
        "if a%4==0 or a%400==0:\n",
        "  print('Leap year')\n",
        "else:\n",
        "  print(\"Not leap year\")\n"
      ],
      "metadata": {
        "colab": {
          "base_uri": "https://localhost:8080/"
        },
        "id": "xGIMBzWtNHD2",
        "outputId": "9a6797e9-9ac3-49ad-8e23-ea96f63c1467"
      },
      "execution_count": null,
      "outputs": [
        {
          "output_type": "stream",
          "name": "stdout",
          "text": [
            "2024\n",
            "Leap year\n"
          ]
        }
      ]
    },
    {
      "cell_type": "markdown",
      "source": [
        "LOOPS"
      ],
      "metadata": {
        "id": "AojSE730R5Sp"
      }
    },
    {
      "cell_type": "code",
      "source": [
        "#while loop\n",
        "\n",
        "i = 1\n",
        "\n",
        "n = int(input())\n",
        "while i<=n:\n",
        "  print('Hello')\n",
        "  i = i+1\n",
        "print('Done...')\n"
      ],
      "metadata": {
        "colab": {
          "base_uri": "https://localhost:8080/"
        },
        "id": "a562w4goR9Du",
        "outputId": "bc592f63-8999-4db3-adc0-6b476ff370de"
      },
      "execution_count": null,
      "outputs": [
        {
          "output_type": "stream",
          "name": "stdout",
          "text": [
            "6\n",
            "Hello\n",
            "Hello\n",
            "Hello\n",
            "Hello\n",
            "Hello\n",
            "Hello\n",
            "Done...\n"
          ]
        }
      ]
    },
    {
      "cell_type": "code",
      "source": [
        "#print the even number from 1 to n\n",
        "\n",
        "i =1\n",
        "n =int(input())\n",
        "while i<=n:\n",
        "  if i%2==0:\n",
        "    print(i)\n",
        "  i=i+1"
      ],
      "metadata": {
        "colab": {
          "base_uri": "https://localhost:8080/"
        },
        "id": "4JAAPNiqTHsL",
        "outputId": "68fb5e42-ac56-4871-8d7b-370b744c91a5"
      },
      "execution_count": null,
      "outputs": [
        {
          "output_type": "stream",
          "name": "stdout",
          "text": [
            "10\n",
            "2\n",
            "4\n",
            "6\n",
            "8\n",
            "10\n"
          ]
        }
      ]
    },
    {
      "cell_type": "code",
      "source": [
        "# print the value divisible by 7\n",
        "i =1\n",
        "n =int(input())\n",
        "while i<=n:\n",
        "  if i%7==0:\n",
        "    print(i)\n",
        "  i=i+1"
      ],
      "metadata": {
        "colab": {
          "base_uri": "https://localhost:8080/"
        },
        "id": "EFSUseNGUPwG",
        "outputId": "d63f2b1b-e723-44e0-ef37-1c04a4c53979"
      },
      "execution_count": null,
      "outputs": [
        {
          "output_type": "stream",
          "name": "stdout",
          "text": [
            "35\n",
            "7\n",
            "14\n",
            "21\n",
            "28\n",
            "35\n"
          ]
        }
      ]
    },
    {
      "cell_type": "code",
      "source": [
        "# find the sum of even number and odd number from 1 to n\n",
        "\n",
        "i =1\n",
        "n = int(input())\n",
        "evensum = 0\n",
        "oddsum = 0\n",
        "\n",
        "while i<=n:\n",
        "  if i%2==0:\n",
        "    evensum = evensum + i\n",
        "  else:\n",
        "    oddsum = oddsum + i\n",
        "  i =i + 1\n",
        "print(f'evensum = {evensum} \\noddsum = {oddsum}')\n",
        "\n"
      ],
      "metadata": {
        "colab": {
          "base_uri": "https://localhost:8080/"
        },
        "id": "OOl8svOoUonw",
        "outputId": "141e408f-bf5f-402f-88e8-68a931fcf3cd"
      },
      "execution_count": null,
      "outputs": [
        {
          "output_type": "stream",
          "name": "stdout",
          "text": [
            "5\n",
            "evensum = 6 \n",
            "oddsum = 9\n"
          ]
        }
      ]
    },
    {
      "cell_type": "code",
      "source": [
        "n =int(input())\n",
        "i=1\n",
        "while i<=n:\n",
        "  #print the line\n",
        "  j=1\n",
        "  while j<=i:\n",
        "    print(i, end=' ')\n",
        "    j=j+1\n",
        "  print()\n",
        "  i=i+1"
      ],
      "metadata": {
        "colab": {
          "base_uri": "https://localhost:8080/"
        },
        "id": "EXNZ7mCzY7pL",
        "outputId": "f31cf429-bb3d-4222-9d5b-46bf9f1a04b3"
      },
      "execution_count": null,
      "outputs": [
        {
          "output_type": "stream",
          "name": "stdout",
          "text": [
            "5\n",
            "1 \n",
            "2 2 \n",
            "3 3 3 \n",
            "4 4 4 4 \n",
            "5 5 5 5 5 \n"
          ]
        }
      ]
    },
    {
      "cell_type": "code",
      "source": [
        "n=int(input())\n",
        "\n",
        "i=1\n",
        "\n",
        "while i<=n:\n",
        "  j=1\n",
        "  while j<=i:\n",
        "    print(i,end=' ')\n",
        "    j=j+1\n",
        "  print()\n",
        "  i=i+1\n"
      ],
      "metadata": {
        "colab": {
          "base_uri": "https://localhost:8080/"
        },
        "id": "YuIzkfVNbstS",
        "outputId": "a4fb8df1-9f8c-42d6-d41e-905675de633c"
      },
      "execution_count": null,
      "outputs": [
        {
          "output_type": "stream",
          "name": "stdout",
          "text": [
            "4\n",
            "1 \n",
            "2 2 \n",
            "3 3 3 \n",
            "4 4 4 4 \n"
          ]
        }
      ]
    },
    {
      "cell_type": "code",
      "source": [
        "#find the factorial\n",
        "\n",
        "x=1\n",
        "f=1\n",
        "n= int(input())\n",
        "while x<=n:\n",
        "  f=f*x\n",
        "  x=x+1\n",
        "print(f)"
      ],
      "metadata": {
        "colab": {
          "base_uri": "https://localhost:8080/"
        },
        "id": "bIad0wzzpJy8",
        "outputId": "7be07c53-e0a9-4550-a00a-6ebcad9260e6"
      },
      "execution_count": null,
      "outputs": [
        {
          "output_type": "stream",
          "name": "stdout",
          "text": [
            "5\n",
            "120\n"
          ]
        }
      ]
    },
    {
      "cell_type": "markdown",
      "source": [
        "#print the following pyramid\n",
        "1\n",
        "1 2\n",
        "1 2 3\n",
        "1 2 3 4"
      ],
      "metadata": {
        "id": "kYY5UpGtuVog"
      }
    },
    {
      "cell_type": "code",
      "source": [
        "i=1\n",
        "n=int(input())\n",
        "while i<=n:\n",
        "  j=1\n",
        "  while j<=i:\n",
        "    print(j,end='')\n",
        "    j=j+1\n",
        "  print()\n",
        "  i=i+1"
      ],
      "metadata": {
        "colab": {
          "base_uri": "https://localhost:8080/"
        },
        "id": "XnuRWDAdr2kE",
        "outputId": "f927a316-576d-4b6a-8dc3-faa6e06f3b5b"
      },
      "execution_count": null,
      "outputs": [
        {
          "output_type": "stream",
          "name": "stdout",
          "text": [
            "5\n",
            "1\n",
            "12\n",
            "123\n",
            "1234\n",
            "12345\n"
          ]
        }
      ]
    },
    {
      "cell_type": "code",
      "source": [
        "#generate the numbers divisible by 7 from 1 to n and put them in a list\n",
        "\n",
        "i=1\n",
        "n=[]\n",
        "n=int(input())\n",
        "\n",
        "while i<=n:\n",
        "  if n%7==0:\n",
        "    print('Divisible by 7')\n",
        "  else:\n",
        "    print('Not Divisible by 7')\n",
        "  i=i+1\n",
        " "
      ],
      "metadata": {
        "colab": {
          "base_uri": "https://localhost:8080/"
        },
        "id": "_8GhZMmywNa_",
        "outputId": "81f0a899-7e49-49dc-86f4-5c32da25add9"
      },
      "execution_count": null,
      "outputs": [
        {
          "output_type": "stream",
          "name": "stdout",
          "text": [
            "7\n",
            "Divisible by 7\n",
            "Divisible by 7\n",
            "Divisible by 7\n",
            "Divisible by 7\n",
            "Divisible by 7\n",
            "Divisible by 7\n",
            "Divisible by 7\n"
          ]
        }
      ]
    },
    {
      "cell_type": "code",
      "source": [
        "#check whether the given number is prime or not\n",
        "i=1\n",
        "n=int(input())\n",
        "\n",
        "while i<=n:\n",
        "  if n%2==0:\n",
        "    print('It not a prime number')\n",
        "  else:\n",
        "    print('it is Prime number')\n",
        "  i=i+1"
      ],
      "metadata": {
        "colab": {
          "base_uri": "https://localhost:8080/"
        },
        "id": "RqGnJWwFzadz",
        "outputId": "a8157e40-d1e4-48be-df40-32620c7cf6da"
      },
      "execution_count": null,
      "outputs": [
        {
          "output_type": "stream",
          "name": "stdout",
          "text": [
            "4\n",
            "It not a prime number\n",
            "It not a prime number\n",
            "It not a prime number\n",
            "It not a prime number\n"
          ]
        }
      ]
    },
    {
      "cell_type": "markdown",
      "source": [
        "Transfer Statement\n",
        "\n",
        "  "
      ],
      "metadata": {
        "id": "vy6uwD32KVq4"
      }
    },
    {
      "cell_type": "markdown",
      "source": [],
      "metadata": {
        "id": "hmjINWwrKUiA"
      }
    },
    {
      "cell_type": "code",
      "source": [
        "  i=1\n",
        "  while i<=5:\n",
        "    print(i)\n",
        "    if i ==3 :\n",
        "      break\n",
        "    i= i+1\n",
        "  print('done')\n"
      ],
      "metadata": {
        "id": "YehTq_0S1q14",
        "colab": {
          "base_uri": "https://localhost:8080/"
        },
        "outputId": "b211ec6d-209e-4899-ae14-e56469672147"
      },
      "execution_count": null,
      "outputs": [
        {
          "output_type": "stream",
          "name": "stdout",
          "text": [
            "1\n",
            "2\n",
            "3\n",
            "done\n"
          ]
        }
      ]
    },
    {
      "cell_type": "markdown",
      "source": [
        "Write the python program to perform linear search"
      ],
      "metadata": {
        "id": "zYTALdObNKh4"
      }
    },
    {
      "cell_type": "code",
      "source": [
        "L=[int(x) for x in input(\"Enter the list of number: \").split()]\n",
        "key = int(input('Enter key to search'))\n",
        "\n",
        "i=0\n",
        "\n",
        "while i<len(L):\n",
        "  if key == L[i]:\n",
        "    print('Enter the index value', i)\n",
        "    break\n",
        "  i=i+1\n",
        "else:\n",
        "  print('Element not done')\n"
      ],
      "metadata": {
        "colab": {
          "base_uri": "https://localhost:8080/"
        },
        "id": "yVXpPl20Kk8T",
        "outputId": "f4c8d731-0668-47cb-fc65-a4e43f4b89ea"
      },
      "execution_count": null,
      "outputs": [
        {
          "output_type": "stream",
          "name": "stdout",
          "text": [
            "Enter the list of number: 1 6 8\n",
            "Enter key to search6\n",
            "Enter the index value 1\n"
          ]
        }
      ]
    },
    {
      "cell_type": "markdown",
      "source": [
        "FOR LOOP"
      ],
      "metadata": {
        "id": "2Dwnm0JmReRB"
      }
    },
    {
      "cell_type": "code",
      "source": [
        "L=[1,2,4]\n",
        "for x in L:\n",
        "  print(x)"
      ],
      "metadata": {
        "colab": {
          "base_uri": "https://localhost:8080/"
        },
        "id": "uVr41JzOMIH2",
        "outputId": "718fd023-ede0-4e6e-a175-24140c9fa98e"
      },
      "execution_count": null,
      "outputs": [
        {
          "output_type": "stream",
          "name": "stdout",
          "text": [
            "1\n",
            "2\n",
            "4\n"
          ]
        }
      ]
    },
    {
      "cell_type": "code",
      "source": [
        "s=0\n",
        "\n",
        "for x in L:\n",
        "  if x%2==0:\n",
        "\n",
        "    s=s+x\n",
        "print(s)"
      ],
      "metadata": {
        "colab": {
          "base_uri": "https://localhost:8080/"
        },
        "id": "4n5Yu-8mRmDG",
        "outputId": "2d405256-cd84-4ae5-8281-21cefbb165e2"
      },
      "execution_count": null,
      "outputs": [
        {
          "output_type": "stream",
          "name": "stdout",
          "text": [
            "6\n"
          ]
        }
      ]
    },
    {
      "cell_type": "markdown",
      "source": [
        "Range Function()"
      ],
      "metadata": {
        "id": "mkOODoSdSHe7"
      }
    },
    {
      "cell_type": "code",
      "source": [
        "list(range(10))"
      ],
      "metadata": {
        "colab": {
          "base_uri": "https://localhost:8080/"
        },
        "id": "YRacdl73SK2G",
        "outputId": "06b69da6-650a-40fa-ea17-ad93d5a8ff3e"
      },
      "execution_count": null,
      "outputs": [
        {
          "output_type": "execute_result",
          "data": {
            "text/plain": [
              "[0, 1, 2, 3, 4, 5, 6, 7, 8, 9]"
            ]
          },
          "metadata": {},
          "execution_count": 19
        }
      ]
    },
    {
      "cell_type": "code",
      "source": [
        "list(range(4,9))"
      ],
      "metadata": {
        "colab": {
          "base_uri": "https://localhost:8080/"
        },
        "id": "2e_COKmQSWcx",
        "outputId": "fcdd7d2c-6a39-4ccb-908e-05574776094c"
      },
      "execution_count": null,
      "outputs": [
        {
          "output_type": "execute_result",
          "data": {
            "text/plain": [
              "[4, 5, 6, 7, 8]"
            ]
          },
          "metadata": {},
          "execution_count": 20
        }
      ]
    },
    {
      "cell_type": "code",
      "source": [
        "list(range(5,101,5))"
      ],
      "metadata": {
        "colab": {
          "base_uri": "https://localhost:8080/"
        },
        "id": "ujwnowH4SkLb",
        "outputId": "37c83f4b-2ea2-444c-a4ae-b1bd1979c848"
      },
      "execution_count": null,
      "outputs": [
        {
          "output_type": "execute_result",
          "data": {
            "text/plain": [
              "[5,\n",
              " 10,\n",
              " 15,\n",
              " 20,\n",
              " 25,\n",
              " 30,\n",
              " 35,\n",
              " 40,\n",
              " 45,\n",
              " 50,\n",
              " 55,\n",
              " 60,\n",
              " 65,\n",
              " 70,\n",
              " 75,\n",
              " 80,\n",
              " 85,\n",
              " 90,\n",
              " 95,\n",
              " 100]"
            ]
          },
          "metadata": {},
          "execution_count": 28
        }
      ]
    },
    {
      "cell_type": "code",
      "source": [
        "for i in range(20):\n",
        "  if i%2==0:\n",
        "    print(i)"
      ],
      "metadata": {
        "colab": {
          "base_uri": "https://localhost:8080/"
        },
        "id": "VU_QC_ymTS6g",
        "outputId": "28234e39-f242-47f0-f569-3689653e6cac"
      },
      "execution_count": null,
      "outputs": [
        {
          "output_type": "stream",
          "name": "stdout",
          "text": [
            "0\n",
            "2\n",
            "4\n",
            "6\n",
            "8\n",
            "10\n",
            "12\n",
            "14\n",
            "16\n",
            "18\n"
          ]
        }
      ]
    },
    {
      "cell_type": "code",
      "source": [
        "L=[1,2,3]\n",
        "for x in L:\n",
        "  x =x+1\n",
        "  print(x)"
      ],
      "metadata": {
        "colab": {
          "base_uri": "https://localhost:8080/"
        },
        "id": "UoaZEGm2Tt0A",
        "outputId": "1ad59fc0-2fba-4ff1-a335-611bc5802d9f"
      },
      "execution_count": null,
      "outputs": [
        {
          "output_type": "stream",
          "name": "stdout",
          "text": [
            "2\n",
            "3\n",
            "4\n"
          ]
        }
      ]
    },
    {
      "cell_type": "code",
      "source": [
        "L=[10,20,30]\n",
        "for i in range(len(L)):\n",
        "  L[i] = L[i] + 10\n",
        "  "
      ],
      "metadata": {
        "id": "ejKKyac-U0OE"
      },
      "execution_count": null,
      "outputs": []
    },
    {
      "cell_type": "code",
      "source": [
        "L"
      ],
      "metadata": {
        "colab": {
          "base_uri": "https://localhost:8080/"
        },
        "id": "ezc61OjKWJbb",
        "outputId": "58e66739-dcde-421b-9377-2cc1957ffe30"
      },
      "execution_count": null,
      "outputs": [
        {
          "output_type": "execute_result",
          "data": {
            "text/plain": [
              "[20, 30, 40]"
            ]
          },
          "metadata": {},
          "execution_count": 45
        }
      ]
    },
    {
      "cell_type": "code",
      "source": [
        "s=\"Programming\"\n",
        "\n",
        "for x in s:\n",
        "  print(x)\n",
        "  "
      ],
      "metadata": {
        "colab": {
          "base_uri": "https://localhost:8080/"
        },
        "id": "aiyjr_J5WcDe",
        "outputId": "7d81f6a9-c7e7-4eaf-f913-2860f17a1902"
      },
      "execution_count": null,
      "outputs": [
        {
          "output_type": "stream",
          "name": "stdout",
          "text": [
            "P\n",
            "r\n",
            "o\n",
            "g\n",
            "r\n",
            "a\n",
            "m\n",
            "m\n",
            "i\n",
            "n\n",
            "g\n"
          ]
        }
      ]
    },
    {
      "cell_type": "markdown",
      "source": [
        "List comprehensions"
      ],
      "metadata": {
        "id": "EXd3I8tabapO"
      }
    },
    {
      "cell_type": "code",
      "source": [
        "L= list(range(1,11))"
      ],
      "metadata": {
        "id": "tYXM5mCiYtpo"
      },
      "execution_count": null,
      "outputs": []
    },
    {
      "cell_type": "code",
      "source": [
        "L"
      ],
      "metadata": {
        "colab": {
          "base_uri": "https://localhost:8080/"
        },
        "id": "JMZ6GQh1bh3e",
        "outputId": "0a0bb325-aa2e-46b2-b526-ca3439ef3217"
      },
      "execution_count": null,
      "outputs": [
        {
          "output_type": "execute_result",
          "data": {
            "text/plain": [
              "[1, 2, 3, 4, 5, 6, 7, 8, 9, 10]"
            ]
          },
          "metadata": {},
          "execution_count": 55
        }
      ]
    },
    {
      "cell_type": "code",
      "source": [
        " [x**2 for x in L]"
      ],
      "metadata": {
        "colab": {
          "base_uri": "https://localhost:8080/"
        },
        "id": "LE0Bj89ZbjKC",
        "outputId": "021b4dce-e50c-4b9f-8f80-8251ed251afa"
      },
      "execution_count": null,
      "outputs": [
        {
          "output_type": "execute_result",
          "data": {
            "text/plain": [
              "[1, 4, 9, 16, 25, 36, 49, 64, 81, 100]"
            ]
          },
          "metadata": {},
          "execution_count": 59
        }
      ]
    },
    {
      "cell_type": "code",
      "source": [
        "M = [[1,2,3],[6,8,9],[3,8,5]]"
      ],
      "metadata": {
        "id": "GQLWDYbUbzGH"
      },
      "execution_count": null,
      "outputs": []
    },
    {
      "cell_type": "code",
      "source": [
        "for x in M:\n",
        "  print(x)"
      ],
      "metadata": {
        "colab": {
          "base_uri": "https://localhost:8080/"
        },
        "id": "ZE6oIWtpcPrs",
        "outputId": "bf28e076-69b2-4dfd-9af7-852fa6ca8378"
      },
      "execution_count": null,
      "outputs": [
        {
          "output_type": "stream",
          "name": "stdout",
          "text": [
            "[1, 2, 3]\n",
            "[6, 8, 9]\n",
            "[3, 8, 5]\n"
          ]
        }
      ]
    },
    {
      "cell_type": "code",
      "source": [
        "[x for x in range(1,101) if x%7==0]"
      ],
      "metadata": {
        "colab": {
          "base_uri": "https://localhost:8080/"
        },
        "id": "ZRJ3UTmycR_D",
        "outputId": "5cb6b24b-89bc-462a-ee67-d107b6bbc7c2"
      },
      "execution_count": null,
      "outputs": [
        {
          "output_type": "execute_result",
          "data": {
            "text/plain": [
              "[7, 14, 21, 28, 35, 42, 49, 56, 63, 70, 77, 84, 91, 98]"
            ]
          },
          "metadata": {},
          "execution_count": 72
        }
      ]
    },
    {
      "cell_type": "code",
      "source": [
        "for x in 'hello':\n",
        "  for y in [1,2,3]:\n",
        "    print(x,y)"
      ],
      "metadata": {
        "colab": {
          "base_uri": "https://localhost:8080/"
        },
        "id": "pTTO9et3ceQ9",
        "outputId": "fae7fba6-2261-4ef8-eb9c-f1f881619038"
      },
      "execution_count": null,
      "outputs": [
        {
          "output_type": "stream",
          "name": "stdout",
          "text": [
            "h 1\n",
            "h 2\n",
            "h 3\n",
            "e 1\n",
            "e 2\n",
            "e 3\n",
            "l 1\n",
            "l 2\n",
            "l 3\n",
            "l 1\n",
            "l 2\n",
            "l 3\n",
            "o 1\n",
            "o 2\n",
            "o 3\n"
          ]
        }
      ]
    },
    {
      "cell_type": "markdown",
      "source": [
        "Dictionary"
      ],
      "metadata": {
        "id": "cYOI2pSxhJQI"
      }
    },
    {
      "cell_type": "code",
      "source": [
        "D= {'fruit':'Apple', 'Quality':'5'}"
      ],
      "metadata": {
        "id": "RfzCoV8Kdzht"
      },
      "execution_count": null,
      "outputs": []
    },
    {
      "cell_type": "code",
      "source": [
        "type(D)"
      ],
      "metadata": {
        "colab": {
          "base_uri": "https://localhost:8080/"
        },
        "id": "_Wl1YqvshVIy",
        "outputId": "a43e5a87-b1a1-4271-91b9-a4cbc87a41a7"
      },
      "execution_count": null,
      "outputs": [
        {
          "output_type": "execute_result",
          "data": {
            "text/plain": [
              "dict"
            ]
          },
          "metadata": {},
          "execution_count": 79
        }
      ]
    },
    {
      "cell_type": "code",
      "source": [
        "L1=[(1,'one'),92,'two']"
      ],
      "metadata": {
        "id": "pSoT-mV3hfsN"
      },
      "execution_count": null,
      "outputs": []
    },
    {
      "cell_type": "code",
      "source": [
        "{x : 2*x for x in range(1,6) if x%2==0 }"
      ],
      "metadata": {
        "colab": {
          "base_uri": "https://localhost:8080/"
        },
        "id": "-sSAzRHchpDl",
        "outputId": "9ccf283c-c1be-4510-d1e5-6521de090d94"
      },
      "execution_count": null,
      "outputs": [
        {
          "output_type": "execute_result",
          "data": {
            "text/plain": [
              "{2: 4, 4: 8}"
            ]
          },
          "metadata": {},
          "execution_count": 85
        }
      ]
    },
    {
      "cell_type": "code",
      "source": [
        "D['fruit']"
      ],
      "metadata": {
        "colab": {
          "base_uri": "https://localhost:8080/",
          "height": 35
        },
        "id": "2MtUJofHh990",
        "outputId": "83b616cb-0394-4df9-e759-ae8757c64816"
      },
      "execution_count": null,
      "outputs": [
        {
          "output_type": "execute_result",
          "data": {
            "text/plain": [
              "'Apple'"
            ],
            "application/vnd.google.colaboratory.intrinsic+json": {
              "type": "string"
            }
          },
          "metadata": {},
          "execution_count": 86
        }
      ]
    },
    {
      "cell_type": "code",
      "source": [
        "D['Price']=44"
      ],
      "metadata": {
        "id": "9jyxSDu3iczB"
      },
      "execution_count": null,
      "outputs": []
    },
    {
      "cell_type": "code",
      "source": [
        "D"
      ],
      "metadata": {
        "colab": {
          "base_uri": "https://localhost:8080/"
        },
        "id": "--ZjCuKfinWG",
        "outputId": "97b73f09-394c-439e-9a92-71c299980410"
      },
      "execution_count": null,
      "outputs": [
        {
          "output_type": "execute_result",
          "data": {
            "text/plain": [
              "{'fruit': 'Apple', 'Quality': '5', 'Price': 44}"
            ]
          },
          "metadata": {},
          "execution_count": 88
        }
      ]
    },
    {
      "cell_type": "code",
      "source": [
        "del D[\"Price\"]"
      ],
      "metadata": {
        "id": "iY-U4-xMiouJ"
      },
      "execution_count": null,
      "outputs": []
    },
    {
      "cell_type": "code",
      "source": [
        "D"
      ],
      "metadata": {
        "colab": {
          "base_uri": "https://localhost:8080/"
        },
        "id": "aGdwzpQviwXB",
        "outputId": "76b8d96e-a673-4019-83c6-e6a5869d72f0"
      },
      "execution_count": null,
      "outputs": [
        {
          "output_type": "execute_result",
          "data": {
            "text/plain": [
              "{'fruit': 'Apple', 'Quality': '5'}"
            ]
          },
          "metadata": {},
          "execution_count": 92
        }
      ]
    },
    {
      "cell_type": "code",
      "source": [
        "D.keys()"
      ],
      "metadata": {
        "colab": {
          "base_uri": "https://localhost:8080/"
        },
        "id": "QBi1JGzAi9cf",
        "outputId": "9d72161b-0195-41a7-c0bd-4916e0691908"
      },
      "execution_count": null,
      "outputs": [
        {
          "output_type": "execute_result",
          "data": {
            "text/plain": [
              "dict_keys(['fruit', 'Quality'])"
            ]
          },
          "metadata": {},
          "execution_count": 93
        }
      ]
    },
    {
      "cell_type": "code",
      "source": [
        "D.values()"
      ],
      "metadata": {
        "colab": {
          "base_uri": "https://localhost:8080/"
        },
        "id": "uOAFX0LGjFM9",
        "outputId": "784b60b6-5b97-4ad4-e196-4d858054a7d5"
      },
      "execution_count": null,
      "outputs": [
        {
          "output_type": "execute_result",
          "data": {
            "text/plain": [
              "dict_values(['Apple', '5'])"
            ]
          },
          "metadata": {},
          "execution_count": 94
        }
      ]
    },
    {
      "cell_type": "code",
      "source": [
        "D.items()"
      ],
      "metadata": {
        "colab": {
          "base_uri": "https://localhost:8080/"
        },
        "id": "MiJ_Nqz1jIdJ",
        "outputId": "1971f346-b9c9-4983-8086-7a2c777bb942"
      },
      "execution_count": null,
      "outputs": [
        {
          "output_type": "execute_result",
          "data": {
            "text/plain": [
              "dict_items([('fruit', 'Apple'), ('Quality', '5')])"
            ]
          },
          "metadata": {},
          "execution_count": 95
        }
      ]
    },
    {
      "cell_type": "code",
      "source": [
        "for x,y in D.items():\n",
        "  print(x,'-', y)"
      ],
      "metadata": {
        "colab": {
          "base_uri": "https://localhost:8080/"
        },
        "id": "pg5I3GQbjNS9",
        "outputId": "1b8622c9-ce18-4de0-d8ac-375082c099f6"
      },
      "execution_count": null,
      "outputs": [
        {
          "output_type": "stream",
          "name": "stdout",
          "text": [
            "fruit - Apple\n",
            "Quality - 5\n"
          ]
        }
      ]
    },
    {
      "cell_type": "markdown",
      "source": [
        "FUNCTION"
      ],
      "metadata": {
        "id": "MfVpuEKfYonN"
      }
    },
    {
      "cell_type": "code",
      "source": [
        "def func1():\n",
        "  print('Hello world')"
      ],
      "metadata": {
        "id": "rYGtefiGjR47"
      },
      "execution_count": 2,
      "outputs": []
    },
    {
      "cell_type": "code",
      "source": [
        "func1()"
      ],
      "metadata": {
        "colab": {
          "base_uri": "https://localhost:8080/"
        },
        "id": "fsbckbOEXS5d",
        "outputId": "89d77501-736b-46e7-c76a-a33e7cf67c66"
      },
      "execution_count": 4,
      "outputs": [
        {
          "output_type": "stream",
          "name": "stdout",
          "text": [
            "Hello world\n"
          ]
        }
      ]
    },
    {
      "cell_type": "code",
      "source": [
        "print('Line 1')\n",
        "func1()\n",
        "print(\"ss\")"
      ],
      "metadata": {
        "colab": {
          "base_uri": "https://localhost:8080/"
        },
        "id": "HWld85ELXbLE",
        "outputId": "1fc13bbe-f6be-41fa-a7ca-b7f0256ce1b4"
      },
      "execution_count": 5,
      "outputs": [
        {
          "output_type": "stream",
          "name": "stdout",
          "text": [
            "Line 1\n",
            "Hello world\n",
            "ss\n"
          ]
        }
      ]
    },
    {
      "cell_type": "code",
      "source": [
        "def add(a,b):\n",
        "  s1=a+b\n",
        "  return(s1)"
      ],
      "metadata": {
        "id": "BZQZws8VXx0o"
      },
      "execution_count": 12,
      "outputs": []
    },
    {
      "cell_type": "code",
      "source": [
        "s = add(20,30)\n",
        "print(s)"
      ],
      "metadata": {
        "colab": {
          "base_uri": "https://localhost:8080/"
        },
        "id": "7O0DI7DSYkZJ",
        "outputId": "b9cfeb55-a3a2-4607-eb91-c75034bafc14"
      },
      "execution_count": 13,
      "outputs": [
        {
          "output_type": "stream",
          "name": "stdout",
          "text": [
            "50\n"
          ]
        }
      ]
    },
    {
      "cell_type": "code",
      "source": [
        "s2 = add('hi',\"hello\")\n",
        "print(s2)"
      ],
      "metadata": {
        "colab": {
          "base_uri": "https://localhost:8080/"
        },
        "id": "jah2UCGnYz-J",
        "outputId": "51f4dc6e-29f3-4153-c65a-b7044b358688"
      },
      "execution_count": 14,
      "outputs": [
        {
          "output_type": "stream",
          "name": "stdout",
          "text": [
            "hihello\n"
          ]
        }
      ]
    },
    {
      "cell_type": "code",
      "source": [
        "def fun2():\n",
        "  print('ss')\n",
        "  return\n",
        "  print('eee')"
      ],
      "metadata": {
        "id": "TPdaryrkY1ZC"
      },
      "execution_count": 15,
      "outputs": []
    },
    {
      "cell_type": "code",
      "source": [
        "fun2()"
      ],
      "metadata": {
        "colab": {
          "base_uri": "https://localhost:8080/"
        },
        "id": "n9DK0RHta1BG",
        "outputId": "74e46884-fe7e-4a50-d1f9-ea92a676ff47"
      },
      "execution_count": 16,
      "outputs": [
        {
          "output_type": "stream",
          "name": "stdout",
          "text": [
            "ss\n"
          ]
        }
      ]
    },
    {
      "cell_type": "code",
      "source": [
        "x,y = 20,30\n",
        "add(x,y)"
      ],
      "metadata": {
        "colab": {
          "base_uri": "https://localhost:8080/"
        },
        "id": "KsXJeBXka2Mh",
        "outputId": "ab88dd79-a185-4ef5-c558-6a079e5ad89c"
      },
      "execution_count": 17,
      "outputs": [
        {
          "output_type": "execute_result",
          "data": {
            "text/plain": [
              "50"
            ]
          },
          "metadata": {},
          "execution_count": 17
        }
      ]
    },
    {
      "cell_type": "code",
      "source": [
        "x,y"
      ],
      "metadata": {
        "colab": {
          "base_uri": "https://localhost:8080/"
        },
        "id": "Pj3_mKywbUOS",
        "outputId": "e1d7a54b-db86-489d-ae75-8c1450be8cf6"
      },
      "execution_count": 19,
      "outputs": [
        {
          "output_type": "execute_result",
          "data": {
            "text/plain": [
              "(20, 30)"
            ]
          },
          "metadata": {},
          "execution_count": 19
        }
      ]
    },
    {
      "cell_type": "code",
      "source": [
        "def printstairs():\n",
        "  if i in range(1,101):\n",
        "    print('*',end=i)"
      ],
      "metadata": {
        "id": "8P00XSE-cE6C"
      },
      "execution_count": 22,
      "outputs": []
    },
    {
      "cell_type": "code",
      "source": [
        "printstairs()"
      ],
      "metadata": {
        "colab": {
          "base_uri": "https://localhost:8080/",
          "height": 251
        },
        "id": "aXApFxvZdpaS",
        "outputId": "15650cd9-6e6c-479d-93d1-029839e5511e"
      },
      "execution_count": 23,
      "outputs": [
        {
          "output_type": "error",
          "ename": "NameError",
          "evalue": "ignored",
          "traceback": [
            "\u001b[0;31m---------------------------------------------------------------------------\u001b[0m",
            "\u001b[0;31mNameError\u001b[0m                                 Traceback (most recent call last)",
            "\u001b[0;32m<ipython-input-23-c0f3ce64818d>\u001b[0m in \u001b[0;36m<cell line: 1>\u001b[0;34m()\u001b[0m\n\u001b[0;32m----> 1\u001b[0;31m \u001b[0mprintstairs\u001b[0m\u001b[0;34m(\u001b[0m\u001b[0;34m)\u001b[0m\u001b[0;34m\u001b[0m\u001b[0;34m\u001b[0m\u001b[0m\n\u001b[0m",
            "\u001b[0;32m<ipython-input-22-42aaed69c57f>\u001b[0m in \u001b[0;36mprintstairs\u001b[0;34m()\u001b[0m\n\u001b[1;32m      1\u001b[0m \u001b[0;32mdef\u001b[0m \u001b[0mprintstairs\u001b[0m\u001b[0;34m(\u001b[0m\u001b[0;34m)\u001b[0m\u001b[0;34m:\u001b[0m\u001b[0;34m\u001b[0m\u001b[0;34m\u001b[0m\u001b[0m\n\u001b[0;32m----> 2\u001b[0;31m   \u001b[0;32mif\u001b[0m \u001b[0mi\u001b[0m \u001b[0;32min\u001b[0m \u001b[0mrange\u001b[0m\u001b[0;34m(\u001b[0m\u001b[0;36m1\u001b[0m\u001b[0;34m,\u001b[0m\u001b[0;36m101\u001b[0m\u001b[0;34m)\u001b[0m\u001b[0;34m:\u001b[0m\u001b[0;34m\u001b[0m\u001b[0;34m\u001b[0m\u001b[0m\n\u001b[0m\u001b[1;32m      3\u001b[0m     \u001b[0mprint\u001b[0m\u001b[0;34m(\u001b[0m\u001b[0;34m'*'\u001b[0m\u001b[0;34m,\u001b[0m\u001b[0mend\u001b[0m\u001b[0;34m=\u001b[0m\u001b[0mi\u001b[0m\u001b[0;34m)\u001b[0m\u001b[0;34m\u001b[0m\u001b[0;34m\u001b[0m\u001b[0m\n",
            "\u001b[0;31mNameError\u001b[0m: name 'i' is not defined"
          ]
        }
      ]
    },
    {
      "cell_type": "code",
      "source": [
        "def func():\n",
        "  print('abc')"
      ],
      "metadata": {
        "id": "17j6cWZPdriS"
      },
      "execution_count": 24,
      "outputs": []
    },
    {
      "cell_type": "code",
      "source": [
        "func()"
      ],
      "metadata": {
        "colab": {
          "base_uri": "https://localhost:8080/"
        },
        "id": "bZfRcTRAhE_s",
        "outputId": "224449ce-9cba-4916-ec63-0a6995f616e4"
      },
      "execution_count": 25,
      "outputs": [
        {
          "output_type": "stream",
          "name": "stdout",
          "text": [
            "abc\n"
          ]
        }
      ]
    },
    {
      "cell_type": "code",
      "source": [
        "d=func()"
      ],
      "metadata": {
        "colab": {
          "base_uri": "https://localhost:8080/"
        },
        "id": "xRm-ikPmhFvw",
        "outputId": "199cb492-4dcc-4800-f098-27670f511496"
      },
      "execution_count": 26,
      "outputs": [
        {
          "output_type": "stream",
          "name": "stdout",
          "text": [
            "abc\n"
          ]
        }
      ]
    },
    {
      "cell_type": "code",
      "source": [
        "print(d)"
      ],
      "metadata": {
        "colab": {
          "base_uri": "https://localhost:8080/"
        },
        "id": "sKNgFy19hYCW",
        "outputId": "8bc6b096-6800-4d08-9ff6-6b31db6446b0"
      },
      "execution_count": 28,
      "outputs": [
        {
          "output_type": "stream",
          "name": "stdout",
          "text": [
            "None\n"
          ]
        }
      ]
    },
    {
      "cell_type": "markdown",
      "source": [
        "Passing Argument"
      ],
      "metadata": {
        "id": "RiIFHozriJMC"
      }
    },
    {
      "cell_type": "code",
      "source": [
        "def f4(k):\n",
        "  k=99"
      ],
      "metadata": {
        "id": "EEPU3QtLhZJ8"
      },
      "execution_count": 29,
      "outputs": []
    },
    {
      "cell_type": "code",
      "source": [
        "p=100\n",
        "f4(p)\n",
        "print(p)"
      ],
      "metadata": {
        "colab": {
          "base_uri": "https://localhost:8080/"
        },
        "id": "l2Wy6NCuiRFT",
        "outputId": "d8fec58f-eb09-41fa-cdcb-706579e2fb03"
      },
      "execution_count": 30,
      "outputs": [
        {
          "output_type": "stream",
          "name": "stdout",
          "text": [
            "100\n"
          ]
        }
      ]
    },
    {
      "cell_type": "code",
      "source": [
        "def f5():\n",
        "  k.append(4)"
      ],
      "metadata": {
        "id": "fcf6-4kXiWm7"
      },
      "execution_count": 38,
      "outputs": []
    },
    {
      "cell_type": "code",
      "source": [
        "L=[1,3,6]\n",
        "f5(L)\n",
        "print(L)"
      ],
      "metadata": {
        "colab": {
          "base_uri": "https://localhost:8080/",
          "height": 199
        },
        "id": "keqgHH9IifZN",
        "outputId": "4d75af87-387d-4a5c-d877-ba9ae22b9f8b"
      },
      "execution_count": 40,
      "outputs": [
        {
          "output_type": "error",
          "ename": "TypeError",
          "evalue": "ignored",
          "traceback": [
            "\u001b[0;31m---------------------------------------------------------------------------\u001b[0m",
            "\u001b[0;31mTypeError\u001b[0m                                 Traceback (most recent call last)",
            "\u001b[0;32m<ipython-input-40-f90bbc5ac285>\u001b[0m in \u001b[0;36m<cell line: 2>\u001b[0;34m()\u001b[0m\n\u001b[1;32m      1\u001b[0m \u001b[0mL\u001b[0m\u001b[0;34m=\u001b[0m\u001b[0;34m[\u001b[0m\u001b[0;36m1\u001b[0m\u001b[0;34m,\u001b[0m\u001b[0;36m3\u001b[0m\u001b[0;34m,\u001b[0m\u001b[0;36m6\u001b[0m\u001b[0;34m]\u001b[0m\u001b[0;34m\u001b[0m\u001b[0;34m\u001b[0m\u001b[0m\n\u001b[0;32m----> 2\u001b[0;31m \u001b[0mf5\u001b[0m\u001b[0;34m(\u001b[0m\u001b[0mL\u001b[0m\u001b[0;34m)\u001b[0m\u001b[0;34m\u001b[0m\u001b[0;34m\u001b[0m\u001b[0m\n\u001b[0m\u001b[1;32m      3\u001b[0m \u001b[0mprint\u001b[0m\u001b[0;34m(\u001b[0m\u001b[0mL\u001b[0m\u001b[0;34m)\u001b[0m\u001b[0;34m\u001b[0m\u001b[0;34m\u001b[0m\u001b[0m\n",
            "\u001b[0;31mTypeError\u001b[0m: f5() takes 0 positional arguments but 1 was given"
          ]
        }
      ]
    },
    {
      "cell_type": "code",
      "source": [
        "L"
      ],
      "metadata": {
        "colab": {
          "base_uri": "https://localhost:8080/"
        },
        "id": "3tJysqJxim0O",
        "outputId": "ce54f9b9-32d5-4eaf-d9e8-304b36d37a52"
      },
      "execution_count": 41,
      "outputs": [
        {
          "output_type": "execute_result",
          "data": {
            "text/plain": [
              "[1, 3, 6]"
            ]
          },
          "metadata": {},
          "execution_count": 41
        }
      ]
    },
    {
      "cell_type": "code",
      "source": [
        "id(L)"
      ],
      "metadata": {
        "colab": {
          "base_uri": "https://localhost:8080/"
        },
        "id": "qVqubAl4lEyP",
        "outputId": "19b4830b-f8a9-42c2-c98d-69f02ae3d240"
      },
      "execution_count": 42,
      "outputs": [
        {
          "output_type": "execute_result",
          "data": {
            "text/plain": [
              "140693621887744"
            ]
          },
          "metadata": {},
          "execution_count": 42
        }
      ]
    },
    {
      "cell_type": "code",
      "source": [
        "L2=L"
      ],
      "metadata": {
        "id": "razZ_wTTlIYy"
      },
      "execution_count": 43,
      "outputs": []
    },
    {
      "cell_type": "code",
      "source": [
        "id(L2)"
      ],
      "metadata": {
        "colab": {
          "base_uri": "https://localhost:8080/"
        },
        "id": "eUKXm5eBlLdE",
        "outputId": "4aa4f8b6-ea21-4ec9-b4f7-332745856fa8"
      },
      "execution_count": 44,
      "outputs": [
        {
          "output_type": "execute_result",
          "data": {
            "text/plain": [
              "140693621887744"
            ]
          },
          "metadata": {},
          "execution_count": 44
        }
      ]
    },
    {
      "cell_type": "code",
      "source": [
        "L2[:]"
      ],
      "metadata": {
        "colab": {
          "base_uri": "https://localhost:8080/"
        },
        "id": "bgi0kVNtlNel",
        "outputId": "a1a3695b-996e-4dc1-90cb-9e18199e37c0"
      },
      "execution_count": 45,
      "outputs": [
        {
          "output_type": "execute_result",
          "data": {
            "text/plain": [
              "[1, 3, 6]"
            ]
          },
          "metadata": {},
          "execution_count": 45
        }
      ]
    },
    {
      "cell_type": "code",
      "source": [
        "a,b,c= 55,66,33\n",
        "print(a,b,c, sep=\"_\")"
      ],
      "metadata": {
        "colab": {
          "base_uri": "https://localhost:8080/"
        },
        "id": "5sPkik5ElSEa",
        "outputId": "679111ba-6da0-4ed1-bb7c-43f689fe7edb"
      },
      "execution_count": 47,
      "outputs": [
        {
          "output_type": "stream",
          "name": "stdout",
          "text": [
            "55_66_33\n"
          ]
        }
      ]
    },
    {
      "cell_type": "code",
      "source": [
        "def f7(a,b,c):\n",
        "  print(a,b,c)"
      ],
      "metadata": {
        "id": "zRy0wXuEmY_g"
      },
      "execution_count": 48,
      "outputs": []
    },
    {
      "cell_type": "code",
      "source": [
        "f7(55, c=9,b=7)"
      ],
      "metadata": {
        "colab": {
          "base_uri": "https://localhost:8080/"
        },
        "id": "9h8xmnV9mnWu",
        "outputId": "6a2759ad-d697-4a96-876d-88d2ad8590e2"
      },
      "execution_count": 49,
      "outputs": [
        {
          "output_type": "stream",
          "name": "stdout",
          "text": [
            "55 7 9\n"
          ]
        }
      ]
    },
    {
      "cell_type": "code",
      "source": [
        "f7(3,c=4,b=6)"
      ],
      "metadata": {
        "colab": {
          "base_uri": "https://localhost:8080/"
        },
        "id": "0474IKeEmxLz",
        "outputId": "cd4aa53d-65a9-4a5d-b050-9e34cef3c2df"
      },
      "execution_count": 52,
      "outputs": [
        {
          "output_type": "stream",
          "name": "stdout",
          "text": [
            "3 6 4\n"
          ]
        }
      ]
    },
    {
      "cell_type": "code",
      "source": [
        "#Default Argument\n",
        "\n",
        "def f8(a=7,b=3,c=77):\n",
        "  print(a,b,c)\n"
      ],
      "metadata": {
        "id": "IqnrrOSenEkZ"
      },
      "execution_count": 54,
      "outputs": []
    },
    {
      "cell_type": "code",
      "source": [
        "f8(a=33)"
      ],
      "metadata": {
        "colab": {
          "base_uri": "https://localhost:8080/"
        },
        "id": "Uk0fDAGRny2l",
        "outputId": "04e31f75-e09d-4792-c82f-c73644115993"
      },
      "execution_count": 56,
      "outputs": [
        {
          "output_type": "stream",
          "name": "stdout",
          "text": [
            "33 3 77\n"
          ]
        }
      ]
    },
    {
      "cell_type": "code",
      "source": [
        "f8(444)"
      ],
      "metadata": {
        "colab": {
          "base_uri": "https://localhost:8080/"
        },
        "id": "g_8Vm4JWn4XX",
        "outputId": "5405752e-bacb-44d4-9244-2f5104001249"
      },
      "execution_count": 57,
      "outputs": [
        {
          "output_type": "stream",
          "name": "stdout",
          "text": [
            "444 3 77\n"
          ]
        }
      ]
    },
    {
      "cell_type": "code",
      "source": [
        "f8()"
      ],
      "metadata": {
        "colab": {
          "base_uri": "https://localhost:8080/"
        },
        "id": "rrlg96EooFa1",
        "outputId": "24fd8d9b-bedf-4808-818d-cec8b8906452"
      },
      "execution_count": 59,
      "outputs": [
        {
          "output_type": "stream",
          "name": "stdout",
          "text": [
            "7 3 77\n"
          ]
        }
      ]
    },
    {
      "cell_type": "markdown",
      "source": [
        "Lambda Function"
      ],
      "metadata": {
        "id": "gx9nJDP8qdiN"
      }
    },
    {
      "cell_type": "code",
      "source": [
        "def mul(a,b):\n",
        "  return a*b"
      ],
      "metadata": {
        "id": "pskoXgouoq4p"
      },
      "execution_count": 60,
      "outputs": []
    },
    {
      "cell_type": "code",
      "source": [
        "mul(8,9)"
      ],
      "metadata": {
        "colab": {
          "base_uri": "https://localhost:8080/"
        },
        "id": "09goQAF7qlGp",
        "outputId": "8aa5714c-de8a-486d-9e66-d30d58ff628e"
      },
      "execution_count": 61,
      "outputs": [
        {
          "output_type": "execute_result",
          "data": {
            "text/plain": [
              "72"
            ]
          },
          "metadata": {},
          "execution_count": 61
        }
      ]
    },
    {
      "cell_type": "code",
      "source": [
        "f9 = lambda a,b : a+b"
      ],
      "metadata": {
        "id": "kdtGG_foqmxl"
      },
      "execution_count": 66,
      "outputs": []
    },
    {
      "cell_type": "code",
      "source": [
        "f9(3,5)"
      ],
      "metadata": {
        "colab": {
          "base_uri": "https://localhost:8080/"
        },
        "id": "hkpC5MTYqv9j",
        "outputId": "8533b622-be4f-440c-94ec-fc8d4a064a5a"
      },
      "execution_count": 67,
      "outputs": [
        {
          "output_type": "execute_result",
          "data": {
            "text/plain": [
              "8"
            ]
          },
          "metadata": {},
          "execution_count": 67
        }
      ]
    },
    {
      "cell_type": "code",
      "source": [
        "#filtering\n",
        "\n"
      ],
      "metadata": {
        "id": "eWWwabg7q7KB"
      },
      "execution_count": null,
      "outputs": []
    }
  ]
}