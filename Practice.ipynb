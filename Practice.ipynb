{
  "cells": [
    {
      "cell_type": "markdown",
      "metadata": {
        "id": "view-in-github",
        "colab_type": "text"
      },
      "source": [
        "<a href=\"https://colab.research.google.com/github/Dineshkumar1823/Coding--Practise-FUN/blob/main/Practice.ipynb\" target=\"_parent\"><img src=\"https://colab.research.google.com/assets/colab-badge.svg\" alt=\"Open In Colab\"/></a>"
      ]
    },
    {
      "cell_type": "code",
      "execution_count": null,
      "metadata": {
        "colab": {
          "background_save": true,
          "base_uri": "https://localhost:8080/"
        },
        "id": "LSlr3gN86L7X",
        "outputId": "4a079df7-8fed-4472-ace6-fe72fc931bc2"
      },
      "outputs": [
        {
          "data": {
            "text/plain": [
              "4"
            ]
          },
          "execution_count": 62,
          "metadata": {},
          "output_type": "execute_result"
        }
      ],
      "source": [
        "2+2\n"
      ]
    },
    {
      "cell_type": "code",
      "execution_count": null,
      "metadata": {
        "colab": {
          "background_save": true,
          "base_uri": "https://localhost:8080/"
        },
        "id": "soZkKoaz6TXm",
        "outputId": "0c2859ce-7af3-4dfc-b8a3-68779aaf9198"
      },
      "outputs": [
        {
          "data": {
            "text/plain": [
              "-1"
            ]
          },
          "execution_count": 63,
          "metadata": {},
          "output_type": "execute_result"
        }
      ],
      "source": [
        "2 - 3"
      ]
    },
    {
      "cell_type": "code",
      "execution_count": null,
      "metadata": {
        "colab": {
          "background_save": true,
          "base_uri": "https://localhost:8080/"
        },
        "id": "alVqXJQi6VVD",
        "outputId": "dcc1f994-cb2c-4a04-b684-bd649792c36b"
      },
      "outputs": [
        {
          "data": {
            "text/plain": [
              "2"
            ]
          },
          "execution_count": 64,
          "metadata": {},
          "output_type": "execute_result"
        }
      ],
      "source": [
        "2*1"
      ]
    },
    {
      "cell_type": "code",
      "execution_count": null,
      "metadata": {
        "colab": {
          "background_save": true,
          "base_uri": "https://localhost:8080/"
        },
        "id": "XwQfugH86Xrc",
        "outputId": "4121c384-de41-4369-a244-2de882699a76"
      },
      "outputs": [
        {
          "data": {
            "text/plain": [
              "1.5"
            ]
          },
          "execution_count": 65,
          "metadata": {},
          "output_type": "execute_result"
        }
      ],
      "source": [
        "6/4"
      ]
    },
    {
      "cell_type": "code",
      "execution_count": null,
      "metadata": {
        "colab": {
          "background_save": true,
          "base_uri": "https://localhost:8080/"
        },
        "id": "Ua2_-g-Z6ZYU",
        "outputId": "1b7da5b1-33f5-42bd-c4d4-84afa36abe55"
      },
      "outputs": [
        {
          "data": {
            "text/plain": [
              "2"
            ]
          },
          "execution_count": 66,
          "metadata": {},
          "output_type": "execute_result"
        }
      ],
      "source": [
        "6 % 4\n"
      ]
    },
    {
      "cell_type": "code",
      "execution_count": null,
      "metadata": {
        "colab": {
          "background_save": true,
          "base_uri": "https://localhost:8080/"
        },
        "id": "H_ak8cCr6ie8",
        "outputId": "f034571b-94de-4cbd-c384-c2339709003c"
      },
      "outputs": [
        {
          "data": {
            "text/plain": [
              "8"
            ]
          },
          "execution_count": 67,
          "metadata": {},
          "output_type": "execute_result"
        }
      ],
      "source": [
        "2**3"
      ]
    },
    {
      "cell_type": "code",
      "execution_count": null,
      "metadata": {
        "colab": {
          "background_save": true
        },
        "id": "-kphm4tS6xjE"
      },
      "outputs": [],
      "source": [
        "a =4\n"
      ]
    },
    {
      "cell_type": "code",
      "execution_count": null,
      "metadata": {
        "colab": {
          "background_save": true,
          "base_uri": "https://localhost:8080/"
        },
        "id": "Ltq63CUb-IIY",
        "outputId": "c25b1118-3ae9-49a1-dd04-73d2a69e92ca"
      },
      "outputs": [
        {
          "data": {
            "text/plain": [
              "4"
            ]
          },
          "execution_count": 69,
          "metadata": {},
          "output_type": "execute_result"
        }
      ],
      "source": [
        "a"
      ]
    },
    {
      "cell_type": "code",
      "execution_count": null,
      "metadata": {
        "colab": {
          "background_save": true
        },
        "id": "25wmiEJy-Ivj"
      },
      "outputs": [],
      "source": [
        "a=a+a"
      ]
    },
    {
      "cell_type": "code",
      "execution_count": null,
      "metadata": {
        "colab": {
          "background_save": true,
          "base_uri": "https://localhost:8080/"
        },
        "id": "wcGsHAk0-L_k",
        "outputId": "7141b776-0d4e-48e2-e7fa-3de9293f269a"
      },
      "outputs": [
        {
          "data": {
            "text/plain": [
              "8"
            ]
          },
          "execution_count": 71,
          "metadata": {},
          "output_type": "execute_result"
        }
      ],
      "source": [
        "a"
      ]
    },
    {
      "cell_type": "code",
      "execution_count": null,
      "metadata": {
        "colab": {
          "background_save": true,
          "base_uri": "https://localhost:8080/"
        },
        "id": "ltTq0Gvw-Npw",
        "outputId": "69a179e2-ea41-48d5-dc54-644fea5c7743"
      },
      "outputs": [
        {
          "data": {
            "text/plain": [
              "int"
            ]
          },
          "execution_count": 72,
          "metadata": {},
          "output_type": "execute_result"
        }
      ],
      "source": [
        "type(a)"
      ]
    },
    {
      "cell_type": "code",
      "execution_count": null,
      "metadata": {
        "colab": {
          "background_save": true
        },
        "id": "nWUY6S0L-Vqk"
      },
      "outputs": [],
      "source": [
        "my_string = \"Hello world\""
      ]
    },
    {
      "cell_type": "code",
      "execution_count": null,
      "metadata": {
        "colab": {
          "background_save": true,
          "base_uri": "https://localhost:8080/"
        },
        "id": "g1PcEcJjCQ-m",
        "outputId": "53a4380a-ccec-46f2-95c4-ddce2c9d90ba"
      },
      "outputs": [
        {
          "data": {
            "text/plain": [
              "11"
            ]
          },
          "execution_count": 74,
          "metadata": {},
          "output_type": "execute_result"
        }
      ],
      "source": [
        "len(my_string)"
      ]
    },
    {
      "cell_type": "code",
      "execution_count": null,
      "metadata": {
        "colab": {
          "background_save": true,
          "base_uri": "https://localhost:8080/",
          "height": 35
        },
        "id": "bWpj9Uv4CUGy",
        "outputId": "6553ced4-aee2-4184-99cb-a0e82816da90"
      },
      "outputs": [
        {
          "data": {
            "application/vnd.google.colaboratory.intrinsic+json": {
              "type": "string"
            },
            "text/plain": [
              "'d'"
            ]
          },
          "execution_count": 75,
          "metadata": {},
          "output_type": "execute_result"
        }
      ],
      "source": [
        "my_string[-1]"
      ]
    },
    {
      "cell_type": "code",
      "execution_count": null,
      "metadata": {
        "colab": {
          "background_save": true
        },
        "id": "8zxZjR4NCwBl"
      },
      "outputs": [],
      "source": [
        "my_string = 'abcdefghij'"
      ]
    },
    {
      "cell_type": "code",
      "execution_count": null,
      "metadata": {
        "colab": {
          "background_save": true,
          "base_uri": "https://localhost:8080/",
          "height": 35
        },
        "id": "Qo0W068wF94V",
        "outputId": "bc2ec967-0e29-4e44-897a-aa57e2e70261"
      },
      "outputs": [
        {
          "data": {
            "application/vnd.google.colaboratory.intrinsic+json": {
              "type": "string"
            },
            "text/plain": [
              "'abcde'"
            ]
          },
          "execution_count": 77,
          "metadata": {},
          "output_type": "execute_result"
        }
      ],
      "source": [
        "my_string[:5]"
      ]
    },
    {
      "cell_type": "code",
      "execution_count": null,
      "metadata": {
        "colab": {
          "background_save": true
        },
        "id": "SlIXEzFIGJDs"
      },
      "outputs": [],
      "source": [
        "name = \"Dinesh\""
      ]
    },
    {
      "cell_type": "code",
      "execution_count": null,
      "metadata": {
        "colab": {
          "background_save": true
        },
        "id": "xlRdgZWNIc7G"
      },
      "outputs": [],
      "source": [
        "last_letter = name[1:]"
      ]
    },
    {
      "cell_type": "code",
      "execution_count": null,
      "metadata": {
        "colab": {
          "background_save": true,
          "base_uri": "https://localhost:8080/",
          "height": 35
        },
        "id": "eLe4yLbLIgvu",
        "outputId": "1daad9ea-1931-4c49-c76b-678609fa795c"
      },
      "outputs": [
        {
          "data": {
            "application/vnd.google.colaboratory.intrinsic+json": {
              "type": "string"
            },
            "text/plain": [
              "'Pinesh'"
            ]
          },
          "execution_count": 80,
          "metadata": {},
          "output_type": "execute_result"
        }
      ],
      "source": [
        "'P' + last_letter"
      ]
    },
    {
      "cell_type": "code",
      "execution_count": null,
      "metadata": {
        "colab": {
          "background_save": true,
          "base_uri": "https://localhost:8080/",
          "height": 35
        },
        "id": "VFCvO-oMKj-t",
        "outputId": "3e6a02e6-dd69-4fac-b5bd-d55875f9036a"
      },
      "outputs": [
        {
          "data": {
            "application/vnd.google.colaboratory.intrinsic+json": {
              "type": "string"
            },
            "text/plain": [
              "'Dinesh'"
            ]
          },
          "execution_count": 81,
          "metadata": {},
          "output_type": "execute_result"
        }
      ],
      "source": [
        "name"
      ]
    },
    {
      "cell_type": "code",
      "execution_count": null,
      "metadata": {
        "colab": {
          "background_save": true,
          "base_uri": "https://localhost:8080/"
        },
        "id": "GHmrQpwkKmzh",
        "outputId": "67fd5c8e-7972-4eca-afc1-9354b94cdc8f"
      },
      "outputs": [
        {
          "data": {
            "text/plain": [
              "['D', 'nesh']"
            ]
          },
          "execution_count": 82,
          "metadata": {},
          "output_type": "execute_result"
        }
      ],
      "source": [
        "name.split('i')"
      ]
    },
    {
      "cell_type": "code",
      "execution_count": null,
      "metadata": {
        "colab": {
          "background_save": true,
          "base_uri": "https://localhost:8080/"
        },
        "id": "j70LpkvhK6d4",
        "outputId": "79d60752-9c0a-4746-e512-8496a786630b"
      },
      "outputs": [
        {
          "name": "stdout",
          "output_type": "stream",
          "text": [
            "My name is Dinesh\n"
          ]
        }
      ],
      "source": [
        "print(\"My name is Dinesh\")"
      ]
    },
    {
      "cell_type": "code",
      "execution_count": null,
      "metadata": {
        "colab": {
          "background_save": true,
          "base_uri": "https://localhost:8080/"
        },
        "id": "fYeaSQ-3O-C3",
        "outputId": "b978c18a-c110-41ba-d0c1-e8c21bf492d2"
      },
      "outputs": [
        {
          "name": "stdout",
          "output_type": "stream",
          "text": [
            "My name is Dinesh Kumar\n"
          ]
        }
      ],
      "source": [
        "print(\"My name is Dinesh {}\".format('Kumar'))"
      ]
    },
    {
      "cell_type": "code",
      "execution_count": null,
      "metadata": {
        "colab": {
          "background_save": true,
          "base_uri": "https://localhost:8080/"
        },
        "id": "XBglcJAyPJ2k",
        "outputId": "11e631e9-0117-4adb-d953-c8883a31276e"
      },
      "outputs": [
        {
          "name": "stdout",
          "output_type": "stream",
          "text": [
            "My name is Kumar Dinesh\n"
          ]
        }
      ],
      "source": [
        "print(\"My name is {1} {0}\".format('Dinesh', 'Kumar'))"
      ]
    },
    {
      "cell_type": "code",
      "execution_count": null,
      "metadata": {
        "colab": {
          "background_save": true,
          "base_uri": "https://localhost:8080/"
        },
        "id": "HtUjtuPbPaa-",
        "outputId": "c7168d2f-5c2a-4b11-f8d1-5bf88857bb63"
      },
      "outputs": [
        {
          "name": "stdout",
          "output_type": "stream",
          "text": [
            "My name is Dinesh Kumar\n"
          ]
        }
      ],
      "source": [
        "print(\"My name is {d} {k}\".format(d='Dinesh', k='Kumar'))"
      ]
    },
    {
      "cell_type": "code",
      "execution_count": null,
      "metadata": {
        "colab": {
          "background_save": true
        },
        "id": "hKW_YVQcQQQl"
      },
      "outputs": [],
      "source": [
        "result = 104.5879654"
      ]
    },
    {
      "cell_type": "code",
      "execution_count": null,
      "metadata": {
        "colab": {
          "background_save": true,
          "base_uri": "https://localhost:8080/",
          "height": 170
        },
        "id": "SJisZ5pLRlaA",
        "outputId": "e878dc1f-4e7d-4c95-a50f-d3bd1e71ffda"
      },
      "outputs": [
        {
          "ename": "ValueError",
          "evalue": "ignored",
          "output_type": "error",
          "traceback": [
            "\u001b[0;31m---------------------------------------------------------------------------\u001b[0m",
            "\u001b[0;31mValueError\u001b[0m                                Traceback (most recent call last)",
            "\u001b[0;32m<ipython-input-88-0c839a7001a7>\u001b[0m in \u001b[0;36m<module>\u001b[0;34m\u001b[0m\n\u001b[0;32m----> 1\u001b[0;31m \u001b[0mprint\u001b[0m\u001b[0;34m(\u001b[0m\u001b[0;34m\"The result was {r:1.2f}\"\u001b[0m\u001b[0;34m.\u001b[0m\u001b[0mformat\u001b[0m\u001b[0;34m(\u001b[0m\u001b[0mr\u001b[0m\u001b[0;34m=\u001b[0m\u001b[0;34m'result'\u001b[0m\u001b[0;34m)\u001b[0m\u001b[0;34m)\u001b[0m\u001b[0;34m\u001b[0m\u001b[0;34m\u001b[0m\u001b[0m\n\u001b[0m",
            "\u001b[0;31mValueError\u001b[0m: Unknown format code 'f' for object of type 'str'"
          ]
        }
      ],
      "source": [
        "print(\"The result was {r:1.2f}\".format(r='result'))"
      ]
    },
    {
      "cell_type": "code",
      "execution_count": null,
      "metadata": {
        "colab": {
          "background_save": true
        },
        "id": "uW9IjDinRsoj"
      },
      "outputs": [],
      "source": [
        "my_list = ['one',4444,'dinesh']\n"
      ]
    },
    {
      "cell_type": "code",
      "execution_count": null,
      "metadata": {
        "colab": {
          "background_save": true
        },
        "id": "lEHw6gijnUYt"
      },
      "outputs": [],
      "source": [
        "my_list"
      ]
    },
    {
      "cell_type": "markdown",
      "metadata": {
        "id": "UKwheGDCn9SO"
      },
      "source": [
        "LIST are Mutable"
      ]
    },
    {
      "cell_type": "code",
      "execution_count": null,
      "metadata": {
        "colab": {
          "background_save": true
        },
        "id": "w-YeRg1bnWe1"
      },
      "outputs": [],
      "source": [
        "my_list[1] = '555'"
      ]
    },
    {
      "cell_type": "code",
      "execution_count": null,
      "metadata": {
        "colab": {
          "background_save": true
        },
        "id": "hU2Pqi12neYe"
      },
      "outputs": [],
      "source": [
        "my_list"
      ]
    },
    {
      "cell_type": "code",
      "execution_count": null,
      "metadata": {
        "colab": {
          "background_save": true
        },
        "id": "AHqn6XVCnixz"
      },
      "outputs": [],
      "source": [
        "next_list = ['dani', 665,55.5]"
      ]
    },
    {
      "cell_type": "markdown",
      "metadata": {
        "id": "muofrZWdn2QN"
      },
      "source": [
        "Concadination"
      ]
    },
    {
      "cell_type": "code",
      "execution_count": null,
      "metadata": {
        "colab": {
          "background_save": true
        },
        "id": "ZwAM7DqZnqCi"
      },
      "outputs": [],
      "source": [
        "my_list + next_list"
      ]
    },
    {
      "cell_type": "code",
      "execution_count": null,
      "metadata": {
        "colab": {
          "background_save": true
        },
        "id": "729AiesgntUF"
      },
      "outputs": [],
      "source": [
        "my_list"
      ]
    },
    {
      "cell_type": "code",
      "execution_count": null,
      "metadata": {
        "colab": {
          "background_save": true
        },
        "id": "wVgx190Ap83z"
      },
      "outputs": [],
      "source": [
        "my_list.append('dk')"
      ]
    },
    {
      "cell_type": "code",
      "execution_count": null,
      "metadata": {
        "colab": {
          "background_save": true
        },
        "id": "h8LV702PqCWA"
      },
      "outputs": [],
      "source": [
        "my_list.pop(-1)\n"
      ]
    },
    {
      "cell_type": "code",
      "execution_count": null,
      "metadata": {
        "colab": {
          "background_save": true
        },
        "id": "eaANq27hqFNS"
      },
      "outputs": [],
      "source": [
        "my_list.sort()"
      ]
    },
    {
      "cell_type": "code",
      "execution_count": null,
      "metadata": {
        "colab": {
          "background_save": true
        },
        "id": "6xmVqehsqavt"
      },
      "outputs": [],
      "source": [
        "my_list"
      ]
    },
    {
      "cell_type": "code",
      "execution_count": null,
      "metadata": {
        "colab": {
          "background_save": true
        },
        "id": "eyhvtAieqcaf"
      },
      "outputs": [],
      "source": [
        "my_list.reverse()"
      ]
    },
    {
      "cell_type": "code",
      "execution_count": null,
      "metadata": {
        "colab": {
          "background_save": true
        },
        "id": "dIZi9YWzq1N-"
      },
      "outputs": [],
      "source": [
        "my_list"
      ]
    },
    {
      "cell_type": "markdown",
      "metadata": {
        "id": "ppK2LO02vCNT"
      },
      "source": [
        "DICTONARIES"
      ]
    },
    {
      "cell_type": "code",
      "execution_count": null,
      "metadata": {
        "colab": {
          "background_save": true
        },
        "id": "ClSK880kq2bg"
      },
      "outputs": [],
      "source": [
        "price_lookup = {'orange': 66,'mango': 55,'Banana':77}"
      ]
    },
    {
      "cell_type": "code",
      "execution_count": null,
      "metadata": {
        "colab": {
          "background_save": true
        },
        "id": "k8X-WtQMvWpW"
      },
      "outputs": [],
      "source": [
        "price_lookup['mango']"
      ]
    },
    {
      "cell_type": "code",
      "execution_count": null,
      "metadata": {
        "colab": {
          "background_save": true
        },
        "id": "d6hjoHosvay_"
      },
      "outputs": [],
      "source": [
        "new_dict = {'d1':456,'d2':[2,4,5],'d3':{'orange': 66,'mango': 55,'Banana':77}}"
      ]
    },
    {
      "cell_type": "code",
      "execution_count": null,
      "metadata": {
        "colab": {
          "background_save": true
        },
        "id": "znpdvk-NxeJC"
      },
      "outputs": [],
      "source": [
        "new_dict['d3']['mango']"
      ]
    },
    {
      "cell_type": "code",
      "execution_count": null,
      "metadata": {
        "colab": {
          "background_save": true
        },
        "id": "5W3A4KcBxjRn"
      },
      "outputs": [],
      "source": [
        "create_dict = {'apple':33,'Game':'cricket'}"
      ]
    },
    {
      "cell_type": "code",
      "execution_count": null,
      "metadata": {
        "colab": {
          "background_save": true
        },
        "id": "ChU4bNw1y-N_"
      },
      "outputs": [],
      "source": [
        "create_dict['Game']='Football'"
      ]
    },
    {
      "cell_type": "code",
      "execution_count": null,
      "metadata": {
        "colab": {
          "background_save": true
        },
        "id": "UBNS2l7GzDr6"
      },
      "outputs": [],
      "source": [
        "create_dict['Game']"
      ]
    },
    {
      "cell_type": "code",
      "execution_count": null,
      "metadata": {
        "colab": {
          "background_save": true
        },
        "id": "1XEqodPPzPFO"
      },
      "outputs": [],
      "source": [
        "create_dict['song']='Raja'"
      ]
    },
    {
      "cell_type": "code",
      "execution_count": null,
      "metadata": {
        "colab": {
          "background_save": true
        },
        "id": "Mn2g0FfMzfrO"
      },
      "outputs": [],
      "source": [
        "create_dict\n"
      ]
    },
    {
      "cell_type": "code",
      "execution_count": null,
      "metadata": {
        "colab": {
          "background_save": true
        },
        "id": "099XZTSezhRH"
      },
      "outputs": [],
      "source": [
        "create_dict['Game'].upper()"
      ]
    },
    {
      "cell_type": "code",
      "execution_count": null,
      "metadata": {
        "colab": {
          "background_save": true
        },
        "id": "I8dMypYl0Lc3"
      },
      "outputs": [],
      "source": [
        "create_dict.keys()"
      ]
    },
    {
      "cell_type": "code",
      "execution_count": null,
      "metadata": {
        "colab": {
          "background_save": true
        },
        "id": "cB-OzROD0SRj"
      },
      "outputs": [],
      "source": [
        "create_dict.values()"
      ]
    },
    {
      "cell_type": "code",
      "execution_count": null,
      "metadata": {
        "colab": {
          "background_save": true
        },
        "id": "QMCxHzew0UWt"
      },
      "outputs": [],
      "source": [
        "create_dict.items()"
      ]
    },
    {
      "cell_type": "markdown",
      "metadata": {
        "id": "3wHq1lET26ge"
      },
      "source": [
        "TUPLE"
      ]
    },
    {
      "cell_type": "code",
      "execution_count": null,
      "metadata": {
        "colab": {
          "background_save": true
        },
        "id": "-aoPIVEM0WoO"
      },
      "outputs": [],
      "source": [
        "new_tup = ('apple',444)"
      ]
    },
    {
      "cell_type": "code",
      "execution_count": null,
      "metadata": {
        "colab": {
          "background_save": true
        },
        "id": "A8zNt-R43DBt"
      },
      "outputs": [],
      "source": [
        "type(new_tup)"
      ]
    },
    {
      "cell_type": "markdown",
      "metadata": {
        "id": "tnCKePQ348ZF"
      },
      "source": [
        "SETS"
      ]
    },
    {
      "cell_type": "code",
      "execution_count": null,
      "metadata": {
        "colab": {
          "background_save": true
        },
        "id": "kpKpEwtg3GgX"
      },
      "outputs": [],
      "source": [
        "my_set=set()"
      ]
    },
    {
      "cell_type": "code",
      "execution_count": null,
      "metadata": {
        "colab": {
          "background_save": true
        },
        "id": "nBGOj_lD5DbI"
      },
      "outputs": [],
      "source": [
        "my_set"
      ]
    },
    {
      "cell_type": "code",
      "execution_count": null,
      "metadata": {
        "colab": {
          "background_save": true
        },
        "id": "XGgHjdGL5GKb"
      },
      "outputs": [],
      "source": [
        "my_set.add(444)\n",
        "my_set"
      ]
    },
    {
      "cell_type": "code",
      "execution_count": null,
      "metadata": {
        "colab": {
          "background_save": true
        },
        "id": "C-Pb4gWg5Y7q"
      },
      "outputs": [],
      "source": [
        "My_sample = my_set"
      ]
    },
    {
      "cell_type": "code",
      "execution_count": null,
      "metadata": {
        "colab": {
          "background_save": true
        },
        "id": "a_b2focE5p-2"
      },
      "outputs": [],
      "source": []
    },
    {
      "cell_type": "code",
      "execution_count": null,
      "metadata": {
        "colab": {
          "background_save": true
        },
        "id": "NFRR6uJy5tvJ"
      },
      "outputs": [],
      "source": [
        "set(My_sample)"
      ]
    },
    {
      "cell_type": "code",
      "execution_count": null,
      "metadata": {
        "colab": {
          "background_save": true
        },
        "id": "MMRbKqH46OTw"
      },
      "outputs": [],
      "source": [
        "%%writefile my_new_file.txt\n",
        "One of the Best\n",
        "Find the Solution\n",
        "Find the Path"
      ]
    },
    {
      "cell_type": "code",
      "execution_count": null,
      "metadata": {
        "colab": {
          "background_save": true
        },
        "id": "t9CWeO-B1EXW"
      },
      "outputs": [],
      "source": [
        "myfile = open('my_new_file.txt')"
      ]
    },
    {
      "cell_type": "code",
      "execution_count": null,
      "metadata": {
        "colab": {
          "background_save": true
        },
        "id": "7xMVN1QF1IQn"
      },
      "outputs": [],
      "source": [
        "pwd"
      ]
    },
    {
      "cell_type": "code",
      "execution_count": null,
      "metadata": {
        "colab": {
          "background_save": true
        },
        "id": "ccxubAv73nn7"
      },
      "outputs": [],
      "source": [
        "myfile.read()"
      ]
    },
    {
      "cell_type": "code",
      "execution_count": null,
      "metadata": {
        "colab": {
          "background_save": true
        },
        "id": "0D8xnxo231F5"
      },
      "outputs": [],
      "source": [
        "myfile.read()"
      ]
    },
    {
      "cell_type": "code",
      "execution_count": null,
      "metadata": {
        "colab": {
          "background_save": true
        },
        "id": "N2rgq_il4BLA"
      },
      "outputs": [],
      "source": [
        "myfile.seek(0)"
      ]
    },
    {
      "cell_type": "code",
      "execution_count": null,
      "metadata": {
        "colab": {
          "background_save": true
        },
        "id": "DlgsIwCt4Ejo"
      },
      "outputs": [],
      "source": [
        "myfile.read()"
      ]
    },
    {
      "cell_type": "code",
      "execution_count": null,
      "metadata": {
        "colab": {
          "background_save": true
        },
        "id": "8MAvcg0z4IVQ"
      },
      "outputs": [],
      "source": [
        "myfile.seek(0)"
      ]
    },
    {
      "cell_type": "code",
      "execution_count": null,
      "metadata": {
        "colab": {
          "background_save": true
        },
        "id": "Zy3wruBx4U0e"
      },
      "outputs": [],
      "source": [
        "myfile.readlines( )\n"
      ]
    },
    {
      "cell_type": "code",
      "execution_count": null,
      "metadata": {
        "colab": {
          "background_save": true
        },
        "id": "OOmut8iU4aT4"
      },
      "outputs": [],
      "source": [
        "list1=[1,2,[3,4,'hello']]"
      ]
    },
    {
      "cell_type": "code",
      "execution_count": null,
      "metadata": {
        "colab": {
          "background_save": true
        },
        "id": "LpG9M107_B1l"
      },
      "outputs": [],
      "source": [
        "list1[2][-1]='Goodbye'"
      ]
    },
    {
      "cell_type": "code",
      "execution_count": null,
      "metadata": {
        "colab": {
          "background_save": true
        },
        "id": "I8ojQe9y_M4u"
      },
      "outputs": [],
      "source": [
        "list1"
      ]
    },
    {
      "cell_type": "code",
      "execution_count": null,
      "metadata": {
        "colab": {
          "background_save": true
        },
        "id": "JSk-bcFA_ObQ"
      },
      "outputs": [],
      "source": [
        "list2=[5,3,4,6,1]"
      ]
    },
    {
      "cell_type": "code",
      "execution_count": null,
      "metadata": {
        "colab": {
          "background_save": true
        },
        "id": "HH3FUUQL_bnH"
      },
      "outputs": [],
      "source": [
        "sorted(list2)"
      ]
    },
    {
      "cell_type": "code",
      "execution_count": null,
      "metadata": {
        "colab": {
          "background_save": true
        },
        "id": "kJClDGn3_eOQ"
      },
      "outputs": [],
      "source": [
        "d = {'k1':[1,2,{'k2':['this is tricky',{'tough':[1,2,['hello']]}]}]}"
      ]
    },
    {
      "cell_type": "code",
      "execution_count": null,
      "metadata": {
        "colab": {
          "background_save": true
        },
        "id": "Qg0T1WBF_fq3"
      },
      "outputs": [],
      "source": [
        "d['k1'][-1]['k2'][1]['tough'][-1][0]"
      ]
    },
    {
      "cell_type": "code",
      "execution_count": null,
      "metadata": {
        "colab": {
          "background_save": true
        },
        "id": "Y2j5ADcQ_5DZ"
      },
      "outputs": [],
      "source": [
        "list5 = [1,2,2,33,4,4,11,22,3,3,2]"
      ]
    },
    {
      "cell_type": "code",
      "execution_count": null,
      "metadata": {
        "colab": {
          "background_save": true
        },
        "id": "7hQ9TXXYCy9a"
      },
      "outputs": [],
      "source": [
        "set(list5)"
      ]
    },
    {
      "cell_type": "markdown",
      "metadata": {
        "id": "Z45Mz-wfqagT"
      },
      "source": [
        "COMPARISON OPERATOR"
      ]
    },
    {
      "cell_type": "code",
      "execution_count": null,
      "metadata": {
        "colab": {
          "background_save": true
        },
        "id": "ApiA4GV-C50Y"
      },
      "outputs": [],
      "source": [
        "2>=8"
      ]
    },
    {
      "cell_type": "code",
      "execution_count": null,
      "metadata": {
        "colab": {
          "background_save": true
        },
        "id": "FUc8X2kIqLfU"
      },
      "outputs": [],
      "source": [
        "2==2"
      ]
    },
    {
      "cell_type": "code",
      "execution_count": null,
      "metadata": {
        "colab": {
          "background_save": true
        },
        "id": "PCnXAtRgqhfH"
      },
      "outputs": [],
      "source": [
        "2<3"
      ]
    },
    {
      "cell_type": "code",
      "execution_count": null,
      "metadata": {
        "colab": {
          "background_save": true
        },
        "id": "-uCXa8EwqjDj"
      },
      "outputs": [],
      "source": [
        "'D'=='D' and 2 >=2"
      ]
    },
    {
      "cell_type": "code",
      "execution_count": null,
      "metadata": {
        "colab": {
          "background_save": true
        },
        "id": "WnFxZaxqr8qF"
      },
      "outputs": [],
      "source": [
        "3==3 or 4>4"
      ]
    },
    {
      "cell_type": "code",
      "execution_count": null,
      "metadata": {
        "colab": {
          "background_save": true
        },
        "id": "d6x0hvHttFhj"
      },
      "outputs": [],
      "source": [
        "not 3==3"
      ]
    },
    {
      "cell_type": "markdown",
      "metadata": {
        "id": "t4kXlPlvwQaV"
      },
      "source": [
        "IF,Elif,else Operation\n",
        "      "
      ]
    },
    {
      "cell_type": "code",
      "execution_count": null,
      "metadata": {
        "colab": {
          "background_save": true
        },
        "id": "tt_K0W6AtXhd"
      },
      "outputs": [],
      "source": [
        "Reaching_office_Time   = 10.01\n",
        "\n",
        "if Reaching_office_Time <=10:\n",
        "  print('Suceesfully reach the Destination')\n",
        "elif Reaching_office_Time <=10.30:\n",
        "  print(\"Grace_time\")  \n",
        "else:\n",
        "  print('Not Suceesfully reach the Destination')"
      ]
    },
    {
      "cell_type": "code",
      "execution_count": null,
      "metadata": {
        "colab": {
          "background_save": true
        },
        "id": "DeV4QWC6xI18"
      },
      "outputs": [],
      "source": [
        "name ='Dinesh'\n",
        "\n",
        "if name =='Dinesh':\n",
        "  print(\"Hello Dinesh\")\n",
        "elif name =='DK':\n",
        "  print('Hello DK')\n",
        "else:\n",
        "  print('what was your Name')"
      ]
    },
    {
      "cell_type": "markdown",
      "metadata": {
        "id": "jGmC6Xbl54l5"
      },
      "source": [
        "FOR Loop"
      ]
    },
    {
      "cell_type": "code",
      "execution_count": null,
      "metadata": {
        "colab": {
          "background_save": true
        },
        "id": "4v3v7LfPzZx_"
      },
      "outputs": [],
      "source": [
        "mylist = [1,2,3,4,5,6]"
      ]
    },
    {
      "cell_type": "code",
      "execution_count": null,
      "metadata": {
        "colab": {
          "background_save": true
        },
        "id": "_ZGHoZbP6Cvk"
      },
      "outputs": [],
      "source": [
        "mylist"
      ]
    },
    {
      "cell_type": "code",
      "execution_count": null,
      "metadata": {
        "colab": {
          "background_save": true
        },
        "id": "GQN-Uvui6EfL"
      },
      "outputs": [],
      "source": [
        "mylist = [1,2,3,4,5,6,7,8,9,10]\n",
        "\n",
        "for num in mylist:\n",
        "  print(f'It was a value:{num}')"
      ]
    },
    {
      "cell_type": "code",
      "execution_count": null,
      "metadata": {
        "colab": {
          "background_save": true
        },
        "id": "a3DeIy856Tqd"
      },
      "outputs": [],
      "source": [
        "for mul in mylist:\n",
        "  if mul % 2 ==0:\n",
        "    print(f'It will be even value: {mul}')\n",
        "  else:\n",
        "    print(f'It will be odd value: {mul}')"
      ]
    },
    {
      "cell_type": "code",
      "execution_count": null,
      "metadata": {
        "colab": {
          "background_save": true
        },
        "id": "3FZaqaFq71uY"
      },
      "outputs": [],
      "source": [
        "my_list = 0\n",
        "for mul in mylist:\n",
        "  my_list = my_list + mul \n",
        "print(my_list)\n",
        "\n"
      ]
    },
    {
      "cell_type": "code",
      "execution_count": null,
      "metadata": {
        "colab": {
          "background_save": true
        },
        "id": "EVaxSCqzFOwT"
      },
      "outputs": [],
      "source": [
        "string ='Hello World'\n",
        "\n",
        "for letter in string:\n",
        "  print(string)"
      ]
    },
    {
      "cell_type": "code",
      "execution_count": null,
      "metadata": {
        "colab": {
          "background_save": true
        },
        "id": "J5G2LLddGzPd"
      },
      "outputs": [],
      "source": [
        "tup = (1,2,3,)\n",
        "for lette in tup:\n",
        "  print(lette)"
      ]
    },
    {
      "cell_type": "code",
      "execution_count": null,
      "metadata": {
        "colab": {
          "background_save": true
        },
        "id": "_CDLwXRsG45j"
      },
      "outputs": [],
      "source": [
        "list_tup =[(1,2,3),(6,7,8),(9,5)]\n",
        "for list in list_tup:\n",
        "  print(list)"
      ]
    },
    {
      "cell_type": "markdown",
      "metadata": {
        "id": "S8LxaSzKIh_3"
      },
      "source": [
        "Tuple unpacking"
      ]
    },
    {
      "cell_type": "code",
      "execution_count": null,
      "metadata": {
        "colab": {
          "background_save": true
        },
        "id": "84cIg6clIcXF"
      },
      "outputs": [],
      "source": [
        "list_tup =[(1,2,3),(6,7,8),(9,5,6)]\n",
        "for a,b,c in list_tup:\n",
        "  print(c)"
      ]
    },
    {
      "cell_type": "code",
      "execution_count": null,
      "metadata": {
        "colab": {
          "background_save": true
        },
        "id": "eUWfULVUIroC"
      },
      "outputs": [],
      "source": [
        "Dict ={'k1':66,'k2':44,'k3':78}\n",
        "\n",
        "for iteams in Dict:\n",
        "  print(iteams)\n",
        "        "
      ]
    },
    {
      "cell_type": "markdown",
      "metadata": {
        "id": "0qXGSVPHjuGN"
      },
      "source": [
        "WHILE LOOP"
      ]
    },
    {
      "cell_type": "code",
      "execution_count": null,
      "metadata": {
        "colab": {
          "background_save": true
        },
        "id": "uOVMWEKkKCwI"
      },
      "outputs": [],
      "source": [
        "x=50\n",
        "while x<5:\n",
        "  print(f' The current value of X is {x}')\n",
        "  x+=1\n",
        "else:\n",
        "  print(f'The current value is less than 5')\n",
        "  "
      ]
    },
    {
      "cell_type": "code",
      "execution_count": null,
      "metadata": {
        "colab": {
          "background_save": true
        },
        "id": "623klCYrkDGf"
      },
      "outputs": [],
      "source": [
        "x=[1,2,3]\n",
        "\n",
        "for num in x:\n",
        "  # comment\n",
        "  pass\n",
        "  print(x)"
      ]
    },
    {
      "cell_type": "code",
      "execution_count": null,
      "metadata": {
        "colab": {
          "background_save": true
        },
        "id": "189E4Iq2rMNc"
      },
      "outputs": [],
      "source": [
        "myname ='Dineshgkumar'\n",
        "\n",
        "for letter in myname:\n",
        "  if letter =='g':\n",
        "    continue\n",
        "  print(letter)"
      ]
    },
    {
      "cell_type": "code",
      "execution_count": null,
      "metadata": {
        "colab": {
          "background_save": true
        },
        "id": "8uvxr3v4vp5o"
      },
      "outputs": [],
      "source": [
        "myname ='Dineshgkumar'\n",
        "\n",
        "for letter in myname:\n",
        "  if letter =='g':\n",
        "    break\n",
        "  print(letter)"
      ]
    },
    {
      "cell_type": "code",
      "execution_count": null,
      "metadata": {
        "colab": {
          "background_save": true
        },
        "id": "G5cuLrI-v_V5"
      },
      "outputs": [],
      "source": [
        "x=0\n",
        "\n",
        "while x<7:\n",
        "  if x==5:\n",
        "    break\n",
        "  print(x)\n",
        "  x+=1\n"
      ]
    },
    {
      "cell_type": "markdown",
      "metadata": {
        "id": "59F-FTqSzRMY"
      },
      "source": [
        "Range"
      ]
    },
    {
      "cell_type": "code",
      "execution_count": null,
      "metadata": {
        "colab": {
          "background_save": true
        },
        "id": "LXCAeI_awheq"
      },
      "outputs": [],
      "source": [
        "for num in range(0,10,3):\n",
        "  print(num)"
      ]
    },
    {
      "cell_type": "code",
      "execution_count": null,
      "metadata": {
        "colab": {
          "background_save": true
        },
        "id": "p-EVUNldzgSy"
      },
      "outputs": [],
      "source": [
        "  list(range(0,10,3))"
      ]
    },
    {
      "cell_type": "markdown",
      "metadata": {
        "id": "uRwDsG_t4jNS"
      },
      "source": [
        "Enumerate"
      ]
    },
    {
      "cell_type": "code",
      "execution_count": null,
      "metadata": {
        "colab": {
          "background_save": true
        },
        "id": "P4ltTFp90B9H"
      },
      "outputs": [],
      "source": [
        "word = 'abcd'\n",
        "for letter in enumerate(word):\n",
        "  print(letter)"
      ]
    },
    {
      "cell_type": "code",
      "execution_count": null,
      "metadata": {
        "colab": {
          "background_save": true
        },
        "id": "XqdkBYqS12AE"
      },
      "outputs": [],
      "source": [
        "word = 'abcd'\n",
        "for index,letter in enumerate(word):\n",
        "  print(index)"
      ]
    },
    {
      "cell_type": "markdown",
      "metadata": {
        "id": "YgYk7-kK5NpP"
      },
      "source": [
        "Zip"
      ]
    },
    {
      "cell_type": "code",
      "execution_count": null,
      "metadata": {
        "colab": {
          "background_save": true
        },
        "id": "apYETMwo39Fs"
      },
      "outputs": [],
      "source": [
        "my_list1 = [1,2,3]\n",
        "my_list2 = ('a','b','c')"
      ]
    },
    {
      "cell_type": "code",
      "execution_count": null,
      "metadata": {
        "colab": {
          "background_save": true
        },
        "id": "LMLOvMaE5d2W"
      },
      "outputs": [],
      "source": [
        "zip(my_list1,my_list2)"
      ]
    },
    {
      "cell_type": "code",
      "execution_count": null,
      "metadata": {
        "colab": {
          "background_save": true
        },
        "id": "GOSvFjUX5jbd"
      },
      "outputs": [],
      "source": [
        "for item in zip(my_list1,my_list2):\n",
        "  print(item)"
      ]
    },
    {
      "cell_type": "markdown",
      "metadata": {
        "id": "VYVJ06KG7Ge7"
      },
      "source": [
        "CHECK IN THE LIST"
      ]
    },
    {
      "cell_type": "code",
      "execution_count": null,
      "metadata": {
        "colab": {
          "background_save": true
        },
        "id": "qWRLZBxS5qW0"
      },
      "outputs": [],
      "source": [
        "'X'in (1,2,3)"
      ]
    },
    {
      "cell_type": "code",
      "execution_count": null,
      "metadata": {
        "colab": {
          "background_save": true
        },
        "id": "iSffAujF7LQy"
      },
      "outputs": [],
      "source": [
        "'X' in ('X','y','c')"
      ]
    },
    {
      "cell_type": "code",
      "execution_count": null,
      "metadata": {
        "colab": {
          "background_save": true
        },
        "id": "KPiJ8xPs7Y6t"
      },
      "outputs": [],
      "source": [
        "my_list = [1,3,4,45,645,444]"
      ]
    },
    {
      "cell_type": "code",
      "execution_count": null,
      "metadata": {
        "colab": {
          "background_save": true
        },
        "id": "5gV_OSA072Px"
      },
      "outputs": [],
      "source": [
        "min(my_list)"
      ]
    },
    {
      "cell_type": "code",
      "execution_count": null,
      "metadata": {
        "colab": {
          "background_save": true
        },
        "id": "kxE_TgM176X3"
      },
      "outputs": [],
      "source": [
        "max(my_list)"
      ]
    },
    {
      "cell_type": "code",
      "execution_count": null,
      "metadata": {
        "colab": {
          "background_save": true
        },
        "id": "RzeCTXOP786v"
      },
      "outputs": [],
      "source": [
        "from random import shuffle\n"
      ]
    },
    {
      "cell_type": "code",
      "execution_count": null,
      "metadata": {
        "colab": {
          "background_save": true
        },
        "id": "i4XDt2nN8gUk"
      },
      "outputs": [],
      "source": [
        "my_list = [1,2,3,4,5]\n",
        "shuffle(my_list)"
      ]
    },
    {
      "cell_type": "code",
      "execution_count": null,
      "metadata": {
        "colab": {
          "background_save": true
        },
        "id": "wiqPgWzF8lsh"
      },
      "outputs": [],
      "source": [
        "my_list"
      ]
    },
    {
      "cell_type": "code",
      "execution_count": null,
      "metadata": {
        "colab": {
          "background_save": true
        },
        "id": "g2SpVV_Z8oOq"
      },
      "outputs": [],
      "source": [
        "from random import randint"
      ]
    },
    {
      "cell_type": "code",
      "execution_count": null,
      "metadata": {
        "colab": {
          "background_save": true
        },
        "id": "2DgEduXG98Bl"
      },
      "outputs": [],
      "source": [
        "randint(0,12)"
      ]
    },
    {
      "cell_type": "code",
      "execution_count": null,
      "metadata": {
        "colab": {
          "background_save": true
        },
        "id": "HnA7gB4bxlcM"
      },
      "outputs": [],
      "source": [
        "Name = int(input('What is your favourite number'))"
      ]
    },
    {
      "cell_type": "code",
      "execution_count": null,
      "metadata": {
        "colab": {
          "background_save": true
        },
        "id": "VIlN6zi4x0L5"
      },
      "outputs": [],
      "source": [
        "Name"
      ]
    },
    {
      "cell_type": "code",
      "execution_count": null,
      "metadata": {
        "colab": {
          "background_save": true
        },
        "id": "3MifGLC4x-N7"
      },
      "outputs": [],
      "source": [
        "type(Name)"
      ]
    },
    {
      "cell_type": "markdown",
      "metadata": {
        "id": "U3OSgPR_03tV"
      },
      "source": [
        "LIST COMPREHENSION"
      ]
    },
    {
      "cell_type": "code",
      "execution_count": null,
      "metadata": {
        "colab": {
          "background_save": true
        },
        "id": "qoUQsz0d1MuL"
      },
      "outputs": [],
      "source": [
        "my_list = 'hello'"
      ]
    },
    {
      "cell_type": "code",
      "execution_count": null,
      "metadata": {
        "colab": {
          "background_save": true
        },
        "id": "zLDT8bl5yL2b"
      },
      "outputs": [],
      "source": [
        "my_string = []\n",
        "\n",
        "for num in my_list:\n",
        "  my_string.append(num)"
      ]
    },
    {
      "cell_type": "code",
      "execution_count": null,
      "metadata": {
        "colab": {
          "background_save": true
        },
        "id": "k52zjnPmyN6a"
      },
      "outputs": [],
      "source": []
    },
    {
      "cell_type": "code",
      "execution_count": null,
      "metadata": {
        "colab": {
          "background_save": true
        },
        "id": "ZzTtT_kj1GcC"
      },
      "outputs": [],
      "source": [
        "my_list = 'Dinesh'\n",
        "my_list = [num for num in my_list]"
      ]
    },
    {
      "cell_type": "code",
      "execution_count": null,
      "metadata": {
        "colab": {
          "background_save": true
        },
        "id": "danBSk2X25sk"
      },
      "outputs": [],
      "source": [
        "my_list"
      ]
    },
    {
      "cell_type": "code",
      "execution_count": null,
      "metadata": {
        "colab": {
          "background_save": true
        },
        "id": "8LlSbCf93LFn"
      },
      "outputs": [],
      "source": [
        "my_value = [x**2 for x in range(0,10)]"
      ]
    },
    {
      "cell_type": "code",
      "execution_count": null,
      "metadata": {
        "colab": {
          "background_save": true
        },
        "id": "5y52zfVg4r3X"
      },
      "outputs": [],
      "source": [
        "my_value"
      ]
    },
    {
      "cell_type": "code",
      "execution_count": null,
      "metadata": {
        "colab": {
          "background_save": true
        },
        "id": "nd2nWynj5GGT"
      },
      "outputs": [],
      "source": [
        "my_value = [x*2 for x in range(0,10) if x % 2==0]"
      ]
    },
    {
      "cell_type": "code",
      "execution_count": null,
      "metadata": {
        "colab": {
          "background_save": true
        },
        "id": "TN0QZnh86MG2"
      },
      "outputs": [],
      "source": [
        "my_value"
      ]
    },
    {
      "cell_type": "code",
      "execution_count": null,
      "metadata": {
        "colab": {
          "background_save": true
        },
        "id": "2Oy8BakO6NMB"
      },
      "outputs": [],
      "source": [
        "celcius = [0,12,16,19]\n",
        "\n",
        "Farenheit = [((9/5*temp + 32) for temp in celcius)]"
      ]
    },
    {
      "cell_type": "code",
      "execution_count": null,
      "metadata": {
        "colab": {
          "background_save": true
        },
        "id": "qWbCeu5h62gt"
      },
      "outputs": [],
      "source": [
        "Farenheit"
      ]
    },
    {
      "cell_type": "code",
      "execution_count": null,
      "metadata": {
        "colab": {
          "background_save": true
        },
        "id": "QFc2TTls65_j"
      },
      "outputs": [],
      "source": [
        "Farenheit"
      ]
    },
    {
      "cell_type": "code",
      "execution_count": null,
      "metadata": {
        "colab": {
          "background_save": true
        },
        "id": "c4EiYeYP69vu"
      },
      "outputs": [],
      "source": [
        "my_list = [1,2,3]\n",
        "my_value = [22,33,44]\n",
        "my_dk = []\n",
        "for x in my_list:\n",
        "  for y in my_value:\n",
        "    my_dk.append(x*y)\n",
        "\n",
        " "
      ]
    },
    {
      "cell_type": "code",
      "execution_count": null,
      "metadata": {
        "colab": {
          "background_save": true
        },
        "id": "Qx8Jahxq8_Y1"
      },
      "outputs": [],
      "source": [
        "my_dk"
      ]
    },
    {
      "cell_type": "code",
      "execution_count": null,
      "metadata": {
        "colab": {
          "background_save": true
        },
        "id": "xULqtryw9Ac1"
      },
      "outputs": [],
      "source": [
        "my_dk = [x*y for x in my_list for y in my_value]"
      ]
    },
    {
      "cell_type": "code",
      "execution_count": null,
      "metadata": {
        "colab": {
          "background_save": true
        },
        "id": "xNGNb-599qD7"
      },
      "outputs": [],
      "source": [
        "my_dk"
      ]
    },
    {
      "cell_type": "code",
      "execution_count": null,
      "metadata": {
        "colab": {
          "background_save": true
        },
        "id": "STMfY88x9rZ8"
      },
      "outputs": [],
      "source": [
        "st = 'Print only the words that start with s in this sentence'"
      ]
    },
    {
      "cell_type": "code",
      "execution_count": null,
      "metadata": {
        "colab": {
          "background_save": true
        },
        "id": "W5Zx6e4b1peJ"
      },
      "outputs": [],
      "source": [
        "st"
      ]
    },
    {
      "cell_type": "code",
      "execution_count": null,
      "metadata": {
        "colab": {
          "background_save": true
        },
        "id": "zt6di33K1qS9"
      },
      "outputs": [],
      "source": [
        "st.split()"
      ]
    },
    {
      "cell_type": "code",
      "execution_count": null,
      "metadata": {
        "colab": {
          "background_save": true
        },
        "id": "UClXTsKT1uI0"
      },
      "outputs": [],
      "source": [
        "for words in st.split():\n",
        "  if words[0]=='s':\n",
        "    print(words)"
      ]
    },
    {
      "cell_type": "code",
      "execution_count": null,
      "metadata": {
        "colab": {
          "background_save": true
        },
        "id": "UJhfmwrG1928"
      },
      "outputs": [],
      "source": [
        "for i in range(0,10):\n",
        "  print(i)"
      ]
    },
    {
      "cell_type": "code",
      "execution_count": null,
      "metadata": {
        "colab": {
          "background_save": true
        },
        "id": "qig5jmiF4ego"
      },
      "outputs": [],
      "source": [
        "my_lsit = [x for x in range(0,51) if x % 3==0 ]\n",
        "print(my_lsit)\n"
      ]
    },
    {
      "cell_type": "code",
      "execution_count": null,
      "metadata": {
        "colab": {
          "background_save": true
        },
        "id": "f_PVIeO452Wp"
      },
      "outputs": [],
      "source": [
        "st = 'Print every word in this sentence that has an even number of letters'"
      ]
    },
    {
      "cell_type": "code",
      "execution_count": null,
      "metadata": {
        "colab": {
          "background_save": true
        },
        "id": "FWk_Xi4l7ATn"
      },
      "outputs": [],
      "source": [
        "st.split()"
      ]
    },
    {
      "cell_type": "code",
      "execution_count": null,
      "metadata": {
        "colab": {
          "background_save": true
        },
        "id": "sbZoi_9d7A2D"
      },
      "outputs": [],
      "source": [
        "for i in st.split():\n",
        "  if len(i) % 2==0:\n",
        "    print(i + ' even words')\n",
        "  "
      ]
    },
    {
      "cell_type": "code",
      "execution_count": null,
      "metadata": {
        "colab": {
          "background_save": true
        },
        "id": "OTvtsK6oAKP_"
      },
      "outputs": [],
      "source": [
        "for num in range(1,50):\n",
        "  print(num)\n"
      ]
    },
    {
      "cell_type": "code",
      "execution_count": null,
      "metadata": {
        "colab": {
          "background_save": true
        },
        "id": "chn9AQbK_b7M"
      },
      "outputs": [],
      "source": [
        "for num in range(1,50):\n",
        "  if num%3==0 and num%5==0:\n",
        "    print('FizzBuzz')\n",
        "  elif num%3==0:\n",
        "    print('Fizz')\n",
        "  elif num%5==0:\n",
        "    print('Buzz')\n",
        "  else:\n",
        "    print(num)"
      ]
    },
    {
      "cell_type": "code",
      "execution_count": null,
      "metadata": {
        "colab": {
          "background_save": true
        },
        "id": "cMnii22C_rTu"
      },
      "outputs": [],
      "source": [
        "my_list =[1,2,3]"
      ]
    },
    {
      "cell_type": "code",
      "execution_count": null,
      "metadata": {
        "colab": {
          "background_save": true
        },
        "id": "PnerpxxVD9qI"
      },
      "outputs": [],
      "source": [
        "my_list.append(4)"
      ]
    },
    {
      "cell_type": "code",
      "execution_count": null,
      "metadata": {
        "colab": {
          "background_save": true
        },
        "id": "HTNR0HlDEATU"
      },
      "outputs": [],
      "source": [
        "my_list"
      ]
    },
    {
      "cell_type": "code",
      "execution_count": null,
      "metadata": {
        "colab": {
          "background_save": true
        },
        "id": "6xnVKw5aEChM"
      },
      "outputs": [],
      "source": [
        "my_list.pop()"
      ]
    },
    {
      "cell_type": "code",
      "execution_count": null,
      "metadata": {
        "colab": {
          "background_save": true
        },
        "id": "qE22j3U8EFFB"
      },
      "outputs": [],
      "source": [
        "my_list"
      ]
    },
    {
      "cell_type": "code",
      "execution_count": null,
      "metadata": {
        "colab": {
          "background_save": true
        },
        "id": "J8i1S8buEGGS"
      },
      "outputs": [],
      "source": [
        "my_list.pop()"
      ]
    },
    {
      "cell_type": "code",
      "execution_count": null,
      "metadata": {
        "colab": {
          "background_save": true
        },
        "id": "Ji5252nnELTG"
      },
      "outputs": [],
      "source": [
        "help(my_list.append)"
      ]
    },
    {
      "cell_type": "markdown",
      "metadata": {
        "id": "RfzJqjaCbPcJ"
      },
      "source": [
        "FUNCTIONS"
      ]
    },
    {
      "cell_type": "code",
      "execution_count": null,
      "metadata": {
        "colab": {
          "background_save": true
        },
        "id": "5Iw-QdeDESRJ"
      },
      "outputs": [],
      "source": [
        "def say_hello():\n",
        "  print('Hello')"
      ]
    },
    {
      "cell_type": "code",
      "execution_count": null,
      "metadata": {
        "colab": {
          "background_save": true
        },
        "id": "QnZyqlBpbWEJ"
      },
      "outputs": [],
      "source": [
        "say_hello()"
      ]
    },
    {
      "cell_type": "code",
      "execution_count": null,
      "metadata": {
        "colab": {
          "background_save": true
        },
        "id": "l0G6yabgbZdE"
      },
      "outputs": [],
      "source": [
        "def say_hi(name='Default'):\n",
        "  print(f'Hi {name}')"
      ]
    },
    {
      "cell_type": "code",
      "execution_count": null,
      "metadata": {
        "colab": {
          "background_save": true
        },
        "id": "es6-AY3wbl12"
      },
      "outputs": [],
      "source": [
        "say_hi()"
      ]
    },
    {
      "cell_type": "code",
      "execution_count": null,
      "metadata": {
        "colab": {
          "background_save": true
        },
        "id": "l0x0h4OWbntG"
      },
      "outputs": [],
      "source": [
        "def add_func(num1,num2):\n",
        "  return num1+num2"
      ]
    },
    {
      "cell_type": "code",
      "execution_count": null,
      "metadata": {
        "colab": {
          "background_save": true
        },
        "id": "va_0p69Fda6u"
      },
      "outputs": [],
      "source": [
        "add_func(1,5)"
      ]
    },
    {
      "cell_type": "code",
      "execution_count": null,
      "metadata": {
        "colab": {
          "background_save": true
        },
        "id": "SpK5sOCqdqWt"
      },
      "outputs": [],
      "source": [
        "output= add_func(1,5)"
      ]
    },
    {
      "cell_type": "code",
      "execution_count": null,
      "metadata": {
        "colab": {
          "background_save": true
        },
        "id": "aZ07oNQMduNS"
      },
      "outputs": [],
      "source": [
        "output"
      ]
    },
    {
      "cell_type": "code",
      "execution_count": null,
      "metadata": {
        "colab": {
          "background_save": true
        },
        "id": "cfemqkzOdvl9"
      },
      "outputs": [],
      "source": [
        "def sum_num(num1,num2):\n",
        "  return num1+num2"
      ]
    },
    {
      "cell_type": "code",
      "execution_count": null,
      "metadata": {
        "colab": {
          "background_save": true
        },
        "id": "n_RSdor6fo5b"
      },
      "outputs": [],
      "source": [
        "sum_num(4,8)"
      ]
    },
    {
      "cell_type": "code",
      "execution_count": null,
      "metadata": {
        "colab": {
          "background_save": true
        },
        "id": "YXJGQMUQfrt8"
      },
      "outputs": [],
      "source": [
        "20 % 2 == 0 "
      ]
    },
    {
      "cell_type": "code",
      "execution_count": null,
      "metadata": {
        "colab": {
          "background_save": true
        },
        "id": "Q_ZwE-jThRHM"
      },
      "outputs": [],
      "source": [
        "25 % 2==0"
      ]
    },
    {
      "cell_type": "code",
      "execution_count": null,
      "metadata": {
        "colab": {
          "background_save": true
        },
        "id": "oXMsiQnVhXa-"
      },
      "outputs": [],
      "source": [
        "def even_value(num):\n",
        "  return num % 2==0"
      ]
    },
    {
      "cell_type": "code",
      "execution_count": null,
      "metadata": {
        "colab": {
          "background_save": true
        },
        "id": "usYDXSCehfcO"
      },
      "outputs": [],
      "source": [
        "even_value(50)"
      ]
    },
    {
      "cell_type": "markdown",
      "metadata": {
        "id": "rz-FeLX2jNZY"
      },
      "source": [
        "RETURN TRUE IF ANY NUMBER IS INSIDE EVEN VALUE"
      ]
    },
    {
      "cell_type": "code",
      "execution_count": null,
      "metadata": {
        "colab": {
          "background_save": true
        },
        "id": "dpXYbWxshik1"
      },
      "outputs": [],
      "source": [
        "def even_num(number):\n",
        "  for val in number:\n",
        "    if val % 2 == 0:\n",
        "      return True\n",
        "    else:\n",
        "      pass\n",
        "  return False\n"
      ]
    },
    {
      "cell_type": "code",
      "execution_count": null,
      "metadata": {
        "colab": {
          "background_save": true
        },
        "id": "0d-ZJPiUjtat"
      },
      "outputs": [],
      "source": [
        "even_num([1,999,9999999])"
      ]
    },
    {
      "cell_type": "markdown",
      "metadata": {
        "id": "2S8ad1pYqzZl"
      },
      "source": [
        "RETURN VALUES IN A LIST"
      ]
    },
    {
      "cell_type": "code",
      "execution_count": null,
      "metadata": {
        "colab": {
          "background_save": true
        },
        "id": "8r9b4ZdfjxSS"
      },
      "outputs": [],
      "source": [
        "def even_value(numbers):\n",
        "  even_number = []\n",
        "  for num in numbers:\n",
        "    if num % 2 ==0:\n",
        "      even_number.append(numbers)\n",
        "      \n",
        "    else:\n",
        "      pass\n",
        "\n",
        "  return even_number\n"
      ]
    },
    {
      "cell_type": "code",
      "execution_count": null,
      "metadata": {
        "colab": {
          "background_save": true
        },
        "id": "QrTCpQQArbnb"
      },
      "outputs": [],
      "source": [
        "even_value([1,7]) # odd value mentioned"
      ]
    },
    {
      "cell_type": "code",
      "execution_count": null,
      "metadata": {
        "colab": {
          "background_save": true
        },
        "id": "xfuCr6jIrfiW"
      },
      "outputs": [],
      "source": [
        "even_value([2,6])"
      ]
    },
    {
      "cell_type": "markdown",
      "metadata": {
        "id": "TAarlybzCcvs"
      },
      "source": [
        "TUPLE UNPACKING"
      ]
    },
    {
      "cell_type": "code",
      "execution_count": null,
      "metadata": {
        "colab": {
          "background_save": true
        },
        "id": "XZsApnRHtUJD"
      },
      "outputs": [],
      "source": [
        "stock_price = [('Apple',230),('Google',600),('onepluse',112)]"
      ]
    },
    {
      "cell_type": "code",
      "execution_count": null,
      "metadata": {
        "colab": {
          "background_save": true
        },
        "id": "rSiXRub7DEqZ"
      },
      "outputs": [],
      "source": [
        "for items in stock_price:\n",
        "  print(items)\n"
      ]
    },
    {
      "cell_type": "code",
      "execution_count": null,
      "metadata": {
        "colab": {
          "background_save": true
        },
        "id": "O6LKgmTpDevQ"
      },
      "outputs": [],
      "source": [
        "for name,price in stock_price:  # Tuple unpacking\n",
        "  print(price+(0.1*price))"
      ]
    },
    {
      "cell_type": "markdown",
      "metadata": {
        "id": "ulwtldoYFxsE"
      },
      "source": [
        "find out the employee of the month ( Related to No. of hours work"
      ]
    },
    {
      "cell_type": "code",
      "execution_count": null,
      "metadata": {
        "colab": {
          "background_save": true
        },
        "id": "LXmQwFLDDsLQ"
      },
      "outputs": [],
      "source": [
        "employee_data = [('DK',450),('Vic',650),('Dani',651)]"
      ]
    },
    {
      "cell_type": "code",
      "execution_count": null,
      "metadata": {
        "colab": {
          "background_save": true
        },
        "id": "C6TJzRzYGQ1O"
      },
      "outputs": [],
      "source": [
        "def employee_of_month(employee_data):\n",
        "  Current_max = 0\n",
        "  employee_name= ''\n",
        "  for employee,hours in employee_data:\n",
        "    if hours > Current_max:\n",
        "      Current_max = hours\n",
        "      employee_name = employee\n",
        "    else:\n",
        "      pass\n",
        "\n",
        "\n",
        "  return (employee_name,Current_max)\n",
        "\n",
        "\n"
      ]
    },
    {
      "cell_type": "code",
      "execution_count": null,
      "metadata": {
        "colab": {
          "background_save": true
        },
        "id": "rqdGwc3vHHLx"
      },
      "outputs": [],
      "source": [
        "employee_of_month(employee_data)"
      ]
    },
    {
      "cell_type": "markdown",
      "metadata": {
        "id": "7saKfSctNXOd"
      },
      "source": [
        "SHUFFLE GAME"
      ]
    },
    {
      "cell_type": "code",
      "execution_count": null,
      "metadata": {
        "colab": {
          "background_save": true
        },
        "id": "lUAXfZmQHV5h"
      },
      "outputs": [],
      "source": [
        "dice=[1,2,3,4,5,6]"
      ]
    },
    {
      "cell_type": "code",
      "execution_count": null,
      "metadata": {
        "colab": {
          "background_save": true
        },
        "id": "UdAguirvNc3-"
      },
      "outputs": [],
      "source": [
        "from random import shuffle"
      ]
    },
    {
      "cell_type": "code",
      "execution_count": null,
      "metadata": {
        "colab": {
          "background_save": true
        },
        "id": "91mSQjwNNg30"
      },
      "outputs": [],
      "source": [
        "shuffle(dice)"
      ]
    },
    {
      "cell_type": "code",
      "execution_count": null,
      "metadata": {
        "colab": {
          "background_save": true
        },
        "id": "Limp6yQ9NkQW"
      },
      "outputs": [],
      "source": [
        "dice"
      ]
    },
    {
      "cell_type": "code",
      "execution_count": null,
      "metadata": {
        "colab": {
          "background_save": true
        },
        "id": "d8CYAsuUNl10"
      },
      "outputs": [],
      "source": [
        "def shuffule_list(my_list):\n",
        "  shuffle(my_list)\n",
        "  return my_list"
      ]
    },
    {
      "cell_type": "code",
      "execution_count": null,
      "metadata": {
        "colab": {
          "background_save": true
        },
        "id": "h7e8WPHLQdeL"
      },
      "outputs": [],
      "source": [
        "result = shuffule_list(dice)"
      ]
    },
    {
      "cell_type": "code",
      "execution_count": null,
      "metadata": {
        "colab": {
          "background_save": true
        },
        "id": "xXs2VJsGQgnE"
      },
      "outputs": [],
      "source": [
        "result"
      ]
    },
    {
      "cell_type": "code",
      "execution_count": null,
      "metadata": {
        "colab": {
          "background_save": true
        },
        "id": "HXWo4KmoQmbE"
      },
      "outputs": [],
      "source": [
        "my_list = ['', 'O', '']"
      ]
    },
    {
      "cell_type": "code",
      "execution_count": null,
      "metadata": {
        "colab": {
          "background_save": true
        },
        "id": "tsMCHU9RQ9hC"
      },
      "outputs": [],
      "source": [
        "shuffule_list(my_list)"
      ]
    },
    {
      "cell_type": "code",
      "execution_count": null,
      "metadata": {
        "colab": {
          "background_save": true
        },
        "id": "9dTiES_VqY8S"
      },
      "outputs": [],
      "source": [
        "def myfunc(Name):\n",
        "    print('Hello {}'.format(Name))\n",
        "    \n",
        "myfunc('Name')\n"
      ]
    },
    {
      "cell_type": "markdown",
      "metadata": {
        "id": "jv8HnwLwPBCK"
      },
      "source": [
        "**arugs and **Kwargs"
      ]
    },
    {
      "cell_type": "code",
      "execution_count": null,
      "metadata": {
        "colab": {
          "background_save": true
        },
        "id": "moPaPg9BHw5n"
      },
      "outputs": [],
      "source": [
        "def myfunc(a,b):\n",
        "  return sum((a,b)) *0.05"
      ]
    },
    {
      "cell_type": "code",
      "execution_count": null,
      "metadata": {
        "colab": {
          "background_save": true
        },
        "id": "GwC3eHp5PPbW"
      },
      "outputs": [],
      "source": [
        "myfunc(10,56)"
      ]
    },
    {
      "cell_type": "code",
      "execution_count": null,
      "metadata": {
        "colab": {
          "background_save": true
        },
        "id": "Akts6AoBPRxT"
      },
      "outputs": [],
      "source": [
        "def myfunc(*args):   # *args are very usefull for multiple arguments\n",
        "  return sum(args)"
      ]
    },
    {
      "cell_type": "code",
      "execution_count": null,
      "metadata": {
        "colab": {
          "background_save": true
        },
        "id": "SvekgEr3RNhv"
      },
      "outputs": [],
      "source": [
        "def myfunc(*args):\n",
        "  return sum(args) *0.05"
      ]
    },
    {
      "cell_type": "code",
      "execution_count": null,
      "metadata": {
        "colab": {
          "background_save": true
        },
        "id": "qkEU2p9TQ9HT"
      },
      "outputs": [],
      "source": [
        "myfunc(10,20)"
      ]
    },
    {
      "cell_type": "code",
      "execution_count": null,
      "metadata": {
        "colab": {
          "background_save": true
        },
        "id": "2LJqfrYXRA-R"
      },
      "outputs": [],
      "source": [
        " def myfunc(**kwargs):\n",
        "\n",
        "   if fruits in kwargs:\n",
        "     print('My favourie fruits {}'.format(kwargs['fruits']))\n",
        "   else:\n",
        "      print('I dont like it')\n",
        "\n",
        "  "
      ]
    },
    {
      "cell_type": "code",
      "execution_count": null,
      "metadata": {
        "colab": {
          "background_save": true
        },
        "id": "1UTKZodRSyM6"
      },
      "outputs": [],
      "source": [
        "def myfunc(*args, **kwargs):\n",
        "  print(args)\n",
        "  print('Find the fruits value {} {}'.format(args[0],kwargs ['food']))"
      ]
    },
    {
      "cell_type": "code",
      "execution_count": null,
      "metadata": {
        "colab": {
          "background_save": true
        },
        "id": "Iy3sUCS6ZAbK"
      },
      "outputs": [],
      "source": [
        "def myfunc(*args):\n",
        "    if args % 2:\n",
        "        return args"
      ]
    },
    {
      "cell_type": "markdown",
      "metadata": {
        "id": "uxd76ENriKr2"
      },
      "source": [
        "LESSER OF TWO EVENS: Write a function that returns the lesser of two given numbers if both numbers are even, but returns the greater if one or both numbers are odd\n",
        "\n",
        "\n",
        "lesser_of_two_evens(2,4) --> 2\n",
        "lesser_of_two_evens(2,5) --> 5"
      ]
    },
    {
      "cell_type": "markdown",
      "metadata": {
        "id": "TIsfKZ6JiKU2"
      },
      "source": []
    },
    {
      "cell_type": "code",
      "execution_count": null,
      "metadata": {
        "colab": {
          "background_save": true
        },
        "id": "N82WaLOrcq_7"
      },
      "outputs": [],
      "source": [
        "def less_or_not_even(a,b):\n",
        "  if a % 2==0 & b % 2==0:\n",
        "    return min(a,b)\n",
        "  else:\n",
        "    return max(a,b)\n",
        "  pass\n",
        "\n"
      ]
    },
    {
      "cell_type": "code",
      "execution_count": null,
      "metadata": {
        "colab": {
          "background_save": true
        },
        "id": "erShPqPPcxJU"
      },
      "outputs": [],
      "source": [
        "less_or_not_even(3,4)\n"
      ]
    },
    {
      "cell_type": "markdown",
      "metadata": {
        "id": "NBS4bqyNk8Rr"
      },
      "source": [
        "ANIMAL CRACKERS: Write a function takes a two-word string and returns True if both words begin with same letter\n",
        "\n",
        "\n",
        "\n",
        "animal_crackers('Levelheaded Llama') --> True\n",
        "animal_crackers('Crazy Kangaroo') --> False"
      ]
    },
    {
      "cell_type": "code",
      "execution_count": null,
      "metadata": {
        "colab": {
          "background_save": true
        },
        "id": "MlppJ7oLi2q3"
      },
      "outputs": [],
      "source": [
        "def two_string_words(text):\n",
        "  wordlist = text.split()\n",
        "  return wordlist[0][0]== wordlist[1][0]\n"
      ]
    },
    {
      "cell_type": "code",
      "execution_count": null,
      "metadata": {
        "colab": {
          "background_save": true
        },
        "id": "oal7ivXRmDIc"
      },
      "outputs": [],
      "source": [
        "two_string_words('Dinesh kumar')"
      ]
    },
    {
      "cell_type": "markdown",
      "metadata": {
        "id": "CoctpUSRpUFM"
      },
      "source": [
        "\n",
        "MAKES TWENTY: Given two integers, return True if the sum of the integers is 20 or if one of the integers is 20. If not, return False\n",
        "\n",
        "makes_twenty(20,10) --> True\n",
        "makes_twenty(12,8) --> True\n",
        "makes_twenty(2,3) --> False\n",
        "\n"
      ]
    },
    {
      "cell_type": "code",
      "execution_count": null,
      "metadata": {
        "colab": {
          "background_save": true
        },
        "id": "UqoU2-2FmGfU"
      },
      "outputs": [],
      "source": [
        "def makes_twenty(n1,n2):\n",
        "  if n1==20 or n2==20:\n",
        "    return True\n",
        "  elif n1 + n2 ==20:\n",
        "    return True\n",
        "  else:\n",
        "    return False"
      ]
    },
    {
      "cell_type": "code",
      "execution_count": null,
      "metadata": {
        "colab": {
          "background_save": true
        },
        "id": "87pmjTa3pq4m"
      },
      "outputs": [],
      "source": [
        "makes_twenty(202,8)"
      ]
    },
    {
      "cell_type": "markdown",
      "metadata": {
        "id": "F4F-YEaIqkbw"
      },
      "source": [
        "OLD MACDONALD: Write a function that capitalizes the first and fourth letters of a name\n",
        "\n",
        "old_macdonald('macdonald') --> MacDonald\n",
        "\n"
      ]
    },
    {
      "cell_type": "code",
      "execution_count": null,
      "metadata": {
        "colab": {
          "background_save": true
        },
        "id": "okvA6xbApuWs"
      },
      "outputs": [],
      "source": [
        "def old_macdonald(name):\n",
        "  if len(name) > 3:\n",
        "    return name[:3].capitalize() + name[3:].capitalize()  # Capitalize is the function for converting upper case to lower case except First letter\n",
        "  return name"
      ]
    },
    {
      "cell_type": "code",
      "execution_count": null,
      "metadata": {
        "colab": {
          "background_save": true
        },
        "id": "dCigCz_nq20L"
      },
      "outputs": [],
      "source": [
        "old_macdonald('Dinesh')"
      ]
    },
    {
      "cell_type": "markdown",
      "metadata": {
        "id": "pUrQ9EOVuIG2"
      },
      "source": [
        "MASTER YODA: Given a sentence, return a sentence with the words reversed\n",
        "\n",
        "master_yoda('I am home') --> 'home am I'\n",
        "master_yoda('We are ready') --> 'ready are We'\n",
        "\n"
      ]
    },
    {
      "cell_type": "code",
      "execution_count": null,
      "metadata": {
        "colab": {
          "background_save": true
        },
        "id": "sup6wkVXtcI9"
      },
      "outputs": [],
      "source": [
        "def master_yoda(name):\n",
        "  return ' '.join(name.split()[::-1])"
      ]
    },
    {
      "cell_type": "code",
      "execution_count": null,
      "metadata": {
        "colab": {
          "background_save": true
        },
        "id": "-adC9SdjvTgH"
      },
      "outputs": [],
      "source": [
        "master_yoda( 'Back i home')"
      ]
    },
    {
      "cell_type": "markdown",
      "metadata": {
        "id": "2WUrlC5l1BJK"
      },
      "source": [
        "Given a list of ints, return True if the array contains a 3 next to a 3 somewhere.\n",
        "\n",
        "has_33([1, 3, 3]) → True\n",
        "has_33([1, 3, 1, 3]) → False\n",
        "has_33([3, 1, 3]) → False"
      ]
    },
    {
      "cell_type": "code",
      "execution_count": null,
      "metadata": {
        "colab": {
          "background_save": true
        },
        "id": "VrX6KmUova5q"
      },
      "outputs": [],
      "source": [
        "def has_33(num):\n",
        "  for i in range(0, len(num)-1):\n",
        "    if num[i:i+2]==[3,3]:\n",
        "      return True\n",
        "    return False"
      ]
    },
    {
      "cell_type": "code",
      "execution_count": null,
      "metadata": {
        "colab": {
          "background_save": true
        },
        "id": "fLjcOwSL2EgD"
      },
      "outputs": [],
      "source": [
        "has_33([1,4,3,3])"
      ]
    },
    {
      "cell_type": "markdown",
      "metadata": {
        "id": "wOYnWWg1F7k-"
      },
      "source": [
        "Given a list of ints, return True if the array contains a 3 next to a 3 somewhere.\n",
        "\n",
        "has_33([1, 3, 3]) → True\n",
        "has_33([1, 3, 1, 3]) → False\n",
        "has_33([3, 1, 3]) → False"
      ]
    },
    {
      "cell_type": "code",
      "execution_count": null,
      "metadata": {
        "colab": {
          "background_save": true
        },
        "id": "Cr_JJIybF-Uw"
      },
      "outputs": [],
      "source": [
        "def num_33(nums):\n",
        "  for i in range(0,len(nums)-1):\n",
        "    if nums[i]==3 and nums[i+1]==3:\n",
        "      return True\n",
        "  return False"
      ]
    },
    {
      "cell_type": "code",
      "execution_count": null,
      "metadata": {
        "colab": {
          "background_save": true
        },
        "id": "4VVQxKjoGeCq"
      },
      "outputs": [],
      "source": [
        "num_33([1,3,3,4,5])"
      ]
    },
    {
      "cell_type": "markdown",
      "metadata": {
        "id": "T_4uf9oQJf21"
      },
      "source": [
        "\n",
        "PAPER DOLL: Given a string, return a string where for every character in the original there are three characters\n",
        "\n",
        "paper_doll('Hello') --> 'HHHeeellllllooo'\n",
        "paper_doll('Mississippi') --> 'MMMiiissssssiiippppppiii'\n",
        "\n"
      ]
    },
    {
      "cell_type": "code",
      "execution_count": null,
      "metadata": {
        "colab": {
          "background_save": true
        },
        "id": "LG7i7D4xGiIV"
      },
      "outputs": [],
      "source": [
        "def word_3(text):\n",
        "  word=\"\"\n",
        "  for char in text:\n",
        "    word += char*3\n",
        "  return word"
      ]
    },
    {
      "cell_type": "code",
      "execution_count": null,
      "metadata": {
        "colab": {
          "background_save": true
        },
        "id": "Fd9S712WJvZW"
      },
      "outputs": [],
      "source": [
        "word_3(\"HI\")"
      ]
    },
    {
      "cell_type": "code",
      "execution_count": null,
      "metadata": {
        "colab": {
          "background_save": true
        },
        "id": "bv_rFhSoJ3AG"
      },
      "outputs": [],
      "source": []
    },
    {
      "cell_type": "markdown",
      "metadata": {
        "id": "IdB-OeRrN31Q"
      },
      "source": [
        "BLACKJACK: Given three integers between 1 and 11, if their sum is less than or equal to 21, return their sum. If their sum exceeds 21 and there's an eleven, reduce the total sum by 10. Finally, if the sum (even after adjustment) exceeds 21, return 'BUST'\n",
        "\n",
        "blackjack(5,6,7) --> 18\n",
        "blackjack(9,9,9) --> 'BUST'\n",
        "blackjack(9,9,11) --> 19"
      ]
    },
    {
      "cell_type": "code",
      "execution_count": null,
      "metadata": {
        "colab": {
          "background_save": true
        },
        "id": "fS2xVTMIODZa"
      },
      "outputs": [],
      "source": [
        "def blackjack(a,b,c):\n",
        "  if sum([a,b,c]) <= 21:\n",
        "    return sum([a,b,c])\n",
        "  elif 11 in ([a,b,c]) and sum([a,b,c]) <=31:\n",
        "    return sum([a,b,c])-10\n",
        "  else:\n",
        "    return 'Bust'"
      ]
    },
    {
      "cell_type": "code",
      "execution_count": null,
      "metadata": {
        "colab": {
          "background_save": true
        },
        "id": "n7Mvis6iPOqc"
      },
      "outputs": [],
      "source": [
        "blackjack(9,9,9)"
      ]
    },
    {
      "cell_type": "markdown",
      "metadata": {
        "id": "N0S072MmRT_H"
      },
      "source": [
        "\n",
        "SUMMER OF '69: Return the sum of the numbers in the array, except ignore sections of numbers starting with a 6 and extending to the next 9 (every 6 will be followed by at least one 9). Return 0 for no numbers.\n",
        "\n",
        "summer_69([1, 3, 5]) --> 9\n",
        "summer_69([4, 5, 6, 7, 8, 9]) --> 9\n",
        "summer_69([2, 1, 6, 9, 11]) --> 14\n",
        "\n"
      ]
    },
    {
      "cell_type": "code",
      "execution_count": null,
      "metadata": {
        "colab": {
          "background_save": true
        },
        "id": "oZnt3ETtPSxA"
      },
      "outputs": [],
      "source": [
        "def summer_99(arr):\n",
        "  total = 0\n",
        "  add = True\n",
        "\n",
        "  for num in arr:\n",
        "    while add:\n",
        "      if num!=6:\n",
        "        total += num\n",
        "        break\n",
        "      else:\n",
        "        add = False\n",
        "    while not add:\n",
        "      if num!=9:\n",
        "        total +=num\n",
        "      else:\n",
        "        add = True\n",
        "        break\n",
        "  return total\n",
        "\n"
      ]
    },
    {
      "cell_type": "code",
      "execution_count": null,
      "metadata": {
        "colab": {
          "background_save": true
        },
        "id": "ycCE-vlLTB5p"
      },
      "outputs": [],
      "source": [
        "summer_99([1,3,5])"
      ]
    },
    {
      "cell_type": "code",
      "execution_count": null,
      "metadata": {
        "colab": {
          "background_save": true
        },
        "id": "ApqWKXF-Ux9n"
      },
      "outputs": [],
      "source": [
        "def square(nums):\n",
        "  return nums**2"
      ]
    },
    {
      "cell_type": "code",
      "execution_count": null,
      "metadata": {
        "colab": {
          "background_save": true
        },
        "id": "ON601FvYl-Sd"
      },
      "outputs": [],
      "source": [
        "square(2)"
      ]
    },
    {
      "cell_type": "code",
      "execution_count": null,
      "metadata": {
        "colab": {
          "background_save": true
        },
        "id": "jNpNqKS5mBdH"
      },
      "outputs": [],
      "source": [
        "my_nums = [1,2,3,4,5]"
      ]
    },
    {
      "cell_type": "code",
      "execution_count": null,
      "metadata": {
        "colab": {
          "background_save": true
        },
        "id": "pA5Ummu8mIJ1"
      },
      "outputs": [],
      "source": [
        "square"
      ]
    },
    {
      "cell_type": "code",
      "execution_count": null,
      "metadata": {
        "colab": {
          "background_save": true
        },
        "id": "vpebHNFamL_t"
      },
      "outputs": [],
      "source": [
        "for item in map(square,my_nums): # MAP funciton\n",
        "  print(item)\n"
      ]
    },
    {
      "cell_type": "code",
      "execution_count": null,
      "metadata": {
        "colab": {
          "background_save": true
        },
        "id": "5ZcRAwRFmiNM"
      },
      "outputs": [],
      "source": [
        "\n",
        "list(map(square,my_nums)) # Map implementation"
      ]
    },
    {
      "cell_type": "code",
      "execution_count": null,
      "metadata": {
        "colab": {
          "background_save": true
        },
        "id": "ZmcdtFQlmyQL"
      },
      "outputs": [],
      "source": [
        "def even_value(nums):\n",
        "  return nums%2==0"
      ]
    },
    {
      "cell_type": "code",
      "execution_count": null,
      "metadata": {
        "colab": {
          "background_save": true
        },
        "id": "DTmVWK0SpIhk"
      },
      "outputs": [],
      "source": [
        "my_list=[1,2,3,4,5,6,8]"
      ]
    },
    {
      "cell_type": "code",
      "execution_count": null,
      "metadata": {
        "colab": {
          "background_save": true
        },
        "id": "XKgc3VRco8wz"
      },
      "outputs": [],
      "source": [
        "for n in filter(even_value,my_list):\n",
        "  print(n)"
      ]
    },
    {
      "cell_type": "code",
      "execution_count": null,
      "metadata": {
        "colab": {
          "background_save": true
        },
        "id": "tKphdkRepRxL"
      },
      "outputs": [],
      "source": [
        "list(filter(even_value,my_list))"
      ]
    },
    {
      "cell_type": "code",
      "execution_count": null,
      "metadata": {
        "colab": {
          "background_save": true
        },
        "id": "rcS29t4lpYpu"
      },
      "outputs": [],
      "source": [
        "lambda nums: nums**2\n"
      ]
    },
    {
      "cell_type": "code",
      "execution_count": null,
      "metadata": {
        "colab": {
          "background_save": true
        },
        "id": "iBTYoeVTqbUz"
      },
      "outputs": [],
      "source": [
        "squart(6)"
      ]
    },
    {
      "cell_type": "code",
      "execution_count": null,
      "metadata": {
        "colab": {
          "background_save": true
        },
        "id": "0S-PgyLAqij8"
      },
      "outputs": [],
      "source": [
        "lambda nums:num%2==0"
      ]
    },
    {
      "cell_type": "code",
      "execution_count": null,
      "metadata": {
        "colab": {
          "background_save": true
        },
        "id": "IvTrN071r45i"
      },
      "outputs": [],
      "source": [
        "my_list = [1,2,3,4,5,6]"
      ]
    },
    {
      "cell_type": "code",
      "execution_count": null,
      "metadata": {
        "colab": {
          "background_save": true
        },
        "id": "W0dObQhxrZll"
      },
      "outputs": [],
      "source": [
        "list(map(lambda nums:nums%2==0,my_list))"
      ]
    },
    {
      "cell_type": "code",
      "execution_count": null,
      "metadata": {
        "colab": {
          "background_save": true
        },
        "id": "eSXD10ogr2IE"
      },
      "outputs": [],
      "source": [
        "my_list"
      ]
    },
    {
      "cell_type": "code",
      "execution_count": null,
      "metadata": {
        "colab": {
          "background_save": true
        },
        "id": "Sdt5954Vsom2"
      },
      "outputs": [],
      "source": [
        "list(filter(lambda x : x%2==0,my_list))"
      ]
    },
    {
      "cell_type": "markdown",
      "metadata": {
        "id": "bL_CdHNJ4Pic"
      },
      "source": [
        "The volume of a sphere is given as\n",
        "(4/3)*(3.14)*(r**3)"
      ]
    },
    {
      "cell_type": "code",
      "execution_count": null,
      "metadata": {
        "colab": {
          "background_save": true
        },
        "id": "QSF66ptTs73L"
      },
      "outputs": [],
      "source": [
        "def vol(r):\n",
        "  return (4/3)*(3.14)*(r**3)\n",
        "    "
      ]
    },
    {
      "cell_type": "code",
      "execution_count": null,
      "metadata": {
        "colab": {
          "background_save": true
        },
        "id": "2vwU8E4c3MFt"
      },
      "outputs": [],
      "source": [
        "vol(2)"
      ]
    },
    {
      "cell_type": "markdown",
      "metadata": {
        "id": "Z52yodAR5HGD"
      },
      "source": [
        "Write a function that checks whether a number is in a given range (inclusive of high and low)"
      ]
    },
    {
      "cell_type": "code",
      "execution_count": null,
      "metadata": {
        "colab": {
          "background_save": true
        },
        "id": "lLLnjTWV3_cU"
      },
      "outputs": [],
      "source": [
        "def run_check(num,low,high):\n",
        "  if num in range(low,high+1):\n",
        "    print('{} is the range between {} to {}'.format(num,low,high))\n",
        "  else:\n",
        "    print('The number is outside the range')\n"
      ]
    },
    {
      "cell_type": "code",
      "execution_count": null,
      "metadata": {
        "colab": {
          "background_save": true
        },
        "id": "zSBoXSGj6DXt"
      },
      "outputs": [],
      "source": [
        "run_check(9,4,8)"
      ]
    },
    {
      "cell_type": "code",
      "execution_count": null,
      "metadata": {
        "colab": {
          "background_save": true
        },
        "id": "Qve8IMb16GUM"
      },
      "outputs": [],
      "source": [
        "def Boolen_(num,low,high):\n",
        "  return num in range(low,high+1)\n",
        "\n"
      ]
    },
    {
      "cell_type": "code",
      "execution_count": null,
      "metadata": {
        "colab": {
          "background_save": true
        },
        "id": "9QXlCojt6wd1"
      },
      "outputs": [],
      "source": [
        "Boolen_(4,2,8)"
      ]
    },
    {
      "cell_type": "markdown",
      "source": [
        "Write a Python function that accepts a string and calculates the number of upper case letters and lower case letters.\n",
        "\n",
        "Sample String : 'Hello Mr. Rogers, how are you this fine Tuesday?'\n",
        "Expected Output : \n",
        "No. of Upper case characters : 4\n",
        "No. of Lower case Characters : 33\n",
        "\n",
        "HINT: Two string methods that might prove useful: .isupper() and .islower()\n",
        "\n",
        "If you feel ambitious, explore the Collections module to solve this problem!\n"
      ],
      "metadata": {
        "id": "Ytb149G5p33p"
      }
    },
    {
      "cell_type": "code",
      "execution_count": null,
      "metadata": {
        "id": "A32mozkT7YrD"
      },
      "outputs": [],
      "source": [
        "def up_lower(s):\n",
        "  lowercase = 0\n",
        "  uppercase = 0\n",
        "  for char in s:\n",
        "    if char.isupper():\n",
        "      uppercase+= 1\n",
        "    elif char.islower():\n",
        "      lowercase+=1\n",
        "    else:\n",
        "      pass\n",
        "\n",
        "\n",
        "\n",
        "  print(f'Uppercase : {s}')\n",
        "  print(f'Lower count is :{lowercase}')\n",
        "  print(f'Upper count is :{uppercase}')"
      ]
    },
    {
      "cell_type": "code",
      "source": [
        "s = 'Hello Mr. Rogers, how are you this fine Tuesday?'"
      ],
      "metadata": {
        "id": "ZeAvrkWMqiaL"
      },
      "execution_count": null,
      "outputs": []
    },
    {
      "cell_type": "code",
      "source": [
        "up_lower(s)"
      ],
      "metadata": {
        "colab": {
          "base_uri": "https://localhost:8080/"
        },
        "id": "zFsuEWsKq5e7",
        "outputId": "42a1e621-b83b-4d01-b9a0-4703ef93711e"
      },
      "execution_count": null,
      "outputs": [
        {
          "output_type": "stream",
          "name": "stdout",
          "text": [
            "Uppercase : Hello Mr. Rogers, how are you this fine Tuesday?\n",
            "Lower count is :33\n",
            "Upper count is :4\n"
          ]
        }
      ]
    },
    {
      "cell_type": "markdown",
      "source": [
        "Write a Python function that takes a list and returns a new list with unique elements of the first list.\n",
        "\n",
        "Sample List : [1,1,1,1,2,2,3,3,3,3,4,5]\n",
        "Unique List : [1, 2, 3, 4, 5]"
      ],
      "metadata": {
        "id": "zYK_RpU4uRuG"
      }
    },
    {
      "cell_type": "code",
      "source": [
        "def unique_num(lst):\n",
        "  x=[]\n",
        "\n",
        "  for num in lst:\n",
        "    if num not in x:\n",
        "      x.append(num)\n",
        "  return x"
      ],
      "metadata": {
        "id": "-f09AqUeq_YY"
      },
      "execution_count": null,
      "outputs": []
    },
    {
      "cell_type": "code",
      "source": [
        "lst=[1,1,1,1,2,2,3,3,3,3,4,5]"
      ],
      "metadata": {
        "id": "rhdUyf_kuqws"
      },
      "execution_count": null,
      "outputs": []
    },
    {
      "cell_type": "code",
      "source": [
        "unique_num(lst)"
      ],
      "metadata": {
        "colab": {
          "base_uri": "https://localhost:8080/"
        },
        "id": "vW-axj4JuvmQ",
        "outputId": "2deffb61-29ee-41eb-ef05-d007947e8097"
      },
      "execution_count": null,
      "outputs": [
        {
          "output_type": "execute_result",
          "data": {
            "text/plain": [
              "[1, 2, 3, 4, 5]"
            ]
          },
          "metadata": {},
          "execution_count": 36
        }
      ]
    },
    {
      "cell_type": "markdown",
      "source": [
        "Write a Python function to multiply all the numbers in a list.\n",
        "\n",
        "Sample List : [1, 2, 3, -4]\n",
        "Expected Output : -24"
      ],
      "metadata": {
        "id": "Ty4ZyyZiwuAB"
      }
    },
    {
      "cell_type": "code",
      "source": [
        "def squar(number):\n",
        "  x=1\n",
        "\n",
        "  for num in number:\n",
        "    x =x*num\n",
        "  return x\n"
      ],
      "metadata": {
        "id": "ZdPKbV2WuxvE"
      },
      "execution_count": null,
      "outputs": []
    },
    {
      "cell_type": "code",
      "source": [
        "number = [1,2,3,-4]"
      ],
      "metadata": {
        "id": "6SH6CsoxxJPR"
      },
      "execution_count": null,
      "outputs": []
    },
    {
      "cell_type": "code",
      "source": [
        "squar(number)"
      ],
      "metadata": {
        "colab": {
          "base_uri": "https://localhost:8080/"
        },
        "id": "9SCsIz4gxNzb",
        "outputId": "c2a8dcf3-c1a0-423d-9400-7ab42397dbcc"
      },
      "execution_count": null,
      "outputs": [
        {
          "output_type": "execute_result",
          "data": {
            "text/plain": [
              "-24"
            ]
          },
          "metadata": {},
          "execution_count": 50
        }
      ]
    },
    {
      "cell_type": "markdown",
      "source": [
        "Write a Python function that checks whether a passed in string is palindrome or not.\n",
        "\n",
        "Note: A palindrome is word, phrase, or sequence that reads the same backward as forward, e.g., madam or nurses run."
      ],
      "metadata": {
        "id": "bZ5GS7Qay9LM"
      }
    },
    {
      "cell_type": "code",
      "source": [
        "def palindrome(x):\n",
        "  x=x.replace(' ','')\n",
        "  return  x ==x[::-1]"
      ],
      "metadata": {
        "id": "cxUh1dv9xPhs"
      },
      "execution_count": null,
      "outputs": []
    },
    {
      "cell_type": "code",
      "source": [
        "x= 'ma dam'"
      ],
      "metadata": {
        "id": "_CCJ8ELbzLRP"
      },
      "execution_count": null,
      "outputs": []
    },
    {
      "cell_type": "code",
      "source": [
        "palindrome(x)"
      ],
      "metadata": {
        "colab": {
          "base_uri": "https://localhost:8080/"
        },
        "id": "MZw8W_V5zNXS",
        "outputId": "c78a1ead-3fdd-43bf-886c-fe218c11075a"
      },
      "execution_count": null,
      "outputs": [
        {
          "output_type": "execute_result",
          "data": {
            "text/plain": [
              "True"
            ]
          },
          "metadata": {},
          "execution_count": 70
        }
      ]
    },
    {
      "cell_type": "markdown",
      "source": [
        "Write a Python function to check whether a string is pangram or not.\n",
        "\n",
        "Note : Pangrams are words or sentences containing every letter of the alphabet at least once.\n",
        "For example : \"The quick brown fox jumps over the lazy dog\"\n",
        "\n"
      ],
      "metadata": {
        "id": "9I2-9rC61uHp"
      }
    },
    {
      "cell_type": "code",
      "source": [
        "import string\n",
        "def pangram(str1, alphabet=string.ascii_lowercase):\n",
        "\n",
        "  # set the alphabet\n",
        "  alphabet =set(alphabet)\n",
        "  # Repalace the space\n",
        "\n",
        "  str1 =str1.replace(' ','')\n",
        "  #set the lowercase\n",
        "  str1 = str1.lower()\n",
        "  # unique number\n",
        "  str1 =set(str1)\n",
        "\n",
        "  #\n",
        "  return str1==alphabet\n"
      ],
      "metadata": {
        "id": "5spzVqH30bbt"
      },
      "execution_count": null,
      "outputs": []
    },
    {
      "cell_type": "code",
      "source": [
        "pangram('The quick brown fox jumps over the lazy dog')"
      ],
      "metadata": {
        "colab": {
          "base_uri": "https://localhost:8080/"
        },
        "id": "eEPo_2bZ2vKp",
        "outputId": "33ae423d-1ebf-4b17-b38d-a7763ebe6f04"
      },
      "execution_count": null,
      "outputs": [
        {
          "output_type": "execute_result",
          "data": {
            "text/plain": [
              "True"
            ]
          },
          "metadata": {},
          "execution_count": 2
        }
      ]
    },
    {
      "cell_type": "code",
      "source": [
        "x=([' ',' ',' '])\n",
        "y = ([' ',' ',' '])\n",
        "z=([' ',' ',' '])"
      ],
      "metadata": {
        "id": "F8ZeYvwx3BO6"
      },
      "execution_count": null,
      "outputs": []
    },
    {
      "cell_type": "code",
      "source": [
        "def example(x,y,z):\n",
        "  print(x)\n",
        "  print(y)\n",
        "  print(z)"
      ],
      "metadata": {
        "id": "DDD_d0kUH65s"
      },
      "execution_count": null,
      "outputs": []
    },
    {
      "cell_type": "code",
      "source": [
        "example(x,y,z)"
      ],
      "metadata": {
        "colab": {
          "base_uri": "https://localhost:8080/"
        },
        "id": "JjfZMQqWH-lZ",
        "outputId": "11b336ac-1aee-4c74-87a0-00c01c30e067"
      },
      "execution_count": null,
      "outputs": [
        {
          "output_type": "stream",
          "name": "stdout",
          "text": [
            "[' ', ' ', ' ']\n",
            "[' ', ' ', ' ']\n",
            "[' ', ' ', ' ']\n"
          ]
        }
      ]
    },
    {
      "cell_type": "code",
      "source": [
        "y[2]=\"x\""
      ],
      "metadata": {
        "id": "8UnIyxLoIILL"
      },
      "execution_count": null,
      "outputs": []
    },
    {
      "cell_type": "code",
      "source": [
        "example(x,y,z)"
      ],
      "metadata": {
        "colab": {
          "base_uri": "https://localhost:8080/"
        },
        "id": "hmhwFkRpIQq7",
        "outputId": "3b39feb1-e8b7-4ccb-f865-33d890a53fc7"
      },
      "execution_count": null,
      "outputs": [
        {
          "output_type": "stream",
          "name": "stdout",
          "text": [
            "[' ', ' ', ' ']\n",
            "[' ', ' ', 'x']\n",
            "[' ', ' ', ' ']\n"
          ]
        }
      ]
    },
    {
      "cell_type": "code",
      "source": [
        "input(\"choose the number: \")"
      ],
      "metadata": {
        "colab": {
          "base_uri": "https://localhost:8080/",
          "height": 53
        },
        "id": "Ikrfjw-qISbh",
        "outputId": "57b59c61-ec99-4c8b-ef78-a68a3e68d98a"
      },
      "execution_count": null,
      "outputs": [
        {
          "name": "stdout",
          "output_type": "stream",
          "text": [
            "choose the number: 55\n"
          ]
        },
        {
          "output_type": "execute_result",
          "data": {
            "text/plain": [
              "'55'"
            ],
            "application/vnd.google.colaboratory.intrinsic+json": {
              "type": "string"
            }
          },
          "metadata": {},
          "execution_count": 22
        }
      ]
    },
    {
      "cell_type": "code",
      "source": [
        "value = input(\"choose the number: \")"
      ],
      "metadata": {
        "colab": {
          "base_uri": "https://localhost:8080/"
        },
        "id": "dpK-hJoELLjh",
        "outputId": "da95c6e3-05c3-4eaa-f902-92b7544365bf"
      },
      "execution_count": null,
      "outputs": [
        {
          "name": "stdout",
          "output_type": "stream",
          "text": [
            "choose the number: 5\n"
          ]
        }
      ]
    },
    {
      "cell_type": "code",
      "source": [
        "position=int(value)"
      ],
      "metadata": {
        "id": "WCEtnwhsLTsx"
      },
      "execution_count": null,
      "outputs": []
    },
    {
      "cell_type": "code",
      "source": [
        "type(position)"
      ],
      "metadata": {
        "colab": {
          "base_uri": "https://localhost:8080/"
        },
        "id": "Jk0FZYH1LXY1",
        "outputId": "1ab99407-0917-4ad6-994e-104aa146c572"
      },
      "execution_count": null,
      "outputs": [
        {
          "output_type": "execute_result",
          "data": {
            "text/plain": [
              "int"
            ]
          },
          "metadata": {},
          "execution_count": 28
        }
      ]
    },
    {
      "cell_type": "code",
      "source": [
        "value= input(\"change the value: \")"
      ],
      "metadata": {
        "colab": {
          "base_uri": "https://localhost:8080/"
        },
        "id": "ERiUQRTuLcA4",
        "outputId": "f9c83bac-4126-421b-8a67-0310b29dc83f"
      },
      "execution_count": null,
      "outputs": [
        {
          "name": "stdout",
          "output_type": "stream",
          "text": [
            "change the value: two\n"
          ]
        }
      ]
    },
    {
      "cell_type": "code",
      "source": [
        "def user_choice():\n",
        "  choice = input('Choose the number between(0-9): ')\n",
        "  return int(choice)"
      ],
      "metadata": {
        "id": "dBxtydhSMdaK"
      },
      "execution_count": null,
      "outputs": []
    },
    {
      "cell_type": "code",
      "source": [
        "user_choice()"
      ],
      "metadata": {
        "colab": {
          "base_uri": "https://localhost:8080/"
        },
        "id": "6hTzntjeMjpb",
        "outputId": "a73b538c-6041-4837-f336-356e083eb111"
      },
      "execution_count": null,
      "outputs": [
        {
          "name": "stdout",
          "output_type": "stream",
          "text": [
            "Choose the number between(0-9): 100\n"
          ]
        },
        {
          "output_type": "execute_result",
          "data": {
            "text/plain": [
              "100"
            ]
          },
          "metadata": {},
          "execution_count": 36
        }
      ]
    },
    {
      "cell_type": "code",
      "source": [
        "def user_choice():\n",
        "  choice = 'wrong'\n",
        "  while choice.isdigit()==False:\n",
        "\n",
        "    choice = input('Choose the number between(0-9): ')\n",
        "    if choice.isdigit()==False:\n",
        "      print(\"this is not a digit\")\n",
        "  return int(choice)"
      ],
      "metadata": {
        "id": "KdiWZKyFOn-6"
      },
      "execution_count": null,
      "outputs": []
    },
    {
      "cell_type": "code",
      "source": [
        "user_choice()"
      ],
      "metadata": {
        "colab": {
          "base_uri": "https://localhost:8080/"
        },
        "id": "S_j8-7yURk1-",
        "outputId": "37d12a48-2757-45df-b6f8-2316794d27fe"
      },
      "execution_count": null,
      "outputs": [
        {
          "name": "stdout",
          "output_type": "stream",
          "text": [
            "Choose the number between(0-9): dfdf\n",
            "this is not a digit\n",
            "Choose the number between(0-9): 444\n"
          ]
        },
        {
          "output_type": "execute_result",
          "data": {
            "text/plain": [
              "444"
            ]
          },
          "metadata": {},
          "execution_count": 45
        }
      ]
    },
    {
      "cell_type": "code",
      "source": [
        "def user_choice():\n",
        "\n",
        "\n",
        "    # initials\n",
        "  choice = 'wrong'\n",
        "  acceptable_range = range(0,10)\n",
        "  within_range = False  \n",
        "\n",
        "\n",
        "  while choice.isdigit()==False or within_range==False:\n",
        "\n",
        "    choice = input('Choose the number between(0-9): ')\n",
        "   # Digit check\n",
        "    if choice.isdigit()==False:\n",
        "      print(\"this is not a digit\")\n",
        "    # Range Check\n",
        "    if choice.isdigit()==True:\n",
        "      if int(choice) in acceptable_range:\n",
        "        within_range = True\n",
        "      else:\n",
        "        print(\"Out of range\")\n",
        "        within_range = False\n",
        "\n",
        "\n",
        "\n",
        "  return int(choice)"
      ],
      "metadata": {
        "id": "jMouD3ftRwMo"
      },
      "execution_count": null,
      "outputs": []
    },
    {
      "cell_type": "code",
      "source": [
        "user_choice()"
      ],
      "metadata": {
        "colab": {
          "base_uri": "https://localhost:8080/"
        },
        "id": "MWwWRdrGXSSh",
        "outputId": "84ba25e7-8ec0-43c3-d9ee-6396ad6395d3"
      },
      "execution_count": null,
      "outputs": [
        {
          "name": "stdout",
          "output_type": "stream",
          "text": [
            "Choose the number between(0-9): fgdg\n",
            "this is not a digit\n",
            "Choose the number between(0-9): 4554\n",
            "Out of range\n",
            "Choose the number between(0-9): 7\n"
          ]
        },
        {
          "output_type": "execute_result",
          "data": {
            "text/plain": [
              "7"
            ]
          },
          "metadata": {},
          "execution_count": 57
        }
      ]
    },
    {
      "cell_type": "markdown",
      "source": [
        "OOPS Concept"
      ],
      "metadata": {
        "id": "rVk4pK4IOK0V"
      }
    },
    {
      "cell_type": "code",
      "source": [
        "class Dog():\n",
        "\n",
        "  spiece = 'mamale'\n",
        "  def __init__(self,breed,Name,Colour):\n",
        "    self.my_breed = breed\n",
        "    self.my_name = Name\n",
        "    self.my_colour = Colour\n",
        "\n",
        "\n",
        "  def bark(self):# method\n",
        "    print(\"woow! My name is {}\".format(self.my_name))\n",
        "\n"
      ],
      "metadata": {
        "id": "hYWGX0NcXcSr"
      },
      "execution_count": null,
      "outputs": []
    },
    {
      "cell_type": "code",
      "source": [
        "my_dog = Dog('Lab','Frank','brown')"
      ],
      "metadata": {
        "id": "cMBnN2_3ORaz"
      },
      "execution_count": null,
      "outputs": []
    },
    {
      "cell_type": "code",
      "source": [
        "type(my_dog)"
      ],
      "metadata": {
        "colab": {
          "base_uri": "https://localhost:8080/"
        },
        "id": "3BnYPUdQOWDb",
        "outputId": "f120b40b-5b2a-4a37-8e4d-004c6fb535bc"
      },
      "execution_count": null,
      "outputs": [
        {
          "output_type": "execute_result",
          "data": {
            "text/plain": [
              "__main__.Dog"
            ]
          },
          "metadata": {},
          "execution_count": 32
        }
      ]
    },
    {
      "cell_type": "code",
      "source": [
        "my_dog.my_name # Casesensitive\n"
      ],
      "metadata": {
        "colab": {
          "base_uri": "https://localhost:8080/",
          "height": 35
        },
        "id": "ZDYZFZYtObaN",
        "outputId": "6163e82f-8658-4f13-ea2c-0be20b53f57b"
      },
      "execution_count": null,
      "outputs": [
        {
          "output_type": "execute_result",
          "data": {
            "text/plain": [
              "'Frank'"
            ],
            "application/vnd.google.colaboratory.intrinsic+json": {
              "type": "string"
            }
          },
          "metadata": {},
          "execution_count": 33
        }
      ]
    },
    {
      "cell_type": "code",
      "source": [
        "my_dog.bark()"
      ],
      "metadata": {
        "colab": {
          "base_uri": "https://localhost:8080/"
        },
        "id": "Gr0cwSqxUpFg",
        "outputId": "ee5524a4-d086-4a46-8811-bf645ee63a21"
      },
      "execution_count": null,
      "outputs": [
        {
          "output_type": "stream",
          "name": "stdout",
          "text": [
            "woow! My name is Frank\n"
          ]
        }
      ]
    },
    {
      "cell_type": "code",
      "source": [
        "class Circle():\n",
        "\n",
        "  pie = 3.14\n",
        "\n",
        "  def __init__ (self,radius=1):\n",
        "    self.radius = radius\n",
        "    self.area = radius*radius *Circle.pie\n",
        "\n",
        "  def circumference(self):\n",
        "    return self.radius * self.pie * 2"
      ],
      "metadata": {
        "id": "vXrR_CXqadr9"
      },
      "execution_count": null,
      "outputs": []
    },
    {
      "cell_type": "code",
      "source": [
        "my_circle = Circle(3)"
      ],
      "metadata": {
        "id": "WdVsuHyAdG7l"
      },
      "execution_count": null,
      "outputs": []
    },
    {
      "cell_type": "code",
      "source": [
        "my_circle"
      ],
      "metadata": {
        "colab": {
          "base_uri": "https://localhost:8080/"
        },
        "id": "LpOYjtIDdJMF",
        "outputId": "4cd9f735-1902-4ecc-9934-88da139db1f8"
      },
      "execution_count": null,
      "outputs": [
        {
          "output_type": "execute_result",
          "data": {
            "text/plain": [
              "<__main__.Circle at 0x7f4ce10f4b50>"
            ]
          },
          "metadata": {},
          "execution_count": 59
        }
      ]
    },
    {
      "cell_type": "code",
      "source": [
        "my_circle.area"
      ],
      "metadata": {
        "colab": {
          "base_uri": "https://localhost:8080/"
        },
        "id": "92ZPrInHda7E",
        "outputId": "2d0f52df-a962-40c8-9366-c08948c62bd0"
      },
      "execution_count": null,
      "outputs": [
        {
          "output_type": "execute_result",
          "data": {
            "text/plain": [
              "28.26"
            ]
          },
          "metadata": {},
          "execution_count": 62
        }
      ]
    },
    {
      "cell_type": "code",
      "source": [
        "my_circle.circumference()"
      ],
      "metadata": {
        "colab": {
          "base_uri": "https://localhost:8080/"
        },
        "id": "3tiSTAlrdzXl",
        "outputId": "3c1f03f5-f0a7-4747-dd0b-f87c0b4f729c"
      },
      "execution_count": null,
      "outputs": [
        {
          "output_type": "execute_result",
          "data": {
            "text/plain": [
              "18.84"
            ]
          },
          "metadata": {},
          "execution_count": 63
        }
      ]
    },
    {
      "cell_type": "markdown",
      "source": [
        "OOPS -- Inheritence"
      ],
      "metadata": {
        "id": "D6xVnfZAVj43"
      }
    },
    {
      "cell_type": "code",
      "source": [
        "class Animal():\n",
        "\n",
        "  def __init__(self):\n",
        "    print('Animal ID Created')\n",
        "\n",
        "\n",
        "  def eat(self):\n",
        "    print(\"i am eating\")\n",
        "\n",
        "  def bark(self):\n",
        "    print('wooh!')"
      ],
      "metadata": {
        "id": "N8qlUSUWadh5"
      },
      "execution_count": null,
      "outputs": []
    },
    {
      "cell_type": "code",
      "source": [
        "my_animal = Animal()"
      ],
      "metadata": {
        "colab": {
          "base_uri": "https://localhost:8080/"
        },
        "id": "l8j9K1KTa5N0",
        "outputId": "7811f8e2-b9af-4be7-9908-a97d6c1c4c36"
      },
      "execution_count": null,
      "outputs": [
        {
          "output_type": "stream",
          "name": "stdout",
          "text": [
            "Animal ID Created\n"
          ]
        }
      ]
    },
    {
      "cell_type": "code",
      "source": [
        "my_animal.eat()"
      ],
      "metadata": {
        "colab": {
          "base_uri": "https://localhost:8080/"
        },
        "id": "AsX50TgKa9V-",
        "outputId": "029c034f-b9db-4880-e1a6-63e504d2d8ac"
      },
      "execution_count": null,
      "outputs": [
        {
          "output_type": "stream",
          "name": "stdout",
          "text": [
            "i am eating\n"
          ]
        }
      ]
    },
    {
      "cell_type": "code",
      "source": [
        "class Dog(Animal): # Inheritence\n",
        "\n",
        "  def __init__(self):\n",
        "    Animal.__init__(self)\n",
        "    print('i Love dogs')\n",
        "\n",
        "  def eat(self):\n",
        "    print('I love chicken')"
      ],
      "metadata": {
        "id": "dBw4c-43bCo0"
      },
      "execution_count": null,
      "outputs": []
    },
    {
      "cell_type": "code",
      "source": [
        "my_dog = Dog()"
      ],
      "metadata": {
        "colab": {
          "base_uri": "https://localhost:8080/"
        },
        "id": "3_VrMO7Abozk",
        "outputId": "dbdd3138-70c7-40fb-8743-14ad2fb097f4"
      },
      "execution_count": null,
      "outputs": [
        {
          "output_type": "stream",
          "name": "stdout",
          "text": [
            "Animal ID Created\n",
            "i Love dogs\n"
          ]
        }
      ]
    },
    {
      "cell_type": "code",
      "source": [
        "my_dog.eat()"
      ],
      "metadata": {
        "colab": {
          "base_uri": "https://localhost:8080/"
        },
        "id": "4rJ9vKCcbxlN",
        "outputId": "6f887472-cecd-4c46-c398-64344b1de7c8"
      },
      "execution_count": null,
      "outputs": [
        {
          "output_type": "stream",
          "name": "stdout",
          "text": [
            "I love chicken\n"
          ]
        }
      ]
    },
    {
      "cell_type": "markdown",
      "source": [
        "POlymorphism"
      ],
      "metadata": {
        "id": "5aANdd3bk5Kw"
      }
    },
    {
      "cell_type": "code",
      "source": [
        "class French():\n",
        "\n",
        "  def say_hi(self):\n",
        "    print('Bandara')"
      ],
      "metadata": {
        "id": "dib2FX8Lb2iQ"
      },
      "execution_count": null,
      "outputs": []
    },
    {
      "cell_type": "code",
      "source": [
        "class Tamil():\n",
        "\n",
        "  def say_hi(self):\n",
        "    print('vanakkam')"
      ],
      "metadata": {
        "id": "UV3FZ4ZTkbVM"
      },
      "execution_count": null,
      "outputs": []
    },
    {
      "cell_type": "code",
      "source": [
        "def intro(lang):\n",
        "  lang.say_hi()\n"
      ],
      "metadata": {
        "id": "e-5HPq8HkjEm"
      },
      "execution_count": null,
      "outputs": []
    },
    {
      "cell_type": "code",
      "source": [
        "dinesh= French()\n",
        "Dk = Tamil()"
      ],
      "metadata": {
        "id": "G-t6jGb6k0dD"
      },
      "execution_count": null,
      "outputs": []
    },
    {
      "cell_type": "code",
      "source": [
        "intro(Dk)"
      ],
      "metadata": {
        "colab": {
          "base_uri": "https://localhost:8080/"
        },
        "id": "3yYON7G3lEn0",
        "outputId": "578abc34-9b1e-48ef-ed9f-3bd97c6da344"
      },
      "execution_count": null,
      "outputs": [
        {
          "output_type": "stream",
          "name": "stdout",
          "text": [
            "vanakkam\n"
          ]
        }
      ]
    },
    {
      "cell_type": "markdown",
      "source": [
        "CYLINDER PROBLEM"
      ],
      "metadata": {
        "id": "F97GOW4s_Xnq"
      }
    },
    {
      "cell_type": "code",
      "source": [
        "class Cylinder:\n",
        "\n",
        "  def __init__(self,height=1,radius=1):\n",
        "    self.height = height\n",
        "    self.radius = radius\n",
        "\n",
        "\n",
        "  def volume(self):\n",
        "    return 3.14*self.radius**2 * self.height\n",
        "\n",
        "  def surface_area(self):\n",
        "    top = 3.14*self.radius**2\n",
        "    return (2*top) + 2*3.14*(self.radius*self.height)\n",
        "\n",
        "\n",
        "\n",
        "\n",
        "\n",
        "\n",
        "\n"
      ],
      "metadata": {
        "id": "Kwjdy6xOlPvx"
      },
      "execution_count": null,
      "outputs": []
    },
    {
      "cell_type": "code",
      "source": [
        "C = Cylinder(2,3)"
      ],
      "metadata": {
        "id": "cCAjUYXMA-Xi"
      },
      "execution_count": null,
      "outputs": []
    },
    {
      "cell_type": "code",
      "source": [
        "C.volume()"
      ],
      "metadata": {
        "colab": {
          "base_uri": "https://localhost:8080/"
        },
        "id": "X1sxMHFCBGqI",
        "outputId": "4e5a654b-e18f-422f-94b6-9ae1de36694a"
      },
      "execution_count": null,
      "outputs": [
        {
          "output_type": "execute_result",
          "data": {
            "text/plain": [
              "56.52"
            ]
          },
          "metadata": {},
          "execution_count": 21
        }
      ]
    },
    {
      "cell_type": "code",
      "source": [
        "C.surface_area()"
      ],
      "metadata": {
        "colab": {
          "base_uri": "https://localhost:8080/"
        },
        "id": "sCL0Eo3mBRDX",
        "outputId": "ecd79b1c-ab20-417e-922c-3bd62de86231"
      },
      "execution_count": null,
      "outputs": [
        {
          "output_type": "execute_result",
          "data": {
            "text/plain": [
              "94.2"
            ]
          },
          "metadata": {},
          "execution_count": 22
        }
      ]
    },
    {
      "cell_type": "markdown",
      "source": [
        "LINE (Slope & Distance)"
      ],
      "metadata": {
        "id": "YH0Qu1QJEwhb"
      }
    },
    {
      "cell_type": "code",
      "source": [
        "class Line:\n",
        "  def __init__(self,cord1,cord2):\n",
        "    self.cord1 = cord1\n",
        "    self.cord2 = cord2\n",
        "\n",
        "  def Distance(self):\n",
        "    x1,y1 = self.cord1\n",
        "    x2,y2 = self.cord2\n",
        "    return (((x2-x1)**2 + (y2-y1)**2)** 0.5)\n",
        "\n",
        "  def slope(self):\n",
        "    x1,y1 = self.cord1\n",
        "    x2,y2 = self.cord2\n",
        "    return (y2-y1)/(x2-x1)\n",
        "\n"
      ],
      "metadata": {
        "id": "hiNxTu4PCgxT"
      },
      "execution_count": null,
      "outputs": []
    },
    {
      "cell_type": "code",
      "source": [
        "Coordinate1= (3,2)\n",
        "Coordinate2 = (8,10)"
      ],
      "metadata": {
        "id": "pXeihTOzHiIw"
      },
      "execution_count": null,
      "outputs": []
    },
    {
      "cell_type": "code",
      "source": [
        "line = Line(Coordinate1,Coordinate2)"
      ],
      "metadata": {
        "id": "mw-zG9W9HuI4"
      },
      "execution_count": null,
      "outputs": []
    },
    {
      "cell_type": "code",
      "source": [
        "line.Distance()"
      ],
      "metadata": {
        "colab": {
          "base_uri": "https://localhost:8080/"
        },
        "id": "Io5-3PaWIjws",
        "outputId": "eb8fb7c8-8c5e-47bc-a1d0-ac32e53c4447"
      },
      "execution_count": null,
      "outputs": [
        {
          "output_type": "execute_result",
          "data": {
            "text/plain": [
              "9.433981132056603"
            ]
          },
          "metadata": {},
          "execution_count": 46
        }
      ]
    },
    {
      "cell_type": "code",
      "source": [
        "line.slope()"
      ],
      "metadata": {
        "colab": {
          "base_uri": "https://localhost:8080/"
        },
        "id": "-ZPFUlL3ImDN",
        "outputId": "9f9b3155-e7e3-416a-be8f-7b8e7ca4cf9e"
      },
      "execution_count": null,
      "outputs": [
        {
          "output_type": "execute_result",
          "data": {
            "text/plain": [
              "1.6"
            ]
          },
          "metadata": {},
          "execution_count": 47
        }
      ]
    },
    {
      "cell_type": "markdown",
      "source": [
        "CHALLENGES (OOPS CONCEPT)-Widrawal concept"
      ],
      "metadata": {
        "id": "UPyYUxe5LakM"
      }
    },
    {
      "cell_type": "code",
      "source": [
        "class Account:\n",
        "  \n",
        "\n",
        "  def __init__(self,owner,balance):\n",
        "    self.owner = owner\n",
        "    self.balance = balance\n",
        "\n",
        "\n",
        "  def deposit(self,dep_amt):\n",
        "    self.balance = self.balance + dep_amt\n",
        "    print('Deposited Money')\n",
        "\n",
        "  def withdrawl(self,with_amt):\n",
        "\n",
        "    if self.balance >= with_amt:\n",
        "      self.balance = self.balance - with_amt\n",
        "      print('Widrawl accepted')\n",
        "\n",
        "    else:\n",
        "      print('Funds Not available')\n",
        "\n",
        "  \n",
        "  def __str__(self):\n",
        "        return f'Account owner:   {self.owner}\\nAccount balance: ${self.balance}'\n",
        "      \n"
      ],
      "metadata": {
        "id": "McM0jpYZJOhX"
      },
      "execution_count": null,
      "outputs": []
    },
    {
      "cell_type": "code",
      "source": [
        "Acct = Account('Dk',1000)"
      ],
      "metadata": {
        "id": "TUjWDrfnNCjE"
      },
      "execution_count": null,
      "outputs": []
    },
    {
      "cell_type": "code",
      "source": [
        "print(Acct)"
      ],
      "metadata": {
        "colab": {
          "base_uri": "https://localhost:8080/"
        },
        "id": "7IQzx-ttQy2y",
        "outputId": "5b0b0b9d-bbdd-4ca8-9408-cba91db8bdd6"
      },
      "execution_count": null,
      "outputs": [
        {
          "output_type": "stream",
          "name": "stdout",
          "text": [
            "Account owner:   Dk\n",
            "Account balance: $1000\n"
          ]
        }
      ]
    },
    {
      "cell_type": "code",
      "source": [
        "Acct.owner"
      ],
      "metadata": {
        "colab": {
          "base_uri": "https://localhost:8080/",
          "height": 35
        },
        "id": "bgC5GkDxQ7yf",
        "outputId": "ae437126-cb4f-43be-a73b-bac8a52fb77f"
      },
      "execution_count": null,
      "outputs": [
        {
          "output_type": "execute_result",
          "data": {
            "text/plain": [
              "'Dk'"
            ],
            "application/vnd.google.colaboratory.intrinsic+json": {
              "type": "string"
            }
          },
          "metadata": {},
          "execution_count": 85
        }
      ]
    },
    {
      "cell_type": "code",
      "source": [
        "Acct.balance"
      ],
      "metadata": {
        "colab": {
          "base_uri": "https://localhost:8080/"
        },
        "id": "mv0Fs-jPRkyX",
        "outputId": "7a04359e-0348-491c-c4b8-3a3c4e29c5ad"
      },
      "execution_count": null,
      "outputs": [
        {
          "output_type": "execute_result",
          "data": {
            "text/plain": [
              "1000"
            ]
          },
          "metadata": {},
          "execution_count": 86
        }
      ]
    },
    {
      "cell_type": "code",
      "source": [
        "Acct.deposit(44)"
      ],
      "metadata": {
        "colab": {
          "base_uri": "https://localhost:8080/"
        },
        "id": "fePEJaTtSEC2",
        "outputId": "73f5b44e-3a94-4593-c3fa-292dc7704e18"
      },
      "execution_count": null,
      "outputs": [
        {
          "output_type": "stream",
          "name": "stdout",
          "text": [
            "Deposited Money\n"
          ]
        }
      ]
    },
    {
      "cell_type": "code",
      "source": [
        "Acct.balance"
      ],
      "metadata": {
        "colab": {
          "base_uri": "https://localhost:8080/"
        },
        "id": "_q5S7rZkSHDR",
        "outputId": "1e46eb18-bc85-466e-a933-b4e2b8d1fd7f"
      },
      "execution_count": null,
      "outputs": [
        {
          "output_type": "execute_result",
          "data": {
            "text/plain": [
              "1044"
            ]
          },
          "metadata": {},
          "execution_count": 88
        }
      ]
    },
    {
      "cell_type": "code",
      "source": [
        "Acct.withdrawl(500)"
      ],
      "metadata": {
        "colab": {
          "base_uri": "https://localhost:8080/"
        },
        "id": "meqSd5HQSxY6",
        "outputId": "c89a9da1-8f9c-4e74-cf5f-d5c49bd1c984"
      },
      "execution_count": null,
      "outputs": [
        {
          "output_type": "stream",
          "name": "stdout",
          "text": [
            "Widrawl accepted\n"
          ]
        }
      ]
    },
    {
      "cell_type": "code",
      "source": [
        "Acct.balance"
      ],
      "metadata": {
        "colab": {
          "base_uri": "https://localhost:8080/"
        },
        "id": "5vQjGJM2TL6c",
        "outputId": "39a15ff3-203d-4d72-a547-fe5c601efa37"
      },
      "execution_count": null,
      "outputs": [
        {
          "output_type": "execute_result",
          "data": {
            "text/plain": [
              "544"
            ]
          },
          "metadata": {},
          "execution_count": 90
        }
      ]
    },
    {
      "cell_type": "code",
      "source": [
        "Acct.owner"
      ],
      "metadata": {
        "colab": {
          "base_uri": "https://localhost:8080/",
          "height": 35
        },
        "id": "0QgKOYiHTR5E",
        "outputId": "56ec4cd6-7b92-48ec-e42a-ffce5ca17539"
      },
      "execution_count": null,
      "outputs": [
        {
          "output_type": "execute_result",
          "data": {
            "text/plain": [
              "'Dk'"
            ],
            "application/vnd.google.colaboratory.intrinsic+json": {
              "type": "string"
            }
          },
          "metadata": {},
          "execution_count": 91
        }
      ]
    },
    {
      "cell_type": "code",
      "source": [
        "Acct.withdrawl(600)"
      ],
      "metadata": {
        "colab": {
          "base_uri": "https://localhost:8080/"
        },
        "id": "ooAZQWf-TVoJ",
        "outputId": "e908c50a-faec-4f36-dc05-a4c49e0f9826"
      },
      "execution_count": null,
      "outputs": [
        {
          "output_type": "stream",
          "name": "stdout",
          "text": [
            "Funds Not available\n"
          ]
        }
      ]
    },
    {
      "cell_type": "markdown",
      "source": [
        "Error & Exception handling"
      ],
      "metadata": {
        "id": "jKEhFhB2CaWt"
      }
    },
    {
      "cell_type": "code",
      "source": [
        "def add(n1,n2):\n",
        "  return(n1+n2)"
      ],
      "metadata": {
        "id": "AIj3r_2FTnfa"
      },
      "execution_count": null,
      "outputs": []
    },
    {
      "cell_type": "code",
      "source": [
        "add(10,22)"
      ],
      "metadata": {
        "colab": {
          "base_uri": "https://localhost:8080/"
        },
        "id": "vWOsB_rFBUtz",
        "outputId": "ca5661a2-44eb-4c1d-99cb-9528a45df551"
      },
      "execution_count": null,
      "outputs": [
        {
          "output_type": "execute_result",
          "data": {
            "text/plain": [
              "32"
            ]
          },
          "metadata": {},
          "execution_count": 7
        }
      ]
    },
    {
      "cell_type": "code",
      "source": [
        "try:\n",
        "  result = 10 + '22'\n",
        "except:\n",
        "  print(\"Argument not correct\")\n",
        "\n",
        "else:\n",
        "  print('well done')\n",
        "  print(result)"
      ],
      "metadata": {
        "colab": {
          "base_uri": "https://localhost:8080/"
        },
        "id": "W4EUga_bBZCk",
        "outputId": "d5a02d31-7238-462c-eb43-834cbfea5709"
      },
      "execution_count": null,
      "outputs": [
        {
          "output_type": "stream",
          "name": "stdout",
          "text": [
            "Argument not correct\n"
          ]
        }
      ]
    },
    {
      "cell_type": "code",
      "source": [
        "result"
      ],
      "metadata": {
        "colab": {
          "base_uri": "https://localhost:8080/"
        },
        "id": "UNCy4LLlC4Nz",
        "outputId": "74c01401-e7fd-4860-99dd-be5320028ef5"
      },
      "execution_count": null,
      "outputs": [
        {
          "output_type": "execute_result",
          "data": {
            "text/plain": [
              "32"
            ]
          },
          "metadata": {},
          "execution_count": 18
        }
      ]
    },
    {
      "cell_type": "code",
      "source": [
        "try:\n",
        "\n",
        "  f = open('textfile','r')\n",
        "  f.write(\"Write the Text line\")\n",
        "\n",
        "except TypeError:\n",
        "  print(\"exception occur\")\n",
        "except:\n",
        "  print('All the exception')\n",
        "finally:\n",
        "  print('It always run')"
      ],
      "metadata": {
        "colab": {
          "base_uri": "https://localhost:8080/"
        },
        "id": "xZc3CF17C7fa",
        "outputId": "ed5569be-f6e9-4984-ed24-744773018e36"
      },
      "execution_count": null,
      "outputs": [
        {
          "output_type": "stream",
          "name": "stdout",
          "text": [
            "All the exception\n",
            "It always run\n"
          ]
        }
      ]
    },
    {
      "cell_type": "code",
      "source": [
        "def word_test():\n",
        "  while True:\n",
        "    try:\n",
        "      result = int(input('Please click the number: '))\n",
        "\n",
        "    except:\n",
        "      print(\"Adding the number\")\n",
        "      continue\n",
        "    finally:\n",
        "      print('Its end of the prg')"
      ],
      "metadata": {
        "id": "A_v1GI_IILsp"
      },
      "execution_count": null,
      "outputs": []
    },
    {
      "cell_type": "code",
      "source": [
        "def add(n1,n2):\n",
        "  return n1+n2"
      ],
      "metadata": {
        "id": "TZ113MGvJgMP"
      },
      "execution_count": null,
      "outputs": []
    },
    {
      "cell_type": "markdown",
      "source": [
        "Practice Exception handling"
      ],
      "metadata": {
        "id": "DxtCSxvULAV0"
      }
    },
    {
      "cell_type": "code",
      "source": [
        "try:\n",
        "\n",
        "  for i in ['a','b','c']:\n",
        "    print(i**2)\n",
        "except:\n",
        "  print(\"Two argumnent are not same\")\n"
      ],
      "metadata": {
        "colab": {
          "base_uri": "https://localhost:8080/"
        },
        "id": "rTrd8vaEKPT3",
        "outputId": "0679e20f-62b8-49c2-8226-bc7a944bd128"
      },
      "execution_count": null,
      "outputs": [
        {
          "output_type": "stream",
          "name": "stdout",
          "text": [
            "Two argumnent are not same\n"
          ]
        }
      ]
    },
    {
      "cell_type": "code",
      "source": [
        "x = 5\n",
        "y = 0\n",
        "\n",
        "try:\n",
        "   z = x/y\n",
        "except:\n",
        "  print('Divison of error')\n",
        "finally:\n",
        "  print('take action')"
      ],
      "metadata": {
        "colab": {
          "base_uri": "https://localhost:8080/"
        },
        "id": "BaXXnJe1LNkG",
        "outputId": "6c8498bc-a7b9-4d48-b0e5-79d15e40d134"
      },
      "execution_count": null,
      "outputs": [
        {
          "output_type": "stream",
          "name": "stdout",
          "text": [
            "Divison of error\n",
            "take action\n"
          ]
        }
      ]
    },
    {
      "cell_type": "markdown",
      "source": [
        "DECORATOR"
      ],
      "metadata": {
        "id": "FBAPR4151tow"
      }
    },
    {
      "cell_type": "code",
      "source": [
        "def func():\n",
        "  return 1"
      ],
      "metadata": {
        "id": "4frv_1cFSdVY"
      },
      "execution_count": null,
      "outputs": []
    },
    {
      "cell_type": "code",
      "source": [
        "func()"
      ],
      "metadata": {
        "colab": {
          "base_uri": "https://localhost:8080/"
        },
        "id": "TQ5XpjLy1zDy",
        "outputId": "ec3fd19c-4fd0-4629-a8dd-35e0cf4ad287"
      },
      "execution_count": null,
      "outputs": [
        {
          "output_type": "execute_result",
          "data": {
            "text/plain": [
              "1"
            ]
          },
          "metadata": {},
          "execution_count": 4
        }
      ]
    },
    {
      "cell_type": "code",
      "source": [
        "def hello(name = 'DK'):\n",
        "  return 'My name is ' +  name\n",
        "\n"
      ],
      "metadata": {
        "id": "wcpGqkFZ11E_"
      },
      "execution_count": null,
      "outputs": []
    },
    {
      "cell_type": "code",
      "source": [
        "hello()"
      ],
      "metadata": {
        "colab": {
          "base_uri": "https://localhost:8080/",
          "height": 35
        },
        "id": "kVuZg1R92bq3",
        "outputId": "f4a14f35-f484-4add-bd3d-5c878ed4c235"
      },
      "execution_count": null,
      "outputs": [
        {
          "output_type": "execute_result",
          "data": {
            "text/plain": [
              "'My name is DK'"
            ],
            "application/vnd.google.colaboratory.intrinsic+json": {
              "type": "string"
            }
          },
          "metadata": {},
          "execution_count": 11
        }
      ]
    },
    {
      "cell_type": "code",
      "source": [
        "greet = hello"
      ],
      "metadata": {
        "id": "B9TVOeZw2hz0"
      },
      "execution_count": null,
      "outputs": []
    },
    {
      "cell_type": "code",
      "source": [
        "greet()"
      ],
      "metadata": {
        "colab": {
          "base_uri": "https://localhost:8080/",
          "height": 35
        },
        "id": "e8JLuOJo2qKc",
        "outputId": "6193ab62-1b52-4b6c-f4fc-d7c5f89c7832"
      },
      "execution_count": null,
      "outputs": [
        {
          "output_type": "execute_result",
          "data": {
            "text/plain": [
              "'My name is DK'"
            ],
            "application/vnd.google.colaboratory.intrinsic+json": {
              "type": "string"
            }
          },
          "metadata": {},
          "execution_count": 13
        }
      ]
    },
    {
      "cell_type": "code",
      "source": [
        "del hello"
      ],
      "metadata": {
        "id": "Tx-2Sp_s2ryH"
      },
      "execution_count": null,
      "outputs": []
    },
    {
      "cell_type": "code",
      "source": [
        "hello()"
      ],
      "metadata": {
        "colab": {
          "base_uri": "https://localhost:8080/",
          "height": 171
        },
        "id": "VsYwTrE-25EV",
        "outputId": "fc966f9d-0db2-4f5c-d22b-fcae3bf813e2"
      },
      "execution_count": null,
      "outputs": [
        {
          "output_type": "error",
          "ename": "NameError",
          "evalue": "ignored",
          "traceback": [
            "\u001b[0;31m---------------------------------------------------------------------------\u001b[0m",
            "\u001b[0;31mNameError\u001b[0m                                 Traceback (most recent call last)",
            "\u001b[0;32m<ipython-input-15-a75d7781aaeb>\u001b[0m in \u001b[0;36m<module>\u001b[0;34m\u001b[0m\n\u001b[0;32m----> 1\u001b[0;31m \u001b[0mhello\u001b[0m\u001b[0;34m(\u001b[0m\u001b[0;34m)\u001b[0m\u001b[0;34m\u001b[0m\u001b[0;34m\u001b[0m\u001b[0m\n\u001b[0m",
            "\u001b[0;31mNameError\u001b[0m: name 'hello' is not defined"
          ]
        }
      ]
    },
    {
      "cell_type": "code",
      "source": [
        "greet()"
      ],
      "metadata": {
        "colab": {
          "base_uri": "https://localhost:8080/",
          "height": 35
        },
        "id": "Km32MjnQ26R1",
        "outputId": "8cf770b5-7340-430b-fd15-a5cbf5facec2"
      },
      "execution_count": null,
      "outputs": [
        {
          "output_type": "execute_result",
          "data": {
            "text/plain": [
              "'My name is DK'"
            ],
            "application/vnd.google.colaboratory.intrinsic+json": {
              "type": "string"
            }
          },
          "metadata": {},
          "execution_count": 16
        }
      ]
    },
    {
      "cell_type": "code",
      "source": [
        "def hello(name='Jose'):\n",
        "    print('The hello() function has been executed')\n",
        "    \n",
        "    def greet():\n",
        "        return '\\t This is inside the greet() function'\n",
        "    \n",
        "    def welcome():\n",
        "        return \"\\t This is inside the welcome() function\"\n",
        "    \n",
        "    print(greet())\n",
        "    print(welcome())\n",
        "    print(\"Now we are back inside the hello() function\")"
      ],
      "metadata": {
        "id": "rANE86eN28hz"
      },
      "execution_count": null,
      "outputs": []
    },
    {
      "cell_type": "code",
      "source": [
        "hello()"
      ],
      "metadata": {
        "colab": {
          "base_uri": "https://localhost:8080/"
        },
        "id": "r2e2hcsT3Szl",
        "outputId": "a2e0c0d1-9eee-4c3e-c29d-a798819c765b"
      },
      "execution_count": null,
      "outputs": [
        {
          "output_type": "stream",
          "name": "stdout",
          "text": [
            "The hello() function has been executed\n",
            "\t This is inside the greet() function\n",
            "\t This is inside the welcome() function\n",
            "Now we are back inside the hello() function\n"
          ]
        }
      ]
    },
    {
      "cell_type": "code",
      "source": [
        "# Creating decorator\n",
        "\n",
        "def new_decorator(func):\n",
        "\n",
        "  def wrap_func():\n",
        "    print(' Code would be here, before executing the func')\n",
        "\n",
        "    func()\n",
        "\n",
        "    print('Code will execute after the func')\n",
        "\n",
        "  return wrap_func\n",
        "\n",
        "def func_new_decorator():\n",
        "  print(\" This function need a decorator\")\n"
      ],
      "metadata": {
        "id": "iE03Lqmf3vL9"
      },
      "execution_count": null,
      "outputs": []
    },
    {
      "cell_type": "code",
      "source": [
        "func_new_decorator()"
      ],
      "metadata": {
        "colab": {
          "base_uri": "https://localhost:8080/"
        },
        "id": "mDpdDiGu50PM",
        "outputId": "5d0c512b-2a70-4424-fa7a-a9f579a74d71"
      },
      "execution_count": null,
      "outputs": [
        {
          "output_type": "stream",
          "name": "stdout",
          "text": [
            " This function need a decorator\n"
          ]
        }
      ]
    },
    {
      "cell_type": "code",
      "source": [
        "func_new_decorator = new_decorator(func_new_decorator)"
      ],
      "metadata": {
        "id": "OmloeVfA5-fn"
      },
      "execution_count": null,
      "outputs": []
    },
    {
      "cell_type": "code",
      "source": [
        "func_new_decorator()"
      ],
      "metadata": {
        "colab": {
          "base_uri": "https://localhost:8080/"
        },
        "id": "ZQP741yB6eI9",
        "outputId": "b627e6aa-c40f-44c8-f765-f6ee5754f989"
      },
      "execution_count": null,
      "outputs": [
        {
          "output_type": "stream",
          "name": "stdout",
          "text": [
            " Code would be here, before executing the func\n",
            " This function need a decorator\n",
            "Code will execute after the func\n"
          ]
        }
      ]
    },
    {
      "cell_type": "code",
      "source": [
        "func_new_decorator"
      ],
      "metadata": {
        "colab": {
          "base_uri": "https://localhost:8080/"
        },
        "id": "3rRct2qu6kZO",
        "outputId": "b1c72da1-6220-425e-9010-9cacf2092853"
      },
      "execution_count": null,
      "outputs": [
        {
          "output_type": "execute_result",
          "data": {
            "text/plain": [
              "<function __main__.new_decorator.<locals>.wrap_func()>"
            ]
          },
          "metadata": {},
          "execution_count": 26
        }
      ]
    },
    {
      "cell_type": "code",
      "source": [
        "func_new_decorator()"
      ],
      "metadata": {
        "colab": {
          "base_uri": "https://localhost:8080/"
        },
        "id": "avHBx-Yf6t39",
        "outputId": "e9161a42-74d5-43e9-c902-f987ba201e2c"
      },
      "execution_count": null,
      "outputs": [
        {
          "output_type": "stream",
          "name": "stdout",
          "text": [
            " Code would be here, before executing the func\n",
            " This function need a decorator\n",
            "Code will execute after the func\n"
          ]
        }
      ]
    },
    {
      "cell_type": "code",
      "source": [
        "@new_decorator\n",
        "def func_new_decorator():\n",
        "  print('This function need a decoratr')"
      ],
      "metadata": {
        "id": "EoDIC1Ni60vE"
      },
      "execution_count": null,
      "outputs": []
    },
    {
      "cell_type": "code",
      "source": [
        "func_new_decorator()"
      ],
      "metadata": {
        "colab": {
          "base_uri": "https://localhost:8080/"
        },
        "id": "o-otlQ4f7FjU",
        "outputId": "93e2079d-90b2-4ef1-f825-fbc68b8859bc"
      },
      "execution_count": null,
      "outputs": [
        {
          "output_type": "stream",
          "name": "stdout",
          "text": [
            " Code would be here, before executing the func\n",
            "This function need a decoratr\n",
            "Code will execute after the func\n"
          ]
        }
      ]
    },
    {
      "cell_type": "markdown",
      "source": [
        "GENERATOR"
      ],
      "metadata": {
        "id": "cJyrGwd6-gRS"
      }
    },
    {
      "cell_type": "code",
      "source": [
        "def create_cubes(n):\n",
        "\n",
        "    for x in range(n):\n",
        "      yield x**3"
      ],
      "metadata": {
        "id": "0ETbn4RD7IYL"
      },
      "execution_count": null,
      "outputs": []
    },
    {
      "cell_type": "code",
      "source": [
        "for x in create_cubes(10):\n",
        "  print(x)"
      ],
      "metadata": {
        "colab": {
          "base_uri": "https://localhost:8080/"
        },
        "id": "GFbr59im-5ah",
        "outputId": "f721b01c-4b70-4612-86ef-d6dcd50e9e16"
      },
      "execution_count": null,
      "outputs": [
        {
          "output_type": "stream",
          "name": "stdout",
          "text": [
            "0\n",
            "1\n",
            "8\n",
            "27\n",
            "64\n",
            "125\n",
            "216\n",
            "343\n",
            "512\n",
            "729\n"
          ]
        }
      ]
    },
    {
      "cell_type": "code",
      "source": [
        "list(create_cubes(10))"
      ],
      "metadata": {
        "colab": {
          "base_uri": "https://localhost:8080/"
        },
        "id": "FlBzBcze-9WL",
        "outputId": "876fc439-28e3-4d19-8e11-436648ab0dbc"
      },
      "execution_count": null,
      "outputs": [
        {
          "output_type": "execute_result",
          "data": {
            "text/plain": [
              "[0, 1, 8, 27, 64, 125, 216, 343, 512, 729]"
            ]
          },
          "metadata": {},
          "execution_count": 42
        }
      ]
    },
    {
      "cell_type": "code",
      "source": [
        "def square_num(n):\n",
        "\n",
        "  for x in range(n):\n",
        "    yield x**2"
      ],
      "metadata": {
        "id": "XujsrLNdAxqk"
      },
      "execution_count": null,
      "outputs": []
    },
    {
      "cell_type": "code",
      "source": [
        "square_num(10)"
      ],
      "metadata": {
        "colab": {
          "base_uri": "https://localhost:8080/"
        },
        "id": "bA5R8r07C-wU",
        "outputId": "a1561f47-f526-47eb-a567-7fb346757ec7"
      },
      "execution_count": null,
      "outputs": [
        {
          "output_type": "execute_result",
          "data": {
            "text/plain": [
              "<generator object square_num at 0x7f2218d13450>"
            ]
          },
          "metadata": {},
          "execution_count": 44
        }
      ]
    },
    {
      "cell_type": "code",
      "source": [
        "for i in square_num(10):\n",
        "  print(i)"
      ],
      "metadata": {
        "colab": {
          "base_uri": "https://localhost:8080/"
        },
        "id": "TNpBSAglDBQW",
        "outputId": "8b9bfcca-9a5a-4c02-9a6c-c3f6057f15bc"
      },
      "execution_count": null,
      "outputs": [
        {
          "output_type": "stream",
          "name": "stdout",
          "text": [
            "0\n",
            "1\n",
            "4\n",
            "9\n",
            "16\n",
            "25\n",
            "36\n",
            "49\n",
            "64\n",
            "81\n"
          ]
        }
      ]
    },
    {
      "cell_type": "code",
      "source": [
        "import random\n",
        "\n",
        "random.randint(1,10)"
      ],
      "metadata": {
        "colab": {
          "base_uri": "https://localhost:8080/"
        },
        "id": "pag-l-cRDIi3",
        "outputId": "43cc5a46-0f9d-4e79-b66f-f8dd705b03e7"
      },
      "execution_count": null,
      "outputs": [
        {
          "output_type": "execute_result",
          "data": {
            "text/plain": [
              "9"
            ]
          },
          "metadata": {},
          "execution_count": 49
        }
      ]
    },
    {
      "cell_type": "code",
      "source": [
        "def rand_num(low,high,n):\n",
        "\n",
        "\n",
        "   for x in range(n):\n",
        "     yield random.randint(low,high)"
      ],
      "metadata": {
        "id": "EdbTIAPdD512"
      },
      "execution_count": null,
      "outputs": []
    },
    {
      "cell_type": "code",
      "source": [
        "for x in rand_num(1,10,12):\n",
        "  print(x)"
      ],
      "metadata": {
        "colab": {
          "base_uri": "https://localhost:8080/"
        },
        "id": "BV8e_LsyFA9k",
        "outputId": "67bd2d48-5e94-424b-f873-62afb48af1a7"
      },
      "execution_count": null,
      "outputs": [
        {
          "output_type": "stream",
          "name": "stdout",
          "text": [
            "5\n",
            "8\n",
            "2\n",
            "2\n",
            "6\n",
            "9\n",
            "7\n",
            "7\n",
            "2\n",
            "9\n",
            "6\n",
            "1\n"
          ]
        }
      ]
    },
    {
      "cell_type": "code",
      "source": [
        "s = 'hello'\n",
        "\n",
        "\n",
        "h = iter(s)\n",
        "\n",
        "print(next(h))"
      ],
      "metadata": {
        "colab": {
          "base_uri": "https://localhost:8080/"
        },
        "id": "5LAt4nOCFILV",
        "outputId": "44300e01-4f98-4b9a-8cbe-89a51f664873"
      },
      "execution_count": null,
      "outputs": [
        {
          "output_type": "stream",
          "name": "stdout",
          "text": [
            "h\n"
          ]
        }
      ]
    },
    {
      "cell_type": "code",
      "source": [
        "print(next(h))"
      ],
      "metadata": {
        "colab": {
          "base_uri": "https://localhost:8080/"
        },
        "id": "yl0gRJU8FpS1",
        "outputId": "6425bbd1-6823-4554-a69f-506589e4c311"
      },
      "execution_count": null,
      "outputs": [
        {
          "output_type": "stream",
          "name": "stdout",
          "text": [
            "e\n"
          ]
        }
      ]
    },
    {
      "cell_type": "code",
      "source": [
        "my_list = [1,2,3,4,5]\n",
        "\n",
        "gencomp = (item for item in my_list if item >3)\n",
        "\n",
        "for item in my_list:\n",
        "\n",
        "  print(item)"
      ],
      "metadata": {
        "colab": {
          "base_uri": "https://localhost:8080/"
        },
        "id": "QPL4lxi1F408",
        "outputId": "71141a8d-4630-4d10-d4a6-2025d6483006"
      },
      "execution_count": null,
      "outputs": [
        {
          "output_type": "stream",
          "name": "stdout",
          "text": [
            "1\n",
            "2\n",
            "3\n",
            "4\n",
            "5\n"
          ]
        }
      ]
    },
    {
      "cell_type": "markdown",
      "source": [
        "Advance module package"
      ],
      "metadata": {
        "id": "eenw_B0hg3E6"
      }
    },
    {
      "cell_type": "code",
      "source": [
        "from collections import Counter"
      ],
      "metadata": {
        "id": "ab2LBKGFGPxi"
      },
      "execution_count": 5,
      "outputs": []
    },
    {
      "cell_type": "code",
      "source": [
        "mylist = (1,1,1,3,3,3,3,3,3,'a','a')"
      ],
      "metadata": {
        "id": "zSCwL5VQgnmz"
      },
      "execution_count": 6,
      "outputs": []
    },
    {
      "cell_type": "code",
      "source": [
        "Counter(mylist) # Counter package"
      ],
      "metadata": {
        "colab": {
          "base_uri": "https://localhost:8080/"
        },
        "id": "mesffEIEgzNX",
        "outputId": "61040403-9e85-4cc7-ac26-d76030719fde"
      },
      "execution_count": 7,
      "outputs": [
        {
          "output_type": "execute_result",
          "data": {
            "text/plain": [
              "Counter({1: 3, 3: 6, 'a': 2})"
            ]
          },
          "metadata": {},
          "execution_count": 7
        }
      ]
    },
    {
      "cell_type": "code",
      "source": [
        "sentence = 'How many times in a day to think some people they dont even think you'"
      ],
      "metadata": {
        "id": "sPMLAGPZg1_x"
      },
      "execution_count": 8,
      "outputs": []
    },
    {
      "cell_type": "code",
      "source": [
        "c=Counter"
      ],
      "metadata": {
        "id": "HjGQIp9xifn9"
      },
      "execution_count": 16,
      "outputs": []
    },
    {
      "cell_type": "code",
      "source": [],
      "metadata": {
        "id": "ansuSzPkifZL"
      },
      "execution_count": null,
      "outputs": []
    },
    {
      "cell_type": "code",
      "source": [
        "c(sentence.lower().split())"
      ],
      "metadata": {
        "colab": {
          "base_uri": "https://localhost:8080/"
        },
        "id": "mCzCdnwBhimh",
        "outputId": "ccd4df57-532d-4425-eb44-c3c06c06d1a2"
      },
      "execution_count": 18,
      "outputs": [
        {
          "output_type": "execute_result",
          "data": {
            "text/plain": [
              "Counter({'how': 1,\n",
              "         'many': 1,\n",
              "         'times': 1,\n",
              "         'in': 1,\n",
              "         'a': 1,\n",
              "         'day': 1,\n",
              "         'to': 1,\n",
              "         'think': 2,\n",
              "         'some': 1,\n",
              "         'people': 1,\n",
              "         'they': 1,\n",
              "         'dont': 1,\n",
              "         'even': 1,\n",
              "         'you': 1})"
            ]
          },
          "metadata": {},
          "execution_count": 18
        }
      ]
    },
    {
      "cell_type": "code",
      "source": [
        "c()"
      ],
      "metadata": {
        "colab": {
          "base_uri": "https://localhost:8080/"
        },
        "id": "p_L1yi9ihlQG",
        "outputId": "5b6e81ab-de42-42ec-915e-7e9320a7b635"
      },
      "execution_count": 23,
      "outputs": [
        {
          "output_type": "execute_result",
          "data": {
            "text/plain": [
              "Counter()"
            ]
          },
          "metadata": {},
          "execution_count": 23
        }
      ]
    },
    {
      "cell_type": "code",
      "source": [
        "element = ('aaaaabbbbvvvvvv')"
      ],
      "metadata": {
        "id": "s-jCV_soirV4"
      },
      "execution_count": 25,
      "outputs": []
    },
    {
      "cell_type": "code",
      "source": [
        "Counter"
      ],
      "metadata": {
        "colab": {
          "base_uri": "https://localhost:8080/"
        },
        "id": "ctZ2E05ojJz7",
        "outputId": "58d25d17-2d2e-4097-88b7-e5b1ebbcd0fd"
      },
      "execution_count": 26,
      "outputs": [
        {
          "output_type": "execute_result",
          "data": {
            "text/plain": [
              "collections.Counter"
            ]
          },
          "metadata": {},
          "execution_count": 26
        }
      ]
    },
    {
      "cell_type": "code",
      "source": [
        "Counter(element)"
      ],
      "metadata": {
        "colab": {
          "base_uri": "https://localhost:8080/"
        },
        "id": "qlKUa1YsjWo5",
        "outputId": "046d7a49-5a72-452e-8057-b175ba18887a"
      },
      "execution_count": 27,
      "outputs": [
        {
          "output_type": "execute_result",
          "data": {
            "text/plain": [
              "Counter({'a': 5, 'b': 4, 'v': 6})"
            ]
          },
          "metadata": {},
          "execution_count": 27
        }
      ]
    },
    {
      "cell_type": "code",
      "source": [
        "d=Counter"
      ],
      "metadata": {
        "id": "TbfPefYajbP4"
      },
      "execution_count": 28,
      "outputs": []
    },
    {
      "cell_type": "code",
      "source": [
        "d()"
      ],
      "metadata": {
        "colab": {
          "base_uri": "https://localhost:8080/"
        },
        "id": "3lA9-JYUjd4Y",
        "outputId": "c4331b38-4247-448b-fa9c-0da942cbc891"
      },
      "execution_count": 30,
      "outputs": [
        {
          "output_type": "execute_result",
          "data": {
            "text/plain": [
              "Counter()"
            ]
          },
          "metadata": {},
          "execution_count": 30
        }
      ]
    },
    {
      "cell_type": "code",
      "source": [
        "Counter "
      ],
      "metadata": {
        "colab": {
          "base_uri": "https://localhost:8080/"
        },
        "id": "3Go94a4sjew3",
        "outputId": "22ce55a2-7a01-4077-bf43-92ab9a6f3bcf"
      },
      "execution_count": 33,
      "outputs": [
        {
          "output_type": "execute_result",
          "data": {
            "text/plain": [
              "collections.Counter"
            ]
          },
          "metadata": {},
          "execution_count": 33
        }
      ]
    },
    {
      "cell_type": "code",
      "source": [
        "from collections import defaultdict"
      ],
      "metadata": {
        "id": "QP83sb2ejnml"
      },
      "execution_count": 34,
      "outputs": []
    },
    {
      "cell_type": "code",
      "source": [
        "d = {'a': 15,'b': 50}"
      ],
      "metadata": {
        "id": "XXcnRzE7kYNI"
      },
      "execution_count": 36,
      "outputs": []
    },
    {
      "cell_type": "code",
      "source": [
        "d"
      ],
      "metadata": {
        "colab": {
          "base_uri": "https://localhost:8080/"
        },
        "id": "X8p5uSDfkeHf",
        "outputId": "2d5ba014-0eb0-4483-c3dd-9ac6e0f81184"
      },
      "execution_count": 37,
      "outputs": [
        {
          "output_type": "execute_result",
          "data": {
            "text/plain": [
              "{'a': 15, 'b': 50}"
            ]
          },
          "metadata": {},
          "execution_count": 37
        }
      ]
    },
    {
      "cell_type": "code",
      "source": [
        "d['a']"
      ],
      "metadata": {
        "colab": {
          "base_uri": "https://localhost:8080/"
        },
        "id": "fbxGoUqkkw8q",
        "outputId": "f450452c-1be3-4b89-ba8b-a8fff99cdf81"
      },
      "execution_count": 38,
      "outputs": [
        {
          "output_type": "execute_result",
          "data": {
            "text/plain": [
              "15"
            ]
          },
          "metadata": {},
          "execution_count": 38
        }
      ]
    },
    {
      "cell_type": "code",
      "source": [
        " d['c']"
      ],
      "metadata": {
        "colab": {
          "base_uri": "https://localhost:8080/",
          "height": 171
        },
        "id": "oJ7UxRlXk218",
        "outputId": "9571836f-7227-4557-dcfc-bdeab5895f19"
      },
      "execution_count": 39,
      "outputs": [
        {
          "output_type": "error",
          "ename": "KeyError",
          "evalue": "ignored",
          "traceback": [
            "\u001b[0;31m---------------------------------------------------------------------------\u001b[0m",
            "\u001b[0;31mKeyError\u001b[0m                                  Traceback (most recent call last)",
            "\u001b[0;32m<ipython-input-39-05ba6e0488c7>\u001b[0m in \u001b[0;36m<module>\u001b[0;34m\u001b[0m\n\u001b[0;32m----> 1\u001b[0;31m \u001b[0md\u001b[0m\u001b[0;34m[\u001b[0m\u001b[0;34m'c'\u001b[0m\u001b[0;34m]\u001b[0m\u001b[0;34m\u001b[0m\u001b[0;34m\u001b[0m\u001b[0m\n\u001b[0m",
            "\u001b[0;31mKeyError\u001b[0m: 'c'"
          ]
        }
      ]
    },
    {
      "cell_type": "code",
      "source": [
        "d = defaultdict(lambda:'NIL')"
      ],
      "metadata": {
        "id": "nBZuTtYnk5_B"
      },
      "execution_count": 49,
      "outputs": []
    },
    {
      "cell_type": "code",
      "source": [
        "d['a']=2000"
      ],
      "metadata": {
        "id": "SV-Prf8NlK0b"
      },
      "execution_count": 50,
      "outputs": []
    },
    {
      "cell_type": "code",
      "source": [
        "d['a']"
      ],
      "metadata": {
        "colab": {
          "base_uri": "https://localhost:8080/"
        },
        "id": "ON9AiBC2lSbn",
        "outputId": "c9bc8fd7-c795-4bca-b62c-3397c8d34b2b"
      },
      "execution_count": 51,
      "outputs": [
        {
          "output_type": "execute_result",
          "data": {
            "text/plain": [
              "2000"
            ]
          },
          "metadata": {},
          "execution_count": 51
        }
      ]
    },
    {
      "cell_type": "code",
      "source": [
        "d['b']"
      ],
      "metadata": {
        "colab": {
          "base_uri": "https://localhost:8080/",
          "height": 35
        },
        "id": "V8_pBQXilXyh",
        "outputId": "dd960a9e-0318-45c8-e9a9-e018e138d648"
      },
      "execution_count": 52,
      "outputs": [
        {
          "output_type": "execute_result",
          "data": {
            "text/plain": [
              "'NIL'"
            ],
            "application/vnd.google.colaboratory.intrinsic+json": {
              "type": "string"
            }
          },
          "metadata": {},
          "execution_count": 52
        }
      ]
    },
    {
      "cell_type": "code",
      "source": [
        "from collections import namedtuple\n"
      ],
      "metadata": {
        "id": "vVI4OjHNlZ1d"
      },
      "execution_count": 53,
      "outputs": []
    },
    {
      "cell_type": "code",
      "source": [
        "Dog = namedtuple('Dog',['age','breed','name'])"
      ],
      "metadata": {
        "id": "NrRpTAhmnG8L"
      },
      "execution_count": 54,
      "outputs": []
    },
    {
      "cell_type": "code",
      "source": [
        "Dog\n"
      ],
      "metadata": {
        "colab": {
          "base_uri": "https://localhost:8080/"
        },
        "id": "0Ba7BGdbnV1o",
        "outputId": "71a7d3ca-57b7-4887-d2cb-36b04c327fb0"
      },
      "execution_count": 55,
      "outputs": [
        {
          "output_type": "execute_result",
          "data": {
            "text/plain": [
              "__main__.Dog"
            ]
          },
          "metadata": {},
          "execution_count": 55
        }
      ]
    },
    {
      "cell_type": "code",
      "source": [
        "dk = Dog(age=4,breed='lab',name='sam')"
      ],
      "metadata": {
        "id": "C3h0PSYonXd3"
      },
      "execution_count": 56,
      "outputs": []
    },
    {
      "cell_type": "code",
      "source": [
        "dk"
      ],
      "metadata": {
        "colab": {
          "base_uri": "https://localhost:8080/"
        },
        "id": "OoJH_1lwnlEZ",
        "outputId": "7b606ef3-71ef-4033-f5bd-f483ccf48387"
      },
      "execution_count": 58,
      "outputs": [
        {
          "output_type": "execute_result",
          "data": {
            "text/plain": [
              "Dog(age=4, breed='lab', name='sam')"
            ]
          },
          "metadata": {},
          "execution_count": 58
        }
      ]
    },
    {
      "cell_type": "code",
      "source": [
        "dk[0]"
      ],
      "metadata": {
        "colab": {
          "base_uri": "https://localhost:8080/"
        },
        "id": "ARGQDQ0FnoRv",
        "outputId": "f0755ea2-df07-46cb-f233-f71fdd3f3534"
      },
      "execution_count": 61,
      "outputs": [
        {
          "output_type": "execute_result",
          "data": {
            "text/plain": [
              "4"
            ]
          },
          "metadata": {},
          "execution_count": 61
        }
      ]
    },
    {
      "cell_type": "code",
      "source": [
        "dk.age"
      ],
      "metadata": {
        "colab": {
          "base_uri": "https://localhost:8080/"
        },
        "id": "Bbt80KMyoBEy",
        "outputId": "9f3979c8-f9d8-4470-c0d7-934bc0a57247"
      },
      "execution_count": 62,
      "outputs": [
        {
          "output_type": "execute_result",
          "data": {
            "text/plain": [
              "4"
            ]
          },
          "metadata": {},
          "execution_count": 62
        }
      ]
    },
    {
      "cell_type": "code",
      "source": [
        "dk.name"
      ],
      "metadata": {
        "colab": {
          "base_uri": "https://localhost:8080/",
          "height": 35
        },
        "id": "slh0OXg9nsQj",
        "outputId": "bfbe84f4-ec6d-4473-dfd9-59dadf7d1d30"
      },
      "execution_count": 63,
      "outputs": [
        {
          "output_type": "execute_result",
          "data": {
            "text/plain": [
              "'sam'"
            ],
            "application/vnd.google.colaboratory.intrinsic+json": {
              "type": "string"
            }
          },
          "metadata": {},
          "execution_count": 63
        }
      ]
    },
    {
      "cell_type": "code",
      "source": [
        "pwd"
      ],
      "metadata": {
        "colab": {
          "base_uri": "https://localhost:8080/",
          "height": 35
        },
        "id": "TqKL3qlIn_Tl",
        "outputId": "0f443dad-650e-4dc5-9fc2-051dd678f406"
      },
      "execution_count": 64,
      "outputs": [
        {
          "output_type": "execute_result",
          "data": {
            "text/plain": [
              "'/content'"
            ],
            "application/vnd.google.colaboratory.intrinsic+json": {
              "type": "string"
            }
          },
          "metadata": {},
          "execution_count": 64
        }
      ]
    },
    {
      "cell_type": "code",
      "source": [
        "import os"
      ],
      "metadata": {
        "id": "4u9YBPJIn_7H"
      },
      "execution_count": 65,
      "outputs": []
    },
    {
      "cell_type": "code",
      "source": [
        "os.getcwd()"
      ],
      "metadata": {
        "colab": {
          "base_uri": "https://localhost:8080/",
          "height": 35
        },
        "id": "mWdqfZ8CnuG9",
        "outputId": "be2e7752-56a4-4099-975b-d32bad91b0e4"
      },
      "execution_count": 66,
      "outputs": [
        {
          "output_type": "execute_result",
          "data": {
            "text/plain": [
              "'/content'"
            ],
            "application/vnd.google.colaboratory.intrinsic+json": {
              "type": "string"
            }
          },
          "metadata": {},
          "execution_count": 66
        }
      ]
    },
    {
      "cell_type": "code",
      "source": [
        "os.listdir()"
      ],
      "metadata": {
        "colab": {
          "base_uri": "https://localhost:8080/"
        },
        "id": "vNqa3a0Xr3v1",
        "outputId": "32acc9af-4011-4d39-e645-1a57cedf7b03"
      },
      "execution_count": 67,
      "outputs": [
        {
          "output_type": "execute_result",
          "data": {
            "text/plain": [
              "['.config', 'sample_data']"
            ]
          },
          "metadata": {},
          "execution_count": 67
        }
      ]
    },
    {
      "cell_type": "code",
      "source": [
        "pip install send2trash"
      ],
      "metadata": {
        "colab": {
          "base_uri": "https://localhost:8080/"
        },
        "id": "0cZ3raZGsKqU",
        "outputId": "56277bdf-1767-42cb-f5ec-ea17fab3f3d4"
      },
      "execution_count": 68,
      "outputs": [
        {
          "output_type": "stream",
          "name": "stdout",
          "text": [
            "Looking in indexes: https://pypi.org/simple, https://us-python.pkg.dev/colab-wheels/public/simple/\n",
            "Requirement already satisfied: send2trash in /usr/local/lib/python3.7/dist-packages (1.8.0)\n"
          ]
        }
      ]
    },
    {
      "cell_type": "code",
      "source": [
        "import send2trash"
      ],
      "metadata": {
        "id": "g_kmrMiQuBuB"
      },
      "execution_count": 69,
      "outputs": []
    },
    {
      "cell_type": "code",
      "source": [
        "import datetime"
      ],
      "metadata": {
        "id": "S03JTQmCuI6p"
      },
      "execution_count": 70,
      "outputs": []
    },
    {
      "cell_type": "code",
      "source": [
        "mytime = datetime.time(9,15,5,767)"
      ],
      "metadata": {
        "id": "hEe-prJBzrQZ"
      },
      "execution_count": 78,
      "outputs": []
    },
    {
      "cell_type": "code",
      "source": [
        "mytime.hour"
      ],
      "metadata": {
        "colab": {
          "base_uri": "https://localhost:8080/"
        },
        "id": "VzYXYUdU0IpR",
        "outputId": "39fd57b0-49be-4dab-bd44-a6fbc448e0ed"
      },
      "execution_count": 79,
      "outputs": [
        {
          "output_type": "execute_result",
          "data": {
            "text/plain": [
              "9"
            ]
          },
          "metadata": {},
          "execution_count": 79
        }
      ]
    },
    {
      "cell_type": "code",
      "source": [
        "mytime.minute"
      ],
      "metadata": {
        "colab": {
          "base_uri": "https://localhost:8080/"
        },
        "id": "VVHLrk2x0LMg",
        "outputId": "df42473e-d979-4aaa-e6b4-787bfd560eeb"
      },
      "execution_count": 80,
      "outputs": [
        {
          "output_type": "execute_result",
          "data": {
            "text/plain": [
              "15"
            ]
          },
          "metadata": {},
          "execution_count": 80
        }
      ]
    },
    {
      "cell_type": "code",
      "source": [
        "print(mytime)"
      ],
      "metadata": {
        "colab": {
          "base_uri": "https://localhost:8080/"
        },
        "id": "EkA7OqdX0RyY",
        "outputId": "702febce-9bd4-4859-be8f-d3978bbe97ae"
      },
      "execution_count": 81,
      "outputs": [
        {
          "output_type": "stream",
          "name": "stdout",
          "text": [
            "09:15:05.000767\n"
          ]
        }
      ]
    },
    {
      "cell_type": "code",
      "source": [
        "type(mytime)"
      ],
      "metadata": {
        "colab": {
          "base_uri": "https://localhost:8080/"
        },
        "id": "mkmV_5cT0h1_",
        "outputId": "e1e97005-0818-44e0-a637-fd4969889099"
      },
      "execution_count": 82,
      "outputs": [
        {
          "output_type": "execute_result",
          "data": {
            "text/plain": [
              "datetime.time"
            ]
          },
          "metadata": {},
          "execution_count": 82
        }
      ]
    },
    {
      "cell_type": "code",
      "source": [
        "today=datetime.date.today()"
      ],
      "metadata": {
        "id": "M0_4XmvZ0nxQ"
      },
      "execution_count": 85,
      "outputs": []
    },
    {
      "cell_type": "code",
      "source": [
        "print(today)"
      ],
      "metadata": {
        "colab": {
          "base_uri": "https://localhost:8080/"
        },
        "id": "XhhXlEpD054T",
        "outputId": "51f842c9-c2c7-47e5-88d9-ba4f704aed48"
      },
      "execution_count": 86,
      "outputs": [
        {
          "output_type": "stream",
          "name": "stdout",
          "text": [
            "2022-10-15\n"
          ]
        }
      ]
    },
    {
      "cell_type": "code",
      "source": [
        "today.ctime()"
      ],
      "metadata": {
        "colab": {
          "base_uri": "https://localhost:8080/",
          "height": 35
        },
        "id": "4yKxOR4_1HK4",
        "outputId": "9d3b538e-9ab9-407a-bdaa-e5aeebb9b5d5"
      },
      "execution_count": 87,
      "outputs": [
        {
          "output_type": "execute_result",
          "data": {
            "text/plain": [
              "'Sat Oct 15 00:00:00 2022'"
            ],
            "application/vnd.google.colaboratory.intrinsic+json": {
              "type": "string"
            }
          },
          "metadata": {},
          "execution_count": 87
        }
      ]
    },
    {
      "cell_type": "code",
      "source": [
        "from datetime import datetime"
      ],
      "metadata": {
        "id": "2gTS73fe1vOS"
      },
      "execution_count": 88,
      "outputs": []
    },
    {
      "cell_type": "code",
      "source": [
        "mydate = datetime(2022,10,15,14,21,45)"
      ],
      "metadata": {
        "id": "I9ujYb7o1zMP"
      },
      "execution_count": 90,
      "outputs": []
    },
    {
      "cell_type": "code",
      "source": [
        "print(mydate)"
      ],
      "metadata": {
        "colab": {
          "base_uri": "https://localhost:8080/"
        },
        "id": "WEHRdkeC19Gk",
        "outputId": "533629c4-25f7-463e-952a-28b578d15b54"
      },
      "execution_count": 92,
      "outputs": [
        {
          "output_type": "stream",
          "name": "stdout",
          "text": [
            "2022-10-15 14:21:45\n"
          ]
        }
      ]
    },
    {
      "cell_type": "code",
      "source": [
        "upload_time = mydate.replace(minute= 23)"
      ],
      "metadata": {
        "id": "5pjwYYB-2DLg"
      },
      "execution_count": 96,
      "outputs": []
    },
    {
      "cell_type": "code",
      "source": [
        "print(upload_time)"
      ],
      "metadata": {
        "colab": {
          "base_uri": "https://localhost:8080/"
        },
        "id": "4AanrU142Y2B",
        "outputId": "eff10691-ea48-4c27-c1c0-a35aaf4d27c0"
      },
      "execution_count": 97,
      "outputs": [
        {
          "output_type": "stream",
          "name": "stdout",
          "text": [
            "2022-10-15 14:23:45\n"
          ]
        }
      ]
    },
    {
      "cell_type": "code",
      "source": [
        "from datetime import datetime"
      ],
      "metadata": {
        "id": "8uYZk_mG2jpY"
      },
      "execution_count": 107,
      "outputs": []
    },
    {
      "cell_type": "code",
      "source": [
        "date1 = date(2022,10,15)\n",
        "date2 = date(2021,10,15)"
      ],
      "metadata": {
        "id": "FgGpkPUm3z87"
      },
      "execution_count": 108,
      "outputs": []
    },
    {
      "cell_type": "code",
      "source": [
        "date_diff = date1-date2"
      ],
      "metadata": {
        "id": "AND92DEA36-6"
      },
      "execution_count": 109,
      "outputs": []
    },
    {
      "cell_type": "code",
      "source": [
        "print(date_diff)"
      ],
      "metadata": {
        "colab": {
          "base_uri": "https://localhost:8080/"
        },
        "id": "DG4vGgN24CSo",
        "outputId": "5ba8f7ff-c973-4068-8edf-c1e5f680685b"
      },
      "execution_count": 110,
      "outputs": [
        {
          "output_type": "stream",
          "name": "stdout",
          "text": [
            "365 days, 0:00:00\n"
          ]
        }
      ]
    },
    {
      "cell_type": "code",
      "source": [
        "date_diff"
      ],
      "metadata": {
        "colab": {
          "base_uri": "https://localhost:8080/"
        },
        "id": "091evlGm4JsA",
        "outputId": "5df202ae-2f21-4d28-b1e8-a5633e46c51f"
      },
      "execution_count": 111,
      "outputs": [
        {
          "output_type": "execute_result",
          "data": {
            "text/plain": [
              "datetime.timedelta(days=365)"
            ]
          },
          "metadata": {},
          "execution_count": 111
        }
      ]
    },
    {
      "cell_type": "code",
      "source": [
        "Total_sec_inyear=date_diff.total_seconds()"
      ],
      "metadata": {
        "id": "VlwpetBf4Rso"
      },
      "execution_count": 116,
      "outputs": []
    },
    {
      "cell_type": "code",
      "source": [
        "print(Total_sec_inyear)"
      ],
      "metadata": {
        "colab": {
          "base_uri": "https://localhost:8080/"
        },
        "id": "VX5vQ61q4csz",
        "outputId": "cd046dd3-cbb4-4d56-f06d-a7b8b6c23cb7"
      },
      "execution_count": 117,
      "outputs": [
        {
          "output_type": "stream",
          "name": "stdout",
          "text": [
            "31536000.0\n"
          ]
        }
      ]
    },
    {
      "cell_type": "markdown",
      "source": [
        "LEAP Year"
      ],
      "metadata": {
        "id": "Wgc0WJEQ5mqc"
      }
    },
    {
      "cell_type": "code",
      "source": [
        "year = int(input('Enter the Year'))\n",
        "if (year%4==0 and year%100!=0) or (year%400==0):\n",
        "  print('This is leap year   :  ')\n",
        "\n",
        "else:\n",
        "  print('Not a leap year')"
      ],
      "metadata": {
        "colab": {
          "base_uri": "https://localhost:8080/"
        },
        "id": "IcMbCjmt4zpi",
        "outputId": "60a2769f-726c-4864-eaf9-ca76ea5b67a7"
      },
      "execution_count": 2,
      "outputs": [
        {
          "output_type": "stream",
          "name": "stdout",
          "text": [
            "Enter the Year2020\n",
            "This is leap year   :  \n"
          ]
        }
      ]
    },
    {
      "cell_type": "code",
      "source": [
        "import math"
      ],
      "metadata": {
        "id": "FthAuk9l428z"
      },
      "execution_count": 3,
      "outputs": []
    },
    {
      "cell_type": "code",
      "source": [
        "help(math)"
      ],
      "metadata": {
        "colab": {
          "base_uri": "https://localhost:8080/"
        },
        "id": "f3QYpDR-qpWc",
        "outputId": "71508deb-4b2d-40dd-cfe0-05fc851c8abd"
      },
      "execution_count": 4,
      "outputs": [
        {
          "output_type": "stream",
          "name": "stdout",
          "text": [
            "Help on built-in module math:\n",
            "\n",
            "NAME\n",
            "    math\n",
            "\n",
            "DESCRIPTION\n",
            "    This module provides access to the mathematical functions\n",
            "    defined by the C standard.\n",
            "\n",
            "FUNCTIONS\n",
            "    acos(x, /)\n",
            "        Return the arc cosine (measured in radians) of x.\n",
            "    \n",
            "    acosh(x, /)\n",
            "        Return the inverse hyperbolic cosine of x.\n",
            "    \n",
            "    asin(x, /)\n",
            "        Return the arc sine (measured in radians) of x.\n",
            "    \n",
            "    asinh(x, /)\n",
            "        Return the inverse hyperbolic sine of x.\n",
            "    \n",
            "    atan(x, /)\n",
            "        Return the arc tangent (measured in radians) of x.\n",
            "    \n",
            "    atan2(y, x, /)\n",
            "        Return the arc tangent (measured in radians) of y/x.\n",
            "        \n",
            "        Unlike atan(y/x), the signs of both x and y are considered.\n",
            "    \n",
            "    atanh(x, /)\n",
            "        Return the inverse hyperbolic tangent of x.\n",
            "    \n",
            "    ceil(x, /)\n",
            "        Return the ceiling of x as an Integral.\n",
            "        \n",
            "        This is the smallest integer >= x.\n",
            "    \n",
            "    copysign(x, y, /)\n",
            "        Return a float with the magnitude (absolute value) of x but the sign of y.\n",
            "        \n",
            "        On platforms that support signed zeros, copysign(1.0, -0.0)\n",
            "        returns -1.0.\n",
            "    \n",
            "    cos(x, /)\n",
            "        Return the cosine of x (measured in radians).\n",
            "    \n",
            "    cosh(x, /)\n",
            "        Return the hyperbolic cosine of x.\n",
            "    \n",
            "    degrees(x, /)\n",
            "        Convert angle x from radians to degrees.\n",
            "    \n",
            "    erf(x, /)\n",
            "        Error function at x.\n",
            "    \n",
            "    erfc(x, /)\n",
            "        Complementary error function at x.\n",
            "    \n",
            "    exp(x, /)\n",
            "        Return e raised to the power of x.\n",
            "    \n",
            "    expm1(x, /)\n",
            "        Return exp(x)-1.\n",
            "        \n",
            "        This function avoids the loss of precision involved in the direct evaluation of exp(x)-1 for small x.\n",
            "    \n",
            "    fabs(x, /)\n",
            "        Return the absolute value of the float x.\n",
            "    \n",
            "    factorial(x, /)\n",
            "        Find x!.\n",
            "        \n",
            "        Raise a ValueError if x is negative or non-integral.\n",
            "    \n",
            "    floor(x, /)\n",
            "        Return the floor of x as an Integral.\n",
            "        \n",
            "        This is the largest integer <= x.\n",
            "    \n",
            "    fmod(x, y, /)\n",
            "        Return fmod(x, y), according to platform C.\n",
            "        \n",
            "        x % y may differ.\n",
            "    \n",
            "    frexp(x, /)\n",
            "        Return the mantissa and exponent of x, as pair (m, e).\n",
            "        \n",
            "        m is a float and e is an int, such that x = m * 2.**e.\n",
            "        If x is 0, m and e are both 0.  Else 0.5 <= abs(m) < 1.0.\n",
            "    \n",
            "    fsum(seq, /)\n",
            "        Return an accurate floating point sum of values in the iterable seq.\n",
            "        \n",
            "        Assumes IEEE-754 floating point arithmetic.\n",
            "    \n",
            "    gamma(x, /)\n",
            "        Gamma function at x.\n",
            "    \n",
            "    gcd(x, y, /)\n",
            "        greatest common divisor of x and y\n",
            "    \n",
            "    hypot(x, y, /)\n",
            "        Return the Euclidean distance, sqrt(x*x + y*y).\n",
            "    \n",
            "    isclose(a, b, *, rel_tol=1e-09, abs_tol=0.0)\n",
            "        Determine whether two floating point numbers are close in value.\n",
            "        \n",
            "          rel_tol\n",
            "            maximum difference for being considered \"close\", relative to the\n",
            "            magnitude of the input values\n",
            "          abs_tol\n",
            "            maximum difference for being considered \"close\", regardless of the\n",
            "            magnitude of the input values\n",
            "        \n",
            "        Return True if a is close in value to b, and False otherwise.\n",
            "        \n",
            "        For the values to be considered close, the difference between them\n",
            "        must be smaller than at least one of the tolerances.\n",
            "        \n",
            "        -inf, inf and NaN behave similarly to the IEEE 754 Standard.  That\n",
            "        is, NaN is not close to anything, even itself.  inf and -inf are\n",
            "        only close to themselves.\n",
            "    \n",
            "    isfinite(x, /)\n",
            "        Return True if x is neither an infinity nor a NaN, and False otherwise.\n",
            "    \n",
            "    isinf(x, /)\n",
            "        Return True if x is a positive or negative infinity, and False otherwise.\n",
            "    \n",
            "    isnan(x, /)\n",
            "        Return True if x is a NaN (not a number), and False otherwise.\n",
            "    \n",
            "    ldexp(x, i, /)\n",
            "        Return x * (2**i).\n",
            "        \n",
            "        This is essentially the inverse of frexp().\n",
            "    \n",
            "    lgamma(x, /)\n",
            "        Natural logarithm of absolute value of Gamma function at x.\n",
            "    \n",
            "    log(...)\n",
            "        log(x, [base=math.e])\n",
            "        Return the logarithm of x to the given base.\n",
            "        \n",
            "        If the base not specified, returns the natural logarithm (base e) of x.\n",
            "    \n",
            "    log10(x, /)\n",
            "        Return the base 10 logarithm of x.\n",
            "    \n",
            "    log1p(x, /)\n",
            "        Return the natural logarithm of 1+x (base e).\n",
            "        \n",
            "        The result is computed in a way which is accurate for x near zero.\n",
            "    \n",
            "    log2(x, /)\n",
            "        Return the base 2 logarithm of x.\n",
            "    \n",
            "    modf(x, /)\n",
            "        Return the fractional and integer parts of x.\n",
            "        \n",
            "        Both results carry the sign of x and are floats.\n",
            "    \n",
            "    pow(x, y, /)\n",
            "        Return x**y (x to the power of y).\n",
            "    \n",
            "    radians(x, /)\n",
            "        Convert angle x from degrees to radians.\n",
            "    \n",
            "    remainder(x, y, /)\n",
            "        Difference between x and the closest integer multiple of y.\n",
            "        \n",
            "        Return x - n*y where n*y is the closest integer multiple of y.\n",
            "        In the case where x is exactly halfway between two multiples of\n",
            "        y, the nearest even value of n is used. The result is always exact.\n",
            "    \n",
            "    sin(x, /)\n",
            "        Return the sine of x (measured in radians).\n",
            "    \n",
            "    sinh(x, /)\n",
            "        Return the hyperbolic sine of x.\n",
            "    \n",
            "    sqrt(x, /)\n",
            "        Return the square root of x.\n",
            "    \n",
            "    tan(x, /)\n",
            "        Return the tangent of x (measured in radians).\n",
            "    \n",
            "    tanh(x, /)\n",
            "        Return the hyperbolic tangent of x.\n",
            "    \n",
            "    trunc(x, /)\n",
            "        Truncates the Real x to the nearest Integral toward 0.\n",
            "        \n",
            "        Uses the __trunc__ magic method.\n",
            "\n",
            "DATA\n",
            "    e = 2.718281828459045\n",
            "    inf = inf\n",
            "    nan = nan\n",
            "    pi = 3.141592653589793\n",
            "    tau = 6.283185307179586\n",
            "\n",
            "FILE\n",
            "    (built-in)\n",
            "\n",
            "\n"
          ]
        }
      ]
    },
    {
      "cell_type": "code",
      "source": [
        "import random"
      ],
      "metadata": {
        "id": "R7KCC4k9qqkM"
      },
      "execution_count": 5,
      "outputs": []
    },
    {
      "cell_type": "code",
      "source": [
        "random.randint(10,100)"
      ],
      "metadata": {
        "colab": {
          "base_uri": "https://localhost:8080/"
        },
        "id": "rGAFnBxbsPWr",
        "outputId": "a4a88b46-af6e-4975-a7ac-d05dc9fcf55e"
      },
      "execution_count": 6,
      "outputs": [
        {
          "output_type": "execute_result",
          "data": {
            "text/plain": [
              "100"
            ]
          },
          "metadata": {},
          "execution_count": 6
        }
      ]
    },
    {
      "cell_type": "code",
      "source": [
        "list = list(range(0,20))"
      ],
      "metadata": {
        "id": "eotmpXFRsTvr"
      },
      "execution_count": 7,
      "outputs": []
    },
    {
      "cell_type": "code",
      "source": [
        "list"
      ],
      "metadata": {
        "colab": {
          "base_uri": "https://localhost:8080/"
        },
        "id": "6UcdrcK8tJZd",
        "outputId": "5db79c5c-3760-4c69-a3e9-a7f7be3fd7ab"
      },
      "execution_count": 8,
      "outputs": [
        {
          "output_type": "execute_result",
          "data": {
            "text/plain": [
              "[0, 1, 2, 3, 4, 5, 6, 7, 8, 9, 10, 11, 12, 13, 14, 15, 16, 17, 18, 19]"
            ]
          },
          "metadata": {},
          "execution_count": 8
        }
      ]
    },
    {
      "cell_type": "code",
      "source": [
        "random.choice(list)"
      ],
      "metadata": {
        "colab": {
          "base_uri": "https://localhost:8080/"
        },
        "id": "GbXuvgimtKmT",
        "outputId": "526d88f2-a479-4f57-caa3-67349e2472a2"
      },
      "execution_count": 11,
      "outputs": [
        {
          "output_type": "execute_result",
          "data": {
            "text/plain": [
              "6"
            ]
          },
          "metadata": {},
          "execution_count": 11
        }
      ]
    },
    {
      "cell_type": "code",
      "source": [
        "random.choices(population=list,k=10) # random choosing  list values"
      ],
      "metadata": {
        "colab": {
          "base_uri": "https://localhost:8080/"
        },
        "id": "a_GsJ2WJtQJy",
        "outputId": "7fa5be1c-74d0-4857-b4a4-dc6b82827919"
      },
      "execution_count": 14,
      "outputs": [
        {
          "output_type": "execute_result",
          "data": {
            "text/plain": [
              "[19, 15, 5, 8, 16, 18, 16, 16, 9, 11]"
            ]
          },
          "metadata": {},
          "execution_count": 14
        }
      ]
    },
    {
      "cell_type": "code",
      "source": [
        "random.sample(population=list,k=10) # No repeatition values"
      ],
      "metadata": {
        "colab": {
          "base_uri": "https://localhost:8080/"
        },
        "id": "7d1ufh13ty_K",
        "outputId": "eee4af6d-7f57-4010-a467-b477630991c6"
      },
      "execution_count": 17,
      "outputs": [
        {
          "output_type": "execute_result",
          "data": {
            "text/plain": [
              "[15, 14, 4, 16, 10, 9, 0, 1, 3, 5]"
            ]
          },
          "metadata": {},
          "execution_count": 17
        }
      ]
    },
    {
      "cell_type": "code",
      "source": [
        "list"
      ],
      "metadata": {
        "colab": {
          "base_uri": "https://localhost:8080/"
        },
        "id": "zJOd4oVAuDHZ",
        "outputId": "48a68ec3-2ef7-48bf-9eb7-40b2eb1488f3"
      },
      "execution_count": 18,
      "outputs": [
        {
          "output_type": "execute_result",
          "data": {
            "text/plain": [
              "[0, 1, 2, 3, 4, 5, 6, 7, 8, 9, 10, 11, 12, 13, 14, 15, 16, 17, 18, 19]"
            ]
          },
          "metadata": {},
          "execution_count": 18
        }
      ]
    },
    {
      "cell_type": "code",
      "source": [
        "random.shuffle(list)"
      ],
      "metadata": {
        "id": "0SzCVFoTuQXq"
      },
      "execution_count": 19,
      "outputs": []
    },
    {
      "cell_type": "code",
      "source": [
        "print(list)"
      ],
      "metadata": {
        "colab": {
          "base_uri": "https://localhost:8080/"
        },
        "id": "yata8RUnuVX9",
        "outputId": "370cf4b5-a76c-4a2a-c5bf-08f4f653b9ff"
      },
      "execution_count": 21,
      "outputs": [
        {
          "output_type": "stream",
          "name": "stdout",
          "text": [
            "[6, 10, 0, 2, 19, 3, 4, 11, 1, 15, 18, 17, 7, 12, 13, 14, 8, 9, 16, 5]\n"
          ]
        }
      ]
    },
    {
      "cell_type": "code",
      "source": [
        "text = \"The agent phone number is 408-555-1234. Call Soon!\""
      ],
      "metadata": {
        "id": "nMJCGwC8uY79"
      },
      "execution_count": 22,
      "outputs": []
    },
    {
      "cell_type": "code",
      "source": [
        "'phone' in text"
      ],
      "metadata": {
        "colab": {
          "base_uri": "https://localhost:8080/"
        },
        "id": "DAS6XOgeyVhb",
        "outputId": "850ccf59-6eca-48c1-add5-9ecef978973b"
      },
      "execution_count": 25,
      "outputs": [
        {
          "output_type": "execute_result",
          "data": {
            "text/plain": [
              "True"
            ]
          },
          "metadata": {},
          "execution_count": 25
        }
      ]
    },
    {
      "cell_type": "code",
      "source": [
        "import re"
      ],
      "metadata": {
        "id": "1WxFnvvjybB8"
      },
      "execution_count": 26,
      "outputs": []
    },
    {
      "cell_type": "code",
      "source": [
        "pattern = 'phone'"
      ],
      "metadata": {
        "id": "flD7y0K5yftk"
      },
      "execution_count": 27,
      "outputs": []
    },
    {
      "cell_type": "code",
      "source": [
        "re.search(pattern,text)"
      ],
      "metadata": {
        "colab": {
          "base_uri": "https://localhost:8080/"
        },
        "id": "D4excf0oyjjc",
        "outputId": "522d65d9-d16b-41fd-956a-fcde67dfdab7"
      },
      "execution_count": 29,
      "outputs": [
        {
          "output_type": "execute_result",
          "data": {
            "text/plain": [
              "<re.Match object; span=(10, 15), match='phone'>"
            ]
          },
          "metadata": {},
          "execution_count": 29
        }
      ]
    },
    {
      "cell_type": "code",
      "source": [
        " pattern ='DK'"
      ],
      "metadata": {
        "id": "aV8ajUAFyo4s"
      },
      "execution_count": 32,
      "outputs": []
    },
    {
      "cell_type": "code",
      "source": [
        "re.search(pattern,text)"
      ],
      "metadata": {
        "id": "j3lWwEmuy2LT"
      },
      "execution_count": 33,
      "outputs": []
    },
    {
      "cell_type": "code",
      "source": [
        "pattern ='phone'"
      ],
      "metadata": {
        "id": "tmLlT6SGy4Hv"
      },
      "execution_count": 34,
      "outputs": []
    },
    {
      "cell_type": "code",
      "source": [
        "match = re.search(pattern,text)"
      ],
      "metadata": {
        "id": "2g4VZSh4zHrd"
      },
      "execution_count": 36,
      "outputs": []
    },
    {
      "cell_type": "code",
      "source": [
        "match"
      ],
      "metadata": {
        "colab": {
          "base_uri": "https://localhost:8080/"
        },
        "id": "2Hs7qDsCzJsp",
        "outputId": "efd1d8f1-51aa-4547-ff93-b8c2903519e9"
      },
      "execution_count": 37,
      "outputs": [
        {
          "output_type": "execute_result",
          "data": {
            "text/plain": [
              "<re.Match object; span=(10, 15), match='phone'>"
            ]
          },
          "metadata": {},
          "execution_count": 37
        }
      ]
    },
    {
      "cell_type": "code",
      "source": [
        "match.span() # index number"
      ],
      "metadata": {
        "colab": {
          "base_uri": "https://localhost:8080/"
        },
        "id": "Ccow96NPzPxY",
        "outputId": "7640ce94-df1a-4729-f970-8e25d745fcdd"
      },
      "execution_count": 39,
      "outputs": [
        {
          "output_type": "execute_result",
          "data": {
            "text/plain": [
              "(10, 15)"
            ]
          },
          "metadata": {},
          "execution_count": 39
        }
      ]
    },
    {
      "cell_type": "code",
      "source": [
        "match.start()"
      ],
      "metadata": {
        "colab": {
          "base_uri": "https://localhost:8080/"
        },
        "id": "wlPHCUuezUDL",
        "outputId": "436a1645-dfea-49a9-9520-c8cb1bc4f6e7"
      },
      "execution_count": 40,
      "outputs": [
        {
          "output_type": "execute_result",
          "data": {
            "text/plain": [
              "10"
            ]
          },
          "metadata": {},
          "execution_count": 40
        }
      ]
    },
    {
      "cell_type": "code",
      "source": [
        "match.end()"
      ],
      "metadata": {
        "colab": {
          "base_uri": "https://localhost:8080/"
        },
        "id": "gYo4rPUUzZKk",
        "outputId": "53df6c36-4ccb-49da-892c-9d4cd3b9d7c6"
      },
      "execution_count": 41,
      "outputs": [
        {
          "output_type": "execute_result",
          "data": {
            "text/plain": [
              "15"
            ]
          },
          "metadata": {},
          "execution_count": 41
        }
      ]
    },
    {
      "cell_type": "code",
      "source": [
        "text = \"The phone number is 408-555-6666. Call Soon!\""
      ],
      "metadata": {
        "id": "RaGYq4mszanj"
      },
      "execution_count": 53,
      "outputs": []
    },
    {
      "cell_type": "code",
      "source": [
        "phone =re.search(r'\\d\\d\\d-\\d\\d\\d-\\d\\d\\d\\d',text)"
      ],
      "metadata": {
        "id": "O2DBbCFZ1AAC"
      },
      "execution_count": 59,
      "outputs": []
    },
    {
      "cell_type": "code",
      "source": [
        "phone"
      ],
      "metadata": {
        "colab": {
          "base_uri": "https://localhost:8080/"
        },
        "id": "RliFrFIV1L-N",
        "outputId": "c1b52d0c-990f-4338-a4dd-be6f3bc1a8d5"
      },
      "execution_count": 55,
      "outputs": [
        {
          "output_type": "execute_result",
          "data": {
            "text/plain": [
              "<re.Match object; span=(20, 32), match='408-555-6666'>"
            ]
          },
          "metadata": {},
          "execution_count": 55
        }
      ]
    },
    {
      "cell_type": "code",
      "source": [
        "phone.group()"
      ],
      "metadata": {
        "colab": {
          "base_uri": "https://localhost:8080/",
          "height": 35
        },
        "id": "d2bCELxo1O7M",
        "outputId": "b3f88924-aca7-4e1b-cc9f-4bbbc2a0570a"
      },
      "execution_count": 60,
      "outputs": [
        {
          "output_type": "execute_result",
          "data": {
            "text/plain": [
              "'408-555-6666'"
            ],
            "application/vnd.google.colaboratory.intrinsic+json": {
              "type": "string"
            }
          },
          "metadata": {},
          "execution_count": 60
        }
      ]
    },
    {
      "cell_type": "code",
      "source": [
        "phone =re.search(r'\\d{3}-\\d{3}-\\d{4}',text)"
      ],
      "metadata": {
        "id": "foFrUAdZ2CgO"
      },
      "execution_count": 61,
      "outputs": []
    },
    {
      "cell_type": "code",
      "source": [],
      "metadata": {
        "colab": {
          "base_uri": "https://localhost:8080/"
        },
        "id": "Nmh--f9G35l3",
        "outputId": "90617f5a-fab0-49e9-e580-34146b7b35c7"
      },
      "execution_count": 62,
      "outputs": [
        {
          "output_type": "execute_result",
          "data": {
            "text/plain": [
              "<re.Match object; span=(20, 32), match='408-555-6666'>"
            ]
          },
          "metadata": {},
          "execution_count": 62
        }
      ]
    },
    {
      "cell_type": "code",
      "source": [
        "phone_pattern = re.compile(r'(\\d{3}-\\d{3}-\\d{4})')"
      ],
      "metadata": {
        "id": "aPS-Iy_c36r2"
      },
      "execution_count": 63,
      "outputs": []
    },
    {
      "cell_type": "code",
      "source": [
        "phone_pattern"
      ],
      "metadata": {
        "colab": {
          "base_uri": "https://localhost:8080/"
        },
        "id": "AD9JzdLC4RLt",
        "outputId": "0103dbb0-7384-484b-bcf5-e33b2e10cc29"
      },
      "execution_count": 64,
      "outputs": [
        {
          "output_type": "execute_result",
          "data": {
            "text/plain": [
              "re.compile(r'(\\d{3}-\\d{3}-\\d{4})', re.UNICODE)"
            ]
          },
          "metadata": {},
          "execution_count": 64
        }
      ]
    },
    {
      "cell_type": "code",
      "source": [
        "result = re.search(phone_pattern,text)"
      ],
      "metadata": {
        "id": "OKfz1S9m4VSE"
      },
      "execution_count": 65,
      "outputs": []
    },
    {
      "cell_type": "code",
      "source": [
        "result.group()"
      ],
      "metadata": {
        "colab": {
          "base_uri": "https://localhost:8080/",
          "height": 35
        },
        "id": "1VBFaB6Q4fRB",
        "outputId": "35ecd4a1-a57d-4b27-afd3-7f0a0b9aa01d"
      },
      "execution_count": 66,
      "outputs": [
        {
          "output_type": "execute_result",
          "data": {
            "text/plain": [
              "'408-555-6666'"
            ],
            "application/vnd.google.colaboratory.intrinsic+json": {
              "type": "string"
            }
          },
          "metadata": {},
          "execution_count": 66
        }
      ]
    },
    {
      "cell_type": "code",
      "source": [
        "re.search(r'cat|dog','The cat is here')"
      ],
      "metadata": {
        "colab": {
          "base_uri": "https://localhost:8080/"
        },
        "id": "fD9epAeY4hit",
        "outputId": "6c976fd5-bbd3-4378-b516-3357e54c2088"
      },
      "execution_count": 69,
      "outputs": [
        {
          "output_type": "execute_result",
          "data": {
            "text/plain": [
              "<re.Match object; span=(4, 7), match='cat'>"
            ]
          },
          "metadata": {},
          "execution_count": 69
        }
      ]
    },
    {
      "cell_type": "code",
      "source": [],
      "metadata": {
        "id": "GN3rgDju5qaK"
      },
      "execution_count": null,
      "outputs": []
    }
  ],
  "metadata": {
    "colab": {
      "collapsed_sections": [],
      "provenance": [],
      "authorship_tag": "ABX9TyOhCYHYKGxLQvHLL4Tbm9/Q",
      "include_colab_link": true
    },
    "kernelspec": {
      "display_name": "Python 3",
      "name": "python3"
    },
    "language_info": {
      "name": "python"
    }
  },
  "nbformat": 4,
  "nbformat_minor": 0
}