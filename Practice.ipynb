{
  "cells": [
    {
      "cell_type": "markdown",
      "metadata": {
        "id": "view-in-github",
        "colab_type": "text"
      },
      "source": [
        "<a href=\"https://colab.research.google.com/github/Dineshkumar1823/Coding--Practise-FUN/blob/main/Practice.ipynb\" target=\"_parent\"><img src=\"https://colab.research.google.com/assets/colab-badge.svg\" alt=\"Open In Colab\"/></a>"
      ]
    },
    {
      "cell_type": "code",
      "execution_count": null,
      "metadata": {
        "colab": {
          "background_save": true,
          "base_uri": "https://localhost:8080/"
        },
        "id": "LSlr3gN86L7X",
        "outputId": "4a079df7-8fed-4472-ace6-fe72fc931bc2"
      },
      "outputs": [
        {
          "data": {
            "text/plain": [
              "4"
            ]
          },
          "execution_count": 62,
          "metadata": {},
          "output_type": "execute_result"
        }
      ],
      "source": [
        "2+2\n"
      ]
    },
    {
      "cell_type": "code",
      "execution_count": null,
      "metadata": {
        "colab": {
          "background_save": true,
          "base_uri": "https://localhost:8080/"
        },
        "id": "soZkKoaz6TXm",
        "outputId": "0c2859ce-7af3-4dfc-b8a3-68779aaf9198"
      },
      "outputs": [
        {
          "data": {
            "text/plain": [
              "-1"
            ]
          },
          "execution_count": 63,
          "metadata": {},
          "output_type": "execute_result"
        }
      ],
      "source": [
        "2 - 3"
      ]
    },
    {
      "cell_type": "code",
      "execution_count": null,
      "metadata": {
        "colab": {
          "background_save": true,
          "base_uri": "https://localhost:8080/"
        },
        "id": "alVqXJQi6VVD",
        "outputId": "dcc1f994-cb2c-4a04-b684-bd649792c36b"
      },
      "outputs": [
        {
          "data": {
            "text/plain": [
              "2"
            ]
          },
          "execution_count": 64,
          "metadata": {},
          "output_type": "execute_result"
        }
      ],
      "source": [
        "2*1"
      ]
    },
    {
      "cell_type": "code",
      "execution_count": null,
      "metadata": {
        "colab": {
          "background_save": true,
          "base_uri": "https://localhost:8080/"
        },
        "id": "XwQfugH86Xrc",
        "outputId": "4121c384-de41-4369-a244-2de882699a76"
      },
      "outputs": [
        {
          "data": {
            "text/plain": [
              "1.5"
            ]
          },
          "execution_count": 65,
          "metadata": {},
          "output_type": "execute_result"
        }
      ],
      "source": [
        "6/4"
      ]
    },
    {
      "cell_type": "code",
      "execution_count": null,
      "metadata": {
        "colab": {
          "background_save": true,
          "base_uri": "https://localhost:8080/"
        },
        "id": "Ua2_-g-Z6ZYU",
        "outputId": "1b7da5b1-33f5-42bd-c4d4-84afa36abe55"
      },
      "outputs": [
        {
          "data": {
            "text/plain": [
              "2"
            ]
          },
          "execution_count": 66,
          "metadata": {},
          "output_type": "execute_result"
        }
      ],
      "source": [
        "6 % 4\n"
      ]
    },
    {
      "cell_type": "code",
      "execution_count": null,
      "metadata": {
        "colab": {
          "background_save": true,
          "base_uri": "https://localhost:8080/"
        },
        "id": "H_ak8cCr6ie8",
        "outputId": "f034571b-94de-4cbd-c384-c2339709003c"
      },
      "outputs": [
        {
          "data": {
            "text/plain": [
              "8"
            ]
          },
          "execution_count": 67,
          "metadata": {},
          "output_type": "execute_result"
        }
      ],
      "source": [
        "2**3"
      ]
    },
    {
      "cell_type": "code",
      "execution_count": null,
      "metadata": {
        "colab": {
          "background_save": true
        },
        "id": "-kphm4tS6xjE"
      },
      "outputs": [],
      "source": [
        "a =4\n"
      ]
    },
    {
      "cell_type": "code",
      "execution_count": null,
      "metadata": {
        "colab": {
          "background_save": true,
          "base_uri": "https://localhost:8080/"
        },
        "id": "Ltq63CUb-IIY",
        "outputId": "c25b1118-3ae9-49a1-dd04-73d2a69e92ca"
      },
      "outputs": [
        {
          "data": {
            "text/plain": [
              "4"
            ]
          },
          "execution_count": 69,
          "metadata": {},
          "output_type": "execute_result"
        }
      ],
      "source": [
        "a"
      ]
    },
    {
      "cell_type": "code",
      "execution_count": null,
      "metadata": {
        "colab": {
          "background_save": true
        },
        "id": "25wmiEJy-Ivj"
      },
      "outputs": [],
      "source": [
        "a=a+a"
      ]
    },
    {
      "cell_type": "code",
      "execution_count": null,
      "metadata": {
        "colab": {
          "background_save": true,
          "base_uri": "https://localhost:8080/"
        },
        "id": "wcGsHAk0-L_k",
        "outputId": "7141b776-0d4e-48e2-e7fa-3de9293f269a"
      },
      "outputs": [
        {
          "data": {
            "text/plain": [
              "8"
            ]
          },
          "execution_count": 71,
          "metadata": {},
          "output_type": "execute_result"
        }
      ],
      "source": [
        "a"
      ]
    },
    {
      "cell_type": "code",
      "execution_count": null,
      "metadata": {
        "colab": {
          "background_save": true,
          "base_uri": "https://localhost:8080/"
        },
        "id": "ltTq0Gvw-Npw",
        "outputId": "69a179e2-ea41-48d5-dc54-644fea5c7743"
      },
      "outputs": [
        {
          "data": {
            "text/plain": [
              "int"
            ]
          },
          "execution_count": 72,
          "metadata": {},
          "output_type": "execute_result"
        }
      ],
      "source": [
        "type(a)"
      ]
    },
    {
      "cell_type": "code",
      "execution_count": null,
      "metadata": {
        "colab": {
          "background_save": true
        },
        "id": "nWUY6S0L-Vqk"
      },
      "outputs": [],
      "source": [
        "my_string = \"Hello world\""
      ]
    },
    {
      "cell_type": "code",
      "execution_count": null,
      "metadata": {
        "colab": {
          "background_save": true,
          "base_uri": "https://localhost:8080/"
        },
        "id": "g1PcEcJjCQ-m",
        "outputId": "53a4380a-ccec-46f2-95c4-ddce2c9d90ba"
      },
      "outputs": [
        {
          "data": {
            "text/plain": [
              "11"
            ]
          },
          "execution_count": 74,
          "metadata": {},
          "output_type": "execute_result"
        }
      ],
      "source": [
        "len(my_string)"
      ]
    },
    {
      "cell_type": "code",
      "execution_count": null,
      "metadata": {
        "colab": {
          "background_save": true,
          "base_uri": "https://localhost:8080/",
          "height": 35
        },
        "id": "bWpj9Uv4CUGy",
        "outputId": "6553ced4-aee2-4184-99cb-a0e82816da90"
      },
      "outputs": [
        {
          "data": {
            "application/vnd.google.colaboratory.intrinsic+json": {
              "type": "string"
            },
            "text/plain": [
              "'d'"
            ]
          },
          "execution_count": 75,
          "metadata": {},
          "output_type": "execute_result"
        }
      ],
      "source": [
        "my_string[-1]"
      ]
    },
    {
      "cell_type": "code",
      "execution_count": null,
      "metadata": {
        "colab": {
          "background_save": true
        },
        "id": "8zxZjR4NCwBl"
      },
      "outputs": [],
      "source": [
        "my_string = 'abcdefghij'"
      ]
    },
    {
      "cell_type": "code",
      "execution_count": null,
      "metadata": {
        "colab": {
          "background_save": true,
          "base_uri": "https://localhost:8080/",
          "height": 35
        },
        "id": "Qo0W068wF94V",
        "outputId": "bc2ec967-0e29-4e44-897a-aa57e2e70261"
      },
      "outputs": [
        {
          "data": {
            "application/vnd.google.colaboratory.intrinsic+json": {
              "type": "string"
            },
            "text/plain": [
              "'abcde'"
            ]
          },
          "execution_count": 77,
          "metadata": {},
          "output_type": "execute_result"
        }
      ],
      "source": [
        "my_string[:5]"
      ]
    },
    {
      "cell_type": "code",
      "execution_count": null,
      "metadata": {
        "colab": {
          "background_save": true
        },
        "id": "SlIXEzFIGJDs"
      },
      "outputs": [],
      "source": [
        "name = \"Dinesh\""
      ]
    },
    {
      "cell_type": "code",
      "execution_count": null,
      "metadata": {
        "colab": {
          "background_save": true
        },
        "id": "xlRdgZWNIc7G"
      },
      "outputs": [],
      "source": [
        "last_letter = name[1:]"
      ]
    },
    {
      "cell_type": "code",
      "execution_count": null,
      "metadata": {
        "colab": {
          "background_save": true,
          "base_uri": "https://localhost:8080/",
          "height": 35
        },
        "id": "eLe4yLbLIgvu",
        "outputId": "1daad9ea-1931-4c49-c76b-678609fa795c"
      },
      "outputs": [
        {
          "data": {
            "application/vnd.google.colaboratory.intrinsic+json": {
              "type": "string"
            },
            "text/plain": [
              "'Pinesh'"
            ]
          },
          "execution_count": 80,
          "metadata": {},
          "output_type": "execute_result"
        }
      ],
      "source": [
        "'P' + last_letter"
      ]
    },
    {
      "cell_type": "code",
      "execution_count": null,
      "metadata": {
        "colab": {
          "background_save": true,
          "base_uri": "https://localhost:8080/",
          "height": 35
        },
        "id": "VFCvO-oMKj-t",
        "outputId": "3e6a02e6-dd69-4fac-b5bd-d55875f9036a"
      },
      "outputs": [
        {
          "data": {
            "application/vnd.google.colaboratory.intrinsic+json": {
              "type": "string"
            },
            "text/plain": [
              "'Dinesh'"
            ]
          },
          "execution_count": 81,
          "metadata": {},
          "output_type": "execute_result"
        }
      ],
      "source": [
        "name"
      ]
    },
    {
      "cell_type": "code",
      "execution_count": null,
      "metadata": {
        "colab": {
          "background_save": true,
          "base_uri": "https://localhost:8080/"
        },
        "id": "GHmrQpwkKmzh",
        "outputId": "67fd5c8e-7972-4eca-afc1-9354b94cdc8f"
      },
      "outputs": [
        {
          "data": {
            "text/plain": [
              "['D', 'nesh']"
            ]
          },
          "execution_count": 82,
          "metadata": {},
          "output_type": "execute_result"
        }
      ],
      "source": [
        "name.split('i')"
      ]
    },
    {
      "cell_type": "code",
      "execution_count": null,
      "metadata": {
        "colab": {
          "background_save": true,
          "base_uri": "https://localhost:8080/"
        },
        "id": "j70LpkvhK6d4",
        "outputId": "79d60752-9c0a-4746-e512-8496a786630b"
      },
      "outputs": [
        {
          "name": "stdout",
          "output_type": "stream",
          "text": [
            "My name is Dinesh\n"
          ]
        }
      ],
      "source": [
        "print(\"My name is Dinesh\")"
      ]
    },
    {
      "cell_type": "code",
      "execution_count": null,
      "metadata": {
        "colab": {
          "background_save": true,
          "base_uri": "https://localhost:8080/"
        },
        "id": "fYeaSQ-3O-C3",
        "outputId": "b978c18a-c110-41ba-d0c1-e8c21bf492d2"
      },
      "outputs": [
        {
          "name": "stdout",
          "output_type": "stream",
          "text": [
            "My name is Dinesh Kumar\n"
          ]
        }
      ],
      "source": [
        "print(\"My name is Dinesh {}\".format('Kumar'))"
      ]
    },
    {
      "cell_type": "code",
      "execution_count": null,
      "metadata": {
        "colab": {
          "background_save": true,
          "base_uri": "https://localhost:8080/"
        },
        "id": "XBglcJAyPJ2k",
        "outputId": "11e631e9-0117-4adb-d953-c8883a31276e"
      },
      "outputs": [
        {
          "name": "stdout",
          "output_type": "stream",
          "text": [
            "My name is Kumar Dinesh\n"
          ]
        }
      ],
      "source": [
        "print(\"My name is {1} {0}\".format('Dinesh', 'Kumar'))"
      ]
    },
    {
      "cell_type": "code",
      "execution_count": null,
      "metadata": {
        "colab": {
          "background_save": true,
          "base_uri": "https://localhost:8080/"
        },
        "id": "HtUjtuPbPaa-",
        "outputId": "c7168d2f-5c2a-4b11-f8d1-5bf88857bb63"
      },
      "outputs": [
        {
          "name": "stdout",
          "output_type": "stream",
          "text": [
            "My name is Dinesh Kumar\n"
          ]
        }
      ],
      "source": [
        "print(\"My name is {d} {k}\".format(d='Dinesh', k='Kumar'))"
      ]
    },
    {
      "cell_type": "code",
      "execution_count": null,
      "metadata": {
        "colab": {
          "background_save": true
        },
        "id": "hKW_YVQcQQQl"
      },
      "outputs": [],
      "source": [
        "result = 104.5879654"
      ]
    },
    {
      "cell_type": "code",
      "execution_count": null,
      "metadata": {
        "colab": {
          "background_save": true,
          "base_uri": "https://localhost:8080/",
          "height": 170
        },
        "id": "SJisZ5pLRlaA",
        "outputId": "e878dc1f-4e7d-4c95-a50f-d3bd1e71ffda"
      },
      "outputs": [
        {
          "ename": "ValueError",
          "evalue": "ignored",
          "output_type": "error",
          "traceback": [
            "\u001b[0;31m---------------------------------------------------------------------------\u001b[0m",
            "\u001b[0;31mValueError\u001b[0m                                Traceback (most recent call last)",
            "\u001b[0;32m<ipython-input-88-0c839a7001a7>\u001b[0m in \u001b[0;36m<module>\u001b[0;34m\u001b[0m\n\u001b[0;32m----> 1\u001b[0;31m \u001b[0mprint\u001b[0m\u001b[0;34m(\u001b[0m\u001b[0;34m\"The result was {r:1.2f}\"\u001b[0m\u001b[0;34m.\u001b[0m\u001b[0mformat\u001b[0m\u001b[0;34m(\u001b[0m\u001b[0mr\u001b[0m\u001b[0;34m=\u001b[0m\u001b[0;34m'result'\u001b[0m\u001b[0;34m)\u001b[0m\u001b[0;34m)\u001b[0m\u001b[0;34m\u001b[0m\u001b[0;34m\u001b[0m\u001b[0m\n\u001b[0m",
            "\u001b[0;31mValueError\u001b[0m: Unknown format code 'f' for object of type 'str'"
          ]
        }
      ],
      "source": [
        "print(\"The result was {r:1.2f}\".format(r='result'))"
      ]
    },
    {
      "cell_type": "code",
      "execution_count": null,
      "metadata": {
        "colab": {
          "background_save": true
        },
        "id": "uW9IjDinRsoj"
      },
      "outputs": [],
      "source": [
        "my_list = ['one',4444,'dinesh']\n"
      ]
    },
    {
      "cell_type": "code",
      "execution_count": null,
      "metadata": {
        "colab": {
          "background_save": true
        },
        "id": "lEHw6gijnUYt"
      },
      "outputs": [],
      "source": [
        "my_list"
      ]
    },
    {
      "cell_type": "markdown",
      "metadata": {
        "id": "UKwheGDCn9SO"
      },
      "source": [
        "LIST are Mutable"
      ]
    },
    {
      "cell_type": "code",
      "execution_count": null,
      "metadata": {
        "colab": {
          "background_save": true
        },
        "id": "w-YeRg1bnWe1"
      },
      "outputs": [],
      "source": [
        "my_list[1] = '555'"
      ]
    },
    {
      "cell_type": "code",
      "execution_count": null,
      "metadata": {
        "colab": {
          "background_save": true
        },
        "id": "hU2Pqi12neYe"
      },
      "outputs": [],
      "source": [
        "my_list"
      ]
    },
    {
      "cell_type": "code",
      "execution_count": null,
      "metadata": {
        "colab": {
          "background_save": true
        },
        "id": "AHqn6XVCnixz"
      },
      "outputs": [],
      "source": [
        "next_list = ['dani', 665,55.5]"
      ]
    },
    {
      "cell_type": "markdown",
      "metadata": {
        "id": "muofrZWdn2QN"
      },
      "source": [
        "Concadination"
      ]
    },
    {
      "cell_type": "code",
      "execution_count": null,
      "metadata": {
        "colab": {
          "background_save": true
        },
        "id": "ZwAM7DqZnqCi"
      },
      "outputs": [],
      "source": [
        "my_list + next_list"
      ]
    },
    {
      "cell_type": "code",
      "execution_count": null,
      "metadata": {
        "colab": {
          "background_save": true
        },
        "id": "729AiesgntUF"
      },
      "outputs": [],
      "source": [
        "my_list"
      ]
    },
    {
      "cell_type": "code",
      "execution_count": null,
      "metadata": {
        "colab": {
          "background_save": true
        },
        "id": "wVgx190Ap83z"
      },
      "outputs": [],
      "source": [
        "my_list.append('dk')"
      ]
    },
    {
      "cell_type": "code",
      "execution_count": null,
      "metadata": {
        "colab": {
          "background_save": true
        },
        "id": "h8LV702PqCWA"
      },
      "outputs": [],
      "source": [
        "my_list.pop(-1)\n"
      ]
    },
    {
      "cell_type": "code",
      "execution_count": null,
      "metadata": {
        "colab": {
          "background_save": true
        },
        "id": "eaANq27hqFNS"
      },
      "outputs": [],
      "source": [
        "my_list.sort()"
      ]
    },
    {
      "cell_type": "code",
      "execution_count": null,
      "metadata": {
        "colab": {
          "background_save": true
        },
        "id": "6xmVqehsqavt"
      },
      "outputs": [],
      "source": [
        "my_list"
      ]
    },
    {
      "cell_type": "code",
      "execution_count": null,
      "metadata": {
        "colab": {
          "background_save": true
        },
        "id": "eyhvtAieqcaf"
      },
      "outputs": [],
      "source": [
        "my_list.reverse()"
      ]
    },
    {
      "cell_type": "code",
      "execution_count": null,
      "metadata": {
        "colab": {
          "background_save": true
        },
        "id": "dIZi9YWzq1N-"
      },
      "outputs": [],
      "source": [
        "my_list"
      ]
    },
    {
      "cell_type": "markdown",
      "metadata": {
        "id": "ppK2LO02vCNT"
      },
      "source": [
        "DICTONARIES"
      ]
    },
    {
      "cell_type": "code",
      "execution_count": null,
      "metadata": {
        "colab": {
          "background_save": true
        },
        "id": "ClSK880kq2bg"
      },
      "outputs": [],
      "source": [
        "price_lookup = {'orange': 66,'mango': 55,'Banana':77}"
      ]
    },
    {
      "cell_type": "code",
      "execution_count": null,
      "metadata": {
        "colab": {
          "background_save": true
        },
        "id": "k8X-WtQMvWpW"
      },
      "outputs": [],
      "source": [
        "price_lookup['mango']"
      ]
    },
    {
      "cell_type": "code",
      "execution_count": null,
      "metadata": {
        "colab": {
          "background_save": true
        },
        "id": "d6hjoHosvay_"
      },
      "outputs": [],
      "source": [
        "new_dict = {'d1':456,'d2':[2,4,5],'d3':{'orange': 66,'mango': 55,'Banana':77}}"
      ]
    },
    {
      "cell_type": "code",
      "execution_count": null,
      "metadata": {
        "colab": {
          "background_save": true
        },
        "id": "znpdvk-NxeJC"
      },
      "outputs": [],
      "source": [
        "new_dict['d3']['mango']"
      ]
    },
    {
      "cell_type": "code",
      "execution_count": null,
      "metadata": {
        "colab": {
          "background_save": true
        },
        "id": "5W3A4KcBxjRn"
      },
      "outputs": [],
      "source": [
        "create_dict = {'apple':33,'Game':'cricket'}"
      ]
    },
    {
      "cell_type": "code",
      "execution_count": null,
      "metadata": {
        "colab": {
          "background_save": true
        },
        "id": "ChU4bNw1y-N_"
      },
      "outputs": [],
      "source": [
        "create_dict['Game']='Football'"
      ]
    },
    {
      "cell_type": "code",
      "execution_count": null,
      "metadata": {
        "colab": {
          "background_save": true
        },
        "id": "UBNS2l7GzDr6"
      },
      "outputs": [],
      "source": [
        "create_dict['Game']"
      ]
    },
    {
      "cell_type": "code",
      "execution_count": null,
      "metadata": {
        "colab": {
          "background_save": true
        },
        "id": "1XEqodPPzPFO"
      },
      "outputs": [],
      "source": [
        "create_dict['song']='Raja'"
      ]
    },
    {
      "cell_type": "code",
      "execution_count": null,
      "metadata": {
        "colab": {
          "background_save": true
        },
        "id": "Mn2g0FfMzfrO"
      },
      "outputs": [],
      "source": [
        "create_dict\n"
      ]
    },
    {
      "cell_type": "code",
      "execution_count": null,
      "metadata": {
        "colab": {
          "background_save": true
        },
        "id": "099XZTSezhRH"
      },
      "outputs": [],
      "source": [
        "create_dict['Game'].upper()"
      ]
    },
    {
      "cell_type": "code",
      "execution_count": null,
      "metadata": {
        "colab": {
          "background_save": true
        },
        "id": "I8dMypYl0Lc3"
      },
      "outputs": [],
      "source": [
        "create_dict.keys()"
      ]
    },
    {
      "cell_type": "code",
      "execution_count": null,
      "metadata": {
        "colab": {
          "background_save": true
        },
        "id": "cB-OzROD0SRj"
      },
      "outputs": [],
      "source": [
        "create_dict.values()"
      ]
    },
    {
      "cell_type": "code",
      "execution_count": null,
      "metadata": {
        "colab": {
          "background_save": true
        },
        "id": "QMCxHzew0UWt"
      },
      "outputs": [],
      "source": [
        "create_dict.items()"
      ]
    },
    {
      "cell_type": "markdown",
      "metadata": {
        "id": "3wHq1lET26ge"
      },
      "source": [
        "TUPLE"
      ]
    },
    {
      "cell_type": "code",
      "execution_count": null,
      "metadata": {
        "colab": {
          "background_save": true
        },
        "id": "-aoPIVEM0WoO"
      },
      "outputs": [],
      "source": [
        "new_tup = ('apple',444)"
      ]
    },
    {
      "cell_type": "code",
      "execution_count": null,
      "metadata": {
        "colab": {
          "background_save": true
        },
        "id": "A8zNt-R43DBt"
      },
      "outputs": [],
      "source": [
        "type(new_tup)"
      ]
    },
    {
      "cell_type": "markdown",
      "metadata": {
        "id": "tnCKePQ348ZF"
      },
      "source": [
        "SETS"
      ]
    },
    {
      "cell_type": "code",
      "execution_count": null,
      "metadata": {
        "colab": {
          "background_save": true
        },
        "id": "kpKpEwtg3GgX"
      },
      "outputs": [],
      "source": [
        "my_set=set()"
      ]
    },
    {
      "cell_type": "code",
      "execution_count": null,
      "metadata": {
        "colab": {
          "background_save": true
        },
        "id": "nBGOj_lD5DbI"
      },
      "outputs": [],
      "source": [
        "my_set"
      ]
    },
    {
      "cell_type": "code",
      "execution_count": null,
      "metadata": {
        "colab": {
          "background_save": true
        },
        "id": "XGgHjdGL5GKb"
      },
      "outputs": [],
      "source": [
        "my_set.add(444)\n",
        "my_set"
      ]
    },
    {
      "cell_type": "code",
      "execution_count": null,
      "metadata": {
        "colab": {
          "background_save": true
        },
        "id": "C-Pb4gWg5Y7q"
      },
      "outputs": [],
      "source": [
        "My_sample = my_set"
      ]
    },
    {
      "cell_type": "code",
      "execution_count": null,
      "metadata": {
        "colab": {
          "background_save": true
        },
        "id": "a_b2focE5p-2"
      },
      "outputs": [],
      "source": []
    },
    {
      "cell_type": "code",
      "execution_count": null,
      "metadata": {
        "colab": {
          "background_save": true
        },
        "id": "NFRR6uJy5tvJ"
      },
      "outputs": [],
      "source": [
        "set(My_sample)"
      ]
    },
    {
      "cell_type": "code",
      "execution_count": null,
      "metadata": {
        "colab": {
          "background_save": true
        },
        "id": "MMRbKqH46OTw"
      },
      "outputs": [],
      "source": [
        "%%writefile my_new_file.txt\n",
        "One of the Best\n",
        "Find the Solution\n",
        "Find the Path"
      ]
    },
    {
      "cell_type": "code",
      "execution_count": null,
      "metadata": {
        "colab": {
          "background_save": true
        },
        "id": "t9CWeO-B1EXW"
      },
      "outputs": [],
      "source": [
        "myfile = open('my_new_file.txt')"
      ]
    },
    {
      "cell_type": "code",
      "execution_count": null,
      "metadata": {
        "colab": {
          "background_save": true
        },
        "id": "7xMVN1QF1IQn"
      },
      "outputs": [],
      "source": [
        "pwd"
      ]
    },
    {
      "cell_type": "code",
      "execution_count": null,
      "metadata": {
        "colab": {
          "background_save": true
        },
        "id": "ccxubAv73nn7"
      },
      "outputs": [],
      "source": [
        "myfile.read()"
      ]
    },
    {
      "cell_type": "code",
      "execution_count": null,
      "metadata": {
        "colab": {
          "background_save": true
        },
        "id": "0D8xnxo231F5"
      },
      "outputs": [],
      "source": [
        "myfile.read()"
      ]
    },
    {
      "cell_type": "code",
      "execution_count": null,
      "metadata": {
        "colab": {
          "background_save": true
        },
        "id": "N2rgq_il4BLA"
      },
      "outputs": [],
      "source": [
        "myfile.seek(0)"
      ]
    },
    {
      "cell_type": "code",
      "execution_count": null,
      "metadata": {
        "colab": {
          "background_save": true
        },
        "id": "DlgsIwCt4Ejo"
      },
      "outputs": [],
      "source": [
        "myfile.read()"
      ]
    },
    {
      "cell_type": "code",
      "execution_count": null,
      "metadata": {
        "colab": {
          "background_save": true
        },
        "id": "8MAvcg0z4IVQ"
      },
      "outputs": [],
      "source": [
        "myfile.seek(0)"
      ]
    },
    {
      "cell_type": "code",
      "execution_count": null,
      "metadata": {
        "colab": {
          "background_save": true
        },
        "id": "Zy3wruBx4U0e"
      },
      "outputs": [],
      "source": [
        "myfile.readlines( )\n"
      ]
    },
    {
      "cell_type": "code",
      "execution_count": null,
      "metadata": {
        "colab": {
          "background_save": true
        },
        "id": "OOmut8iU4aT4"
      },
      "outputs": [],
      "source": [
        "list1=[1,2,[3,4,'hello']]"
      ]
    },
    {
      "cell_type": "code",
      "execution_count": null,
      "metadata": {
        "colab": {
          "background_save": true
        },
        "id": "LpG9M107_B1l"
      },
      "outputs": [],
      "source": [
        "list1[2][-1]='Goodbye'"
      ]
    },
    {
      "cell_type": "code",
      "execution_count": null,
      "metadata": {
        "colab": {
          "background_save": true
        },
        "id": "I8ojQe9y_M4u"
      },
      "outputs": [],
      "source": [
        "list1"
      ]
    },
    {
      "cell_type": "code",
      "execution_count": null,
      "metadata": {
        "colab": {
          "background_save": true
        },
        "id": "JSk-bcFA_ObQ"
      },
      "outputs": [],
      "source": [
        "list2=[5,3,4,6,1]"
      ]
    },
    {
      "cell_type": "code",
      "execution_count": null,
      "metadata": {
        "colab": {
          "background_save": true
        },
        "id": "HH3FUUQL_bnH"
      },
      "outputs": [],
      "source": [
        "sorted(list2)"
      ]
    },
    {
      "cell_type": "code",
      "execution_count": null,
      "metadata": {
        "colab": {
          "background_save": true
        },
        "id": "kJClDGn3_eOQ"
      },
      "outputs": [],
      "source": [
        "d = {'k1':[1,2,{'k2':['this is tricky',{'tough':[1,2,['hello']]}]}]}"
      ]
    },
    {
      "cell_type": "code",
      "execution_count": null,
      "metadata": {
        "colab": {
          "background_save": true
        },
        "id": "Qg0T1WBF_fq3"
      },
      "outputs": [],
      "source": [
        "d['k1'][-1]['k2'][1]['tough'][-1][0]"
      ]
    },
    {
      "cell_type": "code",
      "execution_count": null,
      "metadata": {
        "colab": {
          "background_save": true
        },
        "id": "Y2j5ADcQ_5DZ"
      },
      "outputs": [],
      "source": [
        "list5 = [1,2,2,33,4,4,11,22,3,3,2]"
      ]
    },
    {
      "cell_type": "code",
      "execution_count": null,
      "metadata": {
        "colab": {
          "background_save": true
        },
        "id": "7hQ9TXXYCy9a"
      },
      "outputs": [],
      "source": [
        "set(list5)"
      ]
    },
    {
      "cell_type": "markdown",
      "metadata": {
        "id": "Z45Mz-wfqagT"
      },
      "source": [
        "COMPARISON OPERATOR"
      ]
    },
    {
      "cell_type": "code",
      "execution_count": null,
      "metadata": {
        "colab": {
          "background_save": true
        },
        "id": "ApiA4GV-C50Y"
      },
      "outputs": [],
      "source": [
        "2>=8"
      ]
    },
    {
      "cell_type": "code",
      "execution_count": null,
      "metadata": {
        "colab": {
          "background_save": true
        },
        "id": "FUc8X2kIqLfU"
      },
      "outputs": [],
      "source": [
        "2==2"
      ]
    },
    {
      "cell_type": "code",
      "execution_count": null,
      "metadata": {
        "colab": {
          "background_save": true
        },
        "id": "PCnXAtRgqhfH"
      },
      "outputs": [],
      "source": [
        "2<3"
      ]
    },
    {
      "cell_type": "code",
      "execution_count": null,
      "metadata": {
        "colab": {
          "background_save": true
        },
        "id": "-uCXa8EwqjDj"
      },
      "outputs": [],
      "source": [
        "'D'=='D' and 2 >=2"
      ]
    },
    {
      "cell_type": "code",
      "execution_count": null,
      "metadata": {
        "colab": {
          "background_save": true
        },
        "id": "WnFxZaxqr8qF"
      },
      "outputs": [],
      "source": [
        "3==3 or 4>4"
      ]
    },
    {
      "cell_type": "code",
      "execution_count": null,
      "metadata": {
        "colab": {
          "background_save": true
        },
        "id": "d6x0hvHttFhj"
      },
      "outputs": [],
      "source": [
        "not 3==3"
      ]
    },
    {
      "cell_type": "markdown",
      "metadata": {
        "id": "t4kXlPlvwQaV"
      },
      "source": [
        "IF,Elif,else Operation\n",
        "      "
      ]
    },
    {
      "cell_type": "code",
      "execution_count": null,
      "metadata": {
        "colab": {
          "background_save": true
        },
        "id": "tt_K0W6AtXhd"
      },
      "outputs": [],
      "source": [
        "Reaching_office_Time   = 10.01\n",
        "\n",
        "if Reaching_office_Time <=10:\n",
        "  print('Suceesfully reach the Destination')\n",
        "elif Reaching_office_Time <=10.30:\n",
        "  print(\"Grace_time\")  \n",
        "else:\n",
        "  print('Not Suceesfully reach the Destination')"
      ]
    },
    {
      "cell_type": "code",
      "execution_count": null,
      "metadata": {
        "colab": {
          "background_save": true
        },
        "id": "DeV4QWC6xI18"
      },
      "outputs": [],
      "source": [
        "name ='Dinesh'\n",
        "\n",
        "if name =='Dinesh':\n",
        "  print(\"Hello Dinesh\")\n",
        "elif name =='DK':\n",
        "  print('Hello DK')\n",
        "else:\n",
        "  print('what was your Name')"
      ]
    },
    {
      "cell_type": "markdown",
      "metadata": {
        "id": "jGmC6Xbl54l5"
      },
      "source": [
        "FOR Loop"
      ]
    },
    {
      "cell_type": "code",
      "execution_count": null,
      "metadata": {
        "colab": {
          "background_save": true
        },
        "id": "4v3v7LfPzZx_"
      },
      "outputs": [],
      "source": [
        "mylist = [1,2,3,4,5,6]"
      ]
    },
    {
      "cell_type": "code",
      "execution_count": null,
      "metadata": {
        "colab": {
          "background_save": true
        },
        "id": "_ZGHoZbP6Cvk"
      },
      "outputs": [],
      "source": [
        "mylist"
      ]
    },
    {
      "cell_type": "code",
      "execution_count": null,
      "metadata": {
        "colab": {
          "background_save": true
        },
        "id": "GQN-Uvui6EfL"
      },
      "outputs": [],
      "source": [
        "mylist = [1,2,3,4,5,6,7,8,9,10]\n",
        "\n",
        "for num in mylist:\n",
        "  print(f'It was a value:{num}')"
      ]
    },
    {
      "cell_type": "code",
      "execution_count": null,
      "metadata": {
        "colab": {
          "background_save": true
        },
        "id": "a3DeIy856Tqd"
      },
      "outputs": [],
      "source": [
        "for mul in mylist:\n",
        "  if mul % 2 ==0:\n",
        "    print(f'It will be even value: {mul}')\n",
        "  else:\n",
        "    print(f'It will be odd value: {mul}')"
      ]
    },
    {
      "cell_type": "code",
      "execution_count": null,
      "metadata": {
        "colab": {
          "background_save": true
        },
        "id": "3FZaqaFq71uY"
      },
      "outputs": [],
      "source": [
        "my_list = 0\n",
        "for mul in mylist:\n",
        "  my_list = my_list + mul \n",
        "print(my_list)\n",
        "\n"
      ]
    },
    {
      "cell_type": "code",
      "execution_count": null,
      "metadata": {
        "colab": {
          "background_save": true
        },
        "id": "EVaxSCqzFOwT"
      },
      "outputs": [],
      "source": [
        "string ='Hello World'\n",
        "\n",
        "for letter in string:\n",
        "  print(string)"
      ]
    },
    {
      "cell_type": "code",
      "execution_count": null,
      "metadata": {
        "colab": {
          "background_save": true
        },
        "id": "J5G2LLddGzPd"
      },
      "outputs": [],
      "source": [
        "tup = (1,2,3,)\n",
        "for lette in tup:\n",
        "  print(lette)"
      ]
    },
    {
      "cell_type": "code",
      "execution_count": null,
      "metadata": {
        "colab": {
          "background_save": true
        },
        "id": "_CDLwXRsG45j"
      },
      "outputs": [],
      "source": [
        "list_tup =[(1,2,3),(6,7,8),(9,5)]\n",
        "for list in list_tup:\n",
        "  print(list)"
      ]
    },
    {
      "cell_type": "markdown",
      "metadata": {
        "id": "S8LxaSzKIh_3"
      },
      "source": [
        "Tuple unpacking"
      ]
    },
    {
      "cell_type": "code",
      "execution_count": null,
      "metadata": {
        "colab": {
          "background_save": true
        },
        "id": "84cIg6clIcXF"
      },
      "outputs": [],
      "source": [
        "list_tup =[(1,2,3),(6,7,8),(9,5,6)]\n",
        "for a,b,c in list_tup:\n",
        "  print(c)"
      ]
    },
    {
      "cell_type": "code",
      "execution_count": null,
      "metadata": {
        "colab": {
          "background_save": true
        },
        "id": "eUWfULVUIroC"
      },
      "outputs": [],
      "source": [
        "Dict ={'k1':66,'k2':44,'k3':78}\n",
        "\n",
        "for iteams in Dict:\n",
        "  print(iteams)\n",
        "        "
      ]
    },
    {
      "cell_type": "markdown",
      "metadata": {
        "id": "0qXGSVPHjuGN"
      },
      "source": [
        "WHILE LOOP"
      ]
    },
    {
      "cell_type": "code",
      "execution_count": null,
      "metadata": {
        "colab": {
          "background_save": true
        },
        "id": "uOVMWEKkKCwI"
      },
      "outputs": [],
      "source": [
        "x=50\n",
        "while x<5:\n",
        "  print(f' The current value of X is {x}')\n",
        "  x+=1\n",
        "else:\n",
        "  print(f'The current value is less than 5')\n",
        "  "
      ]
    },
    {
      "cell_type": "code",
      "execution_count": null,
      "metadata": {
        "colab": {
          "background_save": true
        },
        "id": "623klCYrkDGf"
      },
      "outputs": [],
      "source": [
        "x=[1,2,3]\n",
        "\n",
        "for num in x:\n",
        "  # comment\n",
        "  pass\n",
        "  print(x)"
      ]
    },
    {
      "cell_type": "code",
      "execution_count": null,
      "metadata": {
        "colab": {
          "background_save": true
        },
        "id": "189E4Iq2rMNc"
      },
      "outputs": [],
      "source": [
        "myname ='Dineshgkumar'\n",
        "\n",
        "for letter in myname:\n",
        "  if letter =='g':\n",
        "    continue\n",
        "  print(letter)"
      ]
    },
    {
      "cell_type": "code",
      "execution_count": null,
      "metadata": {
        "colab": {
          "background_save": true
        },
        "id": "8uvxr3v4vp5o"
      },
      "outputs": [],
      "source": [
        "myname ='Dineshgkumar'\n",
        "\n",
        "for letter in myname:\n",
        "  if letter =='g':\n",
        "    break\n",
        "  print(letter)"
      ]
    },
    {
      "cell_type": "code",
      "execution_count": null,
      "metadata": {
        "colab": {
          "background_save": true
        },
        "id": "G5cuLrI-v_V5"
      },
      "outputs": [],
      "source": [
        "x=0\n",
        "\n",
        "while x<7:\n",
        "  if x==5:\n",
        "    break\n",
        "  print(x)\n",
        "  x+=1\n"
      ]
    },
    {
      "cell_type": "markdown",
      "metadata": {
        "id": "59F-FTqSzRMY"
      },
      "source": [
        "Range"
      ]
    },
    {
      "cell_type": "code",
      "execution_count": null,
      "metadata": {
        "colab": {
          "background_save": true
        },
        "id": "LXCAeI_awheq"
      },
      "outputs": [],
      "source": [
        "for num in range(0,10,3):\n",
        "  print(num)"
      ]
    },
    {
      "cell_type": "code",
      "execution_count": null,
      "metadata": {
        "colab": {
          "background_save": true
        },
        "id": "p-EVUNldzgSy"
      },
      "outputs": [],
      "source": [
        "  list(range(0,10,3))"
      ]
    },
    {
      "cell_type": "markdown",
      "metadata": {
        "id": "uRwDsG_t4jNS"
      },
      "source": [
        "Enumerate"
      ]
    },
    {
      "cell_type": "code",
      "execution_count": null,
      "metadata": {
        "colab": {
          "background_save": true
        },
        "id": "P4ltTFp90B9H"
      },
      "outputs": [],
      "source": [
        "word = 'abcd'\n",
        "for letter in enumerate(word):\n",
        "  print(letter)"
      ]
    },
    {
      "cell_type": "code",
      "execution_count": null,
      "metadata": {
        "colab": {
          "background_save": true
        },
        "id": "XqdkBYqS12AE"
      },
      "outputs": [],
      "source": [
        "word = 'abcd'\n",
        "for index,letter in enumerate(word):\n",
        "  print(index)"
      ]
    },
    {
      "cell_type": "markdown",
      "metadata": {
        "id": "YgYk7-kK5NpP"
      },
      "source": [
        "Zip"
      ]
    },
    {
      "cell_type": "code",
      "execution_count": null,
      "metadata": {
        "colab": {
          "background_save": true
        },
        "id": "apYETMwo39Fs"
      },
      "outputs": [],
      "source": [
        "my_list1 = [1,2,3]\n",
        "my_list2 = ('a','b','c')"
      ]
    },
    {
      "cell_type": "code",
      "execution_count": null,
      "metadata": {
        "colab": {
          "background_save": true
        },
        "id": "LMLOvMaE5d2W"
      },
      "outputs": [],
      "source": [
        "zip(my_list1,my_list2)"
      ]
    },
    {
      "cell_type": "code",
      "execution_count": null,
      "metadata": {
        "colab": {
          "background_save": true
        },
        "id": "GOSvFjUX5jbd"
      },
      "outputs": [],
      "source": [
        "for item in zip(my_list1,my_list2):\n",
        "  print(item)"
      ]
    },
    {
      "cell_type": "markdown",
      "metadata": {
        "id": "VYVJ06KG7Ge7"
      },
      "source": [
        "CHECK IN THE LIST"
      ]
    },
    {
      "cell_type": "code",
      "execution_count": null,
      "metadata": {
        "colab": {
          "background_save": true
        },
        "id": "qWRLZBxS5qW0"
      },
      "outputs": [],
      "source": [
        "'X'in (1,2,3)"
      ]
    },
    {
      "cell_type": "code",
      "execution_count": null,
      "metadata": {
        "colab": {
          "background_save": true
        },
        "id": "iSffAujF7LQy"
      },
      "outputs": [],
      "source": [
        "'X' in ('X','y','c')"
      ]
    },
    {
      "cell_type": "code",
      "execution_count": null,
      "metadata": {
        "colab": {
          "background_save": true
        },
        "id": "KPiJ8xPs7Y6t"
      },
      "outputs": [],
      "source": [
        "my_list = [1,3,4,45,645,444]"
      ]
    },
    {
      "cell_type": "code",
      "execution_count": null,
      "metadata": {
        "colab": {
          "background_save": true
        },
        "id": "5gV_OSA072Px"
      },
      "outputs": [],
      "source": [
        "min(my_list)"
      ]
    },
    {
      "cell_type": "code",
      "execution_count": null,
      "metadata": {
        "colab": {
          "background_save": true
        },
        "id": "kxE_TgM176X3"
      },
      "outputs": [],
      "source": [
        "max(my_list)"
      ]
    },
    {
      "cell_type": "code",
      "execution_count": null,
      "metadata": {
        "colab": {
          "background_save": true
        },
        "id": "RzeCTXOP786v"
      },
      "outputs": [],
      "source": [
        "from random import shuffle\n"
      ]
    },
    {
      "cell_type": "code",
      "execution_count": null,
      "metadata": {
        "colab": {
          "background_save": true
        },
        "id": "i4XDt2nN8gUk"
      },
      "outputs": [],
      "source": [
        "my_list = [1,2,3,4,5]\n",
        "shuffle(my_list)"
      ]
    },
    {
      "cell_type": "code",
      "execution_count": null,
      "metadata": {
        "colab": {
          "background_save": true
        },
        "id": "wiqPgWzF8lsh"
      },
      "outputs": [],
      "source": [
        "my_list"
      ]
    },
    {
      "cell_type": "code",
      "execution_count": null,
      "metadata": {
        "colab": {
          "background_save": true
        },
        "id": "g2SpVV_Z8oOq"
      },
      "outputs": [],
      "source": [
        "from random import randint"
      ]
    },
    {
      "cell_type": "code",
      "execution_count": null,
      "metadata": {
        "colab": {
          "background_save": true
        },
        "id": "2DgEduXG98Bl"
      },
      "outputs": [],
      "source": [
        "randint(0,12)"
      ]
    },
    {
      "cell_type": "code",
      "execution_count": null,
      "metadata": {
        "colab": {
          "background_save": true
        },
        "id": "HnA7gB4bxlcM"
      },
      "outputs": [],
      "source": [
        "Name = int(input('What is your favourite number'))"
      ]
    },
    {
      "cell_type": "code",
      "execution_count": null,
      "metadata": {
        "colab": {
          "background_save": true
        },
        "id": "VIlN6zi4x0L5"
      },
      "outputs": [],
      "source": [
        "Name"
      ]
    },
    {
      "cell_type": "code",
      "execution_count": null,
      "metadata": {
        "colab": {
          "background_save": true
        },
        "id": "3MifGLC4x-N7"
      },
      "outputs": [],
      "source": [
        "type(Name)"
      ]
    },
    {
      "cell_type": "markdown",
      "metadata": {
        "id": "U3OSgPR_03tV"
      },
      "source": [
        "LIST COMPREHENSION"
      ]
    },
    {
      "cell_type": "code",
      "execution_count": null,
      "metadata": {
        "colab": {
          "background_save": true
        },
        "id": "qoUQsz0d1MuL"
      },
      "outputs": [],
      "source": [
        "my_list = 'hello'"
      ]
    },
    {
      "cell_type": "code",
      "execution_count": null,
      "metadata": {
        "colab": {
          "background_save": true
        },
        "id": "zLDT8bl5yL2b"
      },
      "outputs": [],
      "source": [
        "my_string = []\n",
        "\n",
        "for num in my_list:\n",
        "  my_string.append(num)"
      ]
    },
    {
      "cell_type": "code",
      "execution_count": null,
      "metadata": {
        "colab": {
          "background_save": true
        },
        "id": "k52zjnPmyN6a"
      },
      "outputs": [],
      "source": []
    },
    {
      "cell_type": "code",
      "execution_count": null,
      "metadata": {
        "colab": {
          "background_save": true
        },
        "id": "ZzTtT_kj1GcC"
      },
      "outputs": [],
      "source": [
        "my_list = 'Dinesh'\n",
        "my_list = [num for num in my_list]"
      ]
    },
    {
      "cell_type": "code",
      "execution_count": null,
      "metadata": {
        "colab": {
          "background_save": true
        },
        "id": "danBSk2X25sk"
      },
      "outputs": [],
      "source": [
        "my_list"
      ]
    },
    {
      "cell_type": "code",
      "execution_count": null,
      "metadata": {
        "colab": {
          "background_save": true
        },
        "id": "8LlSbCf93LFn"
      },
      "outputs": [],
      "source": [
        "my_value = [x**2 for x in range(0,10)]"
      ]
    },
    {
      "cell_type": "code",
      "execution_count": null,
      "metadata": {
        "colab": {
          "background_save": true
        },
        "id": "5y52zfVg4r3X"
      },
      "outputs": [],
      "source": [
        "my_value"
      ]
    },
    {
      "cell_type": "code",
      "execution_count": null,
      "metadata": {
        "colab": {
          "background_save": true
        },
        "id": "nd2nWynj5GGT"
      },
      "outputs": [],
      "source": [
        "my_value = [x*2 for x in range(0,10) if x % 2==0]"
      ]
    },
    {
      "cell_type": "code",
      "execution_count": null,
      "metadata": {
        "colab": {
          "background_save": true
        },
        "id": "TN0QZnh86MG2"
      },
      "outputs": [],
      "source": [
        "my_value"
      ]
    },
    {
      "cell_type": "code",
      "execution_count": null,
      "metadata": {
        "colab": {
          "background_save": true
        },
        "id": "2Oy8BakO6NMB"
      },
      "outputs": [],
      "source": [
        "celcius = [0,12,16,19]\n",
        "\n",
        "Farenheit = [((9/5*temp + 32) for temp in celcius)]"
      ]
    },
    {
      "cell_type": "code",
      "execution_count": null,
      "metadata": {
        "colab": {
          "background_save": true
        },
        "id": "qWbCeu5h62gt"
      },
      "outputs": [],
      "source": [
        "Farenheit"
      ]
    },
    {
      "cell_type": "code",
      "execution_count": null,
      "metadata": {
        "colab": {
          "background_save": true
        },
        "id": "QFc2TTls65_j"
      },
      "outputs": [],
      "source": [
        "Farenheit"
      ]
    },
    {
      "cell_type": "code",
      "execution_count": null,
      "metadata": {
        "colab": {
          "background_save": true
        },
        "id": "c4EiYeYP69vu"
      },
      "outputs": [],
      "source": [
        "my_list = [1,2,3]\n",
        "my_value = [22,33,44]\n",
        "my_dk = []\n",
        "for x in my_list:\n",
        "  for y in my_value:\n",
        "    my_dk.append(x*y)\n",
        "\n",
        " "
      ]
    },
    {
      "cell_type": "code",
      "execution_count": null,
      "metadata": {
        "colab": {
          "background_save": true
        },
        "id": "Qx8Jahxq8_Y1"
      },
      "outputs": [],
      "source": [
        "my_dk"
      ]
    },
    {
      "cell_type": "code",
      "execution_count": null,
      "metadata": {
        "colab": {
          "background_save": true
        },
        "id": "xULqtryw9Ac1"
      },
      "outputs": [],
      "source": [
        "my_dk = [x*y for x in my_list for y in my_value]"
      ]
    },
    {
      "cell_type": "code",
      "execution_count": null,
      "metadata": {
        "colab": {
          "background_save": true
        },
        "id": "xNGNb-599qD7"
      },
      "outputs": [],
      "source": [
        "my_dk"
      ]
    },
    {
      "cell_type": "code",
      "execution_count": null,
      "metadata": {
        "colab": {
          "background_save": true
        },
        "id": "STMfY88x9rZ8"
      },
      "outputs": [],
      "source": [
        "st = 'Print only the words that start with s in this sentence'"
      ]
    },
    {
      "cell_type": "code",
      "execution_count": null,
      "metadata": {
        "colab": {
          "background_save": true
        },
        "id": "W5Zx6e4b1peJ"
      },
      "outputs": [],
      "source": [
        "st"
      ]
    },
    {
      "cell_type": "code",
      "execution_count": null,
      "metadata": {
        "colab": {
          "background_save": true
        },
        "id": "zt6di33K1qS9"
      },
      "outputs": [],
      "source": [
        "st.split()"
      ]
    },
    {
      "cell_type": "code",
      "execution_count": null,
      "metadata": {
        "colab": {
          "background_save": true
        },
        "id": "UClXTsKT1uI0"
      },
      "outputs": [],
      "source": [
        "for words in st.split():\n",
        "  if words[0]=='s':\n",
        "    print(words)"
      ]
    },
    {
      "cell_type": "code",
      "execution_count": null,
      "metadata": {
        "colab": {
          "background_save": true
        },
        "id": "UJhfmwrG1928"
      },
      "outputs": [],
      "source": [
        "for i in range(0,10):\n",
        "  print(i)"
      ]
    },
    {
      "cell_type": "code",
      "execution_count": null,
      "metadata": {
        "colab": {
          "background_save": true
        },
        "id": "qig5jmiF4ego"
      },
      "outputs": [],
      "source": [
        "my_lsit = [x for x in range(0,51) if x % 3==0 ]\n",
        "print(my_lsit)\n"
      ]
    },
    {
      "cell_type": "code",
      "execution_count": null,
      "metadata": {
        "colab": {
          "background_save": true
        },
        "id": "f_PVIeO452Wp"
      },
      "outputs": [],
      "source": [
        "st = 'Print every word in this sentence that has an even number of letters'"
      ]
    },
    {
      "cell_type": "code",
      "execution_count": null,
      "metadata": {
        "colab": {
          "background_save": true
        },
        "id": "FWk_Xi4l7ATn"
      },
      "outputs": [],
      "source": [
        "st.split()"
      ]
    },
    {
      "cell_type": "code",
      "execution_count": null,
      "metadata": {
        "colab": {
          "background_save": true
        },
        "id": "sbZoi_9d7A2D"
      },
      "outputs": [],
      "source": [
        "for i in st.split():\n",
        "  if len(i) % 2==0:\n",
        "    print(i + ' even words')\n",
        "  "
      ]
    },
    {
      "cell_type": "code",
      "execution_count": null,
      "metadata": {
        "colab": {
          "background_save": true
        },
        "id": "OTvtsK6oAKP_"
      },
      "outputs": [],
      "source": [
        "for num in range(1,50):\n",
        "  print(num)\n"
      ]
    },
    {
      "cell_type": "code",
      "execution_count": null,
      "metadata": {
        "colab": {
          "background_save": true
        },
        "id": "chn9AQbK_b7M"
      },
      "outputs": [],
      "source": [
        "for num in range(1,50):\n",
        "  if num%3==0 and num%5==0:\n",
        "    print('FizzBuzz')\n",
        "  elif num%3==0:\n",
        "    print('Fizz')\n",
        "  elif num%5==0:\n",
        "    print('Buzz')\n",
        "  else:\n",
        "    print(num)"
      ]
    },
    {
      "cell_type": "code",
      "execution_count": null,
      "metadata": {
        "colab": {
          "background_save": true
        },
        "id": "cMnii22C_rTu"
      },
      "outputs": [],
      "source": [
        "my_list =[1,2,3]"
      ]
    },
    {
      "cell_type": "code",
      "execution_count": null,
      "metadata": {
        "colab": {
          "background_save": true
        },
        "id": "PnerpxxVD9qI"
      },
      "outputs": [],
      "source": [
        "my_list.append(4)"
      ]
    },
    {
      "cell_type": "code",
      "execution_count": null,
      "metadata": {
        "colab": {
          "background_save": true
        },
        "id": "HTNR0HlDEATU"
      },
      "outputs": [],
      "source": [
        "my_list"
      ]
    },
    {
      "cell_type": "code",
      "execution_count": null,
      "metadata": {
        "colab": {
          "background_save": true
        },
        "id": "6xnVKw5aEChM"
      },
      "outputs": [],
      "source": [
        "my_list.pop()"
      ]
    },
    {
      "cell_type": "code",
      "execution_count": null,
      "metadata": {
        "colab": {
          "background_save": true
        },
        "id": "qE22j3U8EFFB"
      },
      "outputs": [],
      "source": [
        "my_list"
      ]
    },
    {
      "cell_type": "code",
      "execution_count": null,
      "metadata": {
        "colab": {
          "background_save": true
        },
        "id": "J8i1S8buEGGS"
      },
      "outputs": [],
      "source": [
        "my_list.pop()"
      ]
    },
    {
      "cell_type": "code",
      "execution_count": null,
      "metadata": {
        "colab": {
          "background_save": true
        },
        "id": "Ji5252nnELTG"
      },
      "outputs": [],
      "source": [
        "help(my_list.append)"
      ]
    },
    {
      "cell_type": "markdown",
      "metadata": {
        "id": "RfzJqjaCbPcJ"
      },
      "source": [
        "FUNCTIONS"
      ]
    },
    {
      "cell_type": "code",
      "execution_count": null,
      "metadata": {
        "colab": {
          "background_save": true
        },
        "id": "5Iw-QdeDESRJ"
      },
      "outputs": [],
      "source": [
        "def say_hello():\n",
        "  print('Hello')"
      ]
    },
    {
      "cell_type": "code",
      "execution_count": null,
      "metadata": {
        "colab": {
          "background_save": true
        },
        "id": "QnZyqlBpbWEJ"
      },
      "outputs": [],
      "source": [
        "say_hello()"
      ]
    },
    {
      "cell_type": "code",
      "execution_count": null,
      "metadata": {
        "colab": {
          "background_save": true
        },
        "id": "l0G6yabgbZdE"
      },
      "outputs": [],
      "source": [
        "def say_hi(name='Default'):\n",
        "  print(f'Hi {name}')"
      ]
    },
    {
      "cell_type": "code",
      "execution_count": null,
      "metadata": {
        "colab": {
          "background_save": true
        },
        "id": "es6-AY3wbl12"
      },
      "outputs": [],
      "source": [
        "say_hi()"
      ]
    },
    {
      "cell_type": "code",
      "execution_count": null,
      "metadata": {
        "colab": {
          "background_save": true
        },
        "id": "l0x0h4OWbntG"
      },
      "outputs": [],
      "source": [
        "def add_func(num1,num2):\n",
        "  return num1+num2"
      ]
    },
    {
      "cell_type": "code",
      "execution_count": null,
      "metadata": {
        "colab": {
          "background_save": true
        },
        "id": "va_0p69Fda6u"
      },
      "outputs": [],
      "source": [
        "add_func(1,5)"
      ]
    },
    {
      "cell_type": "code",
      "execution_count": null,
      "metadata": {
        "colab": {
          "background_save": true
        },
        "id": "SpK5sOCqdqWt"
      },
      "outputs": [],
      "source": [
        "output= add_func(1,5)"
      ]
    },
    {
      "cell_type": "code",
      "execution_count": null,
      "metadata": {
        "colab": {
          "background_save": true
        },
        "id": "aZ07oNQMduNS"
      },
      "outputs": [],
      "source": [
        "output"
      ]
    },
    {
      "cell_type": "code",
      "execution_count": null,
      "metadata": {
        "colab": {
          "background_save": true
        },
        "id": "cfemqkzOdvl9"
      },
      "outputs": [],
      "source": [
        "def sum_num(num1,num2):\n",
        "  return num1+num2"
      ]
    },
    {
      "cell_type": "code",
      "execution_count": null,
      "metadata": {
        "colab": {
          "background_save": true
        },
        "id": "n_RSdor6fo5b"
      },
      "outputs": [],
      "source": [
        "sum_num(4,8)"
      ]
    },
    {
      "cell_type": "code",
      "execution_count": null,
      "metadata": {
        "colab": {
          "background_save": true
        },
        "id": "YXJGQMUQfrt8"
      },
      "outputs": [],
      "source": [
        "20 % 2 == 0 "
      ]
    },
    {
      "cell_type": "code",
      "execution_count": null,
      "metadata": {
        "colab": {
          "background_save": true
        },
        "id": "Q_ZwE-jThRHM"
      },
      "outputs": [],
      "source": [
        "25 % 2==0"
      ]
    },
    {
      "cell_type": "code",
      "execution_count": null,
      "metadata": {
        "colab": {
          "background_save": true
        },
        "id": "oXMsiQnVhXa-"
      },
      "outputs": [],
      "source": [
        "def even_value(num):\n",
        "  return num % 2==0"
      ]
    },
    {
      "cell_type": "code",
      "execution_count": null,
      "metadata": {
        "colab": {
          "background_save": true
        },
        "id": "usYDXSCehfcO"
      },
      "outputs": [],
      "source": [
        "even_value(50)"
      ]
    },
    {
      "cell_type": "markdown",
      "metadata": {
        "id": "rz-FeLX2jNZY"
      },
      "source": [
        "RETURN TRUE IF ANY NUMBER IS INSIDE EVEN VALUE"
      ]
    },
    {
      "cell_type": "code",
      "execution_count": null,
      "metadata": {
        "colab": {
          "background_save": true
        },
        "id": "dpXYbWxshik1"
      },
      "outputs": [],
      "source": [
        "def even_num(number):\n",
        "  for val in number:\n",
        "    if val % 2 == 0:\n",
        "      return True\n",
        "    else:\n",
        "      pass\n",
        "  return False\n"
      ]
    },
    {
      "cell_type": "code",
      "execution_count": null,
      "metadata": {
        "colab": {
          "background_save": true
        },
        "id": "0d-ZJPiUjtat"
      },
      "outputs": [],
      "source": [
        "even_num([1,999,9999999])"
      ]
    },
    {
      "cell_type": "markdown",
      "metadata": {
        "id": "2S8ad1pYqzZl"
      },
      "source": [
        "RETURN VALUES IN A LIST"
      ]
    },
    {
      "cell_type": "code",
      "execution_count": null,
      "metadata": {
        "colab": {
          "background_save": true
        },
        "id": "8r9b4ZdfjxSS"
      },
      "outputs": [],
      "source": [
        "def even_value(numbers):\n",
        "  even_number = []\n",
        "  for num in numbers:\n",
        "    if num % 2 ==0:\n",
        "      even_number.append(numbers)\n",
        "      \n",
        "    else:\n",
        "      pass\n",
        "\n",
        "  return even_number\n"
      ]
    },
    {
      "cell_type": "code",
      "execution_count": null,
      "metadata": {
        "colab": {
          "background_save": true
        },
        "id": "QrTCpQQArbnb"
      },
      "outputs": [],
      "source": [
        "even_value([1,7]) # odd value mentioned"
      ]
    },
    {
      "cell_type": "code",
      "execution_count": null,
      "metadata": {
        "colab": {
          "background_save": true
        },
        "id": "xfuCr6jIrfiW"
      },
      "outputs": [],
      "source": [
        "even_value([2,6])"
      ]
    },
    {
      "cell_type": "markdown",
      "metadata": {
        "id": "TAarlybzCcvs"
      },
      "source": [
        "TUPLE UNPACKING"
      ]
    },
    {
      "cell_type": "code",
      "execution_count": null,
      "metadata": {
        "colab": {
          "background_save": true
        },
        "id": "XZsApnRHtUJD"
      },
      "outputs": [],
      "source": [
        "stock_price = [('Apple',230),('Google',600),('onepluse',112)]"
      ]
    },
    {
      "cell_type": "code",
      "execution_count": null,
      "metadata": {
        "colab": {
          "background_save": true
        },
        "id": "rSiXRub7DEqZ"
      },
      "outputs": [],
      "source": [
        "for items in stock_price:\n",
        "  print(items)\n"
      ]
    },
    {
      "cell_type": "code",
      "execution_count": null,
      "metadata": {
        "colab": {
          "background_save": true
        },
        "id": "O6LKgmTpDevQ"
      },
      "outputs": [],
      "source": [
        "for name,price in stock_price:  # Tuple unpacking\n",
        "  print(price+(0.1*price))"
      ]
    },
    {
      "cell_type": "markdown",
      "metadata": {
        "id": "ulwtldoYFxsE"
      },
      "source": [
        "find out the employee of the month ( Related to No. of hours work"
      ]
    },
    {
      "cell_type": "code",
      "execution_count": null,
      "metadata": {
        "colab": {
          "background_save": true
        },
        "id": "LXmQwFLDDsLQ"
      },
      "outputs": [],
      "source": [
        "employee_data = [('DK',450),('Vic',650),('Dani',651)]"
      ]
    },
    {
      "cell_type": "code",
      "execution_count": null,
      "metadata": {
        "colab": {
          "background_save": true
        },
        "id": "C6TJzRzYGQ1O"
      },
      "outputs": [],
      "source": [
        "def employee_of_month(employee_data):\n",
        "  Current_max = 0\n",
        "  employee_name= ''\n",
        "  for employee,hours in employee_data:\n",
        "    if hours > Current_max:\n",
        "      Current_max = hours\n",
        "      employee_name = employee\n",
        "    else:\n",
        "      pass\n",
        "\n",
        "\n",
        "  return (employee_name,Current_max)\n",
        "\n",
        "\n"
      ]
    },
    {
      "cell_type": "code",
      "execution_count": null,
      "metadata": {
        "colab": {
          "background_save": true
        },
        "id": "rqdGwc3vHHLx"
      },
      "outputs": [],
      "source": [
        "employee_of_month(employee_data)"
      ]
    },
    {
      "cell_type": "markdown",
      "metadata": {
        "id": "7saKfSctNXOd"
      },
      "source": [
        "SHUFFLE GAME"
      ]
    },
    {
      "cell_type": "code",
      "execution_count": null,
      "metadata": {
        "colab": {
          "background_save": true
        },
        "id": "lUAXfZmQHV5h"
      },
      "outputs": [],
      "source": [
        "dice=[1,2,3,4,5,6]"
      ]
    },
    {
      "cell_type": "code",
      "execution_count": null,
      "metadata": {
        "colab": {
          "background_save": true
        },
        "id": "UdAguirvNc3-"
      },
      "outputs": [],
      "source": [
        "from random import shuffle"
      ]
    },
    {
      "cell_type": "code",
      "execution_count": null,
      "metadata": {
        "colab": {
          "background_save": true
        },
        "id": "91mSQjwNNg30"
      },
      "outputs": [],
      "source": [
        "shuffle(dice)"
      ]
    },
    {
      "cell_type": "code",
      "execution_count": null,
      "metadata": {
        "colab": {
          "background_save": true
        },
        "id": "Limp6yQ9NkQW"
      },
      "outputs": [],
      "source": [
        "dice"
      ]
    },
    {
      "cell_type": "code",
      "execution_count": null,
      "metadata": {
        "colab": {
          "background_save": true
        },
        "id": "d8CYAsuUNl10"
      },
      "outputs": [],
      "source": [
        "def shuffule_list(my_list):\n",
        "  shuffle(my_list)\n",
        "  return my_list"
      ]
    },
    {
      "cell_type": "code",
      "execution_count": null,
      "metadata": {
        "colab": {
          "background_save": true
        },
        "id": "h7e8WPHLQdeL"
      },
      "outputs": [],
      "source": [
        "result = shuffule_list(dice)"
      ]
    },
    {
      "cell_type": "code",
      "execution_count": null,
      "metadata": {
        "colab": {
          "background_save": true
        },
        "id": "xXs2VJsGQgnE"
      },
      "outputs": [],
      "source": [
        "result"
      ]
    },
    {
      "cell_type": "code",
      "execution_count": null,
      "metadata": {
        "colab": {
          "background_save": true
        },
        "id": "HXWo4KmoQmbE"
      },
      "outputs": [],
      "source": [
        "my_list = ['', 'O', '']"
      ]
    },
    {
      "cell_type": "code",
      "execution_count": null,
      "metadata": {
        "colab": {
          "background_save": true
        },
        "id": "tsMCHU9RQ9hC"
      },
      "outputs": [],
      "source": [
        "shuffule_list(my_list)"
      ]
    },
    {
      "cell_type": "code",
      "execution_count": null,
      "metadata": {
        "colab": {
          "background_save": true
        },
        "id": "9dTiES_VqY8S"
      },
      "outputs": [],
      "source": [
        "def myfunc(Name):\n",
        "    print('Hello {}'.format(Name))\n",
        "    \n",
        "myfunc('Name')\n"
      ]
    },
    {
      "cell_type": "markdown",
      "metadata": {
        "id": "jv8HnwLwPBCK"
      },
      "source": [
        "**arugs and **Kwargs"
      ]
    },
    {
      "cell_type": "code",
      "execution_count": null,
      "metadata": {
        "colab": {
          "background_save": true
        },
        "id": "moPaPg9BHw5n"
      },
      "outputs": [],
      "source": [
        "def myfunc(a,b):\n",
        "  return sum((a,b)) *0.05"
      ]
    },
    {
      "cell_type": "code",
      "execution_count": null,
      "metadata": {
        "colab": {
          "background_save": true
        },
        "id": "GwC3eHp5PPbW"
      },
      "outputs": [],
      "source": [
        "myfunc(10,56)"
      ]
    },
    {
      "cell_type": "code",
      "execution_count": null,
      "metadata": {
        "colab": {
          "background_save": true
        },
        "id": "Akts6AoBPRxT"
      },
      "outputs": [],
      "source": [
        "def myfunc(*args):   # *args are very usefull for multiple arguments\n",
        "  return sum(args)"
      ]
    },
    {
      "cell_type": "code",
      "execution_count": null,
      "metadata": {
        "colab": {
          "background_save": true
        },
        "id": "SvekgEr3RNhv"
      },
      "outputs": [],
      "source": [
        "def myfunc(*args):\n",
        "  return sum(args) *0.05"
      ]
    },
    {
      "cell_type": "code",
      "execution_count": null,
      "metadata": {
        "colab": {
          "background_save": true
        },
        "id": "qkEU2p9TQ9HT"
      },
      "outputs": [],
      "source": [
        "myfunc(10,20)"
      ]
    },
    {
      "cell_type": "code",
      "execution_count": null,
      "metadata": {
        "colab": {
          "background_save": true
        },
        "id": "2LJqfrYXRA-R"
      },
      "outputs": [],
      "source": [
        " def myfunc(**kwargs):\n",
        "\n",
        "   if fruits in kwargs:\n",
        "     print('My favourie fruits {}'.format(kwargs['fruits']))\n",
        "   else:\n",
        "      print('I dont like it')\n",
        "\n",
        "  "
      ]
    },
    {
      "cell_type": "code",
      "execution_count": null,
      "metadata": {
        "colab": {
          "background_save": true
        },
        "id": "1UTKZodRSyM6"
      },
      "outputs": [],
      "source": [
        "def myfunc(*args, **kwargs):\n",
        "  print(args)\n",
        "  print('Find the fruits value {} {}'.format(args[0],kwargs ['food']))"
      ]
    },
    {
      "cell_type": "code",
      "execution_count": null,
      "metadata": {
        "colab": {
          "background_save": true
        },
        "id": "Iy3sUCS6ZAbK"
      },
      "outputs": [],
      "source": [
        "def myfunc(*args):\n",
        "    if args % 2:\n",
        "        return args"
      ]
    },
    {
      "cell_type": "markdown",
      "metadata": {
        "id": "uxd76ENriKr2"
      },
      "source": [
        "LESSER OF TWO EVENS: Write a function that returns the lesser of two given numbers if both numbers are even, but returns the greater if one or both numbers are odd\n",
        "\n",
        "\n",
        "lesser_of_two_evens(2,4) --> 2\n",
        "lesser_of_two_evens(2,5) --> 5"
      ]
    },
    {
      "cell_type": "markdown",
      "metadata": {
        "id": "TIsfKZ6JiKU2"
      },
      "source": []
    },
    {
      "cell_type": "code",
      "execution_count": null,
      "metadata": {
        "colab": {
          "background_save": true
        },
        "id": "N82WaLOrcq_7"
      },
      "outputs": [],
      "source": [
        "def less_or_not_even(a,b):\n",
        "  if a % 2==0 & b % 2==0:\n",
        "    return min(a,b)\n",
        "  else:\n",
        "    return max(a,b)\n",
        "  pass\n",
        "\n"
      ]
    },
    {
      "cell_type": "code",
      "execution_count": null,
      "metadata": {
        "colab": {
          "background_save": true
        },
        "id": "erShPqPPcxJU"
      },
      "outputs": [],
      "source": [
        "less_or_not_even(3,4)\n"
      ]
    },
    {
      "cell_type": "markdown",
      "metadata": {
        "id": "NBS4bqyNk8Rr"
      },
      "source": [
        "ANIMAL CRACKERS: Write a function takes a two-word string and returns True if both words begin with same letter\n",
        "\n",
        "\n",
        "\n",
        "animal_crackers('Levelheaded Llama') --> True\n",
        "animal_crackers('Crazy Kangaroo') --> False"
      ]
    },
    {
      "cell_type": "code",
      "execution_count": null,
      "metadata": {
        "colab": {
          "background_save": true
        },
        "id": "MlppJ7oLi2q3"
      },
      "outputs": [],
      "source": [
        "def two_string_words(text):\n",
        "  wordlist = text.split()\n",
        "  return wordlist[0][0]== wordlist[1][0]\n"
      ]
    },
    {
      "cell_type": "code",
      "execution_count": null,
      "metadata": {
        "colab": {
          "background_save": true
        },
        "id": "oal7ivXRmDIc"
      },
      "outputs": [],
      "source": [
        "two_string_words('Dinesh kumar')"
      ]
    },
    {
      "cell_type": "markdown",
      "metadata": {
        "id": "CoctpUSRpUFM"
      },
      "source": [
        "\n",
        "MAKES TWENTY: Given two integers, return True if the sum of the integers is 20 or if one of the integers is 20. If not, return False\n",
        "\n",
        "makes_twenty(20,10) --> True\n",
        "makes_twenty(12,8) --> True\n",
        "makes_twenty(2,3) --> False\n",
        "\n"
      ]
    },
    {
      "cell_type": "code",
      "execution_count": null,
      "metadata": {
        "colab": {
          "background_save": true
        },
        "id": "UqoU2-2FmGfU"
      },
      "outputs": [],
      "source": [
        "def makes_twenty(n1,n2):\n",
        "  if n1==20 or n2==20:\n",
        "    return True\n",
        "  elif n1 + n2 ==20:\n",
        "    return True\n",
        "  else:\n",
        "    return False"
      ]
    },
    {
      "cell_type": "code",
      "execution_count": null,
      "metadata": {
        "colab": {
          "background_save": true
        },
        "id": "87pmjTa3pq4m"
      },
      "outputs": [],
      "source": [
        "makes_twenty(202,8)"
      ]
    },
    {
      "cell_type": "markdown",
      "metadata": {
        "id": "F4F-YEaIqkbw"
      },
      "source": [
        "OLD MACDONALD: Write a function that capitalizes the first and fourth letters of a name\n",
        "\n",
        "old_macdonald('macdonald') --> MacDonald\n",
        "\n"
      ]
    },
    {
      "cell_type": "code",
      "execution_count": null,
      "metadata": {
        "colab": {
          "background_save": true
        },
        "id": "okvA6xbApuWs"
      },
      "outputs": [],
      "source": [
        "def old_macdonald(name):\n",
        "  if len(name) > 3:\n",
        "    return name[:3].capitalize() + name[3:].capitalize()  # Capitalize is the function for converting upper case to lower case except First letter\n",
        "  return name"
      ]
    },
    {
      "cell_type": "code",
      "execution_count": null,
      "metadata": {
        "colab": {
          "background_save": true
        },
        "id": "dCigCz_nq20L"
      },
      "outputs": [],
      "source": [
        "old_macdonald('Dinesh')"
      ]
    },
    {
      "cell_type": "markdown",
      "metadata": {
        "id": "pUrQ9EOVuIG2"
      },
      "source": [
        "MASTER YODA: Given a sentence, return a sentence with the words reversed\n",
        "\n",
        "master_yoda('I am home') --> 'home am I'\n",
        "master_yoda('We are ready') --> 'ready are We'\n",
        "\n"
      ]
    },
    {
      "cell_type": "code",
      "execution_count": null,
      "metadata": {
        "colab": {
          "background_save": true
        },
        "id": "sup6wkVXtcI9"
      },
      "outputs": [],
      "source": [
        "def master_yoda(name):\n",
        "  return ' '.join(name.split()[::-1])"
      ]
    },
    {
      "cell_type": "code",
      "execution_count": null,
      "metadata": {
        "colab": {
          "background_save": true
        },
        "id": "-adC9SdjvTgH"
      },
      "outputs": [],
      "source": [
        "master_yoda( 'Back i home')"
      ]
    },
    {
      "cell_type": "markdown",
      "metadata": {
        "id": "2WUrlC5l1BJK"
      },
      "source": [
        "Given a list of ints, return True if the array contains a 3 next to a 3 somewhere.\n",
        "\n",
        "has_33([1, 3, 3]) → True\n",
        "has_33([1, 3, 1, 3]) → False\n",
        "has_33([3, 1, 3]) → False"
      ]
    },
    {
      "cell_type": "code",
      "execution_count": null,
      "metadata": {
        "colab": {
          "background_save": true
        },
        "id": "VrX6KmUova5q"
      },
      "outputs": [],
      "source": [
        "def has_33(num):\n",
        "  for i in range(0, len(num)-1):\n",
        "    if num[i:i+2]==[3,3]:\n",
        "      return True\n",
        "    return False"
      ]
    },
    {
      "cell_type": "code",
      "execution_count": null,
      "metadata": {
        "colab": {
          "background_save": true
        },
        "id": "fLjcOwSL2EgD"
      },
      "outputs": [],
      "source": [
        "has_33([1,4,3,3])"
      ]
    },
    {
      "cell_type": "markdown",
      "metadata": {
        "id": "wOYnWWg1F7k-"
      },
      "source": [
        "Given a list of ints, return True if the array contains a 3 next to a 3 somewhere.\n",
        "\n",
        "has_33([1, 3, 3]) → True\n",
        "has_33([1, 3, 1, 3]) → False\n",
        "has_33([3, 1, 3]) → False"
      ]
    },
    {
      "cell_type": "code",
      "execution_count": null,
      "metadata": {
        "colab": {
          "background_save": true
        },
        "id": "Cr_JJIybF-Uw"
      },
      "outputs": [],
      "source": [
        "def num_33(nums):\n",
        "  for i in range(0,len(nums)-1):\n",
        "    if nums[i]==3 and nums[i+1]==3:\n",
        "      return True\n",
        "  return False"
      ]
    },
    {
      "cell_type": "code",
      "execution_count": null,
      "metadata": {
        "colab": {
          "background_save": true
        },
        "id": "4VVQxKjoGeCq"
      },
      "outputs": [],
      "source": [
        "num_33([1,3,3,4,5])"
      ]
    },
    {
      "cell_type": "markdown",
      "metadata": {
        "id": "T_4uf9oQJf21"
      },
      "source": [
        "\n",
        "PAPER DOLL: Given a string, return a string where for every character in the original there are three characters\n",
        "\n",
        "paper_doll('Hello') --> 'HHHeeellllllooo'\n",
        "paper_doll('Mississippi') --> 'MMMiiissssssiiippppppiii'\n",
        "\n"
      ]
    },
    {
      "cell_type": "code",
      "execution_count": null,
      "metadata": {
        "colab": {
          "background_save": true
        },
        "id": "LG7i7D4xGiIV"
      },
      "outputs": [],
      "source": [
        "def word_3(text):\n",
        "  word=\"\"\n",
        "  for char in text:\n",
        "    word += char*3\n",
        "  return word"
      ]
    },
    {
      "cell_type": "code",
      "execution_count": null,
      "metadata": {
        "colab": {
          "background_save": true
        },
        "id": "Fd9S712WJvZW"
      },
      "outputs": [],
      "source": [
        "word_3(\"HI\")"
      ]
    },
    {
      "cell_type": "code",
      "execution_count": null,
      "metadata": {
        "colab": {
          "background_save": true
        },
        "id": "bv_rFhSoJ3AG"
      },
      "outputs": [],
      "source": []
    },
    {
      "cell_type": "markdown",
      "metadata": {
        "id": "IdB-OeRrN31Q"
      },
      "source": [
        "BLACKJACK: Given three integers between 1 and 11, if their sum is less than or equal to 21, return their sum. If their sum exceeds 21 and there's an eleven, reduce the total sum by 10. Finally, if the sum (even after adjustment) exceeds 21, return 'BUST'\n",
        "\n",
        "blackjack(5,6,7) --> 18\n",
        "blackjack(9,9,9) --> 'BUST'\n",
        "blackjack(9,9,11) --> 19"
      ]
    },
    {
      "cell_type": "code",
      "execution_count": null,
      "metadata": {
        "colab": {
          "background_save": true
        },
        "id": "fS2xVTMIODZa"
      },
      "outputs": [],
      "source": [
        "def blackjack(a,b,c):\n",
        "  if sum([a,b,c]) <= 21:\n",
        "    return sum([a,b,c])\n",
        "  elif 11 in ([a,b,c]) and sum([a,b,c]) <=31:\n",
        "    return sum([a,b,c])-10\n",
        "  else:\n",
        "    return 'Bust'"
      ]
    },
    {
      "cell_type": "code",
      "execution_count": null,
      "metadata": {
        "colab": {
          "background_save": true
        },
        "id": "n7Mvis6iPOqc"
      },
      "outputs": [],
      "source": [
        "blackjack(9,9,9)"
      ]
    },
    {
      "cell_type": "markdown",
      "metadata": {
        "id": "N0S072MmRT_H"
      },
      "source": [
        "\n",
        "SUMMER OF '69: Return the sum of the numbers in the array, except ignore sections of numbers starting with a 6 and extending to the next 9 (every 6 will be followed by at least one 9). Return 0 for no numbers.\n",
        "\n",
        "summer_69([1, 3, 5]) --> 9\n",
        "summer_69([4, 5, 6, 7, 8, 9]) --> 9\n",
        "summer_69([2, 1, 6, 9, 11]) --> 14\n",
        "\n"
      ]
    },
    {
      "cell_type": "code",
      "execution_count": null,
      "metadata": {
        "colab": {
          "background_save": true
        },
        "id": "oZnt3ETtPSxA"
      },
      "outputs": [],
      "source": [
        "def summer_99(arr):\n",
        "  total = 0\n",
        "  add = True\n",
        "\n",
        "  for num in arr:\n",
        "    while add:\n",
        "      if num!=6:\n",
        "        total += num\n",
        "        break\n",
        "      else:\n",
        "        add = False\n",
        "    while not add:\n",
        "      if num!=9:\n",
        "        total +=num\n",
        "      else:\n",
        "        add = True\n",
        "        break\n",
        "  return total\n",
        "\n"
      ]
    },
    {
      "cell_type": "code",
      "execution_count": null,
      "metadata": {
        "colab": {
          "background_save": true
        },
        "id": "ycCE-vlLTB5p"
      },
      "outputs": [],
      "source": [
        "summer_99([1,3,5])"
      ]
    },
    {
      "cell_type": "code",
      "execution_count": null,
      "metadata": {
        "colab": {
          "background_save": true
        },
        "id": "ApqWKXF-Ux9n"
      },
      "outputs": [],
      "source": [
        "def square(nums):\n",
        "  return nums**2"
      ]
    },
    {
      "cell_type": "code",
      "execution_count": null,
      "metadata": {
        "colab": {
          "background_save": true
        },
        "id": "ON601FvYl-Sd"
      },
      "outputs": [],
      "source": [
        "square(2)"
      ]
    },
    {
      "cell_type": "code",
      "execution_count": null,
      "metadata": {
        "colab": {
          "background_save": true
        },
        "id": "jNpNqKS5mBdH"
      },
      "outputs": [],
      "source": [
        "my_nums = [1,2,3,4,5]"
      ]
    },
    {
      "cell_type": "code",
      "execution_count": null,
      "metadata": {
        "colab": {
          "background_save": true
        },
        "id": "pA5Ummu8mIJ1"
      },
      "outputs": [],
      "source": [
        "square"
      ]
    },
    {
      "cell_type": "code",
      "execution_count": null,
      "metadata": {
        "colab": {
          "background_save": true
        },
        "id": "vpebHNFamL_t"
      },
      "outputs": [],
      "source": [
        "for item in map(square,my_nums): # MAP funciton\n",
        "  print(item)\n"
      ]
    },
    {
      "cell_type": "code",
      "execution_count": null,
      "metadata": {
        "colab": {
          "background_save": true
        },
        "id": "5ZcRAwRFmiNM"
      },
      "outputs": [],
      "source": [
        "\n",
        "list(map(square,my_nums)) # Map implementation"
      ]
    },
    {
      "cell_type": "code",
      "execution_count": null,
      "metadata": {
        "colab": {
          "background_save": true
        },
        "id": "ZmcdtFQlmyQL"
      },
      "outputs": [],
      "source": [
        "def even_value(nums):\n",
        "  return nums%2==0"
      ]
    },
    {
      "cell_type": "code",
      "execution_count": null,
      "metadata": {
        "colab": {
          "background_save": true
        },
        "id": "DTmVWK0SpIhk"
      },
      "outputs": [],
      "source": [
        "my_list=[1,2,3,4,5,6,8]"
      ]
    },
    {
      "cell_type": "code",
      "execution_count": null,
      "metadata": {
        "colab": {
          "background_save": true
        },
        "id": "XKgc3VRco8wz"
      },
      "outputs": [],
      "source": [
        "for n in filter(even_value,my_list):\n",
        "  print(n)"
      ]
    },
    {
      "cell_type": "code",
      "execution_count": null,
      "metadata": {
        "colab": {
          "background_save": true
        },
        "id": "tKphdkRepRxL"
      },
      "outputs": [],
      "source": [
        "list(filter(even_value,my_list))"
      ]
    },
    {
      "cell_type": "code",
      "execution_count": null,
      "metadata": {
        "colab": {
          "background_save": true
        },
        "id": "rcS29t4lpYpu"
      },
      "outputs": [],
      "source": [
        "lambda nums: nums**2\n"
      ]
    },
    {
      "cell_type": "code",
      "execution_count": null,
      "metadata": {
        "colab": {
          "background_save": true
        },
        "id": "iBTYoeVTqbUz"
      },
      "outputs": [],
      "source": [
        "squart(6)"
      ]
    },
    {
      "cell_type": "code",
      "execution_count": null,
      "metadata": {
        "colab": {
          "background_save": true
        },
        "id": "0S-PgyLAqij8"
      },
      "outputs": [],
      "source": [
        "lambda nums:num%2==0"
      ]
    },
    {
      "cell_type": "code",
      "execution_count": null,
      "metadata": {
        "colab": {
          "background_save": true
        },
        "id": "IvTrN071r45i"
      },
      "outputs": [],
      "source": [
        "my_list = [1,2,3,4,5,6]"
      ]
    },
    {
      "cell_type": "code",
      "execution_count": null,
      "metadata": {
        "colab": {
          "background_save": true
        },
        "id": "W0dObQhxrZll"
      },
      "outputs": [],
      "source": [
        "list(map(lambda nums:nums%2==0,my_list))"
      ]
    },
    {
      "cell_type": "code",
      "execution_count": null,
      "metadata": {
        "colab": {
          "background_save": true
        },
        "id": "eSXD10ogr2IE"
      },
      "outputs": [],
      "source": [
        "my_list"
      ]
    },
    {
      "cell_type": "code",
      "execution_count": null,
      "metadata": {
        "colab": {
          "background_save": true
        },
        "id": "Sdt5954Vsom2"
      },
      "outputs": [],
      "source": [
        "list(filter(lambda x : x%2==0,my_list))"
      ]
    },
    {
      "cell_type": "markdown",
      "metadata": {
        "id": "bL_CdHNJ4Pic"
      },
      "source": [
        "The volume of a sphere is given as\n",
        "(4/3)*(3.14)*(r**3)"
      ]
    },
    {
      "cell_type": "code",
      "execution_count": null,
      "metadata": {
        "colab": {
          "background_save": true
        },
        "id": "QSF66ptTs73L"
      },
      "outputs": [],
      "source": [
        "def vol(r):\n",
        "  return (4/3)*(3.14)*(r**3)\n",
        "    "
      ]
    },
    {
      "cell_type": "code",
      "execution_count": null,
      "metadata": {
        "colab": {
          "background_save": true
        },
        "id": "2vwU8E4c3MFt"
      },
      "outputs": [],
      "source": [
        "vol(2)"
      ]
    },
    {
      "cell_type": "markdown",
      "metadata": {
        "id": "Z52yodAR5HGD"
      },
      "source": [
        "Write a function that checks whether a number is in a given range (inclusive of high and low)"
      ]
    },
    {
      "cell_type": "code",
      "execution_count": null,
      "metadata": {
        "colab": {
          "background_save": true
        },
        "id": "lLLnjTWV3_cU"
      },
      "outputs": [],
      "source": [
        "def run_check(num,low,high):\n",
        "  if num in range(low,high+1):\n",
        "    print('{} is the range between {} to {}'.format(num,low,high))\n",
        "  else:\n",
        "    print('The number is outside the range')\n"
      ]
    },
    {
      "cell_type": "code",
      "execution_count": null,
      "metadata": {
        "colab": {
          "background_save": true
        },
        "id": "zSBoXSGj6DXt"
      },
      "outputs": [],
      "source": [
        "run_check(9,4,8)"
      ]
    },
    {
      "cell_type": "code",
      "execution_count": null,
      "metadata": {
        "colab": {
          "background_save": true
        },
        "id": "Qve8IMb16GUM"
      },
      "outputs": [],
      "source": [
        "def Boolen_(num,low,high):\n",
        "  return num in range(low,high+1)\n",
        "\n"
      ]
    },
    {
      "cell_type": "code",
      "execution_count": null,
      "metadata": {
        "colab": {
          "background_save": true
        },
        "id": "9QXlCojt6wd1"
      },
      "outputs": [],
      "source": [
        "Boolen_(4,2,8)"
      ]
    },
    {
      "cell_type": "markdown",
      "source": [
        "Write a Python function that accepts a string and calculates the number of upper case letters and lower case letters.\n",
        "\n",
        "Sample String : 'Hello Mr. Rogers, how are you this fine Tuesday?'\n",
        "Expected Output : \n",
        "No. of Upper case characters : 4\n",
        "No. of Lower case Characters : 33\n",
        "\n",
        "HINT: Two string methods that might prove useful: .isupper() and .islower()\n",
        "\n",
        "If you feel ambitious, explore the Collections module to solve this problem!\n"
      ],
      "metadata": {
        "id": "Ytb149G5p33p"
      }
    },
    {
      "cell_type": "code",
      "execution_count": null,
      "metadata": {
        "id": "A32mozkT7YrD"
      },
      "outputs": [],
      "source": [
        "def up_lower(s):\n",
        "  lowercase = 0\n",
        "  uppercase = 0\n",
        "  for char in s:\n",
        "    if char.isupper():\n",
        "      uppercase+= 1\n",
        "    elif char.islower():\n",
        "      lowercase+=1\n",
        "    else:\n",
        "      pass\n",
        "\n",
        "\n",
        "\n",
        "  print(f'Uppercase : {s}')\n",
        "  print(f'Lower count is :{lowercase}')\n",
        "  print(f'Upper count is :{uppercase}')"
      ]
    },
    {
      "cell_type": "code",
      "source": [
        "s = 'Hello Mr. Rogers, how are you this fine Tuesday?'"
      ],
      "metadata": {
        "id": "ZeAvrkWMqiaL"
      },
      "execution_count": null,
      "outputs": []
    },
    {
      "cell_type": "code",
      "source": [
        "up_lower(s)"
      ],
      "metadata": {
        "colab": {
          "base_uri": "https://localhost:8080/"
        },
        "id": "zFsuEWsKq5e7",
        "outputId": "42a1e621-b83b-4d01-b9a0-4703ef93711e"
      },
      "execution_count": null,
      "outputs": [
        {
          "output_type": "stream",
          "name": "stdout",
          "text": [
            "Uppercase : Hello Mr. Rogers, how are you this fine Tuesday?\n",
            "Lower count is :33\n",
            "Upper count is :4\n"
          ]
        }
      ]
    },
    {
      "cell_type": "markdown",
      "source": [
        "Write a Python function that takes a list and returns a new list with unique elements of the first list.\n",
        "\n",
        "Sample List : [1,1,1,1,2,2,3,3,3,3,4,5]\n",
        "Unique List : [1, 2, 3, 4, 5]"
      ],
      "metadata": {
        "id": "zYK_RpU4uRuG"
      }
    },
    {
      "cell_type": "code",
      "source": [
        "def unique_num(lst):\n",
        "  x=[]\n",
        "\n",
        "  for num in lst:\n",
        "    if num not in x:\n",
        "      x.append(num)\n",
        "  return x"
      ],
      "metadata": {
        "id": "-f09AqUeq_YY"
      },
      "execution_count": null,
      "outputs": []
    },
    {
      "cell_type": "code",
      "source": [
        "lst=[1,1,1,1,2,2,3,3,3,3,4,5]"
      ],
      "metadata": {
        "id": "rhdUyf_kuqws"
      },
      "execution_count": null,
      "outputs": []
    },
    {
      "cell_type": "code",
      "source": [
        "unique_num(lst)"
      ],
      "metadata": {
        "colab": {
          "base_uri": "https://localhost:8080/"
        },
        "id": "vW-axj4JuvmQ",
        "outputId": "2deffb61-29ee-41eb-ef05-d007947e8097"
      },
      "execution_count": null,
      "outputs": [
        {
          "output_type": "execute_result",
          "data": {
            "text/plain": [
              "[1, 2, 3, 4, 5]"
            ]
          },
          "metadata": {},
          "execution_count": 36
        }
      ]
    },
    {
      "cell_type": "markdown",
      "source": [
        "Write a Python function to multiply all the numbers in a list.\n",
        "\n",
        "Sample List : [1, 2, 3, -4]\n",
        "Expected Output : -24"
      ],
      "metadata": {
        "id": "Ty4ZyyZiwuAB"
      }
    },
    {
      "cell_type": "code",
      "source": [
        "def squar(number):\n",
        "  x=1\n",
        "\n",
        "  for num in number:\n",
        "    x =x*num\n",
        "  return x\n"
      ],
      "metadata": {
        "id": "ZdPKbV2WuxvE"
      },
      "execution_count": null,
      "outputs": []
    },
    {
      "cell_type": "code",
      "source": [
        "number = [1,2,3,-4]"
      ],
      "metadata": {
        "id": "6SH6CsoxxJPR"
      },
      "execution_count": null,
      "outputs": []
    },
    {
      "cell_type": "code",
      "source": [
        "squar(number)"
      ],
      "metadata": {
        "colab": {
          "base_uri": "https://localhost:8080/"
        },
        "id": "9SCsIz4gxNzb",
        "outputId": "c2a8dcf3-c1a0-423d-9400-7ab42397dbcc"
      },
      "execution_count": null,
      "outputs": [
        {
          "output_type": "execute_result",
          "data": {
            "text/plain": [
              "-24"
            ]
          },
          "metadata": {},
          "execution_count": 50
        }
      ]
    },
    {
      "cell_type": "markdown",
      "source": [
        "Write a Python function that checks whether a passed in string is palindrome or not.\n",
        "\n",
        "Note: A palindrome is word, phrase, or sequence that reads the same backward as forward, e.g., madam or nurses run."
      ],
      "metadata": {
        "id": "bZ5GS7Qay9LM"
      }
    },
    {
      "cell_type": "code",
      "source": [
        "def palindrome(x):\n",
        "  x=x.replace(' ','')\n",
        "  return  x ==x[::-1]"
      ],
      "metadata": {
        "id": "cxUh1dv9xPhs"
      },
      "execution_count": null,
      "outputs": []
    },
    {
      "cell_type": "code",
      "source": [
        "x= 'ma dam'"
      ],
      "metadata": {
        "id": "_CCJ8ELbzLRP"
      },
      "execution_count": null,
      "outputs": []
    },
    {
      "cell_type": "code",
      "source": [
        "palindrome(x)"
      ],
      "metadata": {
        "colab": {
          "base_uri": "https://localhost:8080/"
        },
        "id": "MZw8W_V5zNXS",
        "outputId": "c78a1ead-3fdd-43bf-886c-fe218c11075a"
      },
      "execution_count": null,
      "outputs": [
        {
          "output_type": "execute_result",
          "data": {
            "text/plain": [
              "True"
            ]
          },
          "metadata": {},
          "execution_count": 70
        }
      ]
    },
    {
      "cell_type": "markdown",
      "source": [
        "Write a Python function to check whether a string is pangram or not.\n",
        "\n",
        "Note : Pangrams are words or sentences containing every letter of the alphabet at least once.\n",
        "For example : \"The quick brown fox jumps over the lazy dog\"\n",
        "\n"
      ],
      "metadata": {
        "id": "9I2-9rC61uHp"
      }
    },
    {
      "cell_type": "code",
      "source": [
        "import string\n",
        "def pangram(str1, alphabet=string.ascii_lowercase):\n",
        "\n",
        "  # set the alphabet\n",
        "  alphabet =set(alphabet)\n",
        "  # Repalace the space\n",
        "\n",
        "  str1 =str1.replace(' ','')\n",
        "  #set the lowercase\n",
        "  str1 = str1.lower()\n",
        "  # unique number\n",
        "  str1 =set(str1)\n",
        "\n",
        "  #\n",
        "  return str1==alphabet\n"
      ],
      "metadata": {
        "id": "5spzVqH30bbt"
      },
      "execution_count": 1,
      "outputs": []
    },
    {
      "cell_type": "code",
      "source": [
        "pangram('The quick brown fox jumps over the lazy dog')"
      ],
      "metadata": {
        "colab": {
          "base_uri": "https://localhost:8080/"
        },
        "id": "eEPo_2bZ2vKp",
        "outputId": "33ae423d-1ebf-4b17-b38d-a7763ebe6f04"
      },
      "execution_count": 2,
      "outputs": [
        {
          "output_type": "execute_result",
          "data": {
            "text/plain": [
              "True"
            ]
          },
          "metadata": {},
          "execution_count": 2
        }
      ]
    },
    {
      "cell_type": "code",
      "source": [
        "x=([' ',' ',' '])\n",
        "y = ([' ',' ',' '])\n",
        "z=([' ',' ',' '])"
      ],
      "metadata": {
        "id": "F8ZeYvwx3BO6"
      },
      "execution_count": 17,
      "outputs": []
    },
    {
      "cell_type": "code",
      "source": [
        "def example(x,y,z):\n",
        "  print(x)\n",
        "  print(y)\n",
        "  print(z)"
      ],
      "metadata": {
        "id": "DDD_d0kUH65s"
      },
      "execution_count": 18,
      "outputs": []
    },
    {
      "cell_type": "code",
      "source": [
        "example(x,y,z)"
      ],
      "metadata": {
        "colab": {
          "base_uri": "https://localhost:8080/"
        },
        "id": "JjfZMQqWH-lZ",
        "outputId": "11b336ac-1aee-4c74-87a0-00c01c30e067"
      },
      "execution_count": 19,
      "outputs": [
        {
          "output_type": "stream",
          "name": "stdout",
          "text": [
            "[' ', ' ', ' ']\n",
            "[' ', ' ', ' ']\n",
            "[' ', ' ', ' ']\n"
          ]
        }
      ]
    },
    {
      "cell_type": "code",
      "source": [
        "y[2]=\"x\""
      ],
      "metadata": {
        "id": "8UnIyxLoIILL"
      },
      "execution_count": 20,
      "outputs": []
    },
    {
      "cell_type": "code",
      "source": [
        "example(x,y,z)"
      ],
      "metadata": {
        "colab": {
          "base_uri": "https://localhost:8080/"
        },
        "id": "hmhwFkRpIQq7",
        "outputId": "3b39feb1-e8b7-4ccb-f865-33d890a53fc7"
      },
      "execution_count": 21,
      "outputs": [
        {
          "output_type": "stream",
          "name": "stdout",
          "text": [
            "[' ', ' ', ' ']\n",
            "[' ', ' ', 'x']\n",
            "[' ', ' ', ' ']\n"
          ]
        }
      ]
    },
    {
      "cell_type": "code",
      "source": [
        "input(\"choose the number: \")"
      ],
      "metadata": {
        "colab": {
          "base_uri": "https://localhost:8080/",
          "height": 53
        },
        "id": "Ikrfjw-qISbh",
        "outputId": "57b59c61-ec99-4c8b-ef78-a68a3e68d98a"
      },
      "execution_count": 22,
      "outputs": [
        {
          "name": "stdout",
          "output_type": "stream",
          "text": [
            "choose the number: 55\n"
          ]
        },
        {
          "output_type": "execute_result",
          "data": {
            "text/plain": [
              "'55'"
            ],
            "application/vnd.google.colaboratory.intrinsic+json": {
              "type": "string"
            }
          },
          "metadata": {},
          "execution_count": 22
        }
      ]
    },
    {
      "cell_type": "code",
      "source": [
        "value = input(\"choose the number: \")"
      ],
      "metadata": {
        "colab": {
          "base_uri": "https://localhost:8080/"
        },
        "id": "dpK-hJoELLjh",
        "outputId": "da95c6e3-05c3-4eaa-f902-92b7544365bf"
      },
      "execution_count": 23,
      "outputs": [
        {
          "name": "stdout",
          "output_type": "stream",
          "text": [
            "choose the number: 5\n"
          ]
        }
      ]
    },
    {
      "cell_type": "code",
      "source": [
        "position=int(value)"
      ],
      "metadata": {
        "id": "WCEtnwhsLTsx"
      },
      "execution_count": 27,
      "outputs": []
    },
    {
      "cell_type": "code",
      "source": [
        "type(position)"
      ],
      "metadata": {
        "colab": {
          "base_uri": "https://localhost:8080/"
        },
        "id": "Jk0FZYH1LXY1",
        "outputId": "1ab99407-0917-4ad6-994e-104aa146c572"
      },
      "execution_count": 28,
      "outputs": [
        {
          "output_type": "execute_result",
          "data": {
            "text/plain": [
              "int"
            ]
          },
          "metadata": {},
          "execution_count": 28
        }
      ]
    },
    {
      "cell_type": "code",
      "source": [
        "value= input(\"change the value: \")"
      ],
      "metadata": {
        "colab": {
          "base_uri": "https://localhost:8080/"
        },
        "id": "ERiUQRTuLcA4",
        "outputId": "f9c83bac-4126-421b-8a67-0310b29dc83f"
      },
      "execution_count": 29,
      "outputs": [
        {
          "name": "stdout",
          "output_type": "stream",
          "text": [
            "change the value: two\n"
          ]
        }
      ]
    },
    {
      "cell_type": "code",
      "source": [
        "def user_choice():\n",
        "  choice = input('Choose the number between(0-9): ')\n",
        "  return int(choice)"
      ],
      "metadata": {
        "id": "dBxtydhSMdaK"
      },
      "execution_count": 35,
      "outputs": []
    },
    {
      "cell_type": "code",
      "source": [
        "user_choice()"
      ],
      "metadata": {
        "colab": {
          "base_uri": "https://localhost:8080/"
        },
        "id": "6hTzntjeMjpb",
        "outputId": "a73b538c-6041-4837-f336-356e083eb111"
      },
      "execution_count": 36,
      "outputs": [
        {
          "name": "stdout",
          "output_type": "stream",
          "text": [
            "Choose the number between(0-9): 100\n"
          ]
        },
        {
          "output_type": "execute_result",
          "data": {
            "text/plain": [
              "100"
            ]
          },
          "metadata": {},
          "execution_count": 36
        }
      ]
    },
    {
      "cell_type": "code",
      "source": [
        "def user_choice():\n",
        "  choice = 'wrong'\n",
        "  while choice.isdigit()==False:\n",
        "\n",
        "    choice = input('Choose the number between(0-9): ')\n",
        "    if choice.isdigit()==False:\n",
        "      print(\"this is not a digit\")\n",
        "  return int(choice)"
      ],
      "metadata": {
        "id": "KdiWZKyFOn-6"
      },
      "execution_count": 44,
      "outputs": []
    },
    {
      "cell_type": "code",
      "source": [
        "user_choice()"
      ],
      "metadata": {
        "colab": {
          "base_uri": "https://localhost:8080/"
        },
        "id": "S_j8-7yURk1-",
        "outputId": "37d12a48-2757-45df-b6f8-2316794d27fe"
      },
      "execution_count": 45,
      "outputs": [
        {
          "name": "stdout",
          "output_type": "stream",
          "text": [
            "Choose the number between(0-9): dfdf\n",
            "this is not a digit\n",
            "Choose the number between(0-9): 444\n"
          ]
        },
        {
          "output_type": "execute_result",
          "data": {
            "text/plain": [
              "444"
            ]
          },
          "metadata": {},
          "execution_count": 45
        }
      ]
    },
    {
      "cell_type": "code",
      "source": [
        "def user_choice():\n",
        "\n",
        "\n",
        "    # initials\n",
        "  choice = 'wrong'\n",
        "  acceptable_range = range(0,10)\n",
        "  within_range = False  \n",
        "\n",
        "\n",
        "  while choice.isdigit()==False or within_range==False:\n",
        "\n",
        "    choice = input('Choose the number between(0-9): ')\n",
        "   # Digit check\n",
        "    if choice.isdigit()==False:\n",
        "      print(\"this is not a digit\")\n",
        "    # Range Check\n",
        "    if choice.isdigit()==True:\n",
        "      if int(choice) in acceptable_range:\n",
        "        within_range = True\n",
        "      else:\n",
        "        print(\"Out of range\")\n",
        "        within_range = False\n",
        "\n",
        "\n",
        "\n",
        "  return int(choice)"
      ],
      "metadata": {
        "id": "jMouD3ftRwMo"
      },
      "execution_count": 56,
      "outputs": []
    },
    {
      "cell_type": "code",
      "source": [
        "user_choice()"
      ],
      "metadata": {
        "colab": {
          "base_uri": "https://localhost:8080/"
        },
        "id": "MWwWRdrGXSSh",
        "outputId": "84ba25e7-8ec0-43c3-d9ee-6396ad6395d3"
      },
      "execution_count": 57,
      "outputs": [
        {
          "name": "stdout",
          "output_type": "stream",
          "text": [
            "Choose the number between(0-9): fgdg\n",
            "this is not a digit\n",
            "Choose the number between(0-9): 4554\n",
            "Out of range\n",
            "Choose the number between(0-9): 7\n"
          ]
        },
        {
          "output_type": "execute_result",
          "data": {
            "text/plain": [
              "7"
            ]
          },
          "metadata": {},
          "execution_count": 57
        }
      ]
    },
    {
      "cell_type": "code",
      "source": [],
      "metadata": {
        "id": "hYWGX0NcXcSr"
      },
      "execution_count": null,
      "outputs": []
    }
  ],
  "metadata": {
    "colab": {
      "collapsed_sections": [],
      "provenance": [],
      "authorship_tag": "ABX9TyNLUvsdvoCVK10q+qz1UyTD",
      "include_colab_link": true
    },
    "kernelspec": {
      "display_name": "Python 3",
      "name": "python3"
    },
    "language_info": {
      "name": "python"
    }
  },
  "nbformat": 4,
  "nbformat_minor": 0
}