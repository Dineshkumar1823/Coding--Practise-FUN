{
  "nbformat": 4,
  "nbformat_minor": 0,
  "metadata": {
    "colab": {
      "provenance": [],
      "collapsed_sections": [],
      "authorship_tag": "ABX9TyNuJy+GHnRAiEZe6mRNbw8k",
      "include_colab_link": true
    },
    "kernelspec": {
      "name": "python3",
      "display_name": "Python 3"
    },
    "language_info": {
      "name": "python"
    }
  },
  "cells": [
    {
      "cell_type": "markdown",
      "metadata": {
        "id": "view-in-github",
        "colab_type": "text"
      },
      "source": [
        "<a href=\"https://colab.research.google.com/github/Dineshkumar1823/Coding--Practise-FUN/blob/main/Practice.ipynb\" target=\"_parent\"><img src=\"https://colab.research.google.com/assets/colab-badge.svg\" alt=\"Open In Colab\"/></a>"
      ]
    },
    {
      "cell_type": "code",
      "execution_count": null,
      "metadata": {
        "colab": {
          "base_uri": "https://localhost:8080/"
        },
        "id": "LSlr3gN86L7X",
        "outputId": "f7daab89-f293-47d5-f079-ce4f2390fc5c"
      },
      "outputs": [
        {
          "output_type": "execute_result",
          "data": {
            "text/plain": [
              "4"
            ]
          },
          "metadata": {},
          "execution_count": 1
        }
      ],
      "source": [
        "2+2\n"
      ]
    },
    {
      "cell_type": "code",
      "source": [
        "2 - 3"
      ],
      "metadata": {
        "colab": {
          "base_uri": "https://localhost:8080/"
        },
        "id": "soZkKoaz6TXm",
        "outputId": "d23ab73e-056e-4158-d49f-929eb1fd7ee3"
      },
      "execution_count": null,
      "outputs": [
        {
          "output_type": "execute_result",
          "data": {
            "text/plain": [
              "-1"
            ]
          },
          "metadata": {},
          "execution_count": 2
        }
      ]
    },
    {
      "cell_type": "code",
      "source": [
        "2*1"
      ],
      "metadata": {
        "colab": {
          "base_uri": "https://localhost:8080/"
        },
        "id": "alVqXJQi6VVD",
        "outputId": "1e7da773-b113-4afc-d919-73aaa3c12654"
      },
      "execution_count": null,
      "outputs": [
        {
          "output_type": "execute_result",
          "data": {
            "text/plain": [
              "2"
            ]
          },
          "metadata": {},
          "execution_count": 3
        }
      ]
    },
    {
      "cell_type": "code",
      "source": [
        "6/4"
      ],
      "metadata": {
        "colab": {
          "base_uri": "https://localhost:8080/"
        },
        "id": "XwQfugH86Xrc",
        "outputId": "b425a337-8efe-4029-c197-43ce76147027"
      },
      "execution_count": null,
      "outputs": [
        {
          "output_type": "execute_result",
          "data": {
            "text/plain": [
              "1.5"
            ]
          },
          "metadata": {},
          "execution_count": 1
        }
      ]
    },
    {
      "cell_type": "code",
      "source": [
        "6 % 4\n"
      ],
      "metadata": {
        "colab": {
          "base_uri": "https://localhost:8080/"
        },
        "id": "Ua2_-g-Z6ZYU",
        "outputId": "d4dfa7a0-f9b9-4307-8228-fbb847dac1f9"
      },
      "execution_count": null,
      "outputs": [
        {
          "output_type": "execute_result",
          "data": {
            "text/plain": [
              "2"
            ]
          },
          "metadata": {},
          "execution_count": 2
        }
      ]
    },
    {
      "cell_type": "code",
      "source": [
        "2**3"
      ],
      "metadata": {
        "colab": {
          "base_uri": "https://localhost:8080/"
        },
        "id": "H_ak8cCr6ie8",
        "outputId": "8d898e86-0aa1-40e9-ae9e-fbb926d42513"
      },
      "execution_count": null,
      "outputs": [
        {
          "output_type": "execute_result",
          "data": {
            "text/plain": [
              "8"
            ]
          },
          "metadata": {},
          "execution_count": 6
        }
      ]
    },
    {
      "cell_type": "code",
      "source": [
        "a =4\n"
      ],
      "metadata": {
        "id": "-kphm4tS6xjE"
      },
      "execution_count": null,
      "outputs": []
    },
    {
      "cell_type": "code",
      "source": [
        "a"
      ],
      "metadata": {
        "colab": {
          "base_uri": "https://localhost:8080/"
        },
        "id": "Ltq63CUb-IIY",
        "outputId": "81ec1ec5-fca0-4501-d986-b226bc232296"
      },
      "execution_count": null,
      "outputs": [
        {
          "output_type": "execute_result",
          "data": {
            "text/plain": [
              "4"
            ]
          },
          "metadata": {},
          "execution_count": 8
        }
      ]
    },
    {
      "cell_type": "code",
      "source": [
        "a=a+a"
      ],
      "metadata": {
        "id": "25wmiEJy-Ivj"
      },
      "execution_count": null,
      "outputs": []
    },
    {
      "cell_type": "code",
      "source": [
        "a"
      ],
      "metadata": {
        "colab": {
          "base_uri": "https://localhost:8080/"
        },
        "id": "wcGsHAk0-L_k",
        "outputId": "c3bc7807-4d71-4bec-e398-142b974e1f4c"
      },
      "execution_count": null,
      "outputs": [
        {
          "output_type": "execute_result",
          "data": {
            "text/plain": [
              "32"
            ]
          },
          "metadata": {},
          "execution_count": 14
        }
      ]
    },
    {
      "cell_type": "code",
      "source": [
        "type(a)"
      ],
      "metadata": {
        "colab": {
          "base_uri": "https://localhost:8080/"
        },
        "id": "ltTq0Gvw-Npw",
        "outputId": "2e2b63f2-214c-4251-a7f4-d03c87c4a0c1"
      },
      "execution_count": null,
      "outputs": [
        {
          "output_type": "execute_result",
          "data": {
            "text/plain": [
              "int"
            ]
          },
          "metadata": {},
          "execution_count": 15
        }
      ]
    },
    {
      "cell_type": "code",
      "source": [
        "my_string = \"Hello world\""
      ],
      "metadata": {
        "id": "nWUY6S0L-Vqk"
      },
      "execution_count": null,
      "outputs": []
    },
    {
      "cell_type": "code",
      "source": [
        "len(my_string)"
      ],
      "metadata": {
        "colab": {
          "base_uri": "https://localhost:8080/"
        },
        "id": "g1PcEcJjCQ-m",
        "outputId": "6815239c-2159-4055-e6d5-8d2bdb199861"
      },
      "execution_count": null,
      "outputs": [
        {
          "output_type": "execute_result",
          "data": {
            "text/plain": [
              "11"
            ]
          },
          "metadata": {},
          "execution_count": 20
        }
      ]
    },
    {
      "cell_type": "code",
      "source": [
        "my_string[-1]"
      ],
      "metadata": {
        "colab": {
          "base_uri": "https://localhost:8080/",
          "height": 35
        },
        "id": "bWpj9Uv4CUGy",
        "outputId": "b73465bd-7e5b-4494-d1fc-3926b0c6e37a"
      },
      "execution_count": null,
      "outputs": [
        {
          "output_type": "execute_result",
          "data": {
            "text/plain": [
              "'d'"
            ],
            "application/vnd.google.colaboratory.intrinsic+json": {
              "type": "string"
            }
          },
          "metadata": {},
          "execution_count": 22
        }
      ]
    },
    {
      "cell_type": "code",
      "source": [
        "my_string = 'abcdefghij'"
      ],
      "metadata": {
        "id": "8zxZjR4NCwBl"
      },
      "execution_count": null,
      "outputs": []
    },
    {
      "cell_type": "code",
      "source": [
        "my_string[:5]"
      ],
      "metadata": {
        "colab": {
          "base_uri": "https://localhost:8080/",
          "height": 35
        },
        "id": "Qo0W068wF94V",
        "outputId": "790ca12f-4887-45b1-fdb3-8f03de1b651e"
      },
      "execution_count": null,
      "outputs": [
        {
          "output_type": "execute_result",
          "data": {
            "text/plain": [
              "'abcde'"
            ],
            "application/vnd.google.colaboratory.intrinsic+json": {
              "type": "string"
            }
          },
          "metadata": {},
          "execution_count": 49
        }
      ]
    },
    {
      "cell_type": "code",
      "source": [
        "name = \"Dinesh\""
      ],
      "metadata": {
        "id": "SlIXEzFIGJDs"
      },
      "execution_count": null,
      "outputs": []
    },
    {
      "cell_type": "code",
      "source": [
        "last_letter = name[1:]"
      ],
      "metadata": {
        "id": "xlRdgZWNIc7G"
      },
      "execution_count": null,
      "outputs": []
    },
    {
      "cell_type": "code",
      "source": [
        "'P' + last_letter"
      ],
      "metadata": {
        "colab": {
          "base_uri": "https://localhost:8080/",
          "height": 35
        },
        "id": "eLe4yLbLIgvu",
        "outputId": "a1eaa9eb-9c41-423a-aba9-cadd18c4826c"
      },
      "execution_count": null,
      "outputs": [
        {
          "output_type": "execute_result",
          "data": {
            "text/plain": [
              "'Pinesh'"
            ],
            "application/vnd.google.colaboratory.intrinsic+json": {
              "type": "string"
            }
          },
          "metadata": {},
          "execution_count": 42
        }
      ]
    },
    {
      "cell_type": "code",
      "source": [
        "name"
      ],
      "metadata": {
        "colab": {
          "base_uri": "https://localhost:8080/",
          "height": 35
        },
        "id": "VFCvO-oMKj-t",
        "outputId": "9f332fd2-4539-4d0c-d848-0a839b7e3bea"
      },
      "execution_count": null,
      "outputs": [
        {
          "output_type": "execute_result",
          "data": {
            "text/plain": [
              "'Dinesh'"
            ],
            "application/vnd.google.colaboratory.intrinsic+json": {
              "type": "string"
            }
          },
          "metadata": {},
          "execution_count": 46
        }
      ]
    },
    {
      "cell_type": "code",
      "source": [
        "name.split('i')"
      ],
      "metadata": {
        "colab": {
          "base_uri": "https://localhost:8080/"
        },
        "id": "GHmrQpwkKmzh",
        "outputId": "0763ddb2-1084-4bc1-c284-1e721af67910"
      },
      "execution_count": null,
      "outputs": [
        {
          "output_type": "execute_result",
          "data": {
            "text/plain": [
              "['D', 'nesh']"
            ]
          },
          "metadata": {},
          "execution_count": 48
        }
      ]
    },
    {
      "cell_type": "code",
      "source": [
        "print(\"My name is Dinesh\")"
      ],
      "metadata": {
        "colab": {
          "base_uri": "https://localhost:8080/"
        },
        "id": "j70LpkvhK6d4",
        "outputId": "d080ff67-fac7-4740-9e47-ebcaa21d16dc"
      },
      "execution_count": null,
      "outputs": [
        {
          "output_type": "stream",
          "name": "stdout",
          "text": [
            "My name is Dinesh\n"
          ]
        }
      ]
    },
    {
      "cell_type": "code",
      "source": [
        "print(\"My name is Dinesh {}\".format('Kumar'))"
      ],
      "metadata": {
        "colab": {
          "base_uri": "https://localhost:8080/"
        },
        "id": "fYeaSQ-3O-C3",
        "outputId": "f81111f6-0010-468d-d408-0cf167ebedce"
      },
      "execution_count": null,
      "outputs": [
        {
          "output_type": "stream",
          "name": "stdout",
          "text": [
            "My name is Dinesh Kumar\n"
          ]
        }
      ]
    },
    {
      "cell_type": "code",
      "source": [
        "print(\"My name is {1} {0}\".format('Dinesh', 'Kumar'))"
      ],
      "metadata": {
        "colab": {
          "base_uri": "https://localhost:8080/"
        },
        "id": "XBglcJAyPJ2k",
        "outputId": "4f4f6a11-a111-4b69-a679-ba88da61c048"
      },
      "execution_count": null,
      "outputs": [
        {
          "output_type": "stream",
          "name": "stdout",
          "text": [
            "My name is Kumar Dinesh\n"
          ]
        }
      ]
    },
    {
      "cell_type": "code",
      "source": [
        "print(\"My name is {d} {k}\".format(d='Dinesh', k='Kumar'))"
      ],
      "metadata": {
        "colab": {
          "base_uri": "https://localhost:8080/"
        },
        "id": "HtUjtuPbPaa-",
        "outputId": "5b47c41f-8c61-4f40-9490-1b1566abb558"
      },
      "execution_count": null,
      "outputs": [
        {
          "output_type": "stream",
          "name": "stdout",
          "text": [
            "My name is Dinesh Kumar\n"
          ]
        }
      ]
    },
    {
      "cell_type": "code",
      "source": [
        "result = 104.5879654"
      ],
      "metadata": {
        "id": "hKW_YVQcQQQl"
      },
      "execution_count": null,
      "outputs": []
    },
    {
      "cell_type": "code",
      "source": [
        "print(\"The result was {r:1.2f}\".format(r='result'))"
      ],
      "metadata": {
        "colab": {
          "base_uri": "https://localhost:8080/",
          "height": 170
        },
        "id": "SJisZ5pLRlaA",
        "outputId": "973df48e-18c3-4dea-a3cd-87ae02f15bde"
      },
      "execution_count": null,
      "outputs": [
        {
          "output_type": "error",
          "ename": "ValueError",
          "evalue": "ignored",
          "traceback": [
            "\u001b[0;31m---------------------------------------------------------------------------\u001b[0m",
            "\u001b[0;31mValueError\u001b[0m                                Traceback (most recent call last)",
            "\u001b[0;32m<ipython-input-61-0c839a7001a7>\u001b[0m in \u001b[0;36m<module>\u001b[0;34m()\u001b[0m\n\u001b[0;32m----> 1\u001b[0;31m \u001b[0mprint\u001b[0m\u001b[0;34m(\u001b[0m\u001b[0;34m\"The result was {r:1.2f}\"\u001b[0m\u001b[0;34m.\u001b[0m\u001b[0mformat\u001b[0m\u001b[0;34m(\u001b[0m\u001b[0mr\u001b[0m\u001b[0;34m=\u001b[0m\u001b[0;34m'result'\u001b[0m\u001b[0;34m)\u001b[0m\u001b[0;34m)\u001b[0m\u001b[0;34m\u001b[0m\u001b[0;34m\u001b[0m\u001b[0m\n\u001b[0m",
            "\u001b[0;31mValueError\u001b[0m: Unknown format code 'f' for object of type 'str'"
          ]
        }
      ]
    },
    {
      "cell_type": "code",
      "source": [
        "my_list = ['one',4444,'dinesh']\n"
      ],
      "metadata": {
        "id": "uW9IjDinRsoj"
      },
      "execution_count": null,
      "outputs": []
    },
    {
      "cell_type": "code",
      "source": [
        "my_list"
      ],
      "metadata": {
        "colab": {
          "base_uri": "https://localhost:8080/"
        },
        "id": "lEHw6gijnUYt",
        "outputId": "863530ad-1d9f-4994-f5a6-99dc783793e0"
      },
      "execution_count": null,
      "outputs": [
        {
          "output_type": "execute_result",
          "data": {
            "text/plain": [
              "['one', 4444, 'dinesh']"
            ]
          },
          "metadata": {},
          "execution_count": 3
        }
      ]
    },
    {
      "cell_type": "markdown",
      "source": [
        "LIST are Mutable"
      ],
      "metadata": {
        "id": "UKwheGDCn9SO"
      }
    },
    {
      "cell_type": "code",
      "source": [
        "my_list[1] = '555'"
      ],
      "metadata": {
        "id": "w-YeRg1bnWe1"
      },
      "execution_count": null,
      "outputs": []
    },
    {
      "cell_type": "code",
      "source": [
        "my_list"
      ],
      "metadata": {
        "colab": {
          "base_uri": "https://localhost:8080/"
        },
        "id": "hU2Pqi12neYe",
        "outputId": "50a06fb4-12fb-445a-8f58-5f8b49276806"
      },
      "execution_count": null,
      "outputs": [
        {
          "output_type": "execute_result",
          "data": {
            "text/plain": [
              "['one', '555', 'dinesh']"
            ]
          },
          "metadata": {},
          "execution_count": 6
        }
      ]
    },
    {
      "cell_type": "code",
      "source": [
        "next_list = ['dani', 665,55.5]"
      ],
      "metadata": {
        "id": "AHqn6XVCnixz"
      },
      "execution_count": null,
      "outputs": []
    },
    {
      "cell_type": "markdown",
      "source": [
        "Concadination"
      ],
      "metadata": {
        "id": "muofrZWdn2QN"
      }
    },
    {
      "cell_type": "code",
      "source": [
        "my_list + next_list"
      ],
      "metadata": {
        "colab": {
          "base_uri": "https://localhost:8080/"
        },
        "id": "ZwAM7DqZnqCi",
        "outputId": "e038bd99-3841-4103-fa75-838405daaa43"
      },
      "execution_count": null,
      "outputs": [
        {
          "output_type": "execute_result",
          "data": {
            "text/plain": [
              "['one', '555', 'dinesh', 'dani', 665, 55.5]"
            ]
          },
          "metadata": {},
          "execution_count": 8
        }
      ]
    },
    {
      "cell_type": "code",
      "source": [
        "my_list"
      ],
      "metadata": {
        "colab": {
          "base_uri": "https://localhost:8080/"
        },
        "id": "729AiesgntUF",
        "outputId": "d5408f07-0682-4ffe-c68c-22b0de3124e2"
      },
      "execution_count": null,
      "outputs": [
        {
          "output_type": "execute_result",
          "data": {
            "text/plain": [
              "['one', '555', 'dinesh']"
            ]
          },
          "metadata": {},
          "execution_count": 9
        }
      ]
    },
    {
      "cell_type": "code",
      "source": [
        "my_list.append('dk')"
      ],
      "metadata": {
        "id": "wVgx190Ap83z"
      },
      "execution_count": null,
      "outputs": []
    },
    {
      "cell_type": "code",
      "source": [
        "my_list.pop(-1)\n"
      ],
      "metadata": {
        "colab": {
          "base_uri": "https://localhost:8080/",
          "height": 35
        },
        "id": "h8LV702PqCWA",
        "outputId": "9b0ba164-0820-4872-c134-0efad4b47999"
      },
      "execution_count": null,
      "outputs": [
        {
          "output_type": "execute_result",
          "data": {
            "text/plain": [
              "'dk'"
            ],
            "application/vnd.google.colaboratory.intrinsic+json": {
              "type": "string"
            }
          },
          "metadata": {},
          "execution_count": 20
        }
      ]
    },
    {
      "cell_type": "code",
      "source": [
        "my_list.sort()"
      ],
      "metadata": {
        "id": "eaANq27hqFNS"
      },
      "execution_count": null,
      "outputs": []
    },
    {
      "cell_type": "code",
      "source": [
        "my_list"
      ],
      "metadata": {
        "colab": {
          "base_uri": "https://localhost:8080/"
        },
        "id": "6xmVqehsqavt",
        "outputId": "b1b1bff7-10ba-443d-8e25-5a8437ce094d"
      },
      "execution_count": null,
      "outputs": [
        {
          "output_type": "execute_result",
          "data": {
            "text/plain": [
              "['555', 'dinesh', 'dk']"
            ]
          },
          "metadata": {},
          "execution_count": 22
        }
      ]
    },
    {
      "cell_type": "code",
      "source": [
        "my_list.reverse()"
      ],
      "metadata": {
        "id": "eyhvtAieqcaf"
      },
      "execution_count": null,
      "outputs": []
    },
    {
      "cell_type": "code",
      "source": [
        "my_list"
      ],
      "metadata": {
        "colab": {
          "base_uri": "https://localhost:8080/"
        },
        "id": "dIZi9YWzq1N-",
        "outputId": "98e1b1e8-5c87-4bdb-a1c3-8ed752d28529"
      },
      "execution_count": null,
      "outputs": [
        {
          "output_type": "execute_result",
          "data": {
            "text/plain": [
              "['dk', 'dinesh', '555']"
            ]
          },
          "metadata": {},
          "execution_count": 24
        }
      ]
    },
    {
      "cell_type": "markdown",
      "source": [
        "DICTONARIES"
      ],
      "metadata": {
        "id": "ppK2LO02vCNT"
      }
    },
    {
      "cell_type": "code",
      "source": [
        "price_lookup = {'orange': 66,'mango': 55,'Banana':77}"
      ],
      "metadata": {
        "id": "ClSK880kq2bg"
      },
      "execution_count": null,
      "outputs": []
    },
    {
      "cell_type": "code",
      "source": [
        "price_lookup['mango']"
      ],
      "metadata": {
        "colab": {
          "base_uri": "https://localhost:8080/"
        },
        "id": "k8X-WtQMvWpW",
        "outputId": "d28c0bbc-6b14-42ee-f4ce-af3ad55b5949"
      },
      "execution_count": null,
      "outputs": [
        {
          "output_type": "execute_result",
          "data": {
            "text/plain": [
              "55"
            ]
          },
          "metadata": {},
          "execution_count": 28
        }
      ]
    },
    {
      "cell_type": "code",
      "source": [
        "new_dict = {'d1':456,'d2':[2,4,5],'d3':{'orange': 66,'mango': 55,'Banana':77}}"
      ],
      "metadata": {
        "id": "d6hjoHosvay_"
      },
      "execution_count": null,
      "outputs": []
    },
    {
      "cell_type": "code",
      "source": [
        "new_dict['d3']['mango']"
      ],
      "metadata": {
        "colab": {
          "base_uri": "https://localhost:8080/"
        },
        "id": "znpdvk-NxeJC",
        "outputId": "11115dc3-7697-457d-e195-71a56ed7aa17"
      },
      "execution_count": null,
      "outputs": [
        {
          "output_type": "execute_result",
          "data": {
            "text/plain": [
              "55"
            ]
          },
          "metadata": {},
          "execution_count": 34
        }
      ]
    },
    {
      "cell_type": "code",
      "source": [
        "create_dict = {'apple':33,'Game':'cricket'}"
      ],
      "metadata": {
        "id": "5W3A4KcBxjRn"
      },
      "execution_count": null,
      "outputs": []
    },
    {
      "cell_type": "code",
      "source": [
        "create_dict['Game']='Football'"
      ],
      "metadata": {
        "id": "ChU4bNw1y-N_"
      },
      "execution_count": null,
      "outputs": []
    },
    {
      "cell_type": "code",
      "source": [
        "create_dict['Game']"
      ],
      "metadata": {
        "colab": {
          "base_uri": "https://localhost:8080/",
          "height": 35
        },
        "id": "UBNS2l7GzDr6",
        "outputId": "559af586-e56c-428a-8b5f-30d450d5ef20"
      },
      "execution_count": null,
      "outputs": [
        {
          "output_type": "execute_result",
          "data": {
            "text/plain": [
              "'Football'"
            ],
            "application/vnd.google.colaboratory.intrinsic+json": {
              "type": "string"
            }
          },
          "metadata": {},
          "execution_count": 39
        }
      ]
    },
    {
      "cell_type": "code",
      "source": [
        "create_dict['song']='Raja'"
      ],
      "metadata": {
        "id": "1XEqodPPzPFO"
      },
      "execution_count": null,
      "outputs": []
    },
    {
      "cell_type": "code",
      "source": [
        "create_dict\n"
      ],
      "metadata": {
        "colab": {
          "base_uri": "https://localhost:8080/"
        },
        "id": "Mn2g0FfMzfrO",
        "outputId": "7f8e1cc0-0481-4622-ac35-ed217a8d92ba"
      },
      "execution_count": null,
      "outputs": [
        {
          "output_type": "execute_result",
          "data": {
            "text/plain": [
              "{'apple': 33, 'Game': 'Football', 'song': 'Raja'}"
            ]
          },
          "metadata": {},
          "execution_count": 43
        }
      ]
    },
    {
      "cell_type": "code",
      "source": [
        "create_dict['Game'].upper()"
      ],
      "metadata": {
        "colab": {
          "base_uri": "https://localhost:8080/",
          "height": 35
        },
        "id": "099XZTSezhRH",
        "outputId": "521d03d4-6d41-4e45-9a1a-35bffbce8b52"
      },
      "execution_count": null,
      "outputs": [
        {
          "output_type": "execute_result",
          "data": {
            "text/plain": [
              "'FOOTBALL'"
            ],
            "application/vnd.google.colaboratory.intrinsic+json": {
              "type": "string"
            }
          },
          "metadata": {},
          "execution_count": 45
        }
      ]
    },
    {
      "cell_type": "code",
      "source": [
        "create_dict.keys()"
      ],
      "metadata": {
        "colab": {
          "base_uri": "https://localhost:8080/"
        },
        "id": "I8dMypYl0Lc3",
        "outputId": "e51d686d-1d22-4e4e-c054-0af773fc0f43"
      },
      "execution_count": null,
      "outputs": [
        {
          "output_type": "execute_result",
          "data": {
            "text/plain": [
              "dict_keys(['apple', 'Game', 'song'])"
            ]
          },
          "metadata": {},
          "execution_count": 46
        }
      ]
    },
    {
      "cell_type": "code",
      "source": [
        "create_dict.values()"
      ],
      "metadata": {
        "colab": {
          "base_uri": "https://localhost:8080/"
        },
        "id": "cB-OzROD0SRj",
        "outputId": "5e8259fb-b847-475d-b4e1-359e2a5b3207"
      },
      "execution_count": null,
      "outputs": [
        {
          "output_type": "execute_result",
          "data": {
            "text/plain": [
              "dict_values([33, 'Football', 'Raja'])"
            ]
          },
          "metadata": {},
          "execution_count": 47
        }
      ]
    },
    {
      "cell_type": "code",
      "source": [
        "create_dict.items()"
      ],
      "metadata": {
        "colab": {
          "base_uri": "https://localhost:8080/"
        },
        "id": "QMCxHzew0UWt",
        "outputId": "0a962c86-bca7-4c6b-bfa8-6fd9a0fef3dc"
      },
      "execution_count": null,
      "outputs": [
        {
          "output_type": "execute_result",
          "data": {
            "text/plain": [
              "dict_items([('apple', 33), ('Game', 'Football'), ('song', 'Raja')])"
            ]
          },
          "metadata": {},
          "execution_count": 49
        }
      ]
    },
    {
      "cell_type": "markdown",
      "source": [
        "TUPLE"
      ],
      "metadata": {
        "id": "3wHq1lET26ge"
      }
    },
    {
      "cell_type": "code",
      "source": [
        "new_tup = ('apple',444)"
      ],
      "metadata": {
        "id": "-aoPIVEM0WoO"
      },
      "execution_count": null,
      "outputs": []
    },
    {
      "cell_type": "code",
      "source": [
        "type(new_tup)"
      ],
      "metadata": {
        "colab": {
          "base_uri": "https://localhost:8080/"
        },
        "id": "A8zNt-R43DBt",
        "outputId": "1fc3da26-22af-443f-c709-d96090568957"
      },
      "execution_count": null,
      "outputs": [
        {
          "output_type": "execute_result",
          "data": {
            "text/plain": [
              "tuple"
            ]
          },
          "metadata": {},
          "execution_count": 53
        }
      ]
    },
    {
      "cell_type": "markdown",
      "source": [
        "SETS"
      ],
      "metadata": {
        "id": "tnCKePQ348ZF"
      }
    },
    {
      "cell_type": "code",
      "source": [
        "my_set=set()"
      ],
      "metadata": {
        "id": "kpKpEwtg3GgX"
      },
      "execution_count": null,
      "outputs": []
    },
    {
      "cell_type": "code",
      "source": [
        "my_set"
      ],
      "metadata": {
        "colab": {
          "base_uri": "https://localhost:8080/"
        },
        "id": "nBGOj_lD5DbI",
        "outputId": "7ec6e337-1962-41e2-c51c-dc9f14b44b26"
      },
      "execution_count": null,
      "outputs": [
        {
          "output_type": "execute_result",
          "data": {
            "text/plain": [
              "set()"
            ]
          },
          "metadata": {},
          "execution_count": 61
        }
      ]
    },
    {
      "cell_type": "code",
      "source": [
        "my_set.add(444)\n",
        "my_set"
      ],
      "metadata": {
        "colab": {
          "base_uri": "https://localhost:8080/"
        },
        "id": "XGgHjdGL5GKb",
        "outputId": "7c3fb0da-daa6-4922-80b1-a82bf274b90f"
      },
      "execution_count": null,
      "outputs": [
        {
          "output_type": "execute_result",
          "data": {
            "text/plain": [
              "{3, 444, 355555}"
            ]
          },
          "metadata": {},
          "execution_count": 78
        }
      ]
    },
    {
      "cell_type": "code",
      "source": [
        "My_sample = my_set"
      ],
      "metadata": {
        "id": "C-Pb4gWg5Y7q"
      },
      "execution_count": null,
      "outputs": []
    },
    {
      "cell_type": "code",
      "source": [],
      "metadata": {
        "id": "a_b2focE5p-2"
      },
      "execution_count": null,
      "outputs": []
    },
    {
      "cell_type": "code",
      "source": [
        "set(My_sample)"
      ],
      "metadata": {
        "colab": {
          "base_uri": "https://localhost:8080/"
        },
        "id": "NFRR6uJy5tvJ",
        "outputId": "32dc9d43-0da4-4215-c86c-7be9b9fde52b"
      },
      "execution_count": null,
      "outputs": [
        {
          "output_type": "execute_result",
          "data": {
            "text/plain": [
              "{1, 2, 3, 6, 57, 435, 565, 757, 75757}"
            ]
          },
          "metadata": {},
          "execution_count": 82
        }
      ]
    },
    {
      "cell_type": "code",
      "source": [
        "%%writefile my_new_file.txt\n",
        "One of the Best\n",
        "Find the Solution\n",
        "Find the Path"
      ],
      "metadata": {
        "id": "MMRbKqH46OTw",
        "colab": {
          "base_uri": "https://localhost:8080/"
        },
        "outputId": "2fc343db-4ad0-4f24-b75b-44b18acbdaa6"
      },
      "execution_count": null,
      "outputs": [
        {
          "output_type": "stream",
          "name": "stdout",
          "text": [
            "Writing my_new_file.txt\n"
          ]
        }
      ]
    },
    {
      "cell_type": "code",
      "source": [
        "myfile = open('my_new_file.txt')"
      ],
      "metadata": {
        "id": "t9CWeO-B1EXW"
      },
      "execution_count": null,
      "outputs": []
    },
    {
      "cell_type": "code",
      "source": [
        "pwd"
      ],
      "metadata": {
        "colab": {
          "base_uri": "https://localhost:8080/",
          "height": 35
        },
        "id": "7xMVN1QF1IQn",
        "outputId": "1f13e2d5-ec59-4689-b824-853e5e7b6dd6"
      },
      "execution_count": null,
      "outputs": [
        {
          "output_type": "execute_result",
          "data": {
            "text/plain": [
              "'/content'"
            ],
            "application/vnd.google.colaboratory.intrinsic+json": {
              "type": "string"
            }
          },
          "metadata": {},
          "execution_count": 13
        }
      ]
    },
    {
      "cell_type": "code",
      "source": [
        "myfile.read()"
      ],
      "metadata": {
        "colab": {
          "base_uri": "https://localhost:8080/",
          "height": 35
        },
        "id": "ccxubAv73nn7",
        "outputId": "ba952f73-17ad-4de7-822d-102959ad190d"
      },
      "execution_count": null,
      "outputs": [
        {
          "output_type": "execute_result",
          "data": {
            "text/plain": [
              "'One of the Best\\nFind the Solution\\nFind the Path\\n'"
            ],
            "application/vnd.google.colaboratory.intrinsic+json": {
              "type": "string"
            }
          },
          "metadata": {},
          "execution_count": 15
        }
      ]
    },
    {
      "cell_type": "code",
      "source": [
        "myfile.read()"
      ],
      "metadata": {
        "colab": {
          "base_uri": "https://localhost:8080/",
          "height": 35
        },
        "id": "0D8xnxo231F5",
        "outputId": "bb1b9962-1df8-420c-e2db-8f616d56fcf1"
      },
      "execution_count": null,
      "outputs": [
        {
          "output_type": "execute_result",
          "data": {
            "text/plain": [
              "''"
            ],
            "application/vnd.google.colaboratory.intrinsic+json": {
              "type": "string"
            }
          },
          "metadata": {},
          "execution_count": 16
        }
      ]
    },
    {
      "cell_type": "code",
      "source": [
        "myfile.seek(0)"
      ],
      "metadata": {
        "colab": {
          "base_uri": "https://localhost:8080/"
        },
        "id": "N2rgq_il4BLA",
        "outputId": "8a73a5a5-2b09-4ffa-dd65-c8c50ea02b12"
      },
      "execution_count": null,
      "outputs": [
        {
          "output_type": "execute_result",
          "data": {
            "text/plain": [
              "0"
            ]
          },
          "metadata": {},
          "execution_count": 18
        }
      ]
    },
    {
      "cell_type": "code",
      "source": [
        "myfile.read()"
      ],
      "metadata": {
        "colab": {
          "base_uri": "https://localhost:8080/",
          "height": 35
        },
        "id": "DlgsIwCt4Ejo",
        "outputId": "91dbc6be-99d8-41af-f8c7-5c1543668f5c"
      },
      "execution_count": null,
      "outputs": [
        {
          "output_type": "execute_result",
          "data": {
            "text/plain": [
              "'One of the Best\\nFind the Solution\\nFind the Path\\n'"
            ],
            "application/vnd.google.colaboratory.intrinsic+json": {
              "type": "string"
            }
          },
          "metadata": {},
          "execution_count": 19
        }
      ]
    },
    {
      "cell_type": "code",
      "source": [
        "myfile.seek(0)"
      ],
      "metadata": {
        "colab": {
          "base_uri": "https://localhost:8080/"
        },
        "id": "8MAvcg0z4IVQ",
        "outputId": "b0d76a8a-c922-4623-98b2-44a38b4454e1"
      },
      "execution_count": null,
      "outputs": [
        {
          "output_type": "execute_result",
          "data": {
            "text/plain": [
              "0"
            ]
          },
          "metadata": {},
          "execution_count": 21
        }
      ]
    },
    {
      "cell_type": "code",
      "source": [
        "myfile.readlines( )\n"
      ],
      "metadata": {
        "colab": {
          "base_uri": "https://localhost:8080/"
        },
        "id": "Zy3wruBx4U0e",
        "outputId": "f1c72173-2d43-47b4-cbe9-d11485ad0302"
      },
      "execution_count": null,
      "outputs": [
        {
          "output_type": "execute_result",
          "data": {
            "text/plain": [
              "[]"
            ]
          },
          "metadata": {},
          "execution_count": 24
        }
      ]
    },
    {
      "cell_type": "code",
      "source": [
        "list1=[1,2,[3,4,'hello']]"
      ],
      "metadata": {
        "id": "OOmut8iU4aT4"
      },
      "execution_count": null,
      "outputs": []
    },
    {
      "cell_type": "code",
      "source": [
        "list1[2][-1]='Goodbye'"
      ],
      "metadata": {
        "id": "LpG9M107_B1l"
      },
      "execution_count": null,
      "outputs": []
    },
    {
      "cell_type": "code",
      "source": [
        "list1"
      ],
      "metadata": {
        "colab": {
          "base_uri": "https://localhost:8080/"
        },
        "id": "I8ojQe9y_M4u",
        "outputId": "0a30b57a-6330-4018-aded-4a38e366e82d"
      },
      "execution_count": null,
      "outputs": [
        {
          "output_type": "execute_result",
          "data": {
            "text/plain": [
              "[1, 2, [3, 4, 'Goodbye']]"
            ]
          },
          "metadata": {},
          "execution_count": 27
        }
      ]
    },
    {
      "cell_type": "code",
      "source": [
        "list2=[5,3,4,6,1]"
      ],
      "metadata": {
        "id": "JSk-bcFA_ObQ"
      },
      "execution_count": null,
      "outputs": []
    },
    {
      "cell_type": "code",
      "source": [
        "sorted(list2)"
      ],
      "metadata": {
        "colab": {
          "base_uri": "https://localhost:8080/"
        },
        "id": "HH3FUUQL_bnH",
        "outputId": "076bf764-5a81-4e7d-8b75-6d9ec3f49e01"
      },
      "execution_count": null,
      "outputs": [
        {
          "output_type": "execute_result",
          "data": {
            "text/plain": [
              "[1, 3, 4, 5, 6]"
            ]
          },
          "metadata": {},
          "execution_count": 31
        }
      ]
    },
    {
      "cell_type": "code",
      "source": [
        "d = {'k1':[1,2,{'k2':['this is tricky',{'tough':[1,2,['hello']]}]}]}"
      ],
      "metadata": {
        "id": "kJClDGn3_eOQ"
      },
      "execution_count": null,
      "outputs": []
    },
    {
      "cell_type": "code",
      "source": [
        "d['k1'][-1]['k2'][1]['tough'][-1][0]"
      ],
      "metadata": {
        "colab": {
          "base_uri": "https://localhost:8080/",
          "height": 35
        },
        "id": "Qg0T1WBF_fq3",
        "outputId": "13485e6b-1e79-4f94-a11b-8ee1178ac219"
      },
      "execution_count": null,
      "outputs": [
        {
          "output_type": "execute_result",
          "data": {
            "text/plain": [
              "'hello'"
            ],
            "application/vnd.google.colaboratory.intrinsic+json": {
              "type": "string"
            }
          },
          "metadata": {},
          "execution_count": 54
        }
      ]
    },
    {
      "cell_type": "code",
      "source": [
        "list5 = [1,2,2,33,4,4,11,22,3,3,2]"
      ],
      "metadata": {
        "id": "Y2j5ADcQ_5DZ"
      },
      "execution_count": null,
      "outputs": []
    },
    {
      "cell_type": "code",
      "source": [
        "set(list5)"
      ],
      "metadata": {
        "colab": {
          "base_uri": "https://localhost:8080/"
        },
        "id": "7hQ9TXXYCy9a",
        "outputId": "791f3fb5-1b75-4baf-ce31-e8399a2bb061"
      },
      "execution_count": null,
      "outputs": [
        {
          "output_type": "execute_result",
          "data": {
            "text/plain": [
              "{1, 2, 3, 4, 11, 22, 33}"
            ]
          },
          "metadata": {},
          "execution_count": 56
        }
      ]
    },
    {
      "cell_type": "markdown",
      "source": [
        "COMPARISON OPERATOR"
      ],
      "metadata": {
        "id": "Z45Mz-wfqagT"
      }
    },
    {
      "cell_type": "code",
      "source": [
        "2>=8"
      ],
      "metadata": {
        "id": "ApiA4GV-C50Y",
        "colab": {
          "base_uri": "https://localhost:8080/"
        },
        "outputId": "86ab7213-d2b0-404e-bd9b-774f566414b9"
      },
      "execution_count": null,
      "outputs": [
        {
          "output_type": "execute_result",
          "data": {
            "text/plain": [
              "False"
            ]
          },
          "metadata": {},
          "execution_count": 5
        }
      ]
    },
    {
      "cell_type": "code",
      "source": [
        "2==2"
      ],
      "metadata": {
        "colab": {
          "base_uri": "https://localhost:8080/"
        },
        "id": "FUc8X2kIqLfU",
        "outputId": "c5eadc0b-0fba-429f-80bb-5b2e5e147f1d"
      },
      "execution_count": null,
      "outputs": [
        {
          "output_type": "execute_result",
          "data": {
            "text/plain": [
              "True"
            ]
          },
          "metadata": {},
          "execution_count": 6
        }
      ]
    },
    {
      "cell_type": "code",
      "source": [
        "2<3"
      ],
      "metadata": {
        "colab": {
          "base_uri": "https://localhost:8080/"
        },
        "id": "PCnXAtRgqhfH",
        "outputId": "c8269591-018d-4bf1-f5c6-11295549babb"
      },
      "execution_count": null,
      "outputs": [
        {
          "output_type": "execute_result",
          "data": {
            "text/plain": [
              "True"
            ]
          },
          "metadata": {},
          "execution_count": 7
        }
      ]
    },
    {
      "cell_type": "code",
      "source": [
        "'D'=='D' and 2 >=2"
      ],
      "metadata": {
        "colab": {
          "base_uri": "https://localhost:8080/"
        },
        "id": "-uCXa8EwqjDj",
        "outputId": "68efed48-a4eb-449c-dbcd-cf8a90df85e6"
      },
      "execution_count": null,
      "outputs": [
        {
          "output_type": "execute_result",
          "data": {
            "text/plain": [
              "True"
            ]
          },
          "metadata": {},
          "execution_count": 12
        }
      ]
    },
    {
      "cell_type": "code",
      "source": [
        "3==3 or 4>4"
      ],
      "metadata": {
        "colab": {
          "base_uri": "https://localhost:8080/"
        },
        "id": "WnFxZaxqr8qF",
        "outputId": "cc14b74d-1445-4fc2-fef6-1a1e45126d7c"
      },
      "execution_count": null,
      "outputs": [
        {
          "output_type": "execute_result",
          "data": {
            "text/plain": [
              "True"
            ]
          },
          "metadata": {},
          "execution_count": 14
        }
      ]
    },
    {
      "cell_type": "code",
      "source": [
        "not 3==3"
      ],
      "metadata": {
        "colab": {
          "base_uri": "https://localhost:8080/"
        },
        "id": "d6x0hvHttFhj",
        "outputId": "3c175ee6-6019-4658-c7da-0eebe469d9db"
      },
      "execution_count": null,
      "outputs": [
        {
          "output_type": "execute_result",
          "data": {
            "text/plain": [
              "False"
            ]
          },
          "metadata": {},
          "execution_count": 16
        }
      ]
    },
    {
      "cell_type": "markdown",
      "source": [
        "IF,Elif,else Operation\n",
        "      "
      ],
      "metadata": {
        "id": "t4kXlPlvwQaV"
      }
    },
    {
      "cell_type": "code",
      "source": [
        "Reaching_office_Time   = 10.01\n",
        "\n",
        "if Reaching_office_Time <=10:\n",
        "  print('Suceesfully reach the Destination')\n",
        "elif Reaching_office_Time <=10.30:\n",
        "  print(\"Grace_time\")  \n",
        "else:\n",
        "  print('Not Suceesfully reach the Destination')"
      ],
      "metadata": {
        "colab": {
          "base_uri": "https://localhost:8080/"
        },
        "id": "tt_K0W6AtXhd",
        "outputId": "b744767e-c173-499a-9255-e0fd3a677f0f"
      },
      "execution_count": null,
      "outputs": [
        {
          "output_type": "stream",
          "name": "stdout",
          "text": [
            "Grace_time\n"
          ]
        }
      ]
    },
    {
      "cell_type": "code",
      "source": [
        "name ='Dinesh'\n",
        "\n",
        "if name =='Dinesh':\n",
        "  print(\"Hello Dinesh\")\n",
        "elif name =='DK':\n",
        "  print('Hello DK')\n",
        "else:\n",
        "  print('what was your Name')"
      ],
      "metadata": {
        "colab": {
          "base_uri": "https://localhost:8080/"
        },
        "id": "DeV4QWC6xI18",
        "outputId": "ceaae64f-c4f2-4405-e49b-4f448293d7ea"
      },
      "execution_count": null,
      "outputs": [
        {
          "output_type": "stream",
          "name": "stdout",
          "text": [
            "Hello Dinesh\n"
          ]
        }
      ]
    },
    {
      "cell_type": "markdown",
      "source": [
        "FOR Loop"
      ],
      "metadata": {
        "id": "jGmC6Xbl54l5"
      }
    },
    {
      "cell_type": "code",
      "source": [
        "mylist = [1,2,3,4,5,6]"
      ],
      "metadata": {
        "id": "4v3v7LfPzZx_"
      },
      "execution_count": null,
      "outputs": []
    },
    {
      "cell_type": "code",
      "source": [
        "mylist"
      ],
      "metadata": {
        "colab": {
          "base_uri": "https://localhost:8080/"
        },
        "id": "_ZGHoZbP6Cvk",
        "outputId": "9ceab477-aae3-4d64-e6a6-73c7c5aba0b6"
      },
      "execution_count": null,
      "outputs": [
        {
          "output_type": "execute_result",
          "data": {
            "text/plain": [
              "[1, 2, 3, 4, 5, 6]"
            ]
          },
          "metadata": {},
          "execution_count": 33
        }
      ]
    },
    {
      "cell_type": "code",
      "source": [
        "mylist = [1,2,3,4,5,6,7,8,9,10]\n",
        "\n",
        "for num in mylist:\n",
        "  print(f'It was a value:{num}')"
      ],
      "metadata": {
        "colab": {
          "base_uri": "https://localhost:8080/"
        },
        "id": "GQN-Uvui6EfL",
        "outputId": "7157b0ba-470f-42f1-a65c-79028d559c4f"
      },
      "execution_count": null,
      "outputs": [
        {
          "output_type": "stream",
          "name": "stdout",
          "text": [
            "It was a value:1\n",
            "It was a value:2\n",
            "It was a value:3\n",
            "It was a value:4\n",
            "It was a value:5\n",
            "It was a value:6\n",
            "It was a value:7\n",
            "It was a value:8\n",
            "It was a value:9\n",
            "It was a value:10\n"
          ]
        }
      ]
    },
    {
      "cell_type": "code",
      "source": [
        "for mul in mylist:\n",
        "  if mul % 2 ==0:\n",
        "    print(f'It will be even value: {mul}')\n",
        "  else:\n",
        "    print(f'It will be odd value: {mul}')"
      ],
      "metadata": {
        "colab": {
          "base_uri": "https://localhost:8080/"
        },
        "id": "a3DeIy856Tqd",
        "outputId": "007904eb-a2ef-4e28-80cf-a9dceef92e93"
      },
      "execution_count": null,
      "outputs": [
        {
          "output_type": "stream",
          "name": "stdout",
          "text": [
            "It will be odd value: 1\n",
            "It will be even value: 2\n",
            "It will be odd value: 3\n",
            "It will be even value: 4\n",
            "It will be odd value: 5\n",
            "It will be even value: 6\n",
            "It will be odd value: 7\n",
            "It will be even value: 8\n",
            "It will be odd value: 9\n",
            "It will be even value: 10\n"
          ]
        }
      ]
    },
    {
      "cell_type": "code",
      "source": [
        "my_list = 0\n",
        "for mul in mylist:\n",
        "  my_list = my_list + mul \n",
        "print(my_list)\n",
        "\n"
      ],
      "metadata": {
        "colab": {
          "base_uri": "https://localhost:8080/"
        },
        "id": "3FZaqaFq71uY",
        "outputId": "ecdc82ee-8017-4c83-bbd2-5adf3d2e8d49"
      },
      "execution_count": null,
      "outputs": [
        {
          "output_type": "stream",
          "name": "stdout",
          "text": [
            "55\n"
          ]
        }
      ]
    },
    {
      "cell_type": "code",
      "source": [
        "string ='Hello World'\n",
        "\n",
        "for letter in string:\n",
        "  print(string)"
      ],
      "metadata": {
        "colab": {
          "base_uri": "https://localhost:8080/"
        },
        "id": "EVaxSCqzFOwT",
        "outputId": "75ef93f9-577f-4d9e-a84e-55d9b6800a85"
      },
      "execution_count": null,
      "outputs": [
        {
          "output_type": "stream",
          "name": "stdout",
          "text": [
            "Hello World\n",
            "Hello World\n",
            "Hello World\n",
            "Hello World\n",
            "Hello World\n",
            "Hello World\n",
            "Hello World\n",
            "Hello World\n",
            "Hello World\n",
            "Hello World\n",
            "Hello World\n"
          ]
        }
      ]
    },
    {
      "cell_type": "code",
      "source": [
        "tup = (1,2,3,)\n",
        "for lette in tup:\n",
        "  print(lette)"
      ],
      "metadata": {
        "colab": {
          "base_uri": "https://localhost:8080/"
        },
        "id": "J5G2LLddGzPd",
        "outputId": "44a33094-a868-4ff8-b40f-3148f1d087e3"
      },
      "execution_count": null,
      "outputs": [
        {
          "output_type": "stream",
          "name": "stdout",
          "text": [
            "1\n",
            "2\n",
            "3\n"
          ]
        }
      ]
    },
    {
      "cell_type": "code",
      "source": [
        "list_tup =[(1,2,3),(6,7,8),(9,5)]\n",
        "for list in list_tup:\n",
        "  print(list)"
      ],
      "metadata": {
        "colab": {
          "base_uri": "https://localhost:8080/"
        },
        "id": "_CDLwXRsG45j",
        "outputId": "a28d7dba-46f9-460f-957b-386bf6c4416d"
      },
      "execution_count": null,
      "outputs": [
        {
          "output_type": "stream",
          "name": "stdout",
          "text": [
            "(1, 2, 3)\n",
            "(6, 7, 8)\n",
            "(9, 5)\n"
          ]
        }
      ]
    },
    {
      "cell_type": "markdown",
      "source": [
        "Tuple unpacking"
      ],
      "metadata": {
        "id": "S8LxaSzKIh_3"
      }
    },
    {
      "cell_type": "code",
      "source": [
        "list_tup =[(1,2,3),(6,7,8),(9,5,6)]\n",
        "for a,b,c in list_tup:\n",
        "  print(c)"
      ],
      "metadata": {
        "colab": {
          "base_uri": "https://localhost:8080/"
        },
        "id": "84cIg6clIcXF",
        "outputId": "d90f29b5-358f-45b3-ea4e-fde262977b6c"
      },
      "execution_count": null,
      "outputs": [
        {
          "output_type": "stream",
          "name": "stdout",
          "text": [
            "3\n",
            "8\n",
            "6\n"
          ]
        }
      ]
    },
    {
      "cell_type": "code",
      "source": [
        "Dict ={'k1':66,'k2':44,'k3':78}\n",
        "\n",
        "for iteams in Dict:\n",
        "  print(iteams)\n",
        "        "
      ],
      "metadata": {
        "colab": {
          "base_uri": "https://localhost:8080/"
        },
        "id": "eUWfULVUIroC",
        "outputId": "ad7d65bb-f32f-46a1-ae71-097fbee5a4cc"
      },
      "execution_count": null,
      "outputs": [
        {
          "output_type": "stream",
          "name": "stdout",
          "text": [
            "k\n",
            "k\n",
            "k\n"
          ]
        }
      ]
    },
    {
      "cell_type": "markdown",
      "source": [
        "WHILE LOOP"
      ],
      "metadata": {
        "id": "0qXGSVPHjuGN"
      }
    },
    {
      "cell_type": "code",
      "source": [
        "x=50\n",
        "while x<5:\n",
        "  print(f' The current value of X is {x}')\n",
        "  x+=1\n",
        "else:\n",
        "  print(f'The current value is less than 5')\n",
        "  "
      ],
      "metadata": {
        "id": "uOVMWEKkKCwI",
        "colab": {
          "base_uri": "https://localhost:8080/"
        },
        "outputId": "87e56c49-1b8a-4808-a440-81a589d183e1"
      },
      "execution_count": null,
      "outputs": [
        {
          "output_type": "stream",
          "name": "stdout",
          "text": [
            "The current value is less than 5\n"
          ]
        }
      ]
    },
    {
      "cell_type": "code",
      "source": [
        "x=[1,2,3]\n",
        "\n",
        "for num in x:\n",
        "  # comment\n",
        "  pass\n",
        "  print(x)"
      ],
      "metadata": {
        "colab": {
          "base_uri": "https://localhost:8080/"
        },
        "id": "623klCYrkDGf",
        "outputId": "c8018e7c-f00c-4a88-b055-1b570f015b77"
      },
      "execution_count": null,
      "outputs": [
        {
          "output_type": "stream",
          "name": "stdout",
          "text": [
            "[1, 2, 3]\n",
            "[1, 2, 3]\n",
            "[1, 2, 3]\n"
          ]
        }
      ]
    },
    {
      "cell_type": "code",
      "source": [
        "myname ='Dineshgkumar'\n",
        "\n",
        "for letter in myname:\n",
        "  if letter =='g':\n",
        "    continue\n",
        "  print(letter)"
      ],
      "metadata": {
        "colab": {
          "base_uri": "https://localhost:8080/"
        },
        "id": "189E4Iq2rMNc",
        "outputId": "47a00dbe-1d52-4160-80e6-0c6492c2f7d8"
      },
      "execution_count": null,
      "outputs": [
        {
          "output_type": "stream",
          "name": "stdout",
          "text": [
            "D\n",
            "i\n",
            "n\n",
            "e\n",
            "s\n",
            "h\n",
            "k\n",
            "u\n",
            "m\n",
            "a\n",
            "r\n"
          ]
        }
      ]
    },
    {
      "cell_type": "code",
      "source": [
        "myname ='Dineshgkumar'\n",
        "\n",
        "for letter in myname:\n",
        "  if letter =='g':\n",
        "    break\n",
        "  print(letter)"
      ],
      "metadata": {
        "colab": {
          "base_uri": "https://localhost:8080/"
        },
        "id": "8uvxr3v4vp5o",
        "outputId": "4f296ad7-98e5-487a-fcb0-186bfab131e7"
      },
      "execution_count": null,
      "outputs": [
        {
          "output_type": "stream",
          "name": "stdout",
          "text": [
            "D\n",
            "i\n",
            "n\n",
            "e\n",
            "s\n",
            "h\n"
          ]
        }
      ]
    },
    {
      "cell_type": "code",
      "source": [
        "x=0\n",
        "\n",
        "while x<7:\n",
        "  if x==5:\n",
        "    break\n",
        "  print(x)\n",
        "  x+=1\n"
      ],
      "metadata": {
        "colab": {
          "base_uri": "https://localhost:8080/"
        },
        "id": "G5cuLrI-v_V5",
        "outputId": "bf6e89f4-2a59-4ec6-d3f7-ad0beb605e3f"
      },
      "execution_count": null,
      "outputs": [
        {
          "output_type": "stream",
          "name": "stdout",
          "text": [
            "0\n",
            "1\n",
            "2\n",
            "3\n",
            "4\n"
          ]
        }
      ]
    },
    {
      "cell_type": "markdown",
      "source": [
        "Range"
      ],
      "metadata": {
        "id": "59F-FTqSzRMY"
      }
    },
    {
      "cell_type": "code",
      "source": [
        "for num in range(0,10,3):\n",
        "  print(num)"
      ],
      "metadata": {
        "colab": {
          "base_uri": "https://localhost:8080/"
        },
        "id": "LXCAeI_awheq",
        "outputId": "98000c8f-e3fa-49af-9e59-e8dc6fe1ff09"
      },
      "execution_count": null,
      "outputs": [
        {
          "output_type": "stream",
          "name": "stdout",
          "text": [
            "0\n",
            "3\n",
            "6\n",
            "9\n"
          ]
        }
      ]
    },
    {
      "cell_type": "code",
      "source": [
        "  list(range(0,10,3))"
      ],
      "metadata": {
        "colab": {
          "base_uri": "https://localhost:8080/"
        },
        "id": "p-EVUNldzgSy",
        "outputId": "393a73e5-ca66-4be2-f97b-0e6bf22850f1"
      },
      "execution_count": null,
      "outputs": [
        {
          "output_type": "execute_result",
          "data": {
            "text/plain": [
              "[0, 3, 6, 9]"
            ]
          },
          "metadata": {},
          "execution_count": 41
        }
      ]
    },
    {
      "cell_type": "markdown",
      "source": [
        "Enumerate"
      ],
      "metadata": {
        "id": "uRwDsG_t4jNS"
      }
    },
    {
      "cell_type": "code",
      "source": [
        "word = 'abcd'\n",
        "for letter in enumerate(word):\n",
        "  print(letter)"
      ],
      "metadata": {
        "colab": {
          "base_uri": "https://localhost:8080/"
        },
        "id": "P4ltTFp90B9H",
        "outputId": "b09cd20a-d400-4e77-89f8-46fc6ab6482f"
      },
      "execution_count": null,
      "outputs": [
        {
          "output_type": "stream",
          "name": "stdout",
          "text": [
            "(0, 'a')\n",
            "(1, 'b')\n",
            "(2, 'c')\n",
            "(3, 'd')\n"
          ]
        }
      ]
    },
    {
      "cell_type": "code",
      "source": [
        "word = 'abcd'\n",
        "for index,letter in enumerate(word):\n",
        "  print(index)"
      ],
      "metadata": {
        "colab": {
          "base_uri": "https://localhost:8080/"
        },
        "id": "XqdkBYqS12AE",
        "outputId": "63e71148-37e0-4268-93c6-ee432af9ad3a"
      },
      "execution_count": null,
      "outputs": [
        {
          "output_type": "stream",
          "name": "stdout",
          "text": [
            "0\n",
            "1\n",
            "2\n",
            "3\n"
          ]
        }
      ]
    },
    {
      "cell_type": "markdown",
      "source": [
        "Zip"
      ],
      "metadata": {
        "id": "YgYk7-kK5NpP"
      }
    },
    {
      "cell_type": "code",
      "source": [
        "my_list1 = [1,2,3]\n",
        "my_list2 = ('a','b','c')"
      ],
      "metadata": {
        "id": "apYETMwo39Fs"
      },
      "execution_count": null,
      "outputs": []
    },
    {
      "cell_type": "code",
      "source": [
        "zip(my_list1,my_list2)"
      ],
      "metadata": {
        "colab": {
          "base_uri": "https://localhost:8080/"
        },
        "id": "LMLOvMaE5d2W",
        "outputId": "16f0b36b-79de-4be2-b37c-10b052912315"
      },
      "execution_count": null,
      "outputs": [
        {
          "output_type": "execute_result",
          "data": {
            "text/plain": [
              "<zip at 0x7ff733c04870>"
            ]
          },
          "metadata": {},
          "execution_count": 54
        }
      ]
    },
    {
      "cell_type": "code",
      "source": [
        "for item in zip(my_list1,my_list2):\n",
        "  print(item)"
      ],
      "metadata": {
        "colab": {
          "base_uri": "https://localhost:8080/"
        },
        "id": "GOSvFjUX5jbd",
        "outputId": "ecb27767-4222-429c-87b5-dbeebca6a293"
      },
      "execution_count": null,
      "outputs": [
        {
          "output_type": "stream",
          "name": "stdout",
          "text": [
            "(1, 'a')\n",
            "(2, 'b')\n",
            "(3, 'c')\n"
          ]
        }
      ]
    },
    {
      "cell_type": "markdown",
      "source": [
        "CHECK IN THE LIST"
      ],
      "metadata": {
        "id": "VYVJ06KG7Ge7"
      }
    },
    {
      "cell_type": "code",
      "source": [
        "'X'in (1,2,3)"
      ],
      "metadata": {
        "colab": {
          "base_uri": "https://localhost:8080/"
        },
        "id": "qWRLZBxS5qW0",
        "outputId": "9755e177-a4d2-47b4-b046-57d11beab12f"
      },
      "execution_count": null,
      "outputs": [
        {
          "output_type": "execute_result",
          "data": {
            "text/plain": [
              "False"
            ]
          },
          "metadata": {},
          "execution_count": 60
        }
      ]
    },
    {
      "cell_type": "code",
      "source": [
        "'X' in ('X','y','c')"
      ],
      "metadata": {
        "colab": {
          "base_uri": "https://localhost:8080/"
        },
        "id": "iSffAujF7LQy",
        "outputId": "972374d3-b79b-4416-df86-664a7616f4ea"
      },
      "execution_count": null,
      "outputs": [
        {
          "output_type": "execute_result",
          "data": {
            "text/plain": [
              "True"
            ]
          },
          "metadata": {},
          "execution_count": 62
        }
      ]
    },
    {
      "cell_type": "code",
      "source": [
        "my_list = [1,3,4,45,645,444]"
      ],
      "metadata": {
        "id": "KPiJ8xPs7Y6t"
      },
      "execution_count": null,
      "outputs": []
    },
    {
      "cell_type": "code",
      "source": [
        "min(my_list)"
      ],
      "metadata": {
        "colab": {
          "base_uri": "https://localhost:8080/"
        },
        "id": "5gV_OSA072Px",
        "outputId": "4fc921c1-d4dd-4610-a313-7c28633b2aaa"
      },
      "execution_count": null,
      "outputs": [
        {
          "output_type": "execute_result",
          "data": {
            "text/plain": [
              "1"
            ]
          },
          "metadata": {},
          "execution_count": 64
        }
      ]
    },
    {
      "cell_type": "code",
      "source": [
        "max(my_list)"
      ],
      "metadata": {
        "colab": {
          "base_uri": "https://localhost:8080/"
        },
        "id": "kxE_TgM176X3",
        "outputId": "91d729f5-2461-438a-d249-958e73e3a8b7"
      },
      "execution_count": null,
      "outputs": [
        {
          "output_type": "execute_result",
          "data": {
            "text/plain": [
              "645"
            ]
          },
          "metadata": {},
          "execution_count": 65
        }
      ]
    },
    {
      "cell_type": "code",
      "source": [
        "from random import shuffle\n"
      ],
      "metadata": {
        "id": "RzeCTXOP786v"
      },
      "execution_count": null,
      "outputs": []
    },
    {
      "cell_type": "code",
      "source": [
        "my_list = [1,2,3,4,5]\n",
        "shuffle(my_list)"
      ],
      "metadata": {
        "id": "i4XDt2nN8gUk"
      },
      "execution_count": null,
      "outputs": []
    },
    {
      "cell_type": "code",
      "source": [
        "my_list"
      ],
      "metadata": {
        "colab": {
          "base_uri": "https://localhost:8080/"
        },
        "id": "wiqPgWzF8lsh",
        "outputId": "2e172c2b-9cb9-486d-bca7-d0863625226c"
      },
      "execution_count": null,
      "outputs": [
        {
          "output_type": "execute_result",
          "data": {
            "text/plain": [
              "[4, 3, 1, 2, 5]"
            ]
          },
          "metadata": {},
          "execution_count": 4
        }
      ]
    },
    {
      "cell_type": "code",
      "source": [
        "from random import randint"
      ],
      "metadata": {
        "id": "g2SpVV_Z8oOq"
      },
      "execution_count": null,
      "outputs": []
    },
    {
      "cell_type": "code",
      "source": [
        "randint(0,12)"
      ],
      "metadata": {
        "id": "2DgEduXG98Bl",
        "colab": {
          "base_uri": "https://localhost:8080/"
        },
        "outputId": "d1e98ec5-65f2-44c4-b637-d52cefbc6080"
      },
      "execution_count": null,
      "outputs": [
        {
          "output_type": "execute_result",
          "data": {
            "text/plain": [
              "9"
            ]
          },
          "metadata": {},
          "execution_count": 9
        }
      ]
    },
    {
      "cell_type": "code",
      "source": [
        "Name = int(input('What is your favourite number'))"
      ],
      "metadata": {
        "colab": {
          "base_uri": "https://localhost:8080/"
        },
        "id": "HnA7gB4bxlcM",
        "outputId": "ead3ea1a-4895-4759-ad99-87e484cc9228"
      },
      "execution_count": null,
      "outputs": [
        {
          "name": "stdout",
          "output_type": "stream",
          "text": [
            "What is your favourite number55\n"
          ]
        }
      ]
    },
    {
      "cell_type": "code",
      "source": [
        "Name"
      ],
      "metadata": {
        "colab": {
          "base_uri": "https://localhost:8080/"
        },
        "id": "VIlN6zi4x0L5",
        "outputId": "8aada3f3-d51f-496c-cad0-24a1ac3becbb"
      },
      "execution_count": null,
      "outputs": [
        {
          "output_type": "execute_result",
          "data": {
            "text/plain": [
              "55"
            ]
          },
          "metadata": {},
          "execution_count": 25
        }
      ]
    },
    {
      "cell_type": "code",
      "source": [
        "type(Name)"
      ],
      "metadata": {
        "colab": {
          "base_uri": "https://localhost:8080/"
        },
        "id": "3MifGLC4x-N7",
        "outputId": "6cacce04-871b-41ed-d3b1-0fc79141cadf"
      },
      "execution_count": null,
      "outputs": [
        {
          "output_type": "execute_result",
          "data": {
            "text/plain": [
              "int"
            ]
          },
          "metadata": {},
          "execution_count": 26
        }
      ]
    },
    {
      "cell_type": "markdown",
      "source": [
        "LIST COMPREHENSION"
      ],
      "metadata": {
        "id": "U3OSgPR_03tV"
      }
    },
    {
      "cell_type": "code",
      "source": [
        "my_list = 'hello'"
      ],
      "metadata": {
        "id": "qoUQsz0d1MuL"
      },
      "execution_count": null,
      "outputs": []
    },
    {
      "cell_type": "code",
      "source": [
        "my_string = []\n",
        "\n",
        "for num in my_list:\n",
        "  my_string.append(num)"
      ],
      "metadata": {
        "id": "zLDT8bl5yL2b"
      },
      "execution_count": null,
      "outputs": []
    },
    {
      "cell_type": "code",
      "source": [],
      "metadata": {
        "colab": {
          "base_uri": "https://localhost:8080/",
          "height": 35
        },
        "id": "k52zjnPmyN6a",
        "outputId": "e0723e85-dbdc-4f68-ca3a-71085c6e9a73"
      },
      "execution_count": null,
      "outputs": [
        {
          "output_type": "execute_result",
          "data": {
            "text/plain": [
              "'hello'"
            ],
            "application/vnd.google.colaboratory.intrinsic+json": {
              "type": "string"
            }
          },
          "metadata": {},
          "execution_count": 47
        }
      ]
    },
    {
      "cell_type": "code",
      "source": [
        "my_list = 'Dinesh'\n",
        "my_list = [num for num in my_list]"
      ],
      "metadata": {
        "id": "ZzTtT_kj1GcC"
      },
      "execution_count": null,
      "outputs": []
    },
    {
      "cell_type": "code",
      "source": [
        "my_list"
      ],
      "metadata": {
        "colab": {
          "base_uri": "https://localhost:8080/"
        },
        "id": "danBSk2X25sk",
        "outputId": "6f87a07b-513b-4af0-8bed-12354a4be968"
      },
      "execution_count": null,
      "outputs": [
        {
          "output_type": "execute_result",
          "data": {
            "text/plain": [
              "['D', 'i', 'n', 'e', 's', 'h']"
            ]
          },
          "metadata": {},
          "execution_count": 59
        }
      ]
    },
    {
      "cell_type": "code",
      "source": [
        "my_value = [x**2 for x in range(0,10)]"
      ],
      "metadata": {
        "id": "8LlSbCf93LFn"
      },
      "execution_count": null,
      "outputs": []
    },
    {
      "cell_type": "code",
      "source": [
        "my_value"
      ],
      "metadata": {
        "colab": {
          "base_uri": "https://localhost:8080/"
        },
        "id": "5y52zfVg4r3X",
        "outputId": "1450b01e-8a00-4c2e-c738-1c1e3f6854ae"
      },
      "execution_count": null,
      "outputs": [
        {
          "output_type": "execute_result",
          "data": {
            "text/plain": [
              "[0, 1, 4, 9, 16, 25, 36, 49, 64, 81]"
            ]
          },
          "metadata": {},
          "execution_count": 68
        }
      ]
    },
    {
      "cell_type": "code",
      "source": [
        "my_value = [x*2 for x in range(0,10) if x % 2==0]"
      ],
      "metadata": {
        "id": "nd2nWynj5GGT"
      },
      "execution_count": null,
      "outputs": []
    },
    {
      "cell_type": "code",
      "source": [
        "my_value"
      ],
      "metadata": {
        "colab": {
          "base_uri": "https://localhost:8080/"
        },
        "id": "TN0QZnh86MG2",
        "outputId": "0e547fb5-2c5f-4d2b-d942-32c869deb4e3"
      },
      "execution_count": null,
      "outputs": [
        {
          "output_type": "execute_result",
          "data": {
            "text/plain": [
              "[0, 4, 8, 12, 16]"
            ]
          },
          "metadata": {},
          "execution_count": 72
        }
      ]
    },
    {
      "cell_type": "code",
      "source": [
        "celcius = [0,12,16,19]\n",
        "\n",
        "Farenheit = [((9/5*temp + 32) for temp in celcius)]"
      ],
      "metadata": {
        "id": "2Oy8BakO6NMB"
      },
      "execution_count": null,
      "outputs": []
    },
    {
      "cell_type": "code",
      "source": [
        "Farenheit"
      ],
      "metadata": {
        "colab": {
          "base_uri": "https://localhost:8080/"
        },
        "id": "qWbCeu5h62gt",
        "outputId": "49d33724-53a7-4691-b633-5e4aefbfa032"
      },
      "execution_count": null,
      "outputs": [
        {
          "output_type": "execute_result",
          "data": {
            "text/plain": [
              "[<generator object <genexpr> at 0x7fa4b38bc350>]"
            ]
          },
          "metadata": {},
          "execution_count": 74
        }
      ]
    },
    {
      "cell_type": "code",
      "source": [
        "Farenheit"
      ],
      "metadata": {
        "colab": {
          "base_uri": "https://localhost:8080/"
        },
        "id": "QFc2TTls65_j",
        "outputId": "206dbd97-7007-4857-f325-6785457120fa"
      },
      "execution_count": null,
      "outputs": [
        {
          "output_type": "execute_result",
          "data": {
            "text/plain": [
              "[<generator object <genexpr> at 0x7fa4b38bc350>]"
            ]
          },
          "metadata": {},
          "execution_count": 75
        }
      ]
    },
    {
      "cell_type": "code",
      "source": [
        "my_list = [1,2,3]\n",
        "my_value = [22,33,44]\n",
        "my_dk = []\n",
        "for x in my_list:\n",
        "  for y in my_value:\n",
        "    my_dk.append(x*y)\n",
        "\n",
        " "
      ],
      "metadata": {
        "id": "c4EiYeYP69vu"
      },
      "execution_count": null,
      "outputs": []
    },
    {
      "cell_type": "code",
      "source": [
        "my_dk"
      ],
      "metadata": {
        "colab": {
          "base_uri": "https://localhost:8080/"
        },
        "id": "Qx8Jahxq8_Y1",
        "outputId": "63ec04f1-b082-45c2-8109-27065952cc17"
      },
      "execution_count": null,
      "outputs": [
        {
          "output_type": "execute_result",
          "data": {
            "text/plain": [
              "[22, 33, 44, 44, 66, 88, 66, 99, 132]"
            ]
          },
          "metadata": {},
          "execution_count": 77
        }
      ]
    },
    {
      "cell_type": "code",
      "source": [
        "my_dk = [x*y for x in my_list for y in my_value]"
      ],
      "metadata": {
        "id": "xULqtryw9Ac1"
      },
      "execution_count": null,
      "outputs": []
    },
    {
      "cell_type": "code",
      "source": [
        "my_dk"
      ],
      "metadata": {
        "id": "xNGNb-599qD7",
        "outputId": "e055a2bb-9834-42b5-b30c-4ec7fe405e3c",
        "colab": {
          "base_uri": "https://localhost:8080/"
        }
      },
      "execution_count": null,
      "outputs": [
        {
          "output_type": "execute_result",
          "data": {
            "text/plain": [
              "[22, 33, 44, 44, 66, 88, 66, 99, 132]"
            ]
          },
          "metadata": {},
          "execution_count": 79
        }
      ]
    },
    {
      "cell_type": "code",
      "source": [
        "st = 'Print only the words that start with s in this sentence'"
      ],
      "metadata": {
        "id": "STMfY88x9rZ8"
      },
      "execution_count": null,
      "outputs": []
    },
    {
      "cell_type": "code",
      "source": [
        "st"
      ],
      "metadata": {
        "colab": {
          "base_uri": "https://localhost:8080/",
          "height": 35
        },
        "id": "W5Zx6e4b1peJ",
        "outputId": "66193df6-ac57-4656-9a0c-9e7047232cb9"
      },
      "execution_count": null,
      "outputs": [
        {
          "output_type": "execute_result",
          "data": {
            "text/plain": [
              "'Print only the words that start with s in this sentence'"
            ],
            "application/vnd.google.colaboratory.intrinsic+json": {
              "type": "string"
            }
          },
          "metadata": {},
          "execution_count": 2
        }
      ]
    },
    {
      "cell_type": "code",
      "source": [
        "st.split()"
      ],
      "metadata": {
        "colab": {
          "base_uri": "https://localhost:8080/"
        },
        "id": "zt6di33K1qS9",
        "outputId": "cfcca6bf-c08c-457c-9eaa-e38e3f6895ba"
      },
      "execution_count": null,
      "outputs": [
        {
          "output_type": "execute_result",
          "data": {
            "text/plain": [
              "['Print',\n",
              " 'only',\n",
              " 'the',\n",
              " 'words',\n",
              " 'that',\n",
              " 'start',\n",
              " 'with',\n",
              " 's',\n",
              " 'in',\n",
              " 'this',\n",
              " 'sentence']"
            ]
          },
          "metadata": {},
          "execution_count": 3
        }
      ]
    },
    {
      "cell_type": "code",
      "source": [
        "for words in st.split():\n",
        "  if words[0]=='s':\n",
        "    print(words)"
      ],
      "metadata": {
        "colab": {
          "base_uri": "https://localhost:8080/"
        },
        "id": "UClXTsKT1uI0",
        "outputId": "d56b2f13-79e4-41ff-b19f-27ccf0d338ae"
      },
      "execution_count": null,
      "outputs": [
        {
          "output_type": "stream",
          "name": "stdout",
          "text": [
            "start\n",
            "s\n",
            "sentence\n"
          ]
        }
      ]
    },
    {
      "cell_type": "code",
      "source": [
        "for i in range(0,10):\n",
        "  print(i)"
      ],
      "metadata": {
        "colab": {
          "base_uri": "https://localhost:8080/"
        },
        "id": "UJhfmwrG1928",
        "outputId": "92a7fca9-9bed-455b-d5f7-8d52e657679c"
      },
      "execution_count": null,
      "outputs": [
        {
          "output_type": "stream",
          "name": "stdout",
          "text": [
            "0\n",
            "1\n",
            "2\n",
            "3\n",
            "4\n",
            "5\n",
            "6\n",
            "7\n",
            "8\n",
            "9\n"
          ]
        }
      ]
    },
    {
      "cell_type": "code",
      "source": [
        "my_lsit = [x for x in range(0,51) if x % 3==0 ]\n",
        "print(my_lsit)\n"
      ],
      "metadata": {
        "colab": {
          "base_uri": "https://localhost:8080/"
        },
        "id": "qig5jmiF4ego",
        "outputId": "1bde683e-ed88-46e7-f24c-ba830705c321"
      },
      "execution_count": null,
      "outputs": [
        {
          "output_type": "stream",
          "name": "stdout",
          "text": [
            "[0, 3, 6, 9, 12, 15, 18, 21, 24, 27, 30, 33, 36, 39, 42, 45, 48]\n"
          ]
        }
      ]
    },
    {
      "cell_type": "code",
      "source": [
        "st = 'Print every word in this sentence that has an even number of letters'"
      ],
      "metadata": {
        "id": "f_PVIeO452Wp"
      },
      "execution_count": null,
      "outputs": []
    },
    {
      "cell_type": "code",
      "source": [
        "st.split()"
      ],
      "metadata": {
        "colab": {
          "base_uri": "https://localhost:8080/"
        },
        "id": "FWk_Xi4l7ATn",
        "outputId": "64fd67f2-89d4-4943-bec5-23fb2355eb1a"
      },
      "execution_count": null,
      "outputs": [
        {
          "output_type": "execute_result",
          "data": {
            "text/plain": [
              "['Print',\n",
              " 'every',\n",
              " 'word',\n",
              " 'in',\n",
              " 'this',\n",
              " 'sentence',\n",
              " 'that',\n",
              " 'has',\n",
              " 'an',\n",
              " 'even',\n",
              " 'number',\n",
              " 'of',\n",
              " 'letters']"
            ]
          },
          "metadata": {},
          "execution_count": 25
        }
      ]
    },
    {
      "cell_type": "code",
      "source": [
        "for i in st.split():\n",
        "  if len(i) % 2==0:\n",
        "    print(i + ' even words')\n",
        "  "
      ],
      "metadata": {
        "colab": {
          "base_uri": "https://localhost:8080/"
        },
        "id": "sbZoi_9d7A2D",
        "outputId": "7096a9c0-54c6-4b5b-ac9f-b4d71087575e"
      },
      "execution_count": null,
      "outputs": [
        {
          "output_type": "stream",
          "name": "stdout",
          "text": [
            "word even words\n",
            "in even words\n",
            "this even words\n",
            "sentence even words\n",
            "that even words\n",
            "an even words\n",
            "even even words\n",
            "number even words\n",
            "of even words\n"
          ]
        }
      ]
    },
    {
      "cell_type": "code",
      "source": [
        "for num in range(1,50):\n",
        "  print(num)\n"
      ],
      "metadata": {
        "colab": {
          "base_uri": "https://localhost:8080/"
        },
        "id": "OTvtsK6oAKP_",
        "outputId": "721150b6-ab73-45c1-b6a4-7d07bed58c9a"
      },
      "execution_count": null,
      "outputs": [
        {
          "output_type": "stream",
          "name": "stdout",
          "text": [
            "1\n",
            "2\n",
            "3\n",
            "4\n",
            "5\n",
            "6\n",
            "7\n",
            "8\n",
            "9\n",
            "10\n",
            "11\n",
            "12\n",
            "13\n",
            "14\n",
            "15\n",
            "16\n",
            "17\n",
            "18\n",
            "19\n",
            "20\n",
            "21\n",
            "22\n",
            "23\n",
            "24\n",
            "25\n",
            "26\n",
            "27\n",
            "28\n",
            "29\n",
            "30\n",
            "31\n",
            "32\n",
            "33\n",
            "34\n",
            "35\n",
            "36\n",
            "37\n",
            "38\n",
            "39\n",
            "40\n",
            "41\n",
            "42\n",
            "43\n",
            "44\n",
            "45\n",
            "46\n",
            "47\n",
            "48\n",
            "49\n"
          ]
        }
      ]
    },
    {
      "cell_type": "code",
      "source": [
        "for num in range(1,50):\n",
        "  if num%3==0 and num%5==0:\n",
        "    print('FizzBuzz')\n",
        "  elif num%3==0:\n",
        "    print('Fizz')\n",
        "  elif num%5==0:\n",
        "    print('Buzz')\n",
        "  else:\n",
        "    print(num)"
      ],
      "metadata": {
        "colab": {
          "base_uri": "https://localhost:8080/"
        },
        "id": "chn9AQbK_b7M",
        "outputId": "3709f00c-6c1e-42fc-ae64-4cc43f5e3db9"
      },
      "execution_count": null,
      "outputs": [
        {
          "output_type": "stream",
          "name": "stdout",
          "text": [
            "1\n",
            "2\n",
            "Fizz\n",
            "4\n",
            "Buzz\n",
            "Fizz\n",
            "7\n",
            "8\n",
            "Fizz\n",
            "Buzz\n",
            "11\n",
            "Fizz\n",
            "13\n",
            "14\n",
            "FizzBuzz\n",
            "16\n",
            "17\n",
            "Fizz\n",
            "19\n",
            "Buzz\n",
            "Fizz\n",
            "22\n",
            "23\n",
            "Fizz\n",
            "Buzz\n",
            "26\n",
            "Fizz\n",
            "28\n",
            "29\n",
            "FizzBuzz\n",
            "31\n",
            "32\n",
            "Fizz\n",
            "34\n",
            "Buzz\n",
            "Fizz\n",
            "37\n",
            "38\n",
            "Fizz\n",
            "Buzz\n",
            "41\n",
            "Fizz\n",
            "43\n",
            "44\n",
            "FizzBuzz\n",
            "46\n",
            "47\n",
            "Fizz\n",
            "49\n"
          ]
        }
      ]
    },
    {
      "cell_type": "code",
      "source": [
        "my_list =[1,2,3]"
      ],
      "metadata": {
        "id": "cMnii22C_rTu"
      },
      "execution_count": null,
      "outputs": []
    },
    {
      "cell_type": "code",
      "source": [
        "my_list.append(4)"
      ],
      "metadata": {
        "id": "PnerpxxVD9qI"
      },
      "execution_count": null,
      "outputs": []
    },
    {
      "cell_type": "code",
      "source": [
        "my_list"
      ],
      "metadata": {
        "colab": {
          "base_uri": "https://localhost:8080/"
        },
        "id": "HTNR0HlDEATU",
        "outputId": "dc3f7605-9f93-43ce-ea84-f1ae64e9e043"
      },
      "execution_count": null,
      "outputs": [
        {
          "output_type": "execute_result",
          "data": {
            "text/plain": [
              "[1, 2, 3, 4]"
            ]
          },
          "metadata": {},
          "execution_count": 57
        }
      ]
    },
    {
      "cell_type": "code",
      "source": [
        "my_list.pop()"
      ],
      "metadata": {
        "colab": {
          "base_uri": "https://localhost:8080/"
        },
        "id": "6xnVKw5aEChM",
        "outputId": "9dc2fd3b-9e5b-4232-fb4e-eced1b6f97ee"
      },
      "execution_count": null,
      "outputs": [
        {
          "output_type": "execute_result",
          "data": {
            "text/plain": [
              "4"
            ]
          },
          "metadata": {},
          "execution_count": 58
        }
      ]
    },
    {
      "cell_type": "code",
      "source": [
        "my_list"
      ],
      "metadata": {
        "colab": {
          "base_uri": "https://localhost:8080/"
        },
        "id": "qE22j3U8EFFB",
        "outputId": "b8b290a7-c61f-4a4a-ecab-b8556c5fb42d"
      },
      "execution_count": null,
      "outputs": [
        {
          "output_type": "execute_result",
          "data": {
            "text/plain": [
              "[1, 2, 3]"
            ]
          },
          "metadata": {},
          "execution_count": 59
        }
      ]
    },
    {
      "cell_type": "code",
      "source": [
        "my_list.pop()"
      ],
      "metadata": {
        "colab": {
          "base_uri": "https://localhost:8080/"
        },
        "id": "J8i1S8buEGGS",
        "outputId": "2deb681f-d97d-40c2-dec1-22867cf5ce5d"
      },
      "execution_count": null,
      "outputs": [
        {
          "output_type": "execute_result",
          "data": {
            "text/plain": [
              "3"
            ]
          },
          "metadata": {},
          "execution_count": 60
        }
      ]
    },
    {
      "cell_type": "code",
      "source": [
        "help(my_list.append)"
      ],
      "metadata": {
        "colab": {
          "base_uri": "https://localhost:8080/"
        },
        "id": "Ji5252nnELTG",
        "outputId": "6cbd3bac-408f-4293-9efe-b2480026ed8f"
      },
      "execution_count": null,
      "outputs": [
        {
          "output_type": "stream",
          "name": "stdout",
          "text": [
            "Help on built-in function append:\n",
            "\n",
            "append(object, /) method of builtins.list instance\n",
            "    Append object to the end of the list.\n",
            "\n"
          ]
        }
      ]
    },
    {
      "cell_type": "markdown",
      "source": [
        "FUNCTIONS"
      ],
      "metadata": {
        "id": "RfzJqjaCbPcJ"
      }
    },
    {
      "cell_type": "code",
      "source": [
        "def say_hello():\n",
        "  print('Hello')"
      ],
      "metadata": {
        "id": "5Iw-QdeDESRJ"
      },
      "execution_count": null,
      "outputs": []
    },
    {
      "cell_type": "code",
      "source": [
        "say_hello()"
      ],
      "metadata": {
        "colab": {
          "base_uri": "https://localhost:8080/"
        },
        "id": "QnZyqlBpbWEJ",
        "outputId": "feaa3ccd-5f8d-4b07-b5e8-c46f5cc9d4f5"
      },
      "execution_count": null,
      "outputs": [
        {
          "output_type": "stream",
          "name": "stdout",
          "text": [
            "Hello\n"
          ]
        }
      ]
    },
    {
      "cell_type": "code",
      "source": [
        "def say_hi(name='Default'):\n",
        "  print(f'Hi {name}')"
      ],
      "metadata": {
        "id": "l0G6yabgbZdE"
      },
      "execution_count": null,
      "outputs": []
    },
    {
      "cell_type": "code",
      "source": [
        "say_hi()"
      ],
      "metadata": {
        "colab": {
          "base_uri": "https://localhost:8080/"
        },
        "id": "es6-AY3wbl12",
        "outputId": "08ad5ba7-c5bb-42ab-e85b-bf1555e4511a"
      },
      "execution_count": null,
      "outputs": [
        {
          "output_type": "stream",
          "name": "stdout",
          "text": [
            "Hi Default\n"
          ]
        }
      ]
    },
    {
      "cell_type": "code",
      "source": [
        "def add_func(num1,num2):\n",
        "  return num1+num2"
      ],
      "metadata": {
        "id": "l0x0h4OWbntG"
      },
      "execution_count": null,
      "outputs": []
    },
    {
      "cell_type": "code",
      "source": [
        "add_func(1,5)"
      ],
      "metadata": {
        "colab": {
          "base_uri": "https://localhost:8080/"
        },
        "id": "va_0p69Fda6u",
        "outputId": "e170d50d-6963-4f7d-9530-b89ba19ae101"
      },
      "execution_count": null,
      "outputs": [
        {
          "output_type": "execute_result",
          "data": {
            "text/plain": [
              "6"
            ]
          },
          "metadata": {},
          "execution_count": 81
        }
      ]
    },
    {
      "cell_type": "code",
      "source": [
        "output= add_func(1,5)"
      ],
      "metadata": {
        "id": "SpK5sOCqdqWt"
      },
      "execution_count": null,
      "outputs": []
    },
    {
      "cell_type": "code",
      "source": [
        "output"
      ],
      "metadata": {
        "colab": {
          "base_uri": "https://localhost:8080/"
        },
        "id": "aZ07oNQMduNS",
        "outputId": "7400f43d-ed1a-4ccc-bc58-7762811fd049"
      },
      "execution_count": null,
      "outputs": [
        {
          "output_type": "execute_result",
          "data": {
            "text/plain": [
              "6"
            ]
          },
          "metadata": {},
          "execution_count": 83
        }
      ]
    },
    {
      "cell_type": "code",
      "source": [
        "def sum_num(num1,num2):\n",
        "  return num1+num2"
      ],
      "metadata": {
        "id": "cfemqkzOdvl9"
      },
      "execution_count": null,
      "outputs": []
    },
    {
      "cell_type": "code",
      "source": [
        "sum_num(4,8)"
      ],
      "metadata": {
        "colab": {
          "base_uri": "https://localhost:8080/"
        },
        "id": "n_RSdor6fo5b",
        "outputId": "c9d4916c-7e7b-4956-aaa6-ec8a9a1f79e7"
      },
      "execution_count": null,
      "outputs": [
        {
          "output_type": "execute_result",
          "data": {
            "text/plain": [
              "12"
            ]
          },
          "metadata": {},
          "execution_count": 89
        }
      ]
    },
    {
      "cell_type": "code",
      "source": [
        "20 % 2 == 0 "
      ],
      "metadata": {
        "colab": {
          "base_uri": "https://localhost:8080/"
        },
        "id": "YXJGQMUQfrt8",
        "outputId": "3f2d03b9-822b-49c9-9cd7-789d1a4f3e4b"
      },
      "execution_count": null,
      "outputs": [
        {
          "output_type": "execute_result",
          "data": {
            "text/plain": [
              "True"
            ]
          },
          "metadata": {},
          "execution_count": 91
        }
      ]
    },
    {
      "cell_type": "code",
      "source": [
        "25 % 2==0"
      ],
      "metadata": {
        "colab": {
          "base_uri": "https://localhost:8080/"
        },
        "id": "Q_ZwE-jThRHM",
        "outputId": "57246d4b-6885-44ce-fae8-62f0438d1e23"
      },
      "execution_count": null,
      "outputs": [
        {
          "output_type": "execute_result",
          "data": {
            "text/plain": [
              "False"
            ]
          },
          "metadata": {},
          "execution_count": 92
        }
      ]
    },
    {
      "cell_type": "code",
      "source": [
        "def even_value(num):\n",
        "  return num % 2==0"
      ],
      "metadata": {
        "id": "oXMsiQnVhXa-"
      },
      "execution_count": null,
      "outputs": []
    },
    {
      "cell_type": "code",
      "source": [
        "even_value(50)"
      ],
      "metadata": {
        "colab": {
          "base_uri": "https://localhost:8080/"
        },
        "id": "usYDXSCehfcO",
        "outputId": "d61b1255-6504-4767-a8cb-affe101f809c"
      },
      "execution_count": null,
      "outputs": [
        {
          "output_type": "execute_result",
          "data": {
            "text/plain": [
              "True"
            ]
          },
          "metadata": {},
          "execution_count": 94
        }
      ]
    },
    {
      "cell_type": "markdown",
      "source": [
        "RETURN TRUE IF ANY NUMBER IS INSIDE EVEN VALUE"
      ],
      "metadata": {
        "id": "rz-FeLX2jNZY"
      }
    },
    {
      "cell_type": "code",
      "source": [
        "def even_num(number):\n",
        "  for val in number:\n",
        "    if val % 2 == 0:\n",
        "      return True\n",
        "    else:\n",
        "      pass\n",
        "  return False\n"
      ],
      "metadata": {
        "id": "dpXYbWxshik1"
      },
      "execution_count": null,
      "outputs": []
    },
    {
      "cell_type": "code",
      "source": [
        "even_num([1,999,9999999])"
      ],
      "metadata": {
        "colab": {
          "base_uri": "https://localhost:8080/"
        },
        "id": "0d-ZJPiUjtat",
        "outputId": "39fa00ab-8539-463b-b57f-d32ad327cee1"
      },
      "execution_count": null,
      "outputs": [
        {
          "output_type": "execute_result",
          "data": {
            "text/plain": [
              "False"
            ]
          },
          "metadata": {},
          "execution_count": 125
        }
      ]
    },
    {
      "cell_type": "markdown",
      "source": [
        "RETURN VALUES IN A LIST"
      ],
      "metadata": {
        "id": "2S8ad1pYqzZl"
      }
    },
    {
      "cell_type": "code",
      "source": [
        "def even_value(numbers):\n",
        "  even_number = []\n",
        "  for num in numbers:\n",
        "    if num % 2 ==0:\n",
        "      even_number.append(numbers)\n",
        "      \n",
        "    else:\n",
        "      pass\n",
        "\n",
        "  return even_number\n"
      ],
      "metadata": {
        "id": "8r9b4ZdfjxSS"
      },
      "execution_count": null,
      "outputs": []
    },
    {
      "cell_type": "code",
      "source": [
        "even_value([1,7]) # odd value mentioned"
      ],
      "metadata": {
        "colab": {
          "base_uri": "https://localhost:8080/"
        },
        "id": "QrTCpQQArbnb",
        "outputId": "f5c67ef9-00d7-4930-9640-007d76ea62b2"
      },
      "execution_count": null,
      "outputs": [
        {
          "output_type": "execute_result",
          "data": {
            "text/plain": [
              "[]"
            ]
          },
          "metadata": {},
          "execution_count": 136
        }
      ]
    },
    {
      "cell_type": "code",
      "source": [
        "even_value([2,6])"
      ],
      "metadata": {
        "colab": {
          "base_uri": "https://localhost:8080/"
        },
        "id": "xfuCr6jIrfiW",
        "outputId": "41c8816a-15ae-4072-cb5c-4d156f27a8d7"
      },
      "execution_count": null,
      "outputs": [
        {
          "output_type": "execute_result",
          "data": {
            "text/plain": [
              "[[2, 6], [2, 6]]"
            ]
          },
          "metadata": {},
          "execution_count": 139
        }
      ]
    },
    {
      "cell_type": "markdown",
      "source": [
        "TUPLE UNPACKING"
      ],
      "metadata": {
        "id": "TAarlybzCcvs"
      }
    },
    {
      "cell_type": "code",
      "source": [
        "stock_price = [('Apple',230),('Google',600),('onepluse',112)]"
      ],
      "metadata": {
        "id": "XZsApnRHtUJD"
      },
      "execution_count": null,
      "outputs": []
    },
    {
      "cell_type": "code",
      "source": [
        "for items in stock_price:\n",
        "  print(items)\n"
      ],
      "metadata": {
        "colab": {
          "base_uri": "https://localhost:8080/"
        },
        "id": "rSiXRub7DEqZ",
        "outputId": "11caeed1-aa1a-4594-9c18-27c065f28393"
      },
      "execution_count": null,
      "outputs": [
        {
          "output_type": "stream",
          "name": "stdout",
          "text": [
            "('Apple', 230)\n",
            "('Google', 600)\n",
            "('onepluse', 112)\n"
          ]
        }
      ]
    },
    {
      "cell_type": "code",
      "source": [
        "for name,price in stock_price:  # Tuple unpacking\n",
        "  print(price+(0.1*price))"
      ],
      "metadata": {
        "colab": {
          "base_uri": "https://localhost:8080/"
        },
        "id": "O6LKgmTpDevQ",
        "outputId": "61befcb9-418f-452b-e134-59719c4657ae"
      },
      "execution_count": null,
      "outputs": [
        {
          "output_type": "stream",
          "name": "stdout",
          "text": [
            "253.0\n",
            "660.0\n",
            "123.2\n"
          ]
        }
      ]
    },
    {
      "cell_type": "markdown",
      "source": [
        "find out the employee of the month ( Related to No. of hours work"
      ],
      "metadata": {
        "id": "ulwtldoYFxsE"
      }
    },
    {
      "cell_type": "code",
      "source": [
        "employee_data = [('DK',450),('Vic',650),('Dani',651)]"
      ],
      "metadata": {
        "id": "LXmQwFLDDsLQ"
      },
      "execution_count": null,
      "outputs": []
    },
    {
      "cell_type": "code",
      "source": [
        "def employee_of_month(employee_data):\n",
        "  Current_max = 0\n",
        "  employee_name= ''\n",
        "  for employee,hours in employee_data:\n",
        "    if hours > Current_max:\n",
        "      Current_max = hours\n",
        "      employee_name = employee\n",
        "    else:\n",
        "      pass\n",
        "\n",
        "\n",
        "  return (employee_name,Current_max)\n",
        "\n",
        "\n"
      ],
      "metadata": {
        "id": "C6TJzRzYGQ1O"
      },
      "execution_count": null,
      "outputs": []
    },
    {
      "cell_type": "code",
      "source": [
        "employee_of_month(employee_data)"
      ],
      "metadata": {
        "colab": {
          "base_uri": "https://localhost:8080/"
        },
        "id": "rqdGwc3vHHLx",
        "outputId": "a7c6d928-8791-41de-b481-e9c846e679c4"
      },
      "execution_count": null,
      "outputs": [
        {
          "output_type": "execute_result",
          "data": {
            "text/plain": [
              "('Dani', 651)"
            ]
          },
          "metadata": {},
          "execution_count": 34
        }
      ]
    },
    {
      "cell_type": "markdown",
      "source": [
        "SHUFFLE GAME"
      ],
      "metadata": {
        "id": "7saKfSctNXOd"
      }
    },
    {
      "cell_type": "code",
      "source": [
        "dice=[1,2,3,4,5,6]"
      ],
      "metadata": {
        "id": "lUAXfZmQHV5h"
      },
      "execution_count": null,
      "outputs": []
    },
    {
      "cell_type": "code",
      "source": [
        "from random import shuffle"
      ],
      "metadata": {
        "id": "UdAguirvNc3-"
      },
      "execution_count": null,
      "outputs": []
    },
    {
      "cell_type": "code",
      "source": [
        "shuffle(dice)"
      ],
      "metadata": {
        "id": "91mSQjwNNg30"
      },
      "execution_count": null,
      "outputs": []
    },
    {
      "cell_type": "code",
      "source": [
        "dice"
      ],
      "metadata": {
        "colab": {
          "base_uri": "https://localhost:8080/"
        },
        "id": "Limp6yQ9NkQW",
        "outputId": "f698077a-6049-47e2-ab8e-15bd6dcf1288"
      },
      "execution_count": null,
      "outputs": [
        {
          "output_type": "execute_result",
          "data": {
            "text/plain": [
              "[2, 5, 1, 6, 3, 4]"
            ]
          },
          "metadata": {},
          "execution_count": 4
        }
      ]
    },
    {
      "cell_type": "code",
      "source": [
        "def shuffule_list(my_list):\n",
        "  shuffle(my_list)\n",
        "  return my_list"
      ],
      "metadata": {
        "id": "d8CYAsuUNl10"
      },
      "execution_count": null,
      "outputs": []
    },
    {
      "cell_type": "code",
      "source": [
        "result = shuffule_list(dice)"
      ],
      "metadata": {
        "id": "h7e8WPHLQdeL"
      },
      "execution_count": null,
      "outputs": []
    },
    {
      "cell_type": "code",
      "source": [
        "result"
      ],
      "metadata": {
        "colab": {
          "base_uri": "https://localhost:8080/"
        },
        "id": "xXs2VJsGQgnE",
        "outputId": "ef5d46f7-c012-4fa0-dee1-7a022ce41055"
      },
      "execution_count": null,
      "outputs": [
        {
          "output_type": "execute_result",
          "data": {
            "text/plain": [
              "[3, 4, 6, 5, 1, 2]"
            ]
          },
          "metadata": {},
          "execution_count": 7
        }
      ]
    },
    {
      "cell_type": "code",
      "source": [
        "my_list = ['', 'O', '']"
      ],
      "metadata": {
        "id": "HXWo4KmoQmbE"
      },
      "execution_count": null,
      "outputs": []
    },
    {
      "cell_type": "code",
      "source": [
        "shuffule_list(my_list)"
      ],
      "metadata": {
        "colab": {
          "base_uri": "https://localhost:8080/"
        },
        "id": "tsMCHU9RQ9hC",
        "outputId": "717faac5-182a-43d2-9335-61560180e4a3"
      },
      "execution_count": null,
      "outputs": [
        {
          "output_type": "execute_result",
          "data": {
            "text/plain": [
              "['', 'O', '']"
            ]
          },
          "metadata": {},
          "execution_count": 9
        }
      ]
    },
    {
      "cell_type": "code",
      "source": [
        "def myfunc(Name):\n",
        "    print('Hello {}'.format(Name))\n",
        "    \n",
        "myfunc('Name')\n"
      ],
      "metadata": {
        "id": "9dTiES_VqY8S",
        "colab": {
          "base_uri": "https://localhost:8080/"
        },
        "outputId": "8db14089-50eb-4ba5-c760-e6670e89a273"
      },
      "execution_count": null,
      "outputs": [
        {
          "output_type": "stream",
          "name": "stdout",
          "text": [
            "Hello Name\n"
          ]
        }
      ]
    },
    {
      "cell_type": "markdown",
      "source": [
        "**arugs and **Kwargs"
      ],
      "metadata": {
        "id": "jv8HnwLwPBCK"
      }
    },
    {
      "cell_type": "code",
      "source": [
        "def myfunc(a,b):\n",
        "  return sum((a,b)) *0.05"
      ],
      "metadata": {
        "id": "moPaPg9BHw5n"
      },
      "execution_count": null,
      "outputs": []
    },
    {
      "cell_type": "code",
      "source": [
        "myfunc(10,56)"
      ],
      "metadata": {
        "colab": {
          "base_uri": "https://localhost:8080/"
        },
        "id": "GwC3eHp5PPbW",
        "outputId": "a00c6d8c-f66a-4885-9dd5-0fcd2b33b111"
      },
      "execution_count": null,
      "outputs": [
        {
          "output_type": "execute_result",
          "data": {
            "text/plain": [
              "3.3000000000000003"
            ]
          },
          "metadata": {},
          "execution_count": 14
        }
      ]
    },
    {
      "cell_type": "code",
      "source": [
        "def myfunc(*args):   # *args are very usefull for multiple arguments\n",
        "  return sum(args)"
      ],
      "metadata": {
        "id": "Akts6AoBPRxT"
      },
      "execution_count": null,
      "outputs": []
    },
    {
      "cell_type": "code",
      "source": [
        "def myfunc(*args):\n",
        "  return sum(args) *0.05"
      ],
      "metadata": {
        "id": "SvekgEr3RNhv"
      },
      "execution_count": null,
      "outputs": []
    },
    {
      "cell_type": "code",
      "source": [
        "myfunc(10,20)"
      ],
      "metadata": {
        "colab": {
          "base_uri": "https://localhost:8080/"
        },
        "id": "qkEU2p9TQ9HT",
        "outputId": "b30c3b9b-1ac9-4629-d3e9-1f2f3812fc7d"
      },
      "execution_count": null,
      "outputs": [
        {
          "output_type": "execute_result",
          "data": {
            "text/plain": [
              "1.5"
            ]
          },
          "metadata": {},
          "execution_count": 21
        }
      ]
    },
    {
      "cell_type": "code",
      "source": [
        " def myfunc(**kwargs):\n",
        "\n",
        "   if fruits in kwargs:\n",
        "     print('My favourie fruits {}'.format(kwargs['fruits']))\n",
        "   else:\n",
        "      print('I dont like it')\n",
        "\n",
        "  "
      ],
      "metadata": {
        "id": "2LJqfrYXRA-R"
      },
      "execution_count": null,
      "outputs": []
    },
    {
      "cell_type": "code",
      "source": [
        "def myfunc(*args, **kwargs):\n",
        "  print(args)\n",
        "  print('Find the fruits value {} {}'.format(args[0],kwargs ['food']))"
      ],
      "metadata": {
        "id": "1UTKZodRSyM6"
      },
      "execution_count": null,
      "outputs": []
    },
    {
      "cell_type": "code",
      "source": [
        "def myfunc(*args):\n",
        "    if args % 2:\n",
        "        return args"
      ],
      "metadata": {
        "id": "Iy3sUCS6ZAbK"
      },
      "execution_count": null,
      "outputs": []
    },
    {
      "cell_type": "markdown",
      "source": [
        "LESSER OF TWO EVENS: Write a function that returns the lesser of two given numbers if both numbers are even, but returns the greater if one or both numbers are odd\n",
        "\n",
        "\n",
        "lesser_of_two_evens(2,4) --> 2\n",
        "lesser_of_two_evens(2,5) --> 5"
      ],
      "metadata": {
        "id": "uxd76ENriKr2"
      }
    },
    {
      "cell_type": "markdown",
      "source": [],
      "metadata": {
        "id": "TIsfKZ6JiKU2"
      }
    },
    {
      "cell_type": "code",
      "source": [
        "def less_or_not_even(a,b):\n",
        "  if a % 2==0 & b % 2==0:\n",
        "    return min(a,b)\n",
        "  else:\n",
        "    return max(a,b)\n",
        "  pass\n",
        "\n"
      ],
      "metadata": {
        "id": "N82WaLOrcq_7"
      },
      "execution_count": 11,
      "outputs": []
    },
    {
      "cell_type": "code",
      "source": [
        "less_or_not_even(3,4)\n"
      ],
      "metadata": {
        "id": "erShPqPPcxJU",
        "colab": {
          "base_uri": "https://localhost:8080/"
        },
        "outputId": "13d6f34d-e11a-45e0-d77e-457d637ddad1"
      },
      "execution_count": 13,
      "outputs": [
        {
          "output_type": "execute_result",
          "data": {
            "text/plain": [
              "4"
            ]
          },
          "metadata": {},
          "execution_count": 13
        }
      ]
    },
    {
      "cell_type": "markdown",
      "source": [
        "ANIMAL CRACKERS: Write a function takes a two-word string and returns True if both words begin with same letter\n",
        "\n",
        "\n",
        "\n",
        "animal_crackers('Levelheaded Llama') --> True\n",
        "animal_crackers('Crazy Kangaroo') --> False"
      ],
      "metadata": {
        "id": "NBS4bqyNk8Rr"
      }
    },
    {
      "cell_type": "code",
      "source": [
        "def two_string_words(text):\n",
        "  wordlist = text.split()\n",
        "  return wordlist[0][0]== wordlist[1][0]\n"
      ],
      "metadata": {
        "id": "MlppJ7oLi2q3"
      },
      "execution_count": 17,
      "outputs": []
    },
    {
      "cell_type": "code",
      "source": [
        "two_string_words('Dinesh kumar')"
      ],
      "metadata": {
        "colab": {
          "base_uri": "https://localhost:8080/"
        },
        "id": "oal7ivXRmDIc",
        "outputId": "9adaceb6-306d-4e99-94dc-3b19c4dc343a"
      },
      "execution_count": 22,
      "outputs": [
        {
          "output_type": "execute_result",
          "data": {
            "text/plain": [
              "False"
            ]
          },
          "metadata": {},
          "execution_count": 22
        }
      ]
    },
    {
      "cell_type": "markdown",
      "source": [
        "\n",
        "MAKES TWENTY: Given two integers, return True if the sum of the integers is 20 or if one of the integers is 20. If not, return False\n",
        "\n",
        "makes_twenty(20,10) --> True\n",
        "makes_twenty(12,8) --> True\n",
        "makes_twenty(2,3) --> False\n",
        "\n"
      ],
      "metadata": {
        "id": "CoctpUSRpUFM"
      }
    },
    {
      "cell_type": "code",
      "source": [
        "def makes_twenty(n1,n2):\n",
        "  if n1==20 or n2==20:\n",
        "    return True\n",
        "  elif n1 + n2 ==20:\n",
        "    return True\n",
        "  else:\n",
        "    return False"
      ],
      "metadata": {
        "id": "UqoU2-2FmGfU"
      },
      "execution_count": 23,
      "outputs": []
    },
    {
      "cell_type": "code",
      "source": [
        "makes_twenty(202,8)"
      ],
      "metadata": {
        "colab": {
          "base_uri": "https://localhost:8080/"
        },
        "id": "87pmjTa3pq4m",
        "outputId": "ce5dd4f7-dac7-48f0-a212-6bcc4259beee"
      },
      "execution_count": 26,
      "outputs": [
        {
          "output_type": "execute_result",
          "data": {
            "text/plain": [
              "False"
            ]
          },
          "metadata": {},
          "execution_count": 26
        }
      ]
    },
    {
      "cell_type": "markdown",
      "source": [
        "OLD MACDONALD: Write a function that capitalizes the first and fourth letters of a name\n",
        "\n",
        "old_macdonald('macdonald') --> MacDonald\n",
        "\n"
      ],
      "metadata": {
        "id": "F4F-YEaIqkbw"
      }
    },
    {
      "cell_type": "code",
      "source": [
        "def old_macdonald(name):\n",
        "  if len(name) > 3:\n",
        "    return name[:3].capitalize() + name[3:].capitalize()  # Capitalize is the function for converting upper case to lower case except First letter\n",
        "  return name"
      ],
      "metadata": {
        "id": "okvA6xbApuWs"
      },
      "execution_count": 40,
      "outputs": []
    },
    {
      "cell_type": "code",
      "source": [
        "old_macdonald('Dinesh')"
      ],
      "metadata": {
        "colab": {
          "base_uri": "https://localhost:8080/",
          "height": 35
        },
        "id": "dCigCz_nq20L",
        "outputId": "e0d16246-08cd-4232-82bf-5d7ac90ede3e"
      },
      "execution_count": 41,
      "outputs": [
        {
          "output_type": "execute_result",
          "data": {
            "text/plain": [
              "'DinEsh'"
            ],
            "application/vnd.google.colaboratory.intrinsic+json": {
              "type": "string"
            }
          },
          "metadata": {},
          "execution_count": 41
        }
      ]
    },
    {
      "cell_type": "markdown",
      "source": [
        "MASTER YODA: Given a sentence, return a sentence with the words reversed\n",
        "\n",
        "master_yoda('I am home') --> 'home am I'\n",
        "master_yoda('We are ready') --> 'ready are We'\n",
        "\n"
      ],
      "metadata": {
        "id": "pUrQ9EOVuIG2"
      }
    },
    {
      "cell_type": "code",
      "source": [
        "def master_yoda(name):\n",
        "  return ' '.join(name.split()[::-1])"
      ],
      "metadata": {
        "id": "sup6wkVXtcI9"
      },
      "execution_count": 42,
      "outputs": []
    },
    {
      "cell_type": "code",
      "source": [
        "master_yoda( 'Back i home')"
      ],
      "metadata": {
        "colab": {
          "base_uri": "https://localhost:8080/",
          "height": 35
        },
        "id": "-adC9SdjvTgH",
        "outputId": "a064d0f1-7380-43eb-eb0a-78476d364628"
      },
      "execution_count": 43,
      "outputs": [
        {
          "output_type": "execute_result",
          "data": {
            "text/plain": [
              "'home i Back'"
            ],
            "application/vnd.google.colaboratory.intrinsic+json": {
              "type": "string"
            }
          },
          "metadata": {},
          "execution_count": 43
        }
      ]
    },
    {
      "cell_type": "markdown",
      "source": [
        "Given a list of ints, return True if the array contains a 3 next to a 3 somewhere.\n",
        "\n",
        "has_33([1, 3, 3]) → True\n",
        "has_33([1, 3, 1, 3]) → False\n",
        "has_33([3, 1, 3]) → False"
      ],
      "metadata": {
        "id": "2WUrlC5l1BJK"
      }
    },
    {
      "cell_type": "code",
      "source": [
        "def has_33(num):\n",
        "  for i in range(0, len(num)-1):\n",
        "    if num[i:i+2]==[3,3]:\n",
        "      return True\n",
        "    return False"
      ],
      "metadata": {
        "id": "VrX6KmUova5q"
      },
      "execution_count": 46,
      "outputs": []
    },
    {
      "cell_type": "code",
      "source": [
        "has_33([1,4,3,3])"
      ],
      "metadata": {
        "colab": {
          "base_uri": "https://localhost:8080/"
        },
        "id": "fLjcOwSL2EgD",
        "outputId": "39bee354-0a56-4fee-e223-f8c51db98825"
      },
      "execution_count": 47,
      "outputs": [
        {
          "output_type": "execute_result",
          "data": {
            "text/plain": [
              "False"
            ]
          },
          "metadata": {},
          "execution_count": 47
        }
      ]
    },
    {
      "cell_type": "code",
      "source": [],
      "metadata": {
        "id": "vmMucb8D2HxJ"
      },
      "execution_count": null,
      "outputs": []
    }
  ]
}