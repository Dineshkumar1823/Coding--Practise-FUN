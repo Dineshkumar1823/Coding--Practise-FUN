{
  "nbformat": 4,
  "nbformat_minor": 0,
  "metadata": {
    "colab": {
      "name": "Practice.ipynb",
      "provenance": [],
      "collapsed_sections": [],
      "authorship_tag": "ABX9TyP4sQnpQMYw8xOSswIb7jDo",
      "include_colab_link": true
    },
    "kernelspec": {
      "name": "python3",
      "display_name": "Python 3"
    },
    "language_info": {
      "name": "python"
    }
  },
  "cells": [
    {
      "cell_type": "markdown",
      "metadata": {
        "id": "view-in-github",
        "colab_type": "text"
      },
      "source": [
        "<a href=\"https://colab.research.google.com/github/Dineshkumar1823/Coding--Practise-FUN/blob/main/Practice.ipynb\" target=\"_parent\"><img src=\"https://colab.research.google.com/assets/colab-badge.svg\" alt=\"Open In Colab\"/></a>"
      ]
    },
    {
      "cell_type": "code",
      "execution_count": null,
      "metadata": {
        "colab": {
          "base_uri": "https://localhost:8080/"
        },
        "id": "LSlr3gN86L7X",
        "outputId": "f7daab89-f293-47d5-f079-ce4f2390fc5c"
      },
      "outputs": [
        {
          "output_type": "execute_result",
          "data": {
            "text/plain": [
              "4"
            ]
          },
          "metadata": {},
          "execution_count": 1
        }
      ],
      "source": [
        "2+2\n"
      ]
    },
    {
      "cell_type": "code",
      "source": [
        "2 - 3"
      ],
      "metadata": {
        "colab": {
          "base_uri": "https://localhost:8080/"
        },
        "id": "soZkKoaz6TXm",
        "outputId": "d23ab73e-056e-4158-d49f-929eb1fd7ee3"
      },
      "execution_count": null,
      "outputs": [
        {
          "output_type": "execute_result",
          "data": {
            "text/plain": [
              "-1"
            ]
          },
          "metadata": {},
          "execution_count": 2
        }
      ]
    },
    {
      "cell_type": "code",
      "source": [
        "2*1"
      ],
      "metadata": {
        "colab": {
          "base_uri": "https://localhost:8080/"
        },
        "id": "alVqXJQi6VVD",
        "outputId": "1e7da773-b113-4afc-d919-73aaa3c12654"
      },
      "execution_count": null,
      "outputs": [
        {
          "output_type": "execute_result",
          "data": {
            "text/plain": [
              "2"
            ]
          },
          "metadata": {},
          "execution_count": 3
        }
      ]
    },
    {
      "cell_type": "code",
      "source": [
        "6/4"
      ],
      "metadata": {
        "colab": {
          "base_uri": "https://localhost:8080/"
        },
        "id": "XwQfugH86Xrc",
        "outputId": "b425a337-8efe-4029-c197-43ce76147027"
      },
      "execution_count": null,
      "outputs": [
        {
          "output_type": "execute_result",
          "data": {
            "text/plain": [
              "1.5"
            ]
          },
          "metadata": {},
          "execution_count": 1
        }
      ]
    },
    {
      "cell_type": "code",
      "source": [
        "6 % 4\n"
      ],
      "metadata": {
        "colab": {
          "base_uri": "https://localhost:8080/"
        },
        "id": "Ua2_-g-Z6ZYU",
        "outputId": "d4dfa7a0-f9b9-4307-8228-fbb847dac1f9"
      },
      "execution_count": null,
      "outputs": [
        {
          "output_type": "execute_result",
          "data": {
            "text/plain": [
              "2"
            ]
          },
          "metadata": {},
          "execution_count": 2
        }
      ]
    },
    {
      "cell_type": "code",
      "source": [
        "2**3"
      ],
      "metadata": {
        "colab": {
          "base_uri": "https://localhost:8080/"
        },
        "id": "H_ak8cCr6ie8",
        "outputId": "8d898e86-0aa1-40e9-ae9e-fbb926d42513"
      },
      "execution_count": null,
      "outputs": [
        {
          "output_type": "execute_result",
          "data": {
            "text/plain": [
              "8"
            ]
          },
          "metadata": {},
          "execution_count": 6
        }
      ]
    },
    {
      "cell_type": "code",
      "source": [
        "a =4\n"
      ],
      "metadata": {
        "id": "-kphm4tS6xjE"
      },
      "execution_count": null,
      "outputs": []
    },
    {
      "cell_type": "code",
      "source": [
        "a"
      ],
      "metadata": {
        "colab": {
          "base_uri": "https://localhost:8080/"
        },
        "id": "Ltq63CUb-IIY",
        "outputId": "81ec1ec5-fca0-4501-d986-b226bc232296"
      },
      "execution_count": null,
      "outputs": [
        {
          "output_type": "execute_result",
          "data": {
            "text/plain": [
              "4"
            ]
          },
          "metadata": {},
          "execution_count": 8
        }
      ]
    },
    {
      "cell_type": "code",
      "source": [
        "a=a+a"
      ],
      "metadata": {
        "id": "25wmiEJy-Ivj"
      },
      "execution_count": null,
      "outputs": []
    },
    {
      "cell_type": "code",
      "source": [
        "a"
      ],
      "metadata": {
        "colab": {
          "base_uri": "https://localhost:8080/"
        },
        "id": "wcGsHAk0-L_k",
        "outputId": "c3bc7807-4d71-4bec-e398-142b974e1f4c"
      },
      "execution_count": null,
      "outputs": [
        {
          "output_type": "execute_result",
          "data": {
            "text/plain": [
              "32"
            ]
          },
          "metadata": {},
          "execution_count": 14
        }
      ]
    },
    {
      "cell_type": "code",
      "source": [
        "type(a)"
      ],
      "metadata": {
        "colab": {
          "base_uri": "https://localhost:8080/"
        },
        "id": "ltTq0Gvw-Npw",
        "outputId": "2e2b63f2-214c-4251-a7f4-d03c87c4a0c1"
      },
      "execution_count": null,
      "outputs": [
        {
          "output_type": "execute_result",
          "data": {
            "text/plain": [
              "int"
            ]
          },
          "metadata": {},
          "execution_count": 15
        }
      ]
    },
    {
      "cell_type": "code",
      "source": [
        "my_string = \"Hello world\""
      ],
      "metadata": {
        "id": "nWUY6S0L-Vqk"
      },
      "execution_count": null,
      "outputs": []
    },
    {
      "cell_type": "code",
      "source": [
        "len(my_string)"
      ],
      "metadata": {
        "colab": {
          "base_uri": "https://localhost:8080/"
        },
        "id": "g1PcEcJjCQ-m",
        "outputId": "6815239c-2159-4055-e6d5-8d2bdb199861"
      },
      "execution_count": null,
      "outputs": [
        {
          "output_type": "execute_result",
          "data": {
            "text/plain": [
              "11"
            ]
          },
          "metadata": {},
          "execution_count": 20
        }
      ]
    },
    {
      "cell_type": "code",
      "source": [
        "my_string[-1]"
      ],
      "metadata": {
        "colab": {
          "base_uri": "https://localhost:8080/",
          "height": 35
        },
        "id": "bWpj9Uv4CUGy",
        "outputId": "b73465bd-7e5b-4494-d1fc-3926b0c6e37a"
      },
      "execution_count": null,
      "outputs": [
        {
          "output_type": "execute_result",
          "data": {
            "text/plain": [
              "'d'"
            ],
            "application/vnd.google.colaboratory.intrinsic+json": {
              "type": "string"
            }
          },
          "metadata": {},
          "execution_count": 22
        }
      ]
    },
    {
      "cell_type": "code",
      "source": [
        "my_string = 'abcdefghij'"
      ],
      "metadata": {
        "id": "8zxZjR4NCwBl"
      },
      "execution_count": null,
      "outputs": []
    },
    {
      "cell_type": "code",
      "source": [
        "my_string[:5]"
      ],
      "metadata": {
        "colab": {
          "base_uri": "https://localhost:8080/",
          "height": 35
        },
        "id": "Qo0W068wF94V",
        "outputId": "790ca12f-4887-45b1-fdb3-8f03de1b651e"
      },
      "execution_count": null,
      "outputs": [
        {
          "output_type": "execute_result",
          "data": {
            "text/plain": [
              "'abcde'"
            ],
            "application/vnd.google.colaboratory.intrinsic+json": {
              "type": "string"
            }
          },
          "metadata": {},
          "execution_count": 49
        }
      ]
    },
    {
      "cell_type": "code",
      "source": [
        "name = \"Dinesh\""
      ],
      "metadata": {
        "id": "SlIXEzFIGJDs"
      },
      "execution_count": null,
      "outputs": []
    },
    {
      "cell_type": "code",
      "source": [
        "last_letter = name[1:]"
      ],
      "metadata": {
        "id": "xlRdgZWNIc7G"
      },
      "execution_count": null,
      "outputs": []
    },
    {
      "cell_type": "code",
      "source": [
        "'P' + last_letter"
      ],
      "metadata": {
        "colab": {
          "base_uri": "https://localhost:8080/",
          "height": 35
        },
        "id": "eLe4yLbLIgvu",
        "outputId": "a1eaa9eb-9c41-423a-aba9-cadd18c4826c"
      },
      "execution_count": null,
      "outputs": [
        {
          "output_type": "execute_result",
          "data": {
            "text/plain": [
              "'Pinesh'"
            ],
            "application/vnd.google.colaboratory.intrinsic+json": {
              "type": "string"
            }
          },
          "metadata": {},
          "execution_count": 42
        }
      ]
    },
    {
      "cell_type": "code",
      "source": [
        "name"
      ],
      "metadata": {
        "colab": {
          "base_uri": "https://localhost:8080/",
          "height": 35
        },
        "id": "VFCvO-oMKj-t",
        "outputId": "9f332fd2-4539-4d0c-d848-0a839b7e3bea"
      },
      "execution_count": null,
      "outputs": [
        {
          "output_type": "execute_result",
          "data": {
            "text/plain": [
              "'Dinesh'"
            ],
            "application/vnd.google.colaboratory.intrinsic+json": {
              "type": "string"
            }
          },
          "metadata": {},
          "execution_count": 46
        }
      ]
    },
    {
      "cell_type": "code",
      "source": [
        "name.split('i')"
      ],
      "metadata": {
        "colab": {
          "base_uri": "https://localhost:8080/"
        },
        "id": "GHmrQpwkKmzh",
        "outputId": "0763ddb2-1084-4bc1-c284-1e721af67910"
      },
      "execution_count": null,
      "outputs": [
        {
          "output_type": "execute_result",
          "data": {
            "text/plain": [
              "['D', 'nesh']"
            ]
          },
          "metadata": {},
          "execution_count": 48
        }
      ]
    },
    {
      "cell_type": "code",
      "source": [
        "print(\"My name is Dinesh\")"
      ],
      "metadata": {
        "colab": {
          "base_uri": "https://localhost:8080/"
        },
        "id": "j70LpkvhK6d4",
        "outputId": "d080ff67-fac7-4740-9e47-ebcaa21d16dc"
      },
      "execution_count": null,
      "outputs": [
        {
          "output_type": "stream",
          "name": "stdout",
          "text": [
            "My name is Dinesh\n"
          ]
        }
      ]
    },
    {
      "cell_type": "code",
      "source": [
        "print(\"My name is Dinesh {}\".format('Kumar'))"
      ],
      "metadata": {
        "colab": {
          "base_uri": "https://localhost:8080/"
        },
        "id": "fYeaSQ-3O-C3",
        "outputId": "f81111f6-0010-468d-d408-0cf167ebedce"
      },
      "execution_count": null,
      "outputs": [
        {
          "output_type": "stream",
          "name": "stdout",
          "text": [
            "My name is Dinesh Kumar\n"
          ]
        }
      ]
    },
    {
      "cell_type": "code",
      "source": [
        "print(\"My name is {1} {0}\".format('Dinesh', 'Kumar'))"
      ],
      "metadata": {
        "colab": {
          "base_uri": "https://localhost:8080/"
        },
        "id": "XBglcJAyPJ2k",
        "outputId": "4f4f6a11-a111-4b69-a679-ba88da61c048"
      },
      "execution_count": null,
      "outputs": [
        {
          "output_type": "stream",
          "name": "stdout",
          "text": [
            "My name is Kumar Dinesh\n"
          ]
        }
      ]
    },
    {
      "cell_type": "code",
      "source": [
        "print(\"My name is {d} {k}\".format(d='Dinesh', k='Kumar'))"
      ],
      "metadata": {
        "colab": {
          "base_uri": "https://localhost:8080/"
        },
        "id": "HtUjtuPbPaa-",
        "outputId": "5b47c41f-8c61-4f40-9490-1b1566abb558"
      },
      "execution_count": null,
      "outputs": [
        {
          "output_type": "stream",
          "name": "stdout",
          "text": [
            "My name is Dinesh Kumar\n"
          ]
        }
      ]
    },
    {
      "cell_type": "code",
      "source": [
        "result = 104.5879654"
      ],
      "metadata": {
        "id": "hKW_YVQcQQQl"
      },
      "execution_count": null,
      "outputs": []
    },
    {
      "cell_type": "code",
      "source": [
        "print(\"The result was {r:1.2f}\".format(r='result'))"
      ],
      "metadata": {
        "colab": {
          "base_uri": "https://localhost:8080/",
          "height": 170
        },
        "id": "SJisZ5pLRlaA",
        "outputId": "973df48e-18c3-4dea-a3cd-87ae02f15bde"
      },
      "execution_count": null,
      "outputs": [
        {
          "output_type": "error",
          "ename": "ValueError",
          "evalue": "ignored",
          "traceback": [
            "\u001b[0;31m---------------------------------------------------------------------------\u001b[0m",
            "\u001b[0;31mValueError\u001b[0m                                Traceback (most recent call last)",
            "\u001b[0;32m<ipython-input-61-0c839a7001a7>\u001b[0m in \u001b[0;36m<module>\u001b[0;34m()\u001b[0m\n\u001b[0;32m----> 1\u001b[0;31m \u001b[0mprint\u001b[0m\u001b[0;34m(\u001b[0m\u001b[0;34m\"The result was {r:1.2f}\"\u001b[0m\u001b[0;34m.\u001b[0m\u001b[0mformat\u001b[0m\u001b[0;34m(\u001b[0m\u001b[0mr\u001b[0m\u001b[0;34m=\u001b[0m\u001b[0;34m'result'\u001b[0m\u001b[0;34m)\u001b[0m\u001b[0;34m)\u001b[0m\u001b[0;34m\u001b[0m\u001b[0;34m\u001b[0m\u001b[0m\n\u001b[0m",
            "\u001b[0;31mValueError\u001b[0m: Unknown format code 'f' for object of type 'str'"
          ]
        }
      ]
    },
    {
      "cell_type": "code",
      "source": [
        "my_list = ['one',4444,'dinesh']\n"
      ],
      "metadata": {
        "id": "uW9IjDinRsoj"
      },
      "execution_count": null,
      "outputs": []
    },
    {
      "cell_type": "code",
      "source": [
        "my_list"
      ],
      "metadata": {
        "colab": {
          "base_uri": "https://localhost:8080/"
        },
        "id": "lEHw6gijnUYt",
        "outputId": "863530ad-1d9f-4994-f5a6-99dc783793e0"
      },
      "execution_count": null,
      "outputs": [
        {
          "output_type": "execute_result",
          "data": {
            "text/plain": [
              "['one', 4444, 'dinesh']"
            ]
          },
          "metadata": {},
          "execution_count": 3
        }
      ]
    },
    {
      "cell_type": "markdown",
      "source": [
        "LIST are Mutable"
      ],
      "metadata": {
        "id": "UKwheGDCn9SO"
      }
    },
    {
      "cell_type": "code",
      "source": [
        "my_list[1] = '555'"
      ],
      "metadata": {
        "id": "w-YeRg1bnWe1"
      },
      "execution_count": null,
      "outputs": []
    },
    {
      "cell_type": "code",
      "source": [
        "my_list"
      ],
      "metadata": {
        "colab": {
          "base_uri": "https://localhost:8080/"
        },
        "id": "hU2Pqi12neYe",
        "outputId": "50a06fb4-12fb-445a-8f58-5f8b49276806"
      },
      "execution_count": null,
      "outputs": [
        {
          "output_type": "execute_result",
          "data": {
            "text/plain": [
              "['one', '555', 'dinesh']"
            ]
          },
          "metadata": {},
          "execution_count": 6
        }
      ]
    },
    {
      "cell_type": "code",
      "source": [
        "next_list = ['dani', 665,55.5]"
      ],
      "metadata": {
        "id": "AHqn6XVCnixz"
      },
      "execution_count": null,
      "outputs": []
    },
    {
      "cell_type": "markdown",
      "source": [
        "Concadination"
      ],
      "metadata": {
        "id": "muofrZWdn2QN"
      }
    },
    {
      "cell_type": "code",
      "source": [
        "my_list + next_list"
      ],
      "metadata": {
        "colab": {
          "base_uri": "https://localhost:8080/"
        },
        "id": "ZwAM7DqZnqCi",
        "outputId": "e038bd99-3841-4103-fa75-838405daaa43"
      },
      "execution_count": null,
      "outputs": [
        {
          "output_type": "execute_result",
          "data": {
            "text/plain": [
              "['one', '555', 'dinesh', 'dani', 665, 55.5]"
            ]
          },
          "metadata": {},
          "execution_count": 8
        }
      ]
    },
    {
      "cell_type": "code",
      "source": [
        "my_list"
      ],
      "metadata": {
        "colab": {
          "base_uri": "https://localhost:8080/"
        },
        "id": "729AiesgntUF",
        "outputId": "d5408f07-0682-4ffe-c68c-22b0de3124e2"
      },
      "execution_count": null,
      "outputs": [
        {
          "output_type": "execute_result",
          "data": {
            "text/plain": [
              "['one', '555', 'dinesh']"
            ]
          },
          "metadata": {},
          "execution_count": 9
        }
      ]
    },
    {
      "cell_type": "code",
      "source": [
        "my_list.append('dk')"
      ],
      "metadata": {
        "id": "wVgx190Ap83z"
      },
      "execution_count": null,
      "outputs": []
    },
    {
      "cell_type": "code",
      "source": [
        "my_list.pop(-1)\n"
      ],
      "metadata": {
        "colab": {
          "base_uri": "https://localhost:8080/",
          "height": 35
        },
        "id": "h8LV702PqCWA",
        "outputId": "9b0ba164-0820-4872-c134-0efad4b47999"
      },
      "execution_count": null,
      "outputs": [
        {
          "output_type": "execute_result",
          "data": {
            "text/plain": [
              "'dk'"
            ],
            "application/vnd.google.colaboratory.intrinsic+json": {
              "type": "string"
            }
          },
          "metadata": {},
          "execution_count": 20
        }
      ]
    },
    {
      "cell_type": "code",
      "source": [
        "my_list.sort()"
      ],
      "metadata": {
        "id": "eaANq27hqFNS"
      },
      "execution_count": null,
      "outputs": []
    },
    {
      "cell_type": "code",
      "source": [
        "my_list"
      ],
      "metadata": {
        "colab": {
          "base_uri": "https://localhost:8080/"
        },
        "id": "6xmVqehsqavt",
        "outputId": "b1b1bff7-10ba-443d-8e25-5a8437ce094d"
      },
      "execution_count": null,
      "outputs": [
        {
          "output_type": "execute_result",
          "data": {
            "text/plain": [
              "['555', 'dinesh', 'dk']"
            ]
          },
          "metadata": {},
          "execution_count": 22
        }
      ]
    },
    {
      "cell_type": "code",
      "source": [
        "my_list.reverse()"
      ],
      "metadata": {
        "id": "eyhvtAieqcaf"
      },
      "execution_count": null,
      "outputs": []
    },
    {
      "cell_type": "code",
      "source": [
        "my_list"
      ],
      "metadata": {
        "colab": {
          "base_uri": "https://localhost:8080/"
        },
        "id": "dIZi9YWzq1N-",
        "outputId": "98e1b1e8-5c87-4bdb-a1c3-8ed752d28529"
      },
      "execution_count": null,
      "outputs": [
        {
          "output_type": "execute_result",
          "data": {
            "text/plain": [
              "['dk', 'dinesh', '555']"
            ]
          },
          "metadata": {},
          "execution_count": 24
        }
      ]
    },
    {
      "cell_type": "markdown",
      "source": [
        "DICTONARIES"
      ],
      "metadata": {
        "id": "ppK2LO02vCNT"
      }
    },
    {
      "cell_type": "code",
      "source": [
        "price_lookup = {'orange': 66,'mango': 55,'Banana':77}"
      ],
      "metadata": {
        "id": "ClSK880kq2bg"
      },
      "execution_count": null,
      "outputs": []
    },
    {
      "cell_type": "code",
      "source": [
        "price_lookup['mango']"
      ],
      "metadata": {
        "colab": {
          "base_uri": "https://localhost:8080/"
        },
        "id": "k8X-WtQMvWpW",
        "outputId": "d28c0bbc-6b14-42ee-f4ce-af3ad55b5949"
      },
      "execution_count": null,
      "outputs": [
        {
          "output_type": "execute_result",
          "data": {
            "text/plain": [
              "55"
            ]
          },
          "metadata": {},
          "execution_count": 28
        }
      ]
    },
    {
      "cell_type": "code",
      "source": [
        "new_dict = {'d1':456,'d2':[2,4,5],'d3':{'orange': 66,'mango': 55,'Banana':77}}"
      ],
      "metadata": {
        "id": "d6hjoHosvay_"
      },
      "execution_count": null,
      "outputs": []
    },
    {
      "cell_type": "code",
      "source": [
        "new_dict['d3']['mango']"
      ],
      "metadata": {
        "colab": {
          "base_uri": "https://localhost:8080/"
        },
        "id": "znpdvk-NxeJC",
        "outputId": "11115dc3-7697-457d-e195-71a56ed7aa17"
      },
      "execution_count": null,
      "outputs": [
        {
          "output_type": "execute_result",
          "data": {
            "text/plain": [
              "55"
            ]
          },
          "metadata": {},
          "execution_count": 34
        }
      ]
    },
    {
      "cell_type": "code",
      "source": [
        "create_dict = {'apple':33,'Game':'cricket'}"
      ],
      "metadata": {
        "id": "5W3A4KcBxjRn"
      },
      "execution_count": null,
      "outputs": []
    },
    {
      "cell_type": "code",
      "source": [
        "create_dict['Game']='Football'"
      ],
      "metadata": {
        "id": "ChU4bNw1y-N_"
      },
      "execution_count": null,
      "outputs": []
    },
    {
      "cell_type": "code",
      "source": [
        "create_dict['Game']"
      ],
      "metadata": {
        "colab": {
          "base_uri": "https://localhost:8080/",
          "height": 35
        },
        "id": "UBNS2l7GzDr6",
        "outputId": "559af586-e56c-428a-8b5f-30d450d5ef20"
      },
      "execution_count": null,
      "outputs": [
        {
          "output_type": "execute_result",
          "data": {
            "text/plain": [
              "'Football'"
            ],
            "application/vnd.google.colaboratory.intrinsic+json": {
              "type": "string"
            }
          },
          "metadata": {},
          "execution_count": 39
        }
      ]
    },
    {
      "cell_type": "code",
      "source": [
        "create_dict['song']='Raja'"
      ],
      "metadata": {
        "id": "1XEqodPPzPFO"
      },
      "execution_count": null,
      "outputs": []
    },
    {
      "cell_type": "code",
      "source": [
        "create_dict\n"
      ],
      "metadata": {
        "colab": {
          "base_uri": "https://localhost:8080/"
        },
        "id": "Mn2g0FfMzfrO",
        "outputId": "7f8e1cc0-0481-4622-ac35-ed217a8d92ba"
      },
      "execution_count": null,
      "outputs": [
        {
          "output_type": "execute_result",
          "data": {
            "text/plain": [
              "{'apple': 33, 'Game': 'Football', 'song': 'Raja'}"
            ]
          },
          "metadata": {},
          "execution_count": 43
        }
      ]
    },
    {
      "cell_type": "code",
      "source": [
        "create_dict['Game'].upper()"
      ],
      "metadata": {
        "colab": {
          "base_uri": "https://localhost:8080/",
          "height": 35
        },
        "id": "099XZTSezhRH",
        "outputId": "521d03d4-6d41-4e45-9a1a-35bffbce8b52"
      },
      "execution_count": null,
      "outputs": [
        {
          "output_type": "execute_result",
          "data": {
            "text/plain": [
              "'FOOTBALL'"
            ],
            "application/vnd.google.colaboratory.intrinsic+json": {
              "type": "string"
            }
          },
          "metadata": {},
          "execution_count": 45
        }
      ]
    },
    {
      "cell_type": "code",
      "source": [
        "create_dict.keys()"
      ],
      "metadata": {
        "colab": {
          "base_uri": "https://localhost:8080/"
        },
        "id": "I8dMypYl0Lc3",
        "outputId": "e51d686d-1d22-4e4e-c054-0af773fc0f43"
      },
      "execution_count": null,
      "outputs": [
        {
          "output_type": "execute_result",
          "data": {
            "text/plain": [
              "dict_keys(['apple', 'Game', 'song'])"
            ]
          },
          "metadata": {},
          "execution_count": 46
        }
      ]
    },
    {
      "cell_type": "code",
      "source": [
        "create_dict.values()"
      ],
      "metadata": {
        "colab": {
          "base_uri": "https://localhost:8080/"
        },
        "id": "cB-OzROD0SRj",
        "outputId": "5e8259fb-b847-475d-b4e1-359e2a5b3207"
      },
      "execution_count": null,
      "outputs": [
        {
          "output_type": "execute_result",
          "data": {
            "text/plain": [
              "dict_values([33, 'Football', 'Raja'])"
            ]
          },
          "metadata": {},
          "execution_count": 47
        }
      ]
    },
    {
      "cell_type": "code",
      "source": [
        "create_dict.items()"
      ],
      "metadata": {
        "colab": {
          "base_uri": "https://localhost:8080/"
        },
        "id": "QMCxHzew0UWt",
        "outputId": "0a962c86-bca7-4c6b-bfa8-6fd9a0fef3dc"
      },
      "execution_count": null,
      "outputs": [
        {
          "output_type": "execute_result",
          "data": {
            "text/plain": [
              "dict_items([('apple', 33), ('Game', 'Football'), ('song', 'Raja')])"
            ]
          },
          "metadata": {},
          "execution_count": 49
        }
      ]
    },
    {
      "cell_type": "markdown",
      "source": [
        "TUPLE"
      ],
      "metadata": {
        "id": "3wHq1lET26ge"
      }
    },
    {
      "cell_type": "code",
      "source": [
        "new_tup = ('apple',444)"
      ],
      "metadata": {
        "id": "-aoPIVEM0WoO"
      },
      "execution_count": null,
      "outputs": []
    },
    {
      "cell_type": "code",
      "source": [
        "type(new_tup)"
      ],
      "metadata": {
        "colab": {
          "base_uri": "https://localhost:8080/"
        },
        "id": "A8zNt-R43DBt",
        "outputId": "1fc3da26-22af-443f-c709-d96090568957"
      },
      "execution_count": null,
      "outputs": [
        {
          "output_type": "execute_result",
          "data": {
            "text/plain": [
              "tuple"
            ]
          },
          "metadata": {},
          "execution_count": 53
        }
      ]
    },
    {
      "cell_type": "markdown",
      "source": [
        "SETS"
      ],
      "metadata": {
        "id": "tnCKePQ348ZF"
      }
    },
    {
      "cell_type": "code",
      "source": [
        "my_set=set()"
      ],
      "metadata": {
        "id": "kpKpEwtg3GgX"
      },
      "execution_count": null,
      "outputs": []
    },
    {
      "cell_type": "code",
      "source": [
        "my_set"
      ],
      "metadata": {
        "colab": {
          "base_uri": "https://localhost:8080/"
        },
        "id": "nBGOj_lD5DbI",
        "outputId": "7ec6e337-1962-41e2-c51c-dc9f14b44b26"
      },
      "execution_count": null,
      "outputs": [
        {
          "output_type": "execute_result",
          "data": {
            "text/plain": [
              "set()"
            ]
          },
          "metadata": {},
          "execution_count": 61
        }
      ]
    },
    {
      "cell_type": "code",
      "source": [
        "my_set.add(444)\n",
        "my_set"
      ],
      "metadata": {
        "colab": {
          "base_uri": "https://localhost:8080/"
        },
        "id": "XGgHjdGL5GKb",
        "outputId": "7c3fb0da-daa6-4922-80b1-a82bf274b90f"
      },
      "execution_count": null,
      "outputs": [
        {
          "output_type": "execute_result",
          "data": {
            "text/plain": [
              "{3, 444, 355555}"
            ]
          },
          "metadata": {},
          "execution_count": 78
        }
      ]
    },
    {
      "cell_type": "code",
      "source": [
        "My_sample = my_set"
      ],
      "metadata": {
        "id": "C-Pb4gWg5Y7q"
      },
      "execution_count": null,
      "outputs": []
    },
    {
      "cell_type": "code",
      "source": [
        ""
      ],
      "metadata": {
        "id": "a_b2focE5p-2"
      },
      "execution_count": null,
      "outputs": []
    },
    {
      "cell_type": "code",
      "source": [
        "set(My_sample)"
      ],
      "metadata": {
        "colab": {
          "base_uri": "https://localhost:8080/"
        },
        "id": "NFRR6uJy5tvJ",
        "outputId": "32dc9d43-0da4-4215-c86c-7be9b9fde52b"
      },
      "execution_count": null,
      "outputs": [
        {
          "output_type": "execute_result",
          "data": {
            "text/plain": [
              "{1, 2, 3, 6, 57, 435, 565, 757, 75757}"
            ]
          },
          "metadata": {},
          "execution_count": 82
        }
      ]
    },
    {
      "cell_type": "code",
      "source": [
        "%%writefile my_new_file.txt\n",
        "One of the Best\n",
        "Find the Solution\n",
        "Find the Path"
      ],
      "metadata": {
        "id": "MMRbKqH46OTw",
        "colab": {
          "base_uri": "https://localhost:8080/"
        },
        "outputId": "2fc343db-4ad0-4f24-b75b-44b18acbdaa6"
      },
      "execution_count": null,
      "outputs": [
        {
          "output_type": "stream",
          "name": "stdout",
          "text": [
            "Writing my_new_file.txt\n"
          ]
        }
      ]
    },
    {
      "cell_type": "code",
      "source": [
        "myfile = open('my_new_file.txt')"
      ],
      "metadata": {
        "id": "t9CWeO-B1EXW"
      },
      "execution_count": null,
      "outputs": []
    },
    {
      "cell_type": "code",
      "source": [
        "pwd"
      ],
      "metadata": {
        "colab": {
          "base_uri": "https://localhost:8080/",
          "height": 35
        },
        "id": "7xMVN1QF1IQn",
        "outputId": "1f13e2d5-ec59-4689-b824-853e5e7b6dd6"
      },
      "execution_count": null,
      "outputs": [
        {
          "output_type": "execute_result",
          "data": {
            "text/plain": [
              "'/content'"
            ],
            "application/vnd.google.colaboratory.intrinsic+json": {
              "type": "string"
            }
          },
          "metadata": {},
          "execution_count": 13
        }
      ]
    },
    {
      "cell_type": "code",
      "source": [
        "myfile.read()"
      ],
      "metadata": {
        "colab": {
          "base_uri": "https://localhost:8080/",
          "height": 35
        },
        "id": "ccxubAv73nn7",
        "outputId": "ba952f73-17ad-4de7-822d-102959ad190d"
      },
      "execution_count": null,
      "outputs": [
        {
          "output_type": "execute_result",
          "data": {
            "text/plain": [
              "'One of the Best\\nFind the Solution\\nFind the Path\\n'"
            ],
            "application/vnd.google.colaboratory.intrinsic+json": {
              "type": "string"
            }
          },
          "metadata": {},
          "execution_count": 15
        }
      ]
    },
    {
      "cell_type": "code",
      "source": [
        "myfile.read()"
      ],
      "metadata": {
        "colab": {
          "base_uri": "https://localhost:8080/",
          "height": 35
        },
        "id": "0D8xnxo231F5",
        "outputId": "bb1b9962-1df8-420c-e2db-8f616d56fcf1"
      },
      "execution_count": null,
      "outputs": [
        {
          "output_type": "execute_result",
          "data": {
            "text/plain": [
              "''"
            ],
            "application/vnd.google.colaboratory.intrinsic+json": {
              "type": "string"
            }
          },
          "metadata": {},
          "execution_count": 16
        }
      ]
    },
    {
      "cell_type": "code",
      "source": [
        "myfile.seek(0)"
      ],
      "metadata": {
        "colab": {
          "base_uri": "https://localhost:8080/"
        },
        "id": "N2rgq_il4BLA",
        "outputId": "8a73a5a5-2b09-4ffa-dd65-c8c50ea02b12"
      },
      "execution_count": null,
      "outputs": [
        {
          "output_type": "execute_result",
          "data": {
            "text/plain": [
              "0"
            ]
          },
          "metadata": {},
          "execution_count": 18
        }
      ]
    },
    {
      "cell_type": "code",
      "source": [
        "myfile.read()"
      ],
      "metadata": {
        "colab": {
          "base_uri": "https://localhost:8080/",
          "height": 35
        },
        "id": "DlgsIwCt4Ejo",
        "outputId": "91dbc6be-99d8-41af-f8c7-5c1543668f5c"
      },
      "execution_count": null,
      "outputs": [
        {
          "output_type": "execute_result",
          "data": {
            "text/plain": [
              "'One of the Best\\nFind the Solution\\nFind the Path\\n'"
            ],
            "application/vnd.google.colaboratory.intrinsic+json": {
              "type": "string"
            }
          },
          "metadata": {},
          "execution_count": 19
        }
      ]
    },
    {
      "cell_type": "code",
      "source": [
        "myfile.seek(0)"
      ],
      "metadata": {
        "colab": {
          "base_uri": "https://localhost:8080/"
        },
        "id": "8MAvcg0z4IVQ",
        "outputId": "b0d76a8a-c922-4623-98b2-44a38b4454e1"
      },
      "execution_count": null,
      "outputs": [
        {
          "output_type": "execute_result",
          "data": {
            "text/plain": [
              "0"
            ]
          },
          "metadata": {},
          "execution_count": 21
        }
      ]
    },
    {
      "cell_type": "code",
      "source": [
        "myfile.readlines( )\n"
      ],
      "metadata": {
        "colab": {
          "base_uri": "https://localhost:8080/"
        },
        "id": "Zy3wruBx4U0e",
        "outputId": "f1c72173-2d43-47b4-cbe9-d11485ad0302"
      },
      "execution_count": null,
      "outputs": [
        {
          "output_type": "execute_result",
          "data": {
            "text/plain": [
              "[]"
            ]
          },
          "metadata": {},
          "execution_count": 24
        }
      ]
    },
    {
      "cell_type": "code",
      "source": [
        "list1=[1,2,[3,4,'hello']]"
      ],
      "metadata": {
        "id": "OOmut8iU4aT4"
      },
      "execution_count": null,
      "outputs": []
    },
    {
      "cell_type": "code",
      "source": [
        "list1[2][-1]='Goodbye'"
      ],
      "metadata": {
        "id": "LpG9M107_B1l"
      },
      "execution_count": null,
      "outputs": []
    },
    {
      "cell_type": "code",
      "source": [
        "list1"
      ],
      "metadata": {
        "colab": {
          "base_uri": "https://localhost:8080/"
        },
        "id": "I8ojQe9y_M4u",
        "outputId": "0a30b57a-6330-4018-aded-4a38e366e82d"
      },
      "execution_count": null,
      "outputs": [
        {
          "output_type": "execute_result",
          "data": {
            "text/plain": [
              "[1, 2, [3, 4, 'Goodbye']]"
            ]
          },
          "metadata": {},
          "execution_count": 27
        }
      ]
    },
    {
      "cell_type": "code",
      "source": [
        "list2=[5,3,4,6,1]"
      ],
      "metadata": {
        "id": "JSk-bcFA_ObQ"
      },
      "execution_count": null,
      "outputs": []
    },
    {
      "cell_type": "code",
      "source": [
        "sorted(list2)"
      ],
      "metadata": {
        "colab": {
          "base_uri": "https://localhost:8080/"
        },
        "id": "HH3FUUQL_bnH",
        "outputId": "076bf764-5a81-4e7d-8b75-6d9ec3f49e01"
      },
      "execution_count": null,
      "outputs": [
        {
          "output_type": "execute_result",
          "data": {
            "text/plain": [
              "[1, 3, 4, 5, 6]"
            ]
          },
          "metadata": {},
          "execution_count": 31
        }
      ]
    },
    {
      "cell_type": "code",
      "source": [
        "d = {'k1':[1,2,{'k2':['this is tricky',{'tough':[1,2,['hello']]}]}]}"
      ],
      "metadata": {
        "id": "kJClDGn3_eOQ"
      },
      "execution_count": null,
      "outputs": []
    },
    {
      "cell_type": "code",
      "source": [
        "d['k1'][-1]['k2'][1]['tough'][-1][0]"
      ],
      "metadata": {
        "colab": {
          "base_uri": "https://localhost:8080/",
          "height": 35
        },
        "id": "Qg0T1WBF_fq3",
        "outputId": "13485e6b-1e79-4f94-a11b-8ee1178ac219"
      },
      "execution_count": null,
      "outputs": [
        {
          "output_type": "execute_result",
          "data": {
            "text/plain": [
              "'hello'"
            ],
            "application/vnd.google.colaboratory.intrinsic+json": {
              "type": "string"
            }
          },
          "metadata": {},
          "execution_count": 54
        }
      ]
    },
    {
      "cell_type": "code",
      "source": [
        "list5 = [1,2,2,33,4,4,11,22,3,3,2]"
      ],
      "metadata": {
        "id": "Y2j5ADcQ_5DZ"
      },
      "execution_count": null,
      "outputs": []
    },
    {
      "cell_type": "code",
      "source": [
        "set(list5)"
      ],
      "metadata": {
        "colab": {
          "base_uri": "https://localhost:8080/"
        },
        "id": "7hQ9TXXYCy9a",
        "outputId": "791f3fb5-1b75-4baf-ce31-e8399a2bb061"
      },
      "execution_count": null,
      "outputs": [
        {
          "output_type": "execute_result",
          "data": {
            "text/plain": [
              "{1, 2, 3, 4, 11, 22, 33}"
            ]
          },
          "metadata": {},
          "execution_count": 56
        }
      ]
    },
    {
      "cell_type": "markdown",
      "source": [
        "COMPARISON OPERATOR"
      ],
      "metadata": {
        "id": "Z45Mz-wfqagT"
      }
    },
    {
      "cell_type": "code",
      "source": [
        "2>=8"
      ],
      "metadata": {
        "id": "ApiA4GV-C50Y",
        "colab": {
          "base_uri": "https://localhost:8080/"
        },
        "outputId": "86ab7213-d2b0-404e-bd9b-774f566414b9"
      },
      "execution_count": null,
      "outputs": [
        {
          "output_type": "execute_result",
          "data": {
            "text/plain": [
              "False"
            ]
          },
          "metadata": {},
          "execution_count": 5
        }
      ]
    },
    {
      "cell_type": "code",
      "source": [
        "2==2"
      ],
      "metadata": {
        "colab": {
          "base_uri": "https://localhost:8080/"
        },
        "id": "FUc8X2kIqLfU",
        "outputId": "c5eadc0b-0fba-429f-80bb-5b2e5e147f1d"
      },
      "execution_count": null,
      "outputs": [
        {
          "output_type": "execute_result",
          "data": {
            "text/plain": [
              "True"
            ]
          },
          "metadata": {},
          "execution_count": 6
        }
      ]
    },
    {
      "cell_type": "code",
      "source": [
        "2<3"
      ],
      "metadata": {
        "colab": {
          "base_uri": "https://localhost:8080/"
        },
        "id": "PCnXAtRgqhfH",
        "outputId": "c8269591-018d-4bf1-f5c6-11295549babb"
      },
      "execution_count": null,
      "outputs": [
        {
          "output_type": "execute_result",
          "data": {
            "text/plain": [
              "True"
            ]
          },
          "metadata": {},
          "execution_count": 7
        }
      ]
    },
    {
      "cell_type": "code",
      "source": [
        "'D'=='D' and 2 >=2"
      ],
      "metadata": {
        "colab": {
          "base_uri": "https://localhost:8080/"
        },
        "id": "-uCXa8EwqjDj",
        "outputId": "68efed48-a4eb-449c-dbcd-cf8a90df85e6"
      },
      "execution_count": null,
      "outputs": [
        {
          "output_type": "execute_result",
          "data": {
            "text/plain": [
              "True"
            ]
          },
          "metadata": {},
          "execution_count": 12
        }
      ]
    },
    {
      "cell_type": "code",
      "source": [
        "3==3 or 4>4"
      ],
      "metadata": {
        "colab": {
          "base_uri": "https://localhost:8080/"
        },
        "id": "WnFxZaxqr8qF",
        "outputId": "cc14b74d-1445-4fc2-fef6-1a1e45126d7c"
      },
      "execution_count": null,
      "outputs": [
        {
          "output_type": "execute_result",
          "data": {
            "text/plain": [
              "True"
            ]
          },
          "metadata": {},
          "execution_count": 14
        }
      ]
    },
    {
      "cell_type": "code",
      "source": [
        "not 3==3"
      ],
      "metadata": {
        "colab": {
          "base_uri": "https://localhost:8080/"
        },
        "id": "d6x0hvHttFhj",
        "outputId": "3c175ee6-6019-4658-c7da-0eebe469d9db"
      },
      "execution_count": null,
      "outputs": [
        {
          "output_type": "execute_result",
          "data": {
            "text/plain": [
              "False"
            ]
          },
          "metadata": {},
          "execution_count": 16
        }
      ]
    },
    {
      "cell_type": "markdown",
      "source": [
        "IF,Elif,else Operation\n",
        "      "
      ],
      "metadata": {
        "id": "t4kXlPlvwQaV"
      }
    },
    {
      "cell_type": "code",
      "source": [
        "Reaching_office_Time   = 10.01\n",
        "\n",
        "if Reaching_office_Time <=10:\n",
        "  print('Suceesfully reach the Destination')\n",
        "elif Reaching_office_Time <=10.30:\n",
        "  print(\"Grace_time\")  \n",
        "else:\n",
        "  print('Not Suceesfully reach the Destination')"
      ],
      "metadata": {
        "colab": {
          "base_uri": "https://localhost:8080/"
        },
        "id": "tt_K0W6AtXhd",
        "outputId": "b744767e-c173-499a-9255-e0fd3a677f0f"
      },
      "execution_count": null,
      "outputs": [
        {
          "output_type": "stream",
          "name": "stdout",
          "text": [
            "Grace_time\n"
          ]
        }
      ]
    },
    {
      "cell_type": "code",
      "source": [
        "name ='Dinesh'\n",
        "\n",
        "if name =='Dinesh':\n",
        "  print(\"Hello Dinesh\")\n",
        "elif name =='DK':\n",
        "  print('Hello DK')\n",
        "else:\n",
        "  print('what was your Name')"
      ],
      "metadata": {
        "colab": {
          "base_uri": "https://localhost:8080/"
        },
        "id": "DeV4QWC6xI18",
        "outputId": "ceaae64f-c4f2-4405-e49b-4f448293d7ea"
      },
      "execution_count": null,
      "outputs": [
        {
          "output_type": "stream",
          "name": "stdout",
          "text": [
            "Hello Dinesh\n"
          ]
        }
      ]
    },
    {
      "cell_type": "markdown",
      "source": [
        "FOR Loop"
      ],
      "metadata": {
        "id": "jGmC6Xbl54l5"
      }
    },
    {
      "cell_type": "code",
      "source": [
        "mylist = [1,2,3,4,5,6]"
      ],
      "metadata": {
        "id": "4v3v7LfPzZx_"
      },
      "execution_count": null,
      "outputs": []
    },
    {
      "cell_type": "code",
      "source": [
        "mylist"
      ],
      "metadata": {
        "colab": {
          "base_uri": "https://localhost:8080/"
        },
        "id": "_ZGHoZbP6Cvk",
        "outputId": "9ceab477-aae3-4d64-e6a6-73c7c5aba0b6"
      },
      "execution_count": null,
      "outputs": [
        {
          "output_type": "execute_result",
          "data": {
            "text/plain": [
              "[1, 2, 3, 4, 5, 6]"
            ]
          },
          "metadata": {},
          "execution_count": 33
        }
      ]
    },
    {
      "cell_type": "code",
      "source": [
        "mylist = [1,2,3,4,5,6,7,8,9,10]\n",
        "\n",
        "for num in mylist:\n",
        "  print(f'It was a value:{num}')"
      ],
      "metadata": {
        "colab": {
          "base_uri": "https://localhost:8080/"
        },
        "id": "GQN-Uvui6EfL",
        "outputId": "7157b0ba-470f-42f1-a65c-79028d559c4f"
      },
      "execution_count": null,
      "outputs": [
        {
          "output_type": "stream",
          "name": "stdout",
          "text": [
            "It was a value:1\n",
            "It was a value:2\n",
            "It was a value:3\n",
            "It was a value:4\n",
            "It was a value:5\n",
            "It was a value:6\n",
            "It was a value:7\n",
            "It was a value:8\n",
            "It was a value:9\n",
            "It was a value:10\n"
          ]
        }
      ]
    },
    {
      "cell_type": "code",
      "source": [
        "for mul in mylist:\n",
        "  if mul % 2 ==0:\n",
        "    print(f'It will be even value: {mul}')\n",
        "  else:\n",
        "    print(f'It will be odd value: {mul}')"
      ],
      "metadata": {
        "colab": {
          "base_uri": "https://localhost:8080/"
        },
        "id": "a3DeIy856Tqd",
        "outputId": "007904eb-a2ef-4e28-80cf-a9dceef92e93"
      },
      "execution_count": null,
      "outputs": [
        {
          "output_type": "stream",
          "name": "stdout",
          "text": [
            "It will be odd value: 1\n",
            "It will be even value: 2\n",
            "It will be odd value: 3\n",
            "It will be even value: 4\n",
            "It will be odd value: 5\n",
            "It will be even value: 6\n",
            "It will be odd value: 7\n",
            "It will be even value: 8\n",
            "It will be odd value: 9\n",
            "It will be even value: 10\n"
          ]
        }
      ]
    },
    {
      "cell_type": "code",
      "source": [
        "my_list = 0\n",
        "for mul in mylist:\n",
        "  my_list = my_list + mul \n",
        "print(my_list)\n",
        "\n"
      ],
      "metadata": {
        "colab": {
          "base_uri": "https://localhost:8080/"
        },
        "id": "3FZaqaFq71uY",
        "outputId": "ecdc82ee-8017-4c83-bbd2-5adf3d2e8d49"
      },
      "execution_count": null,
      "outputs": [
        {
          "output_type": "stream",
          "name": "stdout",
          "text": [
            "55\n"
          ]
        }
      ]
    },
    {
      "cell_type": "code",
      "source": [
        "string ='Hello World'\n",
        "\n",
        "for letter in string:\n",
        "  print(string)"
      ],
      "metadata": {
        "colab": {
          "base_uri": "https://localhost:8080/"
        },
        "id": "EVaxSCqzFOwT",
        "outputId": "75ef93f9-577f-4d9e-a84e-55d9b6800a85"
      },
      "execution_count": null,
      "outputs": [
        {
          "output_type": "stream",
          "name": "stdout",
          "text": [
            "Hello World\n",
            "Hello World\n",
            "Hello World\n",
            "Hello World\n",
            "Hello World\n",
            "Hello World\n",
            "Hello World\n",
            "Hello World\n",
            "Hello World\n",
            "Hello World\n",
            "Hello World\n"
          ]
        }
      ]
    },
    {
      "cell_type": "code",
      "source": [
        "tup = (1,2,3,)\n",
        "for lette in tup:\n",
        "  print(lette)"
      ],
      "metadata": {
        "colab": {
          "base_uri": "https://localhost:8080/"
        },
        "id": "J5G2LLddGzPd",
        "outputId": "44a33094-a868-4ff8-b40f-3148f1d087e3"
      },
      "execution_count": null,
      "outputs": [
        {
          "output_type": "stream",
          "name": "stdout",
          "text": [
            "1\n",
            "2\n",
            "3\n"
          ]
        }
      ]
    },
    {
      "cell_type": "code",
      "source": [
        "list_tup =[(1,2,3),(6,7,8),(9,5)]\n",
        "for list in list_tup:\n",
        "  print(list)"
      ],
      "metadata": {
        "colab": {
          "base_uri": "https://localhost:8080/"
        },
        "id": "_CDLwXRsG45j",
        "outputId": "a28d7dba-46f9-460f-957b-386bf6c4416d"
      },
      "execution_count": null,
      "outputs": [
        {
          "output_type": "stream",
          "name": "stdout",
          "text": [
            "(1, 2, 3)\n",
            "(6, 7, 8)\n",
            "(9, 5)\n"
          ]
        }
      ]
    },
    {
      "cell_type": "markdown",
      "source": [
        "Tuple unpacking"
      ],
      "metadata": {
        "id": "S8LxaSzKIh_3"
      }
    },
    {
      "cell_type": "code",
      "source": [
        "list_tup =[(1,2,3),(6,7,8),(9,5,6)]\n",
        "for a,b,c in list_tup:\n",
        "  print(c)"
      ],
      "metadata": {
        "colab": {
          "base_uri": "https://localhost:8080/"
        },
        "id": "84cIg6clIcXF",
        "outputId": "d90f29b5-358f-45b3-ea4e-fde262977b6c"
      },
      "execution_count": null,
      "outputs": [
        {
          "output_type": "stream",
          "name": "stdout",
          "text": [
            "3\n",
            "8\n",
            "6\n"
          ]
        }
      ]
    },
    {
      "cell_type": "code",
      "source": [
        "Dict ={'k1':66,'k2':44,'k3':78}\n",
        "\n",
        "for iteams in Dict:\n",
        "  print(iteams)\n",
        "        "
      ],
      "metadata": {
        "colab": {
          "base_uri": "https://localhost:8080/"
        },
        "id": "eUWfULVUIroC",
        "outputId": "ad7d65bb-f32f-46a1-ae71-097fbee5a4cc"
      },
      "execution_count": null,
      "outputs": [
        {
          "output_type": "stream",
          "name": "stdout",
          "text": [
            "k\n",
            "k\n",
            "k\n"
          ]
        }
      ]
    },
    {
      "cell_type": "markdown",
      "source": [
        "WHILE LOOP"
      ],
      "metadata": {
        "id": "0qXGSVPHjuGN"
      }
    },
    {
      "cell_type": "code",
      "source": [
        "x=50\n",
        "while x<5:\n",
        "  print(f' The current value of X is {x}')\n",
        "  x+=1\n",
        "else:\n",
        "  print(f'The current value is less than 5')\n",
        "  "
      ],
      "metadata": {
        "id": "uOVMWEKkKCwI",
        "colab": {
          "base_uri": "https://localhost:8080/"
        },
        "outputId": "87e56c49-1b8a-4808-a440-81a589d183e1"
      },
      "execution_count": null,
      "outputs": [
        {
          "output_type": "stream",
          "name": "stdout",
          "text": [
            "The current value is less than 5\n"
          ]
        }
      ]
    },
    {
      "cell_type": "code",
      "source": [
        "x=[1,2,3]\n",
        "\n",
        "for num in x:\n",
        "  # comment\n",
        "  pass\n",
        "  print(x)"
      ],
      "metadata": {
        "colab": {
          "base_uri": "https://localhost:8080/"
        },
        "id": "623klCYrkDGf",
        "outputId": "c8018e7c-f00c-4a88-b055-1b570f015b77"
      },
      "execution_count": null,
      "outputs": [
        {
          "output_type": "stream",
          "name": "stdout",
          "text": [
            "[1, 2, 3]\n",
            "[1, 2, 3]\n",
            "[1, 2, 3]\n"
          ]
        }
      ]
    },
    {
      "cell_type": "code",
      "source": [
        "myname ='Dineshgkumar'\n",
        "\n",
        "for letter in myname:\n",
        "  if letter =='g':\n",
        "    continue\n",
        "  print(letter)"
      ],
      "metadata": {
        "colab": {
          "base_uri": "https://localhost:8080/"
        },
        "id": "189E4Iq2rMNc",
        "outputId": "47a00dbe-1d52-4160-80e6-0c6492c2f7d8"
      },
      "execution_count": null,
      "outputs": [
        {
          "output_type": "stream",
          "name": "stdout",
          "text": [
            "D\n",
            "i\n",
            "n\n",
            "e\n",
            "s\n",
            "h\n",
            "k\n",
            "u\n",
            "m\n",
            "a\n",
            "r\n"
          ]
        }
      ]
    },
    {
      "cell_type": "code",
      "source": [
        "myname ='Dineshgkumar'\n",
        "\n",
        "for letter in myname:\n",
        "  if letter =='g':\n",
        "    break\n",
        "  print(letter)"
      ],
      "metadata": {
        "colab": {
          "base_uri": "https://localhost:8080/"
        },
        "id": "8uvxr3v4vp5o",
        "outputId": "4f296ad7-98e5-487a-fcb0-186bfab131e7"
      },
      "execution_count": null,
      "outputs": [
        {
          "output_type": "stream",
          "name": "stdout",
          "text": [
            "D\n",
            "i\n",
            "n\n",
            "e\n",
            "s\n",
            "h\n"
          ]
        }
      ]
    },
    {
      "cell_type": "code",
      "source": [
        "x=0\n",
        "\n",
        "while x<7:\n",
        "  if x==5:\n",
        "    break\n",
        "  print(x)\n",
        "  x+=1\n"
      ],
      "metadata": {
        "colab": {
          "base_uri": "https://localhost:8080/"
        },
        "id": "G5cuLrI-v_V5",
        "outputId": "bf6e89f4-2a59-4ec6-d3f7-ad0beb605e3f"
      },
      "execution_count": null,
      "outputs": [
        {
          "output_type": "stream",
          "name": "stdout",
          "text": [
            "0\n",
            "1\n",
            "2\n",
            "3\n",
            "4\n"
          ]
        }
      ]
    },
    {
      "cell_type": "markdown",
      "source": [
        "Range"
      ],
      "metadata": {
        "id": "59F-FTqSzRMY"
      }
    },
    {
      "cell_type": "code",
      "source": [
        "for num in range(0,10,3):\n",
        "  print(num)"
      ],
      "metadata": {
        "colab": {
          "base_uri": "https://localhost:8080/"
        },
        "id": "LXCAeI_awheq",
        "outputId": "98000c8f-e3fa-49af-9e59-e8dc6fe1ff09"
      },
      "execution_count": null,
      "outputs": [
        {
          "output_type": "stream",
          "name": "stdout",
          "text": [
            "0\n",
            "3\n",
            "6\n",
            "9\n"
          ]
        }
      ]
    },
    {
      "cell_type": "code",
      "source": [
        "  list(range(0,10,3))"
      ],
      "metadata": {
        "colab": {
          "base_uri": "https://localhost:8080/"
        },
        "id": "p-EVUNldzgSy",
        "outputId": "393a73e5-ca66-4be2-f97b-0e6bf22850f1"
      },
      "execution_count": null,
      "outputs": [
        {
          "output_type": "execute_result",
          "data": {
            "text/plain": [
              "[0, 3, 6, 9]"
            ]
          },
          "metadata": {},
          "execution_count": 41
        }
      ]
    },
    {
      "cell_type": "markdown",
      "source": [
        "Enumerate"
      ],
      "metadata": {
        "id": "uRwDsG_t4jNS"
      }
    },
    {
      "cell_type": "code",
      "source": [
        "word = 'abcd'\n",
        "for letter in enumerate(word):\n",
        "  print(letter)"
      ],
      "metadata": {
        "colab": {
          "base_uri": "https://localhost:8080/"
        },
        "id": "P4ltTFp90B9H",
        "outputId": "b09cd20a-d400-4e77-89f8-46fc6ab6482f"
      },
      "execution_count": null,
      "outputs": [
        {
          "output_type": "stream",
          "name": "stdout",
          "text": [
            "(0, 'a')\n",
            "(1, 'b')\n",
            "(2, 'c')\n",
            "(3, 'd')\n"
          ]
        }
      ]
    },
    {
      "cell_type": "code",
      "source": [
        "word = 'abcd'\n",
        "for index,letter in enumerate(word):\n",
        "  print(index)"
      ],
      "metadata": {
        "colab": {
          "base_uri": "https://localhost:8080/"
        },
        "id": "XqdkBYqS12AE",
        "outputId": "63e71148-37e0-4268-93c6-ee432af9ad3a"
      },
      "execution_count": null,
      "outputs": [
        {
          "output_type": "stream",
          "name": "stdout",
          "text": [
            "0\n",
            "1\n",
            "2\n",
            "3\n"
          ]
        }
      ]
    },
    {
      "cell_type": "markdown",
      "source": [
        "Zip"
      ],
      "metadata": {
        "id": "YgYk7-kK5NpP"
      }
    },
    {
      "cell_type": "code",
      "source": [
        "my_list1 = [1,2,3]\n",
        "my_list2 = ('a','b','c')"
      ],
      "metadata": {
        "id": "apYETMwo39Fs"
      },
      "execution_count": null,
      "outputs": []
    },
    {
      "cell_type": "code",
      "source": [
        "zip(my_list1,my_list2)"
      ],
      "metadata": {
        "colab": {
          "base_uri": "https://localhost:8080/"
        },
        "id": "LMLOvMaE5d2W",
        "outputId": "16f0b36b-79de-4be2-b37c-10b052912315"
      },
      "execution_count": null,
      "outputs": [
        {
          "output_type": "execute_result",
          "data": {
            "text/plain": [
              "<zip at 0x7ff733c04870>"
            ]
          },
          "metadata": {},
          "execution_count": 54
        }
      ]
    },
    {
      "cell_type": "code",
      "source": [
        "for item in zip(my_list1,my_list2):\n",
        "  print(item)"
      ],
      "metadata": {
        "colab": {
          "base_uri": "https://localhost:8080/"
        },
        "id": "GOSvFjUX5jbd",
        "outputId": "ecb27767-4222-429c-87b5-dbeebca6a293"
      },
      "execution_count": null,
      "outputs": [
        {
          "output_type": "stream",
          "name": "stdout",
          "text": [
            "(1, 'a')\n",
            "(2, 'b')\n",
            "(3, 'c')\n"
          ]
        }
      ]
    },
    {
      "cell_type": "markdown",
      "source": [
        "CHECK IN THE LIST"
      ],
      "metadata": {
        "id": "VYVJ06KG7Ge7"
      }
    },
    {
      "cell_type": "code",
      "source": [
        "'X'in (1,2,3)"
      ],
      "metadata": {
        "colab": {
          "base_uri": "https://localhost:8080/"
        },
        "id": "qWRLZBxS5qW0",
        "outputId": "9755e177-a4d2-47b4-b046-57d11beab12f"
      },
      "execution_count": null,
      "outputs": [
        {
          "output_type": "execute_result",
          "data": {
            "text/plain": [
              "False"
            ]
          },
          "metadata": {},
          "execution_count": 60
        }
      ]
    },
    {
      "cell_type": "code",
      "source": [
        "'X' in ('X','y','c')"
      ],
      "metadata": {
        "colab": {
          "base_uri": "https://localhost:8080/"
        },
        "id": "iSffAujF7LQy",
        "outputId": "972374d3-b79b-4416-df86-664a7616f4ea"
      },
      "execution_count": null,
      "outputs": [
        {
          "output_type": "execute_result",
          "data": {
            "text/plain": [
              "True"
            ]
          },
          "metadata": {},
          "execution_count": 62
        }
      ]
    },
    {
      "cell_type": "code",
      "source": [
        "my_list = [1,3,4,45,645,444]"
      ],
      "metadata": {
        "id": "KPiJ8xPs7Y6t"
      },
      "execution_count": null,
      "outputs": []
    },
    {
      "cell_type": "code",
      "source": [
        "min(my_list)"
      ],
      "metadata": {
        "colab": {
          "base_uri": "https://localhost:8080/"
        },
        "id": "5gV_OSA072Px",
        "outputId": "4fc921c1-d4dd-4610-a313-7c28633b2aaa"
      },
      "execution_count": null,
      "outputs": [
        {
          "output_type": "execute_result",
          "data": {
            "text/plain": [
              "1"
            ]
          },
          "metadata": {},
          "execution_count": 64
        }
      ]
    },
    {
      "cell_type": "code",
      "source": [
        "max(my_list)"
      ],
      "metadata": {
        "colab": {
          "base_uri": "https://localhost:8080/"
        },
        "id": "kxE_TgM176X3",
        "outputId": "91d729f5-2461-438a-d249-958e73e3a8b7"
      },
      "execution_count": null,
      "outputs": [
        {
          "output_type": "execute_result",
          "data": {
            "text/plain": [
              "645"
            ]
          },
          "metadata": {},
          "execution_count": 65
        }
      ]
    },
    {
      "cell_type": "code",
      "source": [
        "from random import shuffle\n"
      ],
      "metadata": {
        "id": "RzeCTXOP786v"
      },
      "execution_count": null,
      "outputs": []
    },
    {
      "cell_type": "code",
      "source": [
        "my_list = [1,2,3,4,5]\n",
        "shuffle(my_list)"
      ],
      "metadata": {
        "id": "i4XDt2nN8gUk"
      },
      "execution_count": null,
      "outputs": []
    },
    {
      "cell_type": "code",
      "source": [
        "my_list"
      ],
      "metadata": {
        "colab": {
          "base_uri": "https://localhost:8080/"
        },
        "id": "wiqPgWzF8lsh",
        "outputId": "34e93d90-7908-4120-a9d9-18c7c2a760d7"
      },
      "execution_count": 71,
      "outputs": [
        {
          "output_type": "execute_result",
          "data": {
            "text/plain": [
              "[1, 3, 4, 2, 5]"
            ]
          },
          "metadata": {},
          "execution_count": 71
        }
      ]
    },
    {
      "cell_type": "code",
      "source": [
        " shuffle(my_list)"
      ],
      "metadata": {
        "id": "g2SpVV_Z8oOq"
      },
      "execution_count": 72,
      "outputs": []
    },
    {
      "cell_type": "code",
      "source": [
        ""
      ],
      "metadata": {
        "id": "2DgEduXG98Bl"
      },
      "execution_count": null,
      "outputs": []
    }
  ]
}