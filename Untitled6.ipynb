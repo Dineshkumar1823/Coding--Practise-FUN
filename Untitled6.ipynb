{
  "nbformat": 4,
  "nbformat_minor": 0,
  "metadata": {
    "colab": {
      "name": "Untitled6.ipynb",
      "provenance": [],
      "authorship_tag": "ABX9TyOjwbr9xkRdPX6dqSEo++y6",
      "include_colab_link": true
    },
    "kernelspec": {
      "name": "python3",
      "display_name": "Python 3"
    },
    "language_info": {
      "name": "python"
    }
  },
  "cells": [
    {
      "cell_type": "markdown",
      "metadata": {
        "id": "view-in-github",
        "colab_type": "text"
      },
      "source": [
        "<a href=\"https://colab.research.google.com/github/Dineshkumar1823/Coding--Practise-FUN/blob/main/Untitled6.ipynb\" target=\"_parent\"><img src=\"https://colab.research.google.com/assets/colab-badge.svg\" alt=\"Open In Colab\"/></a>"
      ]
    },
    {
      "cell_type": "markdown",
      "source": [
        "Finding the Square Root"
      ],
      "metadata": {
        "id": "j3yFvKt2BbDe"
      }
    },
    {
      "cell_type": "code",
      "execution_count": null,
      "metadata": {
        "colab": {
          "base_uri": "https://localhost:8080/"
        },
        "id": "ylEOtvRq_uoZ",
        "outputId": "186430ea-202d-4a68-ffd9-4c4229878bc0"
      },
      "outputs": [
        {
          "output_type": "stream",
          "name": "stdout",
          "text": [
            "enter the number: 55\n",
            "square root: 7.416198487095663\n"
          ]
        }
      ],
      "source": [
        "number = int(input(\"enter the number: \" ))\n",
        "\n",
        "sqr = (number** 0.5)\n",
        "print(\"square root:\", sqr)"
      ]
    },
    {
      "cell_type": "code",
      "source": [
        "import math\n",
        "number = int(input(\"enter the number: \"))\n",
        "sqrt = math.sqrt(number)\n",
        "print(\"square root:\", sqrt)"
      ],
      "metadata": {
        "colab": {
          "base_uri": "https://localhost:8080/"
        },
        "id": "mRbG8nd9A_u9",
        "outputId": "4b0102fa-5b32-4d97-8a84-b6cdcde5876a"
      },
      "execution_count": null,
      "outputs": [
        {
          "output_type": "stream",
          "name": "stdout",
          "text": [
            "enter the number: 36\n",
            "square root: 6.0\n"
          ]
        }
      ]
    },
    {
      "cell_type": "code",
      "source": [
        "import math\n",
        "number = int(input(\"enter a number:\"))\n",
        "sqrt = math.pow(number, 2)\n",
        "print(\"square root: \", sqrt)"
      ],
      "metadata": {
        "colab": {
          "base_uri": "https://localhost:8080/"
        },
        "id": "LBmUqW__DOp4",
        "outputId": "3361ccc2-10da-4c50-d0c9-db77abab4673"
      },
      "execution_count": 2,
      "outputs": [
        {
          "output_type": "stream",
          "name": "stdout",
          "text": [
            "enter a number:8\n",
            "square root:  64.0\n"
          ]
        }
      ]
    },
    {
      "cell_type": "markdown",
      "source": [
        "Program for perfect square with sqr()\n",
        "\n",
        "\n"
      ],
      "metadata": {
        "id": "n0xmDO5RD00i"
      }
    },
    {
      "cell_type": "code",
      "source": [
        "number = int(input(\"Enter the input: \"))\n",
        "sqrt = math.sqrt(number)\n",
        "\n",
        "if int(sqrt) ** 2==number:\n",
        "  print(number, \"It is perfect number:\" , )\n",
        "else:\n",
        "  print(number ,\"it is imperfect number:\" )"
      ],
      "metadata": {
        "colab": {
          "base_uri": "https://localhost:8080/"
        },
        "id": "q-0kufsjDgq_",
        "outputId": "ca220a5e-934d-4759-8623-a8f2ca1fef3d"
      },
      "execution_count": null,
      "outputs": [
        {
          "output_type": "stream",
          "name": "stdout",
          "text": [
            "Enter the input: 55\n",
            "55 it is imperfect number:\n"
          ]
        }
      ]
    },
    {
      "cell_type": "markdown",
      "source": [
        "Program for perfect square without sqrt()"
      ],
      "metadata": {
        "id": "QmQbKVWKSQvn"
      }
    },
    {
      "cell_type": "code",
      "source": [
        "def Perfectsquare(x):\n",
        "  i = 1\n",
        "  while (i**2 <= x):\n",
        "    if((x%i == 0)and (x/i == i)):\n",
        "      return True\n",
        "    i=i+ 1\n",
        "  return False\n"
      ],
      "metadata": {
        "id": "gYJiOlcPFwoW"
      },
      "execution_count": 18,
      "outputs": []
    },
    {
      "cell_type": "code",
      "source": [
        "num = int(input(\"Enter the number: \"))\n",
        "\n",
        "if (Perfectsquare(num)):\n",
        "  print(num , 'is a perfect square')\n",
        "else:\n",
        "  print(num, 'is not a perfect square')"
      ],
      "metadata": {
        "id": "mfbwzSaiHmQs",
        "colab": {
          "base_uri": "https://localhost:8080/"
        },
        "outputId": "251d7252-bd88-4116-f1f0-25a822d1be67"
      },
      "execution_count": 19,
      "outputs": [
        {
          "output_type": "stream",
          "name": "stdout",
          "text": [
            "Enter the number: 25\n",
            "25 is a perfect square\n"
          ]
        }
      ]
    },
    {
      "cell_type": "code",
      "source": [
        ""
      ],
      "metadata": {
        "id": "lp30wNMkWxbV"
      },
      "execution_count": 19,
      "outputs": []
    },
    {
      "cell_type": "code",
      "source": [
        ""
      ],
      "metadata": {
        "id": "HXdz6IIYXxXS"
      },
      "execution_count": null,
      "outputs": []
    }
  ]
}